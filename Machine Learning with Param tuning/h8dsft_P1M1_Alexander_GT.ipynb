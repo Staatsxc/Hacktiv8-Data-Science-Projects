{
 "cells": [
  {
   "cell_type": "markdown",
   "id": "80dccca8",
   "metadata": {},
   "source": [
    "# Phase 1 : Milestone 1"
   ]
  },
  {
   "cell_type": "markdown",
   "id": "af28cd3e",
   "metadata": {},
   "source": [
    "## Name : Alexander Greateine Tanaku\n",
    "## Class : FTDS - 014"
   ]
  },
  {
   "cell_type": "markdown",
   "id": "9b668566",
   "metadata": {},
   "source": [
    "Objectives : Create a Classification model to predict default_payment_next_month using the dataset you have saved."
   ]
  },
  {
   "cell_type": "markdown",
   "id": "ce304f6b",
   "metadata": {},
   "source": [
    "### Classification Model that will be used\n",
    "\n",
    "1. KNN\n",
    "2. Logistic Regression\n",
    "3. SVM\n",
    "4. Decision Tree\n",
    "5. Random Forest\n",
    "6. Naive Bayes\n",
    "7. XGboost"
   ]
  },
  {
   "cell_type": "markdown",
   "id": "8c291a46",
   "metadata": {},
   "source": [
    "## Query Data from GCP"
   ]
  },
  {
   "cell_type": "markdown",
   "id": "74c0a40f",
   "metadata": {},
   "source": [
    "SELECT  \n",
    "limit_balance, sex, education_level, marital_status, age, pay_0, pay_2, pay_3, pay_4, pay_5, pay_6, bill_amt_1, bill_amt_2, bill_amt_3, bill_amt_4, bill_amt_5, bill_amt_6, pay_amt_1, pay_amt_2, pay_amt_3, pay_amt_4, pay_amt_5, pay_amt_6, default_payment_next_month\n",
    "FROM `bigquery-public-data.ml_datasets.credit_card_default` LIMIT 28014"
   ]
  },
  {
   "cell_type": "markdown",
   "id": "83266bfe",
   "metadata": {},
   "source": [
    "## Importing Libraries"
   ]
  },
  {
   "cell_type": "code",
   "execution_count": 1,
   "id": "dfa8cd24",
   "metadata": {},
   "outputs": [],
   "source": [
    "import pandas as pd\n",
    "import numpy as np\n",
    "import matplotlib.pyplot as plt\n",
    "import seaborn as sns\n",
    "from sklearn.model_selection import train_test_split\n",
    "from feature_engine.outliers import Winsorizer\n",
    "from sklearn.preprocessing import RobustScaler\n",
    "from sklearn.ensemble import RandomForestClassifier\n",
    "from sklearn.metrics import accuracy_score,classification_report,ConfusionMatrixDisplay,confusion_matrix,roc_auc_score\n",
    "from sklearn.linear_model  import LogisticRegression\n",
    "from sklearn.svm import SVC\n",
    "from sklearn.model_selection import cross_val_score\n",
    "from sklearn.tree import DecisionTreeClassifier\n",
    "from sklearn.neighbors import KNeighborsClassifier\n",
    "from sklearn.naive_bayes import GaussianNB\n",
    "from sklearn.ensemble import AdaBoostClassifier\n",
    "from sklearn.linear_model import SGDClassifier\n",
    "from sklearn.linear_model import RidgeClassifier\n",
    "from sklearn.model_selection import GridSearchCV"
   ]
  },
  {
   "cell_type": "code",
   "execution_count": 2,
   "id": "ef36b626",
   "metadata": {},
   "outputs": [],
   "source": [
    "# Ignore future warning\n",
    "import warnings\n",
    "warnings.simplefilter(action='ignore', category=FutureWarning)"
   ]
  },
  {
   "cell_type": "code",
   "execution_count": 3,
   "id": "02fd66b5",
   "metadata": {},
   "outputs": [],
   "source": [
    "# Ignore warnings for gridsearch later\n",
    "def warn(*args, **kwargs):\n",
    "    pass\n",
    "import warnings\n",
    "warnings.warn = warn"
   ]
  },
  {
   "cell_type": "markdown",
   "id": "5a4300c5",
   "metadata": {},
   "source": [
    "## Data Loading"
   ]
  },
  {
   "cell_type": "code",
   "execution_count": 4,
   "id": "587163b1",
   "metadata": {},
   "outputs": [
    {
     "data": {
      "text/html": [
       "<div>\n",
       "<style scoped>\n",
       "    .dataframe tbody tr th:only-of-type {\n",
       "        vertical-align: middle;\n",
       "    }\n",
       "\n",
       "    .dataframe tbody tr th {\n",
       "        vertical-align: top;\n",
       "    }\n",
       "\n",
       "    .dataframe thead th {\n",
       "        text-align: right;\n",
       "    }\n",
       "</style>\n",
       "<table border=\"1\" class=\"dataframe\">\n",
       "  <thead>\n",
       "    <tr style=\"text-align: right;\">\n",
       "      <th></th>\n",
       "      <th>limit_balance</th>\n",
       "      <th>sex</th>\n",
       "      <th>education_level</th>\n",
       "      <th>marital_status</th>\n",
       "      <th>age</th>\n",
       "      <th>pay_0</th>\n",
       "      <th>pay_2</th>\n",
       "      <th>pay_3</th>\n",
       "      <th>pay_4</th>\n",
       "      <th>pay_5</th>\n",
       "      <th>pay_6</th>\n",
       "      <th>bill_amt_1</th>\n",
       "      <th>bill_amt_2</th>\n",
       "      <th>bill_amt_3</th>\n",
       "      <th>bill_amt_4</th>\n",
       "      <th>bill_amt_5</th>\n",
       "      <th>bill_amt_6</th>\n",
       "      <th>pay_amt_1</th>\n",
       "      <th>pay_amt_2</th>\n",
       "      <th>pay_amt_3</th>\n",
       "      <th>pay_amt_4</th>\n",
       "      <th>pay_amt_5</th>\n",
       "      <th>pay_amt_6</th>\n",
       "      <th>default_payment_next_month</th>\n",
       "    </tr>\n",
       "  </thead>\n",
       "  <tbody>\n",
       "    <tr>\n",
       "      <th>0</th>\n",
       "      <td>50000.0</td>\n",
       "      <td>1</td>\n",
       "      <td>1</td>\n",
       "      <td>2</td>\n",
       "      <td>39.0</td>\n",
       "      <td>0.0</td>\n",
       "      <td>0.0</td>\n",
       "      <td>0.0</td>\n",
       "      <td>0.0</td>\n",
       "      <td>0</td>\n",
       "      <td>0</td>\n",
       "      <td>47174.0</td>\n",
       "      <td>47974.0</td>\n",
       "      <td>48630.0</td>\n",
       "      <td>50803.0</td>\n",
       "      <td>30789.0</td>\n",
       "      <td>15874.0</td>\n",
       "      <td>1800.0</td>\n",
       "      <td>2000.0</td>\n",
       "      <td>3000.0</td>\n",
       "      <td>2000.0</td>\n",
       "      <td>2000.0</td>\n",
       "      <td>2000.0</td>\n",
       "      <td>0</td>\n",
       "    </tr>\n",
       "    <tr>\n",
       "      <th>1</th>\n",
       "      <td>110000.0</td>\n",
       "      <td>2</td>\n",
       "      <td>1</td>\n",
       "      <td>2</td>\n",
       "      <td>29.0</td>\n",
       "      <td>0.0</td>\n",
       "      <td>0.0</td>\n",
       "      <td>0.0</td>\n",
       "      <td>0.0</td>\n",
       "      <td>0</td>\n",
       "      <td>0</td>\n",
       "      <td>48088.0</td>\n",
       "      <td>45980.0</td>\n",
       "      <td>44231.0</td>\n",
       "      <td>32489.0</td>\n",
       "      <td>26354.0</td>\n",
       "      <td>20221.0</td>\n",
       "      <td>2000.0</td>\n",
       "      <td>2010.0</td>\n",
       "      <td>3000.0</td>\n",
       "      <td>3000.0</td>\n",
       "      <td>3000.0</td>\n",
       "      <td>1000.0</td>\n",
       "      <td>0</td>\n",
       "    </tr>\n",
       "    <tr>\n",
       "      <th>2</th>\n",
       "      <td>270000.0</td>\n",
       "      <td>1</td>\n",
       "      <td>1</td>\n",
       "      <td>2</td>\n",
       "      <td>36.0</td>\n",
       "      <td>0.0</td>\n",
       "      <td>0.0</td>\n",
       "      <td>0.0</td>\n",
       "      <td>2.0</td>\n",
       "      <td>0</td>\n",
       "      <td>0</td>\n",
       "      <td>78630.0</td>\n",
       "      <td>68921.0</td>\n",
       "      <td>46512.0</td>\n",
       "      <td>40335.0</td>\n",
       "      <td>37165.0</td>\n",
       "      <td>22156.0</td>\n",
       "      <td>10076.0</td>\n",
       "      <td>4018.0</td>\n",
       "      <td>14.0</td>\n",
       "      <td>2051.0</td>\n",
       "      <td>2000.0</td>\n",
       "      <td>0.0</td>\n",
       "      <td>0</td>\n",
       "    </tr>\n",
       "    <tr>\n",
       "      <th>3</th>\n",
       "      <td>130000.0</td>\n",
       "      <td>1</td>\n",
       "      <td>1</td>\n",
       "      <td>1</td>\n",
       "      <td>45.0</td>\n",
       "      <td>0.0</td>\n",
       "      <td>0.0</td>\n",
       "      <td>0.0</td>\n",
       "      <td>0.0</td>\n",
       "      <td>0</td>\n",
       "      <td>0</td>\n",
       "      <td>58180.0</td>\n",
       "      <td>59134.0</td>\n",
       "      <td>61156.0</td>\n",
       "      <td>62377.0</td>\n",
       "      <td>63832.0</td>\n",
       "      <td>65099.0</td>\n",
       "      <td>2886.0</td>\n",
       "      <td>2908.0</td>\n",
       "      <td>2129.0</td>\n",
       "      <td>2354.0</td>\n",
       "      <td>2366.0</td>\n",
       "      <td>2291.0</td>\n",
       "      <td>0</td>\n",
       "    </tr>\n",
       "    <tr>\n",
       "      <th>4</th>\n",
       "      <td>50000.0</td>\n",
       "      <td>1</td>\n",
       "      <td>1</td>\n",
       "      <td>2</td>\n",
       "      <td>24.0</td>\n",
       "      <td>0.0</td>\n",
       "      <td>0.0</td>\n",
       "      <td>0.0</td>\n",
       "      <td>0.0</td>\n",
       "      <td>0</td>\n",
       "      <td>0</td>\n",
       "      <td>42058.0</td>\n",
       "      <td>35340.0</td>\n",
       "      <td>22110.0</td>\n",
       "      <td>19837.0</td>\n",
       "      <td>19855.0</td>\n",
       "      <td>20151.0</td>\n",
       "      <td>1367.0</td>\n",
       "      <td>1606.0</td>\n",
       "      <td>692.0</td>\n",
       "      <td>709.0</td>\n",
       "      <td>721.0</td>\n",
       "      <td>692.0</td>\n",
       "      <td>0</td>\n",
       "    </tr>\n",
       "    <tr>\n",
       "      <th>...</th>\n",
       "      <td>...</td>\n",
       "      <td>...</td>\n",
       "      <td>...</td>\n",
       "      <td>...</td>\n",
       "      <td>...</td>\n",
       "      <td>...</td>\n",
       "      <td>...</td>\n",
       "      <td>...</td>\n",
       "      <td>...</td>\n",
       "      <td>...</td>\n",
       "      <td>...</td>\n",
       "      <td>...</td>\n",
       "      <td>...</td>\n",
       "      <td>...</td>\n",
       "      <td>...</td>\n",
       "      <td>...</td>\n",
       "      <td>...</td>\n",
       "      <td>...</td>\n",
       "      <td>...</td>\n",
       "      <td>...</td>\n",
       "      <td>...</td>\n",
       "      <td>...</td>\n",
       "      <td>...</td>\n",
       "      <td>...</td>\n",
       "    </tr>\n",
       "    <tr>\n",
       "      <th>2960</th>\n",
       "      <td>210000.0</td>\n",
       "      <td>2</td>\n",
       "      <td>2</td>\n",
       "      <td>1</td>\n",
       "      <td>39.0</td>\n",
       "      <td>-1.0</td>\n",
       "      <td>-1.0</td>\n",
       "      <td>-1.0</td>\n",
       "      <td>-1.0</td>\n",
       "      <td>-2</td>\n",
       "      <td>-1</td>\n",
       "      <td>44100.0</td>\n",
       "      <td>0.0</td>\n",
       "      <td>28428.0</td>\n",
       "      <td>0.0</td>\n",
       "      <td>0.0</td>\n",
       "      <td>12000.0</td>\n",
       "      <td>0.0</td>\n",
       "      <td>28428.0</td>\n",
       "      <td>0.0</td>\n",
       "      <td>0.0</td>\n",
       "      <td>12000.0</td>\n",
       "      <td>33664.0</td>\n",
       "      <td>0</td>\n",
       "    </tr>\n",
       "    <tr>\n",
       "      <th>2961</th>\n",
       "      <td>280000.0</td>\n",
       "      <td>2</td>\n",
       "      <td>1</td>\n",
       "      <td>1</td>\n",
       "      <td>41.0</td>\n",
       "      <td>2.0</td>\n",
       "      <td>-1.0</td>\n",
       "      <td>-1.0</td>\n",
       "      <td>-1.0</td>\n",
       "      <td>-2</td>\n",
       "      <td>-1</td>\n",
       "      <td>280.0</td>\n",
       "      <td>6852.0</td>\n",
       "      <td>486.0</td>\n",
       "      <td>0.0</td>\n",
       "      <td>0.0</td>\n",
       "      <td>244.0</td>\n",
       "      <td>6859.0</td>\n",
       "      <td>486.0</td>\n",
       "      <td>0.0</td>\n",
       "      <td>0.0</td>\n",
       "      <td>244.0</td>\n",
       "      <td>0.0</td>\n",
       "      <td>0</td>\n",
       "    </tr>\n",
       "    <tr>\n",
       "      <th>2962</th>\n",
       "      <td>80000.0</td>\n",
       "      <td>1</td>\n",
       "      <td>1</td>\n",
       "      <td>2</td>\n",
       "      <td>28.0</td>\n",
       "      <td>1.0</td>\n",
       "      <td>-1.0</td>\n",
       "      <td>-1.0</td>\n",
       "      <td>-1.0</td>\n",
       "      <td>-2</td>\n",
       "      <td>-2</td>\n",
       "      <td>0.0</td>\n",
       "      <td>47.0</td>\n",
       "      <td>207.0</td>\n",
       "      <td>0.0</td>\n",
       "      <td>0.0</td>\n",
       "      <td>0.0</td>\n",
       "      <td>47.0</td>\n",
       "      <td>207.0</td>\n",
       "      <td>0.0</td>\n",
       "      <td>0.0</td>\n",
       "      <td>0.0</td>\n",
       "      <td>0.0</td>\n",
       "      <td>0</td>\n",
       "    </tr>\n",
       "    <tr>\n",
       "      <th>2963</th>\n",
       "      <td>200000.0</td>\n",
       "      <td>1</td>\n",
       "      <td>2</td>\n",
       "      <td>1</td>\n",
       "      <td>53.0</td>\n",
       "      <td>1.0</td>\n",
       "      <td>-1.0</td>\n",
       "      <td>-1.0</td>\n",
       "      <td>-2.0</td>\n",
       "      <td>-2</td>\n",
       "      <td>-1</td>\n",
       "      <td>0.0</td>\n",
       "      <td>2920.0</td>\n",
       "      <td>0.0</td>\n",
       "      <td>0.0</td>\n",
       "      <td>0.0</td>\n",
       "      <td>6753.0</td>\n",
       "      <td>2920.0</td>\n",
       "      <td>0.0</td>\n",
       "      <td>0.0</td>\n",
       "      <td>0.0</td>\n",
       "      <td>6753.0</td>\n",
       "      <td>0.0</td>\n",
       "      <td>1</td>\n",
       "    </tr>\n",
       "    <tr>\n",
       "      <th>2964</th>\n",
       "      <td>20000.0</td>\n",
       "      <td>2</td>\n",
       "      <td>1</td>\n",
       "      <td>2</td>\n",
       "      <td>24.0</td>\n",
       "      <td>-1.0</td>\n",
       "      <td>-1.0</td>\n",
       "      <td>-2.0</td>\n",
       "      <td>-2.0</td>\n",
       "      <td>-2</td>\n",
       "      <td>-2</td>\n",
       "      <td>379.0</td>\n",
       "      <td>0.0</td>\n",
       "      <td>0.0</td>\n",
       "      <td>0.0</td>\n",
       "      <td>0.0</td>\n",
       "      <td>0.0</td>\n",
       "      <td>0.0</td>\n",
       "      <td>0.0</td>\n",
       "      <td>0.0</td>\n",
       "      <td>0.0</td>\n",
       "      <td>0.0</td>\n",
       "      <td>0.0</td>\n",
       "      <td>0</td>\n",
       "    </tr>\n",
       "  </tbody>\n",
       "</table>\n",
       "<p>2965 rows × 24 columns</p>\n",
       "</div>"
      ],
      "text/plain": [
       "      limit_balance  sex  education_level  marital_status   age  pay_0  pay_2  \\\n",
       "0           50000.0    1                1               2  39.0    0.0    0.0   \n",
       "1          110000.0    2                1               2  29.0    0.0    0.0   \n",
       "2          270000.0    1                1               2  36.0    0.0    0.0   \n",
       "3          130000.0    1                1               1  45.0    0.0    0.0   \n",
       "4           50000.0    1                1               2  24.0    0.0    0.0   \n",
       "...             ...  ...              ...             ...   ...    ...    ...   \n",
       "2960       210000.0    2                2               1  39.0   -1.0   -1.0   \n",
       "2961       280000.0    2                1               1  41.0    2.0   -1.0   \n",
       "2962        80000.0    1                1               2  28.0    1.0   -1.0   \n",
       "2963       200000.0    1                2               1  53.0    1.0   -1.0   \n",
       "2964        20000.0    2                1               2  24.0   -1.0   -1.0   \n",
       "\n",
       "      pay_3  pay_4  pay_5  pay_6  bill_amt_1  bill_amt_2  bill_amt_3  \\\n",
       "0       0.0    0.0      0      0     47174.0     47974.0     48630.0   \n",
       "1       0.0    0.0      0      0     48088.0     45980.0     44231.0   \n",
       "2       0.0    2.0      0      0     78630.0     68921.0     46512.0   \n",
       "3       0.0    0.0      0      0     58180.0     59134.0     61156.0   \n",
       "4       0.0    0.0      0      0     42058.0     35340.0     22110.0   \n",
       "...     ...    ...    ...    ...         ...         ...         ...   \n",
       "2960   -1.0   -1.0     -2     -1     44100.0         0.0     28428.0   \n",
       "2961   -1.0   -1.0     -2     -1       280.0      6852.0       486.0   \n",
       "2962   -1.0   -1.0     -2     -2         0.0        47.0       207.0   \n",
       "2963   -1.0   -2.0     -2     -1         0.0      2920.0         0.0   \n",
       "2964   -2.0   -2.0     -2     -2       379.0         0.0         0.0   \n",
       "\n",
       "      bill_amt_4  bill_amt_5  bill_amt_6  pay_amt_1  pay_amt_2  pay_amt_3  \\\n",
       "0        50803.0     30789.0     15874.0     1800.0     2000.0     3000.0   \n",
       "1        32489.0     26354.0     20221.0     2000.0     2010.0     3000.0   \n",
       "2        40335.0     37165.0     22156.0    10076.0     4018.0       14.0   \n",
       "3        62377.0     63832.0     65099.0     2886.0     2908.0     2129.0   \n",
       "4        19837.0     19855.0     20151.0     1367.0     1606.0      692.0   \n",
       "...          ...         ...         ...        ...        ...        ...   \n",
       "2960         0.0         0.0     12000.0        0.0    28428.0        0.0   \n",
       "2961         0.0         0.0       244.0     6859.0      486.0        0.0   \n",
       "2962         0.0         0.0         0.0       47.0      207.0        0.0   \n",
       "2963         0.0         0.0      6753.0     2920.0        0.0        0.0   \n",
       "2964         0.0         0.0         0.0        0.0        0.0        0.0   \n",
       "\n",
       "      pay_amt_4  pay_amt_5  pay_amt_6  default_payment_next_month  \n",
       "0        2000.0     2000.0     2000.0                           0  \n",
       "1        3000.0     3000.0     1000.0                           0  \n",
       "2        2051.0     2000.0        0.0                           0  \n",
       "3        2354.0     2366.0     2291.0                           0  \n",
       "4         709.0      721.0      692.0                           0  \n",
       "...         ...        ...        ...                         ...  \n",
       "2960        0.0    12000.0    33664.0                           0  \n",
       "2961        0.0      244.0        0.0                           0  \n",
       "2962        0.0        0.0        0.0                           0  \n",
       "2963        0.0     6753.0        0.0                           1  \n",
       "2964        0.0        0.0        0.0                           0  \n",
       "\n",
       "[2965 rows x 24 columns]"
      ]
     },
     "execution_count": 4,
     "metadata": {},
     "output_type": "execute_result"
    }
   ],
   "source": [
    "# Showing all columns\n",
    "pd.set_option('display.max_columns', None) \n",
    "# Showing the Data\n",
    "df = pd.read_csv('h8dsft_P1M1_Alexander_GT.csv')\n",
    "df"
   ]
  },
  {
   "cell_type": "code",
   "execution_count": 5,
   "id": "0574ccee",
   "metadata": {},
   "outputs": [
    {
     "name": "stdout",
     "output_type": "stream",
     "text": [
      "<class 'pandas.core.frame.DataFrame'>\n",
      "RangeIndex: 2965 entries, 0 to 2964\n",
      "Data columns (total 24 columns):\n",
      " #   Column                      Non-Null Count  Dtype  \n",
      "---  ------                      --------------  -----  \n",
      " 0   limit_balance               2965 non-null   float64\n",
      " 1   sex                         2965 non-null   int64  \n",
      " 2   education_level             2965 non-null   int64  \n",
      " 3   marital_status              2965 non-null   int64  \n",
      " 4   age                         2965 non-null   float64\n",
      " 5   pay_0                       2965 non-null   float64\n",
      " 6   pay_2                       2965 non-null   float64\n",
      " 7   pay_3                       2965 non-null   float64\n",
      " 8   pay_4                       2965 non-null   float64\n",
      " 9   pay_5                       2965 non-null   int64  \n",
      " 10  pay_6                       2965 non-null   int64  \n",
      " 11  bill_amt_1                  2965 non-null   float64\n",
      " 12  bill_amt_2                  2965 non-null   float64\n",
      " 13  bill_amt_3                  2965 non-null   float64\n",
      " 14  bill_amt_4                  2965 non-null   float64\n",
      " 15  bill_amt_5                  2965 non-null   float64\n",
      " 16  bill_amt_6                  2965 non-null   float64\n",
      " 17  pay_amt_1                   2965 non-null   float64\n",
      " 18  pay_amt_2                   2965 non-null   float64\n",
      " 19  pay_amt_3                   2965 non-null   float64\n",
      " 20  pay_amt_4                   2965 non-null   float64\n",
      " 21  pay_amt_5                   2965 non-null   float64\n",
      " 22  pay_amt_6                   2965 non-null   float64\n",
      " 23  default_payment_next_month  2965 non-null   int64  \n",
      "dtypes: float64(18), int64(6)\n",
      "memory usage: 556.1 KB\n"
     ]
    }
   ],
   "source": [
    "# Viewing all column and datatype\n",
    "df.info()"
   ]
  },
  {
   "cell_type": "markdown",
   "id": "20bb21af",
   "metadata": {},
   "source": [
    "## About the Data\n",
    "\n",
    "Before we do any classification and go deep into trying to all of those machine learning models, why don't we first try to understand about the dataset. This dataset is about default payment, meaning it is a case when a person fail to pay the money that they borrow to the creditor.\n",
    "\n",
    "1. limit balance = Amount of given credit in NT dollars (includes individual and family/supplementary credit\n",
    "2. Education Level = (1=graduate school, 2=university, 3=high school, 4=others, 5=unknown, 6=unknown)\n",
    "3. Sex = Gender (1=male, 2=female)\n",
    "4. Marital status = (1=married, 2=single, 3=others)\n",
    "5. Age = Age in years\n",
    "6. pay_0 = Repayment status in September, 2005 (-1=pay duly, 1=payment delay for one month, 2=payment delay for two months, ... 8=payment delay for eight months, 9=payment delay for nine months and above) (note: pay_0 is for September 2005 and pay_1 is for August 2005 and so on..)\n",
    "7. bill_amt_1 =  Amount of bill statement in September, 2005 (NT dollar)\n",
    "8. pay_amt_0 = Amount of previous payment in September, 2005 (NT dollar)\n",
    "9. Default_payment_next_month (1=yes, 0=no)\n",
    "10. There are 2965 number of observations and the range of observations is from April 2005 - September 2005\n",
    "\n",
    "Another thing when I see the data is that the data is already encoded so it is easier to see the correlation later on and it speeds up the process in making the machine learning model which is great"
   ]
  },
  {
   "cell_type": "markdown",
   "id": "dedef9a8",
   "metadata": {},
   "source": [
    "# Exploratory Data Analysis"
   ]
  },
  {
   "cell_type": "markdown",
   "id": "ea0057ac",
   "metadata": {},
   "source": [
    "Make a function to show the distribution of data"
   ]
  },
  {
   "cell_type": "code",
   "execution_count": 6,
   "id": "e08776a4",
   "metadata": {},
   "outputs": [],
   "source": [
    "def plot_dist(df, col):\n",
    "    fig, axes = plt.subplots(ncols = 2, figsize = (15, 5))\n",
    "    \n",
    "    # histogram\n",
    "    sns.histplot(df[col],ax = axes[0], kde=True,line_kws={'linewidth': 3},color = 'k', bins = 9)\n",
    "    axes[0].set_title(f\"Histogram '{col}'\")\n",
    "    axes[0].axvline(df[col].mean(), color = 'red', linestyle = 'dashed', label = 'mean')\n",
    "    axes[0].axvline(df[col].median(), color = 'green', linestyle = 'dashed', label = 'median')\n",
    "    axes[0].legend()\n",
    "    \n",
    "    # boxplot\n",
    "    sns.boxplot(y=df[col], ax =  axes[1])\n",
    "    axes[1].set_title(f\"Boxplot '{col}'\")\n",
    "    \n",
    "    plt.show()\n",
    "    \n",
    "    # skewness\n",
    "    print(df[col].name + ' Kurtosis: ' + str(df[col].kurt()))\n",
    "    print(df[col].name + ' Skewness: ' + str(df[col].skew()))\n",
    "    if -0.5 <= df[col].skew() <= 0.5:\n",
    "        print(\"Columns '{}' normal distribution\".format(col))\n",
    "    elif df[col].skew() > 0.5:\n",
    "        print(\"Columns '{}' right skewed\".format(col))\n",
    "    elif df[col].skew() < -0.5:\n",
    "        print(\"Columns '{}' left skewed\".format(col))"
   ]
  },
  {
   "cell_type": "code",
   "execution_count": 7,
   "id": "0081bd5e",
   "metadata": {},
   "outputs": [
    {
     "data": {
      "image/png": "[encoded data removed]",
      "text/plain": [
       "<Figure size 1080x360 with 2 Axes>"
      ]
     },
     "metadata": {
      "needs_background": "light"
     },
     "output_type": "display_data"
    },
    {
     "name": "stdout",
     "output_type": "stream",
     "text": [
      "limit_balance Kurtosis: 0.7003286116778198\n",
      "limit_balance Skewness: 1.0004416437793329\n",
      "Columns 'limit_balance' right skewed\n"
     ]
    }
   ],
   "source": [
    "plot_dist(df,'limit_balance')"
   ]
  },
  {
   "cell_type": "markdown",
   "id": "5256e611",
   "metadata": {},
   "source": [
    "## Insight\n",
    "\n",
    "1. Most people have limit balance of 100,000 \n",
    "2. The highest limit balance is 800,000\n",
    "3. This data is right skewed which means there are fewer people the higher the limit balance\n",
    "4. There are several outliers but seeing the data is about credit, it is very possible some people borrow too much money and the outliers is not a problem."
   ]
  },
  {
   "cell_type": "markdown",
   "id": "09076766",
   "metadata": {},
   "source": [
    "See the distribution of repayment status data in September 2005"
   ]
  },
  {
   "cell_type": "code",
   "execution_count": 8,
   "id": "cd836b41",
   "metadata": {},
   "outputs": [
    {
     "data": {
      "text/html": [
       "<div>\n",
       "<style scoped>\n",
       "    .dataframe tbody tr th:only-of-type {\n",
       "        vertical-align: middle;\n",
       "    }\n",
       "\n",
       "    .dataframe tbody tr th {\n",
       "        vertical-align: top;\n",
       "    }\n",
       "\n",
       "    .dataframe thead th {\n",
       "        text-align: right;\n",
       "    }\n",
       "</style>\n",
       "<table border=\"1\" class=\"dataframe\">\n",
       "  <thead>\n",
       "    <tr style=\"text-align: right;\">\n",
       "      <th></th>\n",
       "      <th>count</th>\n",
       "    </tr>\n",
       "    <tr>\n",
       "      <th>pay_0</th>\n",
       "      <th></th>\n",
       "    </tr>\n",
       "  </thead>\n",
       "  <tbody>\n",
       "    <tr>\n",
       "      <th>-2.0</th>\n",
       "      <td>247</td>\n",
       "    </tr>\n",
       "    <tr>\n",
       "      <th>-1.0</th>\n",
       "      <td>540</td>\n",
       "    </tr>\n",
       "    <tr>\n",
       "      <th>0.0</th>\n",
       "      <td>1516</td>\n",
       "    </tr>\n",
       "    <tr>\n",
       "      <th>1.0</th>\n",
       "      <td>356</td>\n",
       "    </tr>\n",
       "    <tr>\n",
       "      <th>2.0</th>\n",
       "      <td>262</td>\n",
       "    </tr>\n",
       "    <tr>\n",
       "      <th>3.0</th>\n",
       "      <td>29</td>\n",
       "    </tr>\n",
       "    <tr>\n",
       "      <th>4.0</th>\n",
       "      <td>7</td>\n",
       "    </tr>\n",
       "    <tr>\n",
       "      <th>5.0</th>\n",
       "      <td>2</td>\n",
       "    </tr>\n",
       "    <tr>\n",
       "      <th>6.0</th>\n",
       "      <td>1</td>\n",
       "    </tr>\n",
       "    <tr>\n",
       "      <th>7.0</th>\n",
       "      <td>2</td>\n",
       "    </tr>\n",
       "    <tr>\n",
       "      <th>8.0</th>\n",
       "      <td>3</td>\n",
       "    </tr>\n",
       "  </tbody>\n",
       "</table>\n",
       "</div>"
      ],
      "text/plain": [
       "       count\n",
       "pay_0       \n",
       "-2.0     247\n",
       "-1.0     540\n",
       " 0.0    1516\n",
       " 1.0     356\n",
       " 2.0     262\n",
       " 3.0      29\n",
       " 4.0       7\n",
       " 5.0       2\n",
       " 6.0       1\n",
       " 7.0       2\n",
       " 8.0       3"
      ]
     },
     "execution_count": 8,
     "metadata": {},
     "output_type": "execute_result"
    }
   ],
   "source": [
    "# Grouping based on repayment status in september\n",
    "df_pay = df.groupby(by = 'pay_0').agg({'sex':'count'})\n",
    "df_pay.rename(columns={\"sex\":\"count\"}, inplace = True)\n",
    "df_pay"
   ]
  },
  {
   "cell_type": "markdown",
   "id": "a3e1f8d5",
   "metadata": {},
   "source": [
    "There are some anomalities in the data, the description that came with the dataset only explain the code -1, 1,2,3,4,5,6,7,8 and no description for 0 and -2. but data for 0 and -2 combined has the most percentage than other status of payment so lets just assume that 0 has no delay of payment and -2 is already paid just like -1 "
   ]
  },
  {
   "cell_type": "code",
   "execution_count": 9,
   "id": "9635a859",
   "metadata": {},
   "outputs": [
    {
     "data": {
      "text/html": [
       "<div>\n",
       "<style scoped>\n",
       "    .dataframe tbody tr th:only-of-type {\n",
       "        vertical-align: middle;\n",
       "    }\n",
       "\n",
       "    .dataframe tbody tr th {\n",
       "        vertical-align: top;\n",
       "    }\n",
       "\n",
       "    .dataframe thead th {\n",
       "        text-align: right;\n",
       "    }\n",
       "</style>\n",
       "<table border=\"1\" class=\"dataframe\">\n",
       "  <thead>\n",
       "    <tr style=\"text-align: right;\">\n",
       "      <th></th>\n",
       "      <th>limit_balance</th>\n",
       "      <th>sex</th>\n",
       "      <th>marital_status</th>\n",
       "      <th>age</th>\n",
       "      <th>pay_0</th>\n",
       "      <th>pay_2</th>\n",
       "      <th>pay_3</th>\n",
       "      <th>pay_4</th>\n",
       "      <th>pay_5</th>\n",
       "      <th>pay_6</th>\n",
       "      <th>bill_amt_1</th>\n",
       "      <th>bill_amt_2</th>\n",
       "      <th>bill_amt_3</th>\n",
       "      <th>bill_amt_4</th>\n",
       "      <th>bill_amt_5</th>\n",
       "      <th>bill_amt_6</th>\n",
       "      <th>pay_amt_1</th>\n",
       "      <th>pay_amt_2</th>\n",
       "      <th>pay_amt_3</th>\n",
       "      <th>pay_amt_4</th>\n",
       "      <th>pay_amt_5</th>\n",
       "      <th>pay_amt_6</th>\n",
       "      <th>default_payment_next_month</th>\n",
       "    </tr>\n",
       "    <tr>\n",
       "      <th>education_level</th>\n",
       "      <th></th>\n",
       "      <th></th>\n",
       "      <th></th>\n",
       "      <th></th>\n",
       "      <th></th>\n",
       "      <th></th>\n",
       "      <th></th>\n",
       "      <th></th>\n",
       "      <th></th>\n",
       "      <th></th>\n",
       "      <th></th>\n",
       "      <th></th>\n",
       "      <th></th>\n",
       "      <th></th>\n",
       "      <th></th>\n",
       "      <th></th>\n",
       "      <th></th>\n",
       "      <th></th>\n",
       "      <th></th>\n",
       "      <th></th>\n",
       "      <th></th>\n",
       "      <th></th>\n",
       "      <th></th>\n",
       "    </tr>\n",
       "  </thead>\n",
       "  <tbody>\n",
       "    <tr>\n",
       "      <th>4</th>\n",
       "      <td>227692.307692</td>\n",
       "      <td>1.538462</td>\n",
       "      <td>1.615385</td>\n",
       "      <td>33.153846</td>\n",
       "      <td>-0.615385</td>\n",
       "      <td>-0.846154</td>\n",
       "      <td>-0.769231</td>\n",
       "      <td>-0.846154</td>\n",
       "      <td>-0.846154</td>\n",
       "      <td>-1.000000</td>\n",
       "      <td>38997.076923</td>\n",
       "      <td>21432.538462</td>\n",
       "      <td>29348.692308</td>\n",
       "      <td>25170.461538</td>\n",
       "      <td>21228.000000</td>\n",
       "      <td>20739.000000</td>\n",
       "      <td>3735.692308</td>\n",
       "      <td>15838.769231</td>\n",
       "      <td>15885.000000</td>\n",
       "      <td>5330.384615</td>\n",
       "      <td>2908.923077</td>\n",
       "      <td>1493.230769</td>\n",
       "      <td>0.000000</td>\n",
       "    </tr>\n",
       "    <tr>\n",
       "      <th>1</th>\n",
       "      <td>206025.024062</td>\n",
       "      <td>1.607315</td>\n",
       "      <td>1.657363</td>\n",
       "      <td>33.749759</td>\n",
       "      <td>-0.174206</td>\n",
       "      <td>-0.343600</td>\n",
       "      <td>-0.361886</td>\n",
       "      <td>-0.388835</td>\n",
       "      <td>-0.408085</td>\n",
       "      <td>-0.421559</td>\n",
       "      <td>50343.382098</td>\n",
       "      <td>49394.797883</td>\n",
       "      <td>47716.410010</td>\n",
       "      <td>44563.497594</td>\n",
       "      <td>42212.578441</td>\n",
       "      <td>40403.628489</td>\n",
       "      <td>7264.416747</td>\n",
       "      <td>8193.642926</td>\n",
       "      <td>6233.974013</td>\n",
       "      <td>5081.520693</td>\n",
       "      <td>5822.588065</td>\n",
       "      <td>6953.128008</td>\n",
       "      <td>0.170356</td>\n",
       "    </tr>\n",
       "    <tr>\n",
       "      <th>0</th>\n",
       "      <td>175000.000000</td>\n",
       "      <td>1.000000</td>\n",
       "      <td>1.500000</td>\n",
       "      <td>36.000000</td>\n",
       "      <td>-1.000000</td>\n",
       "      <td>-1.000000</td>\n",
       "      <td>-2.000000</td>\n",
       "      <td>-2.000000</td>\n",
       "      <td>-2.000000</td>\n",
       "      <td>-2.000000</td>\n",
       "      <td>15240.500000</td>\n",
       "      <td>3872.500000</td>\n",
       "      <td>6017.500000</td>\n",
       "      <td>16802.000000</td>\n",
       "      <td>0.000000</td>\n",
       "      <td>595.000000</td>\n",
       "      <td>3891.500000</td>\n",
       "      <td>6023.000000</td>\n",
       "      <td>16859.000000</td>\n",
       "      <td>0.000000</td>\n",
       "      <td>595.000000</td>\n",
       "      <td>295.000000</td>\n",
       "      <td>0.000000</td>\n",
       "    </tr>\n",
       "    <tr>\n",
       "      <th>5</th>\n",
       "      <td>155416.666667</td>\n",
       "      <td>1.375000</td>\n",
       "      <td>1.458333</td>\n",
       "      <td>35.041667</td>\n",
       "      <td>0.166667</td>\n",
       "      <td>-0.166667</td>\n",
       "      <td>-0.291667</td>\n",
       "      <td>-0.250000</td>\n",
       "      <td>-0.500000</td>\n",
       "      <td>-0.708333</td>\n",
       "      <td>87926.541667</td>\n",
       "      <td>75447.208333</td>\n",
       "      <td>68430.625000</td>\n",
       "      <td>55444.458333</td>\n",
       "      <td>47462.250000</td>\n",
       "      <td>37367.250000</td>\n",
       "      <td>3805.125000</td>\n",
       "      <td>12345.125000</td>\n",
       "      <td>6367.666667</td>\n",
       "      <td>5874.500000</td>\n",
       "      <td>5852.000000</td>\n",
       "      <td>11363.416667</td>\n",
       "      <td>0.041667</td>\n",
       "    </tr>\n",
       "    <tr>\n",
       "      <th>2</th>\n",
       "      <td>144964.285714</td>\n",
       "      <td>1.612857</td>\n",
       "      <td>1.528571</td>\n",
       "      <td>34.334286</td>\n",
       "      <td>0.109286</td>\n",
       "      <td>0.007143</td>\n",
       "      <td>-0.024286</td>\n",
       "      <td>-0.080714</td>\n",
       "      <td>-0.145714</td>\n",
       "      <td>-0.160714</td>\n",
       "      <td>54799.020714</td>\n",
       "      <td>52791.234286</td>\n",
       "      <td>49593.930714</td>\n",
       "      <td>45240.708571</td>\n",
       "      <td>41331.940000</td>\n",
       "      <td>40515.108571</td>\n",
       "      <td>5904.412143</td>\n",
       "      <td>5007.944286</td>\n",
       "      <td>4454.266429</td>\n",
       "      <td>4123.852857</td>\n",
       "      <td>4600.830000</td>\n",
       "      <td>4352.303571</td>\n",
       "      <td>0.244286</td>\n",
       "    </tr>\n",
       "    <tr>\n",
       "      <th>3</th>\n",
       "      <td>124409.937888</td>\n",
       "      <td>1.612836</td>\n",
       "      <td>1.445135</td>\n",
       "      <td>40.861284</td>\n",
       "      <td>0.103520</td>\n",
       "      <td>0.004141</td>\n",
       "      <td>0.024845</td>\n",
       "      <td>-0.020704</td>\n",
       "      <td>-0.024845</td>\n",
       "      <td>-0.113872</td>\n",
       "      <td>47126.453416</td>\n",
       "      <td>47123.908903</td>\n",
       "      <td>45336.455487</td>\n",
       "      <td>40077.853002</td>\n",
       "      <td>37823.159420</td>\n",
       "      <td>37351.954451</td>\n",
       "      <td>5905.803313</td>\n",
       "      <td>5274.335404</td>\n",
       "      <td>4464.140787</td>\n",
       "      <td>4675.012422</td>\n",
       "      <td>3923.763975</td>\n",
       "      <td>4862.780538</td>\n",
       "      <td>0.233954</td>\n",
       "    </tr>\n",
       "    <tr>\n",
       "      <th>6</th>\n",
       "      <td>62500.000000</td>\n",
       "      <td>1.250000</td>\n",
       "      <td>1.500000</td>\n",
       "      <td>33.500000</td>\n",
       "      <td>-0.250000</td>\n",
       "      <td>-0.250000</td>\n",
       "      <td>-0.250000</td>\n",
       "      <td>-0.250000</td>\n",
       "      <td>-0.250000</td>\n",
       "      <td>-0.750000</td>\n",
       "      <td>23903.750000</td>\n",
       "      <td>21966.750000</td>\n",
       "      <td>22154.250000</td>\n",
       "      <td>9588.750000</td>\n",
       "      <td>6887.500000</td>\n",
       "      <td>4508.250000</td>\n",
       "      <td>2604.500000</td>\n",
       "      <td>2973.000000</td>\n",
       "      <td>2231.250000</td>\n",
       "      <td>768.000000</td>\n",
       "      <td>608.000000</td>\n",
       "      <td>184.500000</td>\n",
       "      <td>0.500000</td>\n",
       "    </tr>\n",
       "  </tbody>\n",
       "</table>\n",
       "</div>"
      ],
      "text/plain": [
       "                 limit_balance       sex  marital_status        age     pay_0  \\\n",
       "education_level                                                                 \n",
       "4                227692.307692  1.538462        1.615385  33.153846 -0.615385   \n",
       "1                206025.024062  1.607315        1.657363  33.749759 -0.174206   \n",
       "0                175000.000000  1.000000        1.500000  36.000000 -1.000000   \n",
       "5                155416.666667  1.375000        1.458333  35.041667  0.166667   \n",
       "2                144964.285714  1.612857        1.528571  34.334286  0.109286   \n",
       "3                124409.937888  1.612836        1.445135  40.861284  0.103520   \n",
       "6                 62500.000000  1.250000        1.500000  33.500000 -0.250000   \n",
       "\n",
       "                    pay_2     pay_3     pay_4     pay_5     pay_6  \\\n",
       "education_level                                                     \n",
       "4               -0.846154 -0.769231 -0.846154 -0.846154 -1.000000   \n",
       "1               -0.343600 -0.361886 -0.388835 -0.408085 -0.421559   \n",
       "0               -1.000000 -2.000000 -2.000000 -2.000000 -2.000000   \n",
       "5               -0.166667 -0.291667 -0.250000 -0.500000 -0.708333   \n",
       "2                0.007143 -0.024286 -0.080714 -0.145714 -0.160714   \n",
       "3                0.004141  0.024845 -0.020704 -0.024845 -0.113872   \n",
       "6               -0.250000 -0.250000 -0.250000 -0.250000 -0.750000   \n",
       "\n",
       "                   bill_amt_1    bill_amt_2    bill_amt_3    bill_amt_4  \\\n",
       "education_level                                                           \n",
       "4                38997.076923  21432.538462  29348.692308  25170.461538   \n",
       "1                50343.382098  49394.797883  47716.410010  44563.497594   \n",
       "0                15240.500000   3872.500000   6017.500000  16802.000000   \n",
       "5                87926.541667  75447.208333  68430.625000  55444.458333   \n",
       "2                54799.020714  52791.234286  49593.930714  45240.708571   \n",
       "3                47126.453416  47123.908903  45336.455487  40077.853002   \n",
       "6                23903.750000  21966.750000  22154.250000   9588.750000   \n",
       "\n",
       "                   bill_amt_5    bill_amt_6    pay_amt_1     pay_amt_2  \\\n",
       "education_level                                                          \n",
       "4                21228.000000  20739.000000  3735.692308  15838.769231   \n",
       "1                42212.578441  40403.628489  7264.416747   8193.642926   \n",
       "0                    0.000000    595.000000  3891.500000   6023.000000   \n",
       "5                47462.250000  37367.250000  3805.125000  12345.125000   \n",
       "2                41331.940000  40515.108571  5904.412143   5007.944286   \n",
       "3                37823.159420  37351.954451  5905.803313   5274.335404   \n",
       "6                 6887.500000   4508.250000  2604.500000   2973.000000   \n",
       "\n",
       "                    pay_amt_3    pay_amt_4    pay_amt_5     pay_amt_6  \\\n",
       "education_level                                                         \n",
       "4                15885.000000  5330.384615  2908.923077   1493.230769   \n",
       "1                 6233.974013  5081.520693  5822.588065   6953.128008   \n",
       "0                16859.000000     0.000000   595.000000    295.000000   \n",
       "5                 6367.666667  5874.500000  5852.000000  11363.416667   \n",
       "2                 4454.266429  4123.852857  4600.830000   4352.303571   \n",
       "3                 4464.140787  4675.012422  3923.763975   4862.780538   \n",
       "6                 2231.250000   768.000000   608.000000    184.500000   \n",
       "\n",
       "                 default_payment_next_month  \n",
       "education_level                              \n",
       "4                                  0.000000  \n",
       "1                                  0.170356  \n",
       "0                                  0.000000  \n",
       "5                                  0.041667  \n",
       "2                                  0.244286  \n",
       "3                                  0.233954  \n",
       "6                                  0.500000  "
      ]
     },
     "execution_count": 9,
     "metadata": {},
     "output_type": "execute_result"
    }
   ],
   "source": [
    "df_edu = df.groupby(by = 'education_level').mean().sort_values(by = 'limit_balance', ascending = False)\n",
    "df_edu"
   ]
  },
  {
   "cell_type": "markdown",
   "id": "ad4d1547",
   "metadata": {},
   "source": [
    "## Insight\n",
    "\n",
    "There are some unique issue with the education level, the description that comes with the dataset only states the description for education level from 1 - 6 but there is education level 0 here which is an anomalities.\n",
    "\n",
    "1. The highest limit balance is for education level 4(others) and they also have 0 default payment, maybe thats why they have such a high limit balance compared to others\n",
    "2. There are more default payment from people with university education level(2) than graduate school education level(1), but this can't be very accurate because there is a possibilites that the data is imbalance."
   ]
  },
  {
   "cell_type": "markdown",
   "id": "e0c3445e",
   "metadata": {},
   "source": [
    "Marriage status and late payment\n",
    "\n",
    "I suspect that people that have been married may borrow more money than single people let's see"
   ]
  },
  {
   "cell_type": "code",
   "execution_count": 10,
   "id": "7287f1fc",
   "metadata": {},
   "outputs": [
    {
     "data": {
      "text/html": [
       "<div>\n",
       "<style scoped>\n",
       "    .dataframe tbody tr th:only-of-type {\n",
       "        vertical-align: middle;\n",
       "    }\n",
       "\n",
       "    .dataframe tbody tr th {\n",
       "        vertical-align: top;\n",
       "    }\n",
       "\n",
       "    .dataframe thead th {\n",
       "        text-align: right;\n",
       "    }\n",
       "</style>\n",
       "<table border=\"1\" class=\"dataframe\">\n",
       "  <thead>\n",
       "    <tr style=\"text-align: right;\">\n",
       "      <th></th>\n",
       "      <th>limit_balance</th>\n",
       "      <th>age</th>\n",
       "      <th>education_level</th>\n",
       "      <th>default_payment_next_month</th>\n",
       "    </tr>\n",
       "    <tr>\n",
       "      <th>marital_status</th>\n",
       "      <th></th>\n",
       "      <th></th>\n",
       "      <th></th>\n",
       "      <th></th>\n",
       "    </tr>\n",
       "  </thead>\n",
       "  <tbody>\n",
       "    <tr>\n",
       "      <th>0</th>\n",
       "      <td>115000.000000</td>\n",
       "      <td>45.500000</td>\n",
       "      <td>3</td>\n",
       "      <td>4</td>\n",
       "    </tr>\n",
       "    <tr>\n",
       "      <th>1</th>\n",
       "      <td>179534.534535</td>\n",
       "      <td>39.560060</td>\n",
       "      <td>2</td>\n",
       "      <td>1332</td>\n",
       "    </tr>\n",
       "    <tr>\n",
       "      <th>2</th>\n",
       "      <td>151035.131744</td>\n",
       "      <td>31.361982</td>\n",
       "      <td>2</td>\n",
       "      <td>1594</td>\n",
       "    </tr>\n",
       "    <tr>\n",
       "      <th>3</th>\n",
       "      <td>115428.571429</td>\n",
       "      <td>42.314286</td>\n",
       "      <td>2</td>\n",
       "      <td>35</td>\n",
       "    </tr>\n",
       "  </tbody>\n",
       "</table>\n",
       "</div>"
      ],
      "text/plain": [
       "                limit_balance        age  education_level  \\\n",
       "marital_status                                              \n",
       "0               115000.000000  45.500000                3   \n",
       "1               179534.534535  39.560060                2   \n",
       "2               151035.131744  31.361982                2   \n",
       "3               115428.571429  42.314286                2   \n",
       "\n",
       "                default_payment_next_month  \n",
       "marital_status                              \n",
       "0                                        4  \n",
       "1                                     1332  \n",
       "2                                     1594  \n",
       "3                                       35  "
      ]
     },
     "execution_count": 10,
     "metadata": {},
     "output_type": "execute_result"
    }
   ],
   "source": [
    "df.groupby(by = 'marital_status').agg({'limit_balance':'mean', \n",
    "                                       'age':'mean', \n",
    "                                       'education_level': pd.Series.mode,\n",
    "                                       'default_payment_next_month':'count'})"
   ]
  },
  {
   "cell_type": "markdown",
   "id": "99eee5e1",
   "metadata": {},
   "source": [
    "## Insight\n",
    "\n",
    "marital_ status :(1=married, 2=single, 3=others)\n",
    "\n",
    "1. A Married person are averagely older than single person\n",
    "2. Person who marry also have the highest limit balance on average compared to other marital status\n",
    "3. Married person has almost the same default payment with single person\n",
    "4. the most common education level on all column except the data anomalies is 2 which mean they graduated from highschool."
   ]
  },
  {
   "cell_type": "markdown",
   "id": "037d603c",
   "metadata": {},
   "source": []
  },
  {
   "cell_type": "markdown",
   "id": "9cd1629a",
   "metadata": {},
   "source": [
    "Balance of Data from education level"
   ]
  },
  {
   "cell_type": "code",
   "execution_count": 11,
   "id": "24543929",
   "metadata": {},
   "outputs": [
    {
     "data": {
      "text/plain": [
       "<AxesSubplot:xlabel='education_level', ylabel='Count'>"
      ]
     },
     "execution_count": 11,
     "metadata": {},
     "output_type": "execute_result"
    },
    {
     "data": {
      "image/png": "[encoded data removed]",
      "text/plain": [
       "<Figure size 432x288 with 1 Axes>"
      ]
     },
     "metadata": {
      "needs_background": "light"
     },
     "output_type": "display_data"
    }
   ],
   "source": [
    "sns.histplot(data=df, x = 'education_level')"
   ]
  },
  {
   "cell_type": "markdown",
   "id": "1f4f6d40",
   "metadata": {},
   "source": [
    "As expected, there are more people with education_level of 1,2,3 and for education 4,5,6 there is little to none data compared to other education level. This is a problem if I want to train the machine learning model and use education as a feature because they will only learn a little from education 4,5,6 so later in data cleaning I wil remove education level 0,2,4,5,6 and only use education level 1,2,3, I also need to use other feature because education level alone is not enough for analysis and machine learning model. The highest percentage of this data is people with education level 2 or university level, my hypothesis is because they need money for univesity and ask for a student loan to pay for their tuition."
   ]
  },
  {
   "cell_type": "code",
   "execution_count": 12,
   "id": "97e80522",
   "metadata": {},
   "outputs": [
    {
     "data": {
      "text/plain": [
       "array([ 0., -1.,  2.,  1.,  3., -2.,  4.,  5.,  6.,  7.,  8.])"
      ]
     },
     "execution_count": 12,
     "metadata": {},
     "output_type": "execute_result"
    }
   ],
   "source": [
    "df['pay_0'].unique()"
   ]
  },
  {
   "cell_type": "markdown",
   "id": "5080c318",
   "metadata": {},
   "source": [
    "# Feature Selection"
   ]
  },
  {
   "cell_type": "code",
   "execution_count": 13,
   "id": "da1a6d57",
   "metadata": {},
   "outputs": [
    {
     "data": {
      "text/plain": [
       "<AxesSubplot:>"
      ]
     },
     "execution_count": 13,
     "metadata": {},
     "output_type": "execute_result"
    },
    {
     "data": {
      "image/png": "[encoded data removed]",
      "text/plain": [
       "<Figure size 1440x720 with 2 Axes>"
      ]
     },
     "metadata": {
      "needs_background": "light"
     },
     "output_type": "display_data"
    }
   ],
   "source": [
    "# Making Heatmap correlation with seaborn\n",
    "# Make the size of figure bigger\n",
    "fig, ax = plt.subplots(figsize=(20,10))\n",
    "# Making the heatmap \n",
    "sns.heatmap(df.corr(), cmap=\"YlGnBu\", annot=True, ax = ax)"
   ]
  },
  {
   "cell_type": "markdown",
   "id": "33cb36c7",
   "metadata": {},
   "source": [
    "## Insight\n",
    "1. The heatmap show that sex has negative correlation with almost any other variables and especially pay_2 with correlation score of -0.1. \n",
    "2. bill amount have high correlation with each other compared to pay to each other.\n",
    "3. The feature that affects the default payment next month quit significantly is limit_balance, pay_0 till 6 and that is the feature that I will use to train the machine learning model\n",
    "4. Not as expected, education level is not greatly affecting default payment next month and since the data is also very imbalanced, I will not use education level as the feature."
   ]
  },
  {
   "cell_type": "markdown",
   "id": "d9682367",
   "metadata": {},
   "source": [
    "## Feature \n",
    "\n",
    "The feature that I will use is pay_0 till 6 and pay_amt, the reason is the high correlation of pay_0 untill 6 with default payment next month and little to no correlation between pay_0 to pay_amount."
   ]
  },
  {
   "cell_type": "markdown",
   "id": "069d965c",
   "metadata": {},
   "source": [
    "## Setting up the Data_train_test "
   ]
  },
  {
   "cell_type": "code",
   "execution_count": 14,
   "id": "c0cf95b3",
   "metadata": {},
   "outputs": [
    {
     "data": {
      "text/html": [
       "<div>\n",
       "<style scoped>\n",
       "    .dataframe tbody tr th:only-of-type {\n",
       "        vertical-align: middle;\n",
       "    }\n",
       "\n",
       "    .dataframe tbody tr th {\n",
       "        vertical-align: top;\n",
       "    }\n",
       "\n",
       "    .dataframe thead th {\n",
       "        text-align: right;\n",
       "    }\n",
       "</style>\n",
       "<table border=\"1\" class=\"dataframe\">\n",
       "  <thead>\n",
       "    <tr style=\"text-align: right;\">\n",
       "      <th></th>\n",
       "      <th>pay_1</th>\n",
       "      <th>pay_2</th>\n",
       "      <th>pay_3</th>\n",
       "      <th>pay_4</th>\n",
       "      <th>pay_5</th>\n",
       "      <th>pay_6</th>\n",
       "      <th>pay_amt_1</th>\n",
       "      <th>pay_amt_2</th>\n",
       "      <th>pay_amt_3</th>\n",
       "      <th>pay_amt_4</th>\n",
       "      <th>pay_amt_5</th>\n",
       "      <th>pay_amt_6</th>\n",
       "      <th>default_payment_next_month</th>\n",
       "    </tr>\n",
       "  </thead>\n",
       "  <tbody>\n",
       "    <tr>\n",
       "      <th>0</th>\n",
       "      <td>0.0</td>\n",
       "      <td>0.0</td>\n",
       "      <td>0.0</td>\n",
       "      <td>0.0</td>\n",
       "      <td>0</td>\n",
       "      <td>0</td>\n",
       "      <td>1800.0</td>\n",
       "      <td>2000.0</td>\n",
       "      <td>3000.0</td>\n",
       "      <td>2000.0</td>\n",
       "      <td>2000.0</td>\n",
       "      <td>2000.0</td>\n",
       "      <td>0</td>\n",
       "    </tr>\n",
       "    <tr>\n",
       "      <th>1</th>\n",
       "      <td>0.0</td>\n",
       "      <td>0.0</td>\n",
       "      <td>0.0</td>\n",
       "      <td>0.0</td>\n",
       "      <td>0</td>\n",
       "      <td>0</td>\n",
       "      <td>2000.0</td>\n",
       "      <td>2010.0</td>\n",
       "      <td>3000.0</td>\n",
       "      <td>3000.0</td>\n",
       "      <td>3000.0</td>\n",
       "      <td>1000.0</td>\n",
       "      <td>0</td>\n",
       "    </tr>\n",
       "    <tr>\n",
       "      <th>2</th>\n",
       "      <td>0.0</td>\n",
       "      <td>0.0</td>\n",
       "      <td>0.0</td>\n",
       "      <td>2.0</td>\n",
       "      <td>0</td>\n",
       "      <td>0</td>\n",
       "      <td>10076.0</td>\n",
       "      <td>4018.0</td>\n",
       "      <td>14.0</td>\n",
       "      <td>2051.0</td>\n",
       "      <td>2000.0</td>\n",
       "      <td>0.0</td>\n",
       "      <td>0</td>\n",
       "    </tr>\n",
       "    <tr>\n",
       "      <th>3</th>\n",
       "      <td>0.0</td>\n",
       "      <td>0.0</td>\n",
       "      <td>0.0</td>\n",
       "      <td>0.0</td>\n",
       "      <td>0</td>\n",
       "      <td>0</td>\n",
       "      <td>2886.0</td>\n",
       "      <td>2908.0</td>\n",
       "      <td>2129.0</td>\n",
       "      <td>2354.0</td>\n",
       "      <td>2366.0</td>\n",
       "      <td>2291.0</td>\n",
       "      <td>0</td>\n",
       "    </tr>\n",
       "    <tr>\n",
       "      <th>4</th>\n",
       "      <td>0.0</td>\n",
       "      <td>0.0</td>\n",
       "      <td>0.0</td>\n",
       "      <td>0.0</td>\n",
       "      <td>0</td>\n",
       "      <td>0</td>\n",
       "      <td>1367.0</td>\n",
       "      <td>1606.0</td>\n",
       "      <td>692.0</td>\n",
       "      <td>709.0</td>\n",
       "      <td>721.0</td>\n",
       "      <td>692.0</td>\n",
       "      <td>0</td>\n",
       "    </tr>\n",
       "    <tr>\n",
       "      <th>...</th>\n",
       "      <td>...</td>\n",
       "      <td>...</td>\n",
       "      <td>...</td>\n",
       "      <td>...</td>\n",
       "      <td>...</td>\n",
       "      <td>...</td>\n",
       "      <td>...</td>\n",
       "      <td>...</td>\n",
       "      <td>...</td>\n",
       "      <td>...</td>\n",
       "      <td>...</td>\n",
       "      <td>...</td>\n",
       "      <td>...</td>\n",
       "    </tr>\n",
       "    <tr>\n",
       "      <th>2960</th>\n",
       "      <td>-1.0</td>\n",
       "      <td>-1.0</td>\n",
       "      <td>-1.0</td>\n",
       "      <td>-1.0</td>\n",
       "      <td>-2</td>\n",
       "      <td>-1</td>\n",
       "      <td>0.0</td>\n",
       "      <td>28428.0</td>\n",
       "      <td>0.0</td>\n",
       "      <td>0.0</td>\n",
       "      <td>12000.0</td>\n",
       "      <td>33664.0</td>\n",
       "      <td>0</td>\n",
       "    </tr>\n",
       "    <tr>\n",
       "      <th>2961</th>\n",
       "      <td>2.0</td>\n",
       "      <td>-1.0</td>\n",
       "      <td>-1.0</td>\n",
       "      <td>-1.0</td>\n",
       "      <td>-2</td>\n",
       "      <td>-1</td>\n",
       "      <td>6859.0</td>\n",
       "      <td>486.0</td>\n",
       "      <td>0.0</td>\n",
       "      <td>0.0</td>\n",
       "      <td>244.0</td>\n",
       "      <td>0.0</td>\n",
       "      <td>0</td>\n",
       "    </tr>\n",
       "    <tr>\n",
       "      <th>2962</th>\n",
       "      <td>1.0</td>\n",
       "      <td>-1.0</td>\n",
       "      <td>-1.0</td>\n",
       "      <td>-1.0</td>\n",
       "      <td>-2</td>\n",
       "      <td>-2</td>\n",
       "      <td>47.0</td>\n",
       "      <td>207.0</td>\n",
       "      <td>0.0</td>\n",
       "      <td>0.0</td>\n",
       "      <td>0.0</td>\n",
       "      <td>0.0</td>\n",
       "      <td>0</td>\n",
       "    </tr>\n",
       "    <tr>\n",
       "      <th>2963</th>\n",
       "      <td>1.0</td>\n",
       "      <td>-1.0</td>\n",
       "      <td>-1.0</td>\n",
       "      <td>-2.0</td>\n",
       "      <td>-2</td>\n",
       "      <td>-1</td>\n",
       "      <td>2920.0</td>\n",
       "      <td>0.0</td>\n",
       "      <td>0.0</td>\n",
       "      <td>0.0</td>\n",
       "      <td>6753.0</td>\n",
       "      <td>0.0</td>\n",
       "      <td>1</td>\n",
       "    </tr>\n",
       "    <tr>\n",
       "      <th>2964</th>\n",
       "      <td>-1.0</td>\n",
       "      <td>-1.0</td>\n",
       "      <td>-2.0</td>\n",
       "      <td>-2.0</td>\n",
       "      <td>-2</td>\n",
       "      <td>-2</td>\n",
       "      <td>0.0</td>\n",
       "      <td>0.0</td>\n",
       "      <td>0.0</td>\n",
       "      <td>0.0</td>\n",
       "      <td>0.0</td>\n",
       "      <td>0.0</td>\n",
       "      <td>0</td>\n",
       "    </tr>\n",
       "  </tbody>\n",
       "</table>\n",
       "<p>2965 rows × 13 columns</p>\n",
       "</div>"
      ],
      "text/plain": [
       "      pay_1  pay_2  pay_3  pay_4  pay_5  pay_6  pay_amt_1  pay_amt_2  \\\n",
       "0       0.0    0.0    0.0    0.0      0      0     1800.0     2000.0   \n",
       "1       0.0    0.0    0.0    0.0      0      0     2000.0     2010.0   \n",
       "2       0.0    0.0    0.0    2.0      0      0    10076.0     4018.0   \n",
       "3       0.0    0.0    0.0    0.0      0      0     2886.0     2908.0   \n",
       "4       0.0    0.0    0.0    0.0      0      0     1367.0     1606.0   \n",
       "...     ...    ...    ...    ...    ...    ...        ...        ...   \n",
       "2960   -1.0   -1.0   -1.0   -1.0     -2     -1        0.0    28428.0   \n",
       "2961    2.0   -1.0   -1.0   -1.0     -2     -1     6859.0      486.0   \n",
       "2962    1.0   -1.0   -1.0   -1.0     -2     -2       47.0      207.0   \n",
       "2963    1.0   -1.0   -1.0   -2.0     -2     -1     2920.0        0.0   \n",
       "2964   -1.0   -1.0   -2.0   -2.0     -2     -2        0.0        0.0   \n",
       "\n",
       "      pay_amt_3  pay_amt_4  pay_amt_5  pay_amt_6  default_payment_next_month  \n",
       "0        3000.0     2000.0     2000.0     2000.0                           0  \n",
       "1        3000.0     3000.0     3000.0     1000.0                           0  \n",
       "2          14.0     2051.0     2000.0        0.0                           0  \n",
       "3        2129.0     2354.0     2366.0     2291.0                           0  \n",
       "4         692.0      709.0      721.0      692.0                           0  \n",
       "...         ...        ...        ...        ...                         ...  \n",
       "2960        0.0        0.0    12000.0    33664.0                           0  \n",
       "2961        0.0        0.0      244.0        0.0                           0  \n",
       "2962        0.0        0.0        0.0        0.0                           0  \n",
       "2963        0.0        0.0     6753.0        0.0                           1  \n",
       "2964        0.0        0.0        0.0        0.0                           0  \n",
       "\n",
       "[2965 rows x 13 columns]"
      ]
     },
     "execution_count": 14,
     "metadata": {},
     "output_type": "execute_result"
    }
   ],
   "source": [
    "data_train_test = df[\n",
    "    ['pay_0','pay_2','pay_3','pay_4','pay_5','pay_6','pay_amt_1','pay_amt_2','pay_amt_3',\n",
    "    'pay_amt_4','pay_amt_5','pay_amt_6','default_payment_next_month']\n",
    "]\n",
    "data_train_test = data_train_test.rename(columns={\"pay_0\":\"pay_1\"})\n",
    "data_train_test"
   ]
  },
  {
   "cell_type": "markdown",
   "id": "abd29736",
   "metadata": {},
   "source": [
    "# Data Pre-Processing"
   ]
  },
  {
   "cell_type": "markdown",
   "id": "f7175186",
   "metadata": {},
   "source": [
    "### Splitting between x (features) and y (target)"
   ]
  },
  {
   "cell_type": "code",
   "execution_count": 15,
   "id": "0f7cabe6",
   "metadata": {},
   "outputs": [
    {
     "data": {
      "text/html": [
       "<div>\n",
       "<style scoped>\n",
       "    .dataframe tbody tr th:only-of-type {\n",
       "        vertical-align: middle;\n",
       "    }\n",
       "\n",
       "    .dataframe tbody tr th {\n",
       "        vertical-align: top;\n",
       "    }\n",
       "\n",
       "    .dataframe thead th {\n",
       "        text-align: right;\n",
       "    }\n",
       "</style>\n",
       "<table border=\"1\" class=\"dataframe\">\n",
       "  <thead>\n",
       "    <tr style=\"text-align: right;\">\n",
       "      <th></th>\n",
       "      <th>pay_1</th>\n",
       "      <th>pay_2</th>\n",
       "      <th>pay_3</th>\n",
       "      <th>pay_4</th>\n",
       "      <th>pay_5</th>\n",
       "      <th>pay_6</th>\n",
       "      <th>pay_amt_1</th>\n",
       "      <th>pay_amt_2</th>\n",
       "      <th>pay_amt_3</th>\n",
       "      <th>pay_amt_4</th>\n",
       "      <th>pay_amt_5</th>\n",
       "      <th>pay_amt_6</th>\n",
       "    </tr>\n",
       "  </thead>\n",
       "  <tbody>\n",
       "    <tr>\n",
       "      <th>0</th>\n",
       "      <td>0.0</td>\n",
       "      <td>0.0</td>\n",
       "      <td>0.0</td>\n",
       "      <td>0.0</td>\n",
       "      <td>0</td>\n",
       "      <td>0</td>\n",
       "      <td>1800.0</td>\n",
       "      <td>2000.0</td>\n",
       "      <td>3000.0</td>\n",
       "      <td>2000.0</td>\n",
       "      <td>2000.0</td>\n",
       "      <td>2000.0</td>\n",
       "    </tr>\n",
       "    <tr>\n",
       "      <th>1</th>\n",
       "      <td>0.0</td>\n",
       "      <td>0.0</td>\n",
       "      <td>0.0</td>\n",
       "      <td>0.0</td>\n",
       "      <td>0</td>\n",
       "      <td>0</td>\n",
       "      <td>2000.0</td>\n",
       "      <td>2010.0</td>\n",
       "      <td>3000.0</td>\n",
       "      <td>3000.0</td>\n",
       "      <td>3000.0</td>\n",
       "      <td>1000.0</td>\n",
       "    </tr>\n",
       "    <tr>\n",
       "      <th>2</th>\n",
       "      <td>0.0</td>\n",
       "      <td>0.0</td>\n",
       "      <td>0.0</td>\n",
       "      <td>2.0</td>\n",
       "      <td>0</td>\n",
       "      <td>0</td>\n",
       "      <td>10076.0</td>\n",
       "      <td>4018.0</td>\n",
       "      <td>14.0</td>\n",
       "      <td>2051.0</td>\n",
       "      <td>2000.0</td>\n",
       "      <td>0.0</td>\n",
       "    </tr>\n",
       "    <tr>\n",
       "      <th>3</th>\n",
       "      <td>0.0</td>\n",
       "      <td>0.0</td>\n",
       "      <td>0.0</td>\n",
       "      <td>0.0</td>\n",
       "      <td>0</td>\n",
       "      <td>0</td>\n",
       "      <td>2886.0</td>\n",
       "      <td>2908.0</td>\n",
       "      <td>2129.0</td>\n",
       "      <td>2354.0</td>\n",
       "      <td>2366.0</td>\n",
       "      <td>2291.0</td>\n",
       "    </tr>\n",
       "    <tr>\n",
       "      <th>4</th>\n",
       "      <td>0.0</td>\n",
       "      <td>0.0</td>\n",
       "      <td>0.0</td>\n",
       "      <td>0.0</td>\n",
       "      <td>0</td>\n",
       "      <td>0</td>\n",
       "      <td>1367.0</td>\n",
       "      <td>1606.0</td>\n",
       "      <td>692.0</td>\n",
       "      <td>709.0</td>\n",
       "      <td>721.0</td>\n",
       "      <td>692.0</td>\n",
       "    </tr>\n",
       "  </tbody>\n",
       "</table>\n",
       "</div>"
      ],
      "text/plain": [
       "   pay_1  pay_2  pay_3  pay_4  pay_5  pay_6  pay_amt_1  pay_amt_2  pay_amt_3  \\\n",
       "0    0.0    0.0    0.0    0.0      0      0     1800.0     2000.0     3000.0   \n",
       "1    0.0    0.0    0.0    0.0      0      0     2000.0     2010.0     3000.0   \n",
       "2    0.0    0.0    0.0    2.0      0      0    10076.0     4018.0       14.0   \n",
       "3    0.0    0.0    0.0    0.0      0      0     2886.0     2908.0     2129.0   \n",
       "4    0.0    0.0    0.0    0.0      0      0     1367.0     1606.0      692.0   \n",
       "\n",
       "   pay_amt_4  pay_amt_5  pay_amt_6  \n",
       "0     2000.0     2000.0     2000.0  \n",
       "1     3000.0     3000.0     1000.0  \n",
       "2     2051.0     2000.0        0.0  \n",
       "3     2354.0     2366.0     2291.0  \n",
       "4      709.0      721.0      692.0  "
      ]
     },
     "execution_count": 15,
     "metadata": {},
     "output_type": "execute_result"
    }
   ],
   "source": [
    "X = data_train_test.drop('default_payment_next_month', axis = 1)\n",
    "y = df['default_payment_next_month']\n",
    "X.head()"
   ]
  },
  {
   "cell_type": "code",
   "execution_count": 16,
   "id": "d2004439",
   "metadata": {},
   "outputs": [
    {
     "name": "stdout",
     "output_type": "stream",
     "text": [
      "Train Size: (2372, 12)\n",
      "Test Size: (593, 12)\n"
     ]
    }
   ],
   "source": [
    "# Split between Train-set and Test-set\n",
    "\n",
    "X_train, X_test, y_train , y_test = train_test_split(X,y, test_size = 0.20, random_state = 50)\n",
    "\n",
    "print('Train Size:', X_train.shape)\n",
    "print('Test Size:', X_test.shape)"
   ]
  },
  {
   "cell_type": "markdown",
   "id": "dee397c4",
   "metadata": {},
   "source": [
    "## Checking for missing values"
   ]
  },
  {
   "cell_type": "code",
   "execution_count": 17,
   "id": "e22c8c43",
   "metadata": {},
   "outputs": [
    {
     "data": {
      "text/plain": [
       "pay_1        0\n",
       "pay_2        0\n",
       "pay_3        0\n",
       "pay_4        0\n",
       "pay_5        0\n",
       "pay_6        0\n",
       "pay_amt_1    0\n",
       "pay_amt_2    0\n",
       "pay_amt_3    0\n",
       "pay_amt_4    0\n",
       "pay_amt_5    0\n",
       "pay_amt_6    0\n",
       "dtype: int64"
      ]
     },
     "execution_count": 17,
     "metadata": {},
     "output_type": "execute_result"
    }
   ],
   "source": [
    "X.isnull().sum()"
   ]
  },
  {
   "cell_type": "code",
   "execution_count": 18,
   "id": "9f2726dc",
   "metadata": {},
   "outputs": [
    {
     "data": {
      "text/plain": [
       "0"
      ]
     },
     "execution_count": 18,
     "metadata": {},
     "output_type": "execute_result"
    }
   ],
   "source": [
    "y.isnull().sum()"
   ]
  },
  {
   "cell_type": "markdown",
   "id": "0afdb499",
   "metadata": {},
   "source": [
    "There are no missing value in this data so lets move on"
   ]
  },
  {
   "cell_type": "markdown",
   "id": "5eb8cfbb",
   "metadata": {},
   "source": [
    "## Outliers Handling"
   ]
  },
  {
   "cell_type": "code",
   "execution_count": 19,
   "id": "24148e3c",
   "metadata": {},
   "outputs": [
    {
     "data": {
      "text/plain": [
       "<AxesSubplot:>"
      ]
     },
     "execution_count": 19,
     "metadata": {},
     "output_type": "execute_result"
    },
    {
     "data": {
      "image/png": "[encoded data removed]",
      "text/plain": [
       "<Figure size 1440x720 with 1 Axes>"
      ]
     },
     "metadata": {
      "needs_background": "light"
     },
     "output_type": "display_data"
    }
   ],
   "source": [
    "fig, ax2 = plt.subplots(figsize=(20,10))\n",
    "sns.boxplot(data = X_train, ax = ax2)"
   ]
  },
  {
   "cell_type": "markdown",
   "id": "c2e1da15",
   "metadata": {},
   "source": [
    "Pay_ amt is the amount of previous payment (NT_dollar) which means that those outliers are still a real data and in my personal opinion there is no need to remove the outliers because I think that there may be some people that really do need a lot of money and decide to borrow a lot, so I think that these outliers can help describe real situation"
   ]
  },
  {
   "cell_type": "markdown",
   "id": "f658445d",
   "metadata": {},
   "source": [
    "## Splitting Numerical and Categorical Data"
   ]
  },
  {
   "cell_type": "code",
   "execution_count": 20,
   "id": "61e243c6",
   "metadata": {},
   "outputs": [],
   "source": [
    "# Splitting into two columns\n",
    "num_columns = X_train.iloc[:,6:].columns.tolist()\n",
    "cat_columns = X_train.iloc[:,:6].columns.tolist()"
   ]
  },
  {
   "cell_type": "code",
   "execution_count": 21,
   "id": "00bfe1c3",
   "metadata": {},
   "outputs": [],
   "source": [
    "# Make Numeric variable and categorical variable for both x_train and test\n",
    "X_train_num = X_train[num_columns]\n",
    "X_train_cat = X_train[cat_columns]\n",
    "\n",
    "X_test_num = X_test[num_columns]\n",
    "X_test_cat = X_test[cat_columns]"
   ]
  },
  {
   "cell_type": "code",
   "execution_count": 22,
   "id": "f311bfa2",
   "metadata": {},
   "outputs": [
    {
     "data": {
      "text/html": [
       "<div>\n",
       "<style scoped>\n",
       "    .dataframe tbody tr th:only-of-type {\n",
       "        vertical-align: middle;\n",
       "    }\n",
       "\n",
       "    .dataframe tbody tr th {\n",
       "        vertical-align: top;\n",
       "    }\n",
       "\n",
       "    .dataframe thead th {\n",
       "        text-align: right;\n",
       "    }\n",
       "</style>\n",
       "<table border=\"1\" class=\"dataframe\">\n",
       "  <thead>\n",
       "    <tr style=\"text-align: right;\">\n",
       "      <th></th>\n",
       "      <th>pay_1</th>\n",
       "      <th>pay_2</th>\n",
       "      <th>pay_3</th>\n",
       "      <th>pay_4</th>\n",
       "      <th>pay_5</th>\n",
       "      <th>pay_6</th>\n",
       "    </tr>\n",
       "  </thead>\n",
       "  <tbody>\n",
       "    <tr>\n",
       "      <th>21</th>\n",
       "      <td>0.0</td>\n",
       "      <td>0.0</td>\n",
       "      <td>0.0</td>\n",
       "      <td>-1.0</td>\n",
       "      <td>0</td>\n",
       "      <td>0</td>\n",
       "    </tr>\n",
       "    <tr>\n",
       "      <th>1388</th>\n",
       "      <td>0.0</td>\n",
       "      <td>0.0</td>\n",
       "      <td>0.0</td>\n",
       "      <td>0.0</td>\n",
       "      <td>2</td>\n",
       "      <td>2</td>\n",
       "    </tr>\n",
       "    <tr>\n",
       "      <th>567</th>\n",
       "      <td>0.0</td>\n",
       "      <td>0.0</td>\n",
       "      <td>0.0</td>\n",
       "      <td>0.0</td>\n",
       "      <td>0</td>\n",
       "      <td>0</td>\n",
       "    </tr>\n",
       "    <tr>\n",
       "      <th>1594</th>\n",
       "      <td>0.0</td>\n",
       "      <td>0.0</td>\n",
       "      <td>0.0</td>\n",
       "      <td>-2.0</td>\n",
       "      <td>-2</td>\n",
       "      <td>-2</td>\n",
       "    </tr>\n",
       "    <tr>\n",
       "      <th>1017</th>\n",
       "      <td>0.0</td>\n",
       "      <td>0.0</td>\n",
       "      <td>0.0</td>\n",
       "      <td>0.0</td>\n",
       "      <td>0</td>\n",
       "      <td>0</td>\n",
       "    </tr>\n",
       "  </tbody>\n",
       "</table>\n",
       "</div>"
      ],
      "text/plain": [
       "      pay_1  pay_2  pay_3  pay_4  pay_5  pay_6\n",
       "21      0.0    0.0    0.0   -1.0      0      0\n",
       "1388    0.0    0.0    0.0    0.0      2      2\n",
       "567     0.0    0.0    0.0    0.0      0      0\n",
       "1594    0.0    0.0    0.0   -2.0     -2     -2\n",
       "1017    0.0    0.0    0.0    0.0      0      0"
      ]
     },
     "execution_count": 22,
     "metadata": {},
     "output_type": "execute_result"
    }
   ],
   "source": [
    "X_train_cat.head()"
   ]
  },
  {
   "cell_type": "markdown",
   "id": "30d7df6b",
   "metadata": {},
   "source": [
    "The categorical data have been encoded and doesn't need to be encoded again because it's already a numeric data now so the computer can already understand"
   ]
  },
  {
   "cell_type": "code",
   "execution_count": 23,
   "id": "f360a45c",
   "metadata": {},
   "outputs": [
    {
     "data": {
      "text/html": [
       "<div>\n",
       "<style scoped>\n",
       "    .dataframe tbody tr th:only-of-type {\n",
       "        vertical-align: middle;\n",
       "    }\n",
       "\n",
       "    .dataframe tbody tr th {\n",
       "        vertical-align: top;\n",
       "    }\n",
       "\n",
       "    .dataframe thead th {\n",
       "        text-align: right;\n",
       "    }\n",
       "</style>\n",
       "<table border=\"1\" class=\"dataframe\">\n",
       "  <thead>\n",
       "    <tr style=\"text-align: right;\">\n",
       "      <th></th>\n",
       "      <th>pay_amt_1</th>\n",
       "      <th>pay_amt_2</th>\n",
       "      <th>pay_amt_3</th>\n",
       "      <th>pay_amt_4</th>\n",
       "      <th>pay_amt_5</th>\n",
       "      <th>pay_amt_6</th>\n",
       "    </tr>\n",
       "  </thead>\n",
       "  <tbody>\n",
       "    <tr>\n",
       "      <th>21</th>\n",
       "      <td>77225.0</td>\n",
       "      <td>21903.0</td>\n",
       "      <td>25646.0</td>\n",
       "      <td>5080.0</td>\n",
       "      <td>0.0</td>\n",
       "      <td>5052.0</td>\n",
       "    </tr>\n",
       "    <tr>\n",
       "      <th>1388</th>\n",
       "      <td>2230.0</td>\n",
       "      <td>2000.0</td>\n",
       "      <td>4300.0</td>\n",
       "      <td>1000.0</td>\n",
       "      <td>0.0</td>\n",
       "      <td>2000.0</td>\n",
       "    </tr>\n",
       "    <tr>\n",
       "      <th>567</th>\n",
       "      <td>3000.0</td>\n",
       "      <td>5000.0</td>\n",
       "      <td>2500.0</td>\n",
       "      <td>2500.0</td>\n",
       "      <td>3500.0</td>\n",
       "      <td>87000.0</td>\n",
       "    </tr>\n",
       "    <tr>\n",
       "      <th>1594</th>\n",
       "      <td>1000.0</td>\n",
       "      <td>18000.0</td>\n",
       "      <td>0.0</td>\n",
       "      <td>0.0</td>\n",
       "      <td>0.0</td>\n",
       "      <td>0.0</td>\n",
       "    </tr>\n",
       "    <tr>\n",
       "      <th>1017</th>\n",
       "      <td>17438.0</td>\n",
       "      <td>18852.0</td>\n",
       "      <td>16673.0</td>\n",
       "      <td>15244.0</td>\n",
       "      <td>15216.0</td>\n",
       "      <td>16037.0</td>\n",
       "    </tr>\n",
       "  </tbody>\n",
       "</table>\n",
       "</div>"
      ],
      "text/plain": [
       "      pay_amt_1  pay_amt_2  pay_amt_3  pay_amt_4  pay_amt_5  pay_amt_6\n",
       "21      77225.0    21903.0    25646.0     5080.0        0.0     5052.0\n",
       "1388     2230.0     2000.0     4300.0     1000.0        0.0     2000.0\n",
       "567      3000.0     5000.0     2500.0     2500.0     3500.0    87000.0\n",
       "1594     1000.0    18000.0        0.0        0.0        0.0        0.0\n",
       "1017    17438.0    18852.0    16673.0    15244.0    15216.0    16037.0"
      ]
     },
     "execution_count": 23,
     "metadata": {},
     "output_type": "execute_result"
    }
   ],
   "source": [
    "X_train_num.head()"
   ]
  },
  {
   "cell_type": "markdown",
   "id": "a6ef102b",
   "metadata": {},
   "source": [
    "Numeric data needs to be scaled"
   ]
  },
  {
   "cell_type": "markdown",
   "id": "78f41ecc",
   "metadata": {},
   "source": [
    "## Feature Scaling"
   ]
  },
  {
   "cell_type": "code",
   "execution_count": 24,
   "id": "57763877",
   "metadata": {},
   "outputs": [
    {
     "data": {
      "image/png": "[encoded data removed]",
      "text/plain": [
       "<Figure size 1080x360 with 2 Axes>"
      ]
     },
     "metadata": {
      "needs_background": "light"
     },
     "output_type": "display_data"
    },
    {
     "name": "stdout",
     "output_type": "stream",
     "text": [
      "pay_amt_1 Kurtosis: 138.47893394993577\n",
      "pay_amt_1 Skewness: 10.319373293082315\n",
      "Columns 'pay_amt_1' right skewed\n"
     ]
    }
   ],
   "source": [
    "plot_dist(X_train_num,'pay_amt_1')"
   ]
  },
  {
   "cell_type": "markdown",
   "id": "b26e5b6f",
   "metadata": {},
   "source": [
    "the pay amount data is very right skewed and there is a lot of outliers because I decide to factor in the outliers as data hoping to get better result"
   ]
  },
  {
   "cell_type": "code",
   "execution_count": 25,
   "id": "56cabee1",
   "metadata": {},
   "outputs": [],
   "source": [
    "## Transform using Robust Scaler because there is a lot of outliers included in this data\n",
    "trans = RobustScaler()\n",
    "X_train_num_scaled = trans.fit_transform(X_train_num)\n",
    "X_test_num_scaled = trans.transform(X_test_num)"
   ]
  },
  {
   "cell_type": "code",
   "execution_count": 26,
   "id": "87869582",
   "metadata": {},
   "outputs": [],
   "source": [
    "# Change the data types into pandas Dataframe\n",
    "X_train_num_scaled = pd.DataFrame(X_train_num_scaled, columns = num_columns)\n",
    "X_test_num_scaled = pd.DataFrame(X_test_num_scaled, columns = num_columns)"
   ]
  },
  {
   "cell_type": "markdown",
   "id": "e45524ae",
   "metadata": {},
   "source": [
    "## Feature Encoding"
   ]
  },
  {
   "cell_type": "markdown",
   "id": "ffa9a98b",
   "metadata": {},
   "source": [
    "Since the data is already encoded, there is no need to do encoding"
   ]
  },
  {
   "cell_type": "code",
   "execution_count": 27,
   "id": "3a5e1e49",
   "metadata": {},
   "outputs": [
    {
     "data": {
      "text/html": [
       "<div>\n",
       "<style scoped>\n",
       "    .dataframe tbody tr th:only-of-type {\n",
       "        vertical-align: middle;\n",
       "    }\n",
       "\n",
       "    .dataframe tbody tr th {\n",
       "        vertical-align: top;\n",
       "    }\n",
       "\n",
       "    .dataframe thead th {\n",
       "        text-align: right;\n",
       "    }\n",
       "</style>\n",
       "<table border=\"1\" class=\"dataframe\">\n",
       "  <thead>\n",
       "    <tr style=\"text-align: right;\">\n",
       "      <th></th>\n",
       "      <th>pay_1</th>\n",
       "      <th>pay_2</th>\n",
       "      <th>pay_3</th>\n",
       "      <th>pay_4</th>\n",
       "      <th>pay_5</th>\n",
       "      <th>pay_6</th>\n",
       "    </tr>\n",
       "  </thead>\n",
       "  <tbody>\n",
       "    <tr>\n",
       "      <th>21</th>\n",
       "      <td>0.0</td>\n",
       "      <td>0.0</td>\n",
       "      <td>0.0</td>\n",
       "      <td>-1.0</td>\n",
       "      <td>0</td>\n",
       "      <td>0</td>\n",
       "    </tr>\n",
       "    <tr>\n",
       "      <th>1388</th>\n",
       "      <td>0.0</td>\n",
       "      <td>0.0</td>\n",
       "      <td>0.0</td>\n",
       "      <td>0.0</td>\n",
       "      <td>2</td>\n",
       "      <td>2</td>\n",
       "    </tr>\n",
       "    <tr>\n",
       "      <th>567</th>\n",
       "      <td>0.0</td>\n",
       "      <td>0.0</td>\n",
       "      <td>0.0</td>\n",
       "      <td>0.0</td>\n",
       "      <td>0</td>\n",
       "      <td>0</td>\n",
       "    </tr>\n",
       "    <tr>\n",
       "      <th>1594</th>\n",
       "      <td>0.0</td>\n",
       "      <td>0.0</td>\n",
       "      <td>0.0</td>\n",
       "      <td>-2.0</td>\n",
       "      <td>-2</td>\n",
       "      <td>-2</td>\n",
       "    </tr>\n",
       "    <tr>\n",
       "      <th>1017</th>\n",
       "      <td>0.0</td>\n",
       "      <td>0.0</td>\n",
       "      <td>0.0</td>\n",
       "      <td>0.0</td>\n",
       "      <td>0</td>\n",
       "      <td>0</td>\n",
       "    </tr>\n",
       "    <tr>\n",
       "      <th>...</th>\n",
       "      <td>...</td>\n",
       "      <td>...</td>\n",
       "      <td>...</td>\n",
       "      <td>...</td>\n",
       "      <td>...</td>\n",
       "      <td>...</td>\n",
       "    </tr>\n",
       "    <tr>\n",
       "      <th>2014</th>\n",
       "      <td>1.0</td>\n",
       "      <td>-2.0</td>\n",
       "      <td>-1.0</td>\n",
       "      <td>-1.0</td>\n",
       "      <td>-1</td>\n",
       "      <td>-1</td>\n",
       "    </tr>\n",
       "    <tr>\n",
       "      <th>2157</th>\n",
       "      <td>-2.0</td>\n",
       "      <td>-2.0</td>\n",
       "      <td>-2.0</td>\n",
       "      <td>-2.0</td>\n",
       "      <td>-2</td>\n",
       "      <td>-2</td>\n",
       "    </tr>\n",
       "    <tr>\n",
       "      <th>1931</th>\n",
       "      <td>2.0</td>\n",
       "      <td>2.0</td>\n",
       "      <td>7.0</td>\n",
       "      <td>7.0</td>\n",
       "      <td>7</td>\n",
       "      <td>7</td>\n",
       "    </tr>\n",
       "    <tr>\n",
       "      <th>1504</th>\n",
       "      <td>-1.0</td>\n",
       "      <td>0.0</td>\n",
       "      <td>0.0</td>\n",
       "      <td>0.0</td>\n",
       "      <td>-1</td>\n",
       "      <td>0</td>\n",
       "    </tr>\n",
       "    <tr>\n",
       "      <th>1712</th>\n",
       "      <td>2.0</td>\n",
       "      <td>2.0</td>\n",
       "      <td>2.0</td>\n",
       "      <td>0.0</td>\n",
       "      <td>0</td>\n",
       "      <td>0</td>\n",
       "    </tr>\n",
       "  </tbody>\n",
       "</table>\n",
       "<p>2372 rows × 6 columns</p>\n",
       "</div>"
      ],
      "text/plain": [
       "      pay_1  pay_2  pay_3  pay_4  pay_5  pay_6\n",
       "21      0.0    0.0    0.0   -1.0      0      0\n",
       "1388    0.0    0.0    0.0    0.0      2      2\n",
       "567     0.0    0.0    0.0    0.0      0      0\n",
       "1594    0.0    0.0    0.0   -2.0     -2     -2\n",
       "1017    0.0    0.0    0.0    0.0      0      0\n",
       "...     ...    ...    ...    ...    ...    ...\n",
       "2014    1.0   -2.0   -1.0   -1.0     -1     -1\n",
       "2157   -2.0   -2.0   -2.0   -2.0     -2     -2\n",
       "1931    2.0    2.0    7.0    7.0      7      7\n",
       "1504   -1.0    0.0    0.0    0.0     -1      0\n",
       "1712    2.0    2.0    2.0    0.0      0      0\n",
       "\n",
       "[2372 rows x 6 columns]"
      ]
     },
     "execution_count": 27,
     "metadata": {},
     "output_type": "execute_result"
    }
   ],
   "source": [
    "X_train_cat"
   ]
  },
  {
   "cell_type": "code",
   "execution_count": 28,
   "id": "51ebd272",
   "metadata": {},
   "outputs": [],
   "source": [
    "X_train_cat.reset_index(drop = True, inplace = True)\n",
    "X_test_cat.reset_index(drop = True, inplace = True)"
   ]
  },
  {
   "cell_type": "markdown",
   "id": "0f19be79",
   "metadata": {},
   "source": [
    "## Combining Data"
   ]
  },
  {
   "cell_type": "code",
   "execution_count": 29,
   "id": "c53fe357",
   "metadata": {},
   "outputs": [],
   "source": [
    "X_train_final = pd.concat([X_train_cat,X_train_num_scaled], axis=1)\n",
    "X_test_final = pd.concat([X_test_cat,X_test_num_scaled], axis=1)"
   ]
  },
  {
   "cell_type": "code",
   "execution_count": 30,
   "id": "51331959",
   "metadata": {
    "scrolled": false
   },
   "outputs": [
    {
     "data": {
      "text/html": [
       "<div>\n",
       "<style scoped>\n",
       "    .dataframe tbody tr th:only-of-type {\n",
       "        vertical-align: middle;\n",
       "    }\n",
       "\n",
       "    .dataframe tbody tr th {\n",
       "        vertical-align: top;\n",
       "    }\n",
       "\n",
       "    .dataframe thead th {\n",
       "        text-align: right;\n",
       "    }\n",
       "</style>\n",
       "<table border=\"1\" class=\"dataframe\">\n",
       "  <thead>\n",
       "    <tr style=\"text-align: right;\">\n",
       "      <th></th>\n",
       "      <th>pay_1</th>\n",
       "      <th>pay_2</th>\n",
       "      <th>pay_3</th>\n",
       "      <th>pay_4</th>\n",
       "      <th>pay_5</th>\n",
       "      <th>pay_6</th>\n",
       "      <th>pay_amt_1</th>\n",
       "      <th>pay_amt_2</th>\n",
       "      <th>pay_amt_3</th>\n",
       "      <th>pay_amt_4</th>\n",
       "      <th>pay_amt_5</th>\n",
       "      <th>pay_amt_6</th>\n",
       "    </tr>\n",
       "  </thead>\n",
       "  <tbody>\n",
       "    <tr>\n",
       "      <th>0</th>\n",
       "      <td>0.0</td>\n",
       "      <td>0.0</td>\n",
       "      <td>0.0</td>\n",
       "      <td>-1.0</td>\n",
       "      <td>0</td>\n",
       "      <td>0</td>\n",
       "      <td>18.525458</td>\n",
       "      <td>4.714838</td>\n",
       "      <td>5.716543</td>\n",
       "      <td>0.954137</td>\n",
       "      <td>-0.412451</td>\n",
       "      <td>0.882469</td>\n",
       "    </tr>\n",
       "    <tr>\n",
       "      <th>1</th>\n",
       "      <td>0.0</td>\n",
       "      <td>0.0</td>\n",
       "      <td>0.0</td>\n",
       "      <td>0.0</td>\n",
       "      <td>2</td>\n",
       "      <td>2</td>\n",
       "      <td>0.011603</td>\n",
       "      <td>-0.023689</td>\n",
       "      <td>0.567035</td>\n",
       "      <td>-0.156369</td>\n",
       "      <td>-0.412451</td>\n",
       "      <td>0.103947</td>\n",
       "    </tr>\n",
       "    <tr>\n",
       "      <th>2</th>\n",
       "      <td>0.0</td>\n",
       "      <td>0.0</td>\n",
       "      <td>0.0</td>\n",
       "      <td>0.0</td>\n",
       "      <td>0</td>\n",
       "      <td>0</td>\n",
       "      <td>0.201691</td>\n",
       "      <td>0.690554</td>\n",
       "      <td>0.132803</td>\n",
       "      <td>0.251905</td>\n",
       "      <td>0.489785</td>\n",
       "      <td>21.786238</td>\n",
       "    </tr>\n",
       "    <tr>\n",
       "      <th>3</th>\n",
       "      <td>0.0</td>\n",
       "      <td>0.0</td>\n",
       "      <td>0.0</td>\n",
       "      <td>-2.0</td>\n",
       "      <td>-2</td>\n",
       "      <td>-2</td>\n",
       "      <td>-0.292045</td>\n",
       "      <td>3.785608</td>\n",
       "      <td>-0.470297</td>\n",
       "      <td>-0.428552</td>\n",
       "      <td>-0.412451</td>\n",
       "      <td>-0.406224</td>\n",
       "    </tr>\n",
       "    <tr>\n",
       "      <th>4</th>\n",
       "      <td>0.0</td>\n",
       "      <td>0.0</td>\n",
       "      <td>0.0</td>\n",
       "      <td>0.0</td>\n",
       "      <td>0</td>\n",
       "      <td>0</td>\n",
       "      <td>3.765969</td>\n",
       "      <td>3.988453</td>\n",
       "      <td>3.551897</td>\n",
       "      <td>3.720604</td>\n",
       "      <td>3.509957</td>\n",
       "      <td>3.684586</td>\n",
       "    </tr>\n",
       "    <tr>\n",
       "      <th>...</th>\n",
       "      <td>...</td>\n",
       "      <td>...</td>\n",
       "      <td>...</td>\n",
       "      <td>...</td>\n",
       "      <td>...</td>\n",
       "      <td>...</td>\n",
       "      <td>...</td>\n",
       "      <td>...</td>\n",
       "      <td>...</td>\n",
       "      <td>...</td>\n",
       "      <td>...</td>\n",
       "      <td>...</td>\n",
       "    </tr>\n",
       "    <tr>\n",
       "      <th>2367</th>\n",
       "      <td>1.0</td>\n",
       "      <td>-2.0</td>\n",
       "      <td>-1.0</td>\n",
       "      <td>-1.0</td>\n",
       "      <td>-1</td>\n",
       "      <td>-1</td>\n",
       "      <td>-0.538913</td>\n",
       "      <td>-0.047497</td>\n",
       "      <td>1.317532</td>\n",
       "      <td>0.088596</td>\n",
       "      <td>-0.412451</td>\n",
       "      <td>-0.406224</td>\n",
       "    </tr>\n",
       "    <tr>\n",
       "      <th>2368</th>\n",
       "      <td>-2.0</td>\n",
       "      <td>-2.0</td>\n",
       "      <td>-2.0</td>\n",
       "      <td>-2.0</td>\n",
       "      <td>-2</td>\n",
       "      <td>-2</td>\n",
       "      <td>0.255755</td>\n",
       "      <td>0.291054</td>\n",
       "      <td>0.167782</td>\n",
       "      <td>-0.143032</td>\n",
       "      <td>-0.033769</td>\n",
       "      <td>0.484025</td>\n",
       "    </tr>\n",
       "    <tr>\n",
       "      <th>2369</th>\n",
       "      <td>2.0</td>\n",
       "      <td>2.0</td>\n",
       "      <td>7.0</td>\n",
       "      <td>7.0</td>\n",
       "      <td>7</td>\n",
       "      <td>7</td>\n",
       "      <td>-0.538913</td>\n",
       "      <td>-0.499851</td>\n",
       "      <td>-0.470297</td>\n",
       "      <td>-0.428552</td>\n",
       "      <td>-0.412451</td>\n",
       "      <td>-0.406224</td>\n",
       "    </tr>\n",
       "    <tr>\n",
       "      <th>2370</th>\n",
       "      <td>-1.0</td>\n",
       "      <td>0.0</td>\n",
       "      <td>0.0</td>\n",
       "      <td>0.0</td>\n",
       "      <td>-1</td>\n",
       "      <td>0</td>\n",
       "      <td>-0.235018</td>\n",
       "      <td>-0.199393</td>\n",
       "      <td>-0.229057</td>\n",
       "      <td>10.027354</td>\n",
       "      <td>0.618676</td>\n",
       "      <td>0.614119</td>\n",
       "    </tr>\n",
       "    <tr>\n",
       "      <th>2371</th>\n",
       "      <td>2.0</td>\n",
       "      <td>2.0</td>\n",
       "      <td>2.0</td>\n",
       "      <td>0.0</td>\n",
       "      <td>0</td>\n",
       "      <td>0</td>\n",
       "      <td>0.253780</td>\n",
       "      <td>-0.499851</td>\n",
       "      <td>-0.162716</td>\n",
       "      <td>-0.272047</td>\n",
       "      <td>-0.015725</td>\n",
       "      <td>-0.227664</td>\n",
       "    </tr>\n",
       "  </tbody>\n",
       "</table>\n",
       "<p>2372 rows × 12 columns</p>\n",
       "</div>"
      ],
      "text/plain": [
       "      pay_1  pay_2  pay_3  pay_4  pay_5  pay_6  pay_amt_1  pay_amt_2  \\\n",
       "0       0.0    0.0    0.0   -1.0      0      0  18.525458   4.714838   \n",
       "1       0.0    0.0    0.0    0.0      2      2   0.011603  -0.023689   \n",
       "2       0.0    0.0    0.0    0.0      0      0   0.201691   0.690554   \n",
       "3       0.0    0.0    0.0   -2.0     -2     -2  -0.292045   3.785608   \n",
       "4       0.0    0.0    0.0    0.0      0      0   3.765969   3.988453   \n",
       "...     ...    ...    ...    ...    ...    ...        ...        ...   \n",
       "2367    1.0   -2.0   -1.0   -1.0     -1     -1  -0.538913  -0.047497   \n",
       "2368   -2.0   -2.0   -2.0   -2.0     -2     -2   0.255755   0.291054   \n",
       "2369    2.0    2.0    7.0    7.0      7      7  -0.538913  -0.499851   \n",
       "2370   -1.0    0.0    0.0    0.0     -1      0  -0.235018  -0.199393   \n",
       "2371    2.0    2.0    2.0    0.0      0      0   0.253780  -0.499851   \n",
       "\n",
       "      pay_amt_3  pay_amt_4  pay_amt_5  pay_amt_6  \n",
       "0      5.716543   0.954137  -0.412451   0.882469  \n",
       "1      0.567035  -0.156369  -0.412451   0.103947  \n",
       "2      0.132803   0.251905   0.489785  21.786238  \n",
       "3     -0.470297  -0.428552  -0.412451  -0.406224  \n",
       "4      3.551897   3.720604   3.509957   3.684586  \n",
       "...         ...        ...        ...        ...  \n",
       "2367   1.317532   0.088596  -0.412451  -0.406224  \n",
       "2368   0.167782  -0.143032  -0.033769   0.484025  \n",
       "2369  -0.470297  -0.428552  -0.412451  -0.406224  \n",
       "2370  -0.229057  10.027354   0.618676   0.614119  \n",
       "2371  -0.162716  -0.272047  -0.015725  -0.227664  \n",
       "\n",
       "[2372 rows x 12 columns]"
      ]
     },
     "execution_count": 30,
     "metadata": {},
     "output_type": "execute_result"
    }
   ],
   "source": [
    "X_train_final"
   ]
  },
  {
   "cell_type": "markdown",
   "id": "e333acef",
   "metadata": {},
   "source": [
    "## Cross Validation"
   ]
  },
  {
   "cell_type": "code",
   "execution_count": 31,
   "id": "c134e99f",
   "metadata": {},
   "outputs": [
    {
     "name": "stdout",
     "output_type": "stream",
     "text": [
      " model LogisticRegression() has the cross_val score mean of 0.8406422385076615\n",
      " model LogisticRegression() has the cross_val score standard deviation of 0.010274879329249571\n",
      "---------------\n",
      " model SVC() has the cross_val score mean of 0.8296842105263158\n",
      " model SVC() has the cross_val score standard deviation of 0.01534972405221832\n",
      "---------------\n",
      " model DecisionTreeClassifier() has the cross_val score mean of 0.7365249833444371\n",
      " model DecisionTreeClassifier() has the cross_val score standard deviation of 0.015003233184004452\n",
      "---------------\n",
      " model RandomForestClassifier() has the cross_val score mean of 0.834753719742394\n",
      " model RandomForestClassifier() has the cross_val score standard deviation of 0.016728993650185826\n",
      "---------------\n",
      " model KNeighborsClassifier() has the cross_val score mean of 0.8115549633577614\n",
      " model KNeighborsClassifier() has the cross_val score standard deviation of 0.018371475606599953\n",
      "---------------\n",
      " model GaussianNB() has the cross_val score mean of 0.4489877859204975\n",
      " model GaussianNB() has the cross_val score standard deviation of 0.024260193276368098\n",
      "---------------\n",
      " model AdaBoostClassifier() has the cross_val score mean of 0.8393808572063068\n",
      " model AdaBoostClassifier() has the cross_val score standard deviation of 0.015528766068609345\n",
      "---------------\n",
      " model SGDClassifier() has the cross_val score mean of 0.7837201865423051\n",
      " model SGDClassifier() has the cross_val score standard deviation of 0.02084636585398063\n",
      "---------------\n",
      " model RidgeClassifier() has the cross_val score mean of 0.8250499666888741\n",
      " model RidgeClassifier() has the cross_val score standard deviation of 0.010366480995746564\n",
      "---------------\n"
     ]
    }
   ],
   "source": [
    "# Make a Loop to try and see all model cross value score and choosing the best model from it\n",
    "for model in ([\n",
    "    LogisticRegression(), \n",
    "    SVC(),\n",
    "    DecisionTreeClassifier(),\n",
    "    RandomForestClassifier(),\n",
    "    KNeighborsClassifier(),\n",
    "    GaussianNB(),\n",
    "    AdaBoostClassifier(),\n",
    "    SGDClassifier(),\n",
    "    RidgeClassifier()\n",
    "]):\n",
    "    score = cross_val_score(model, X_train_final, y_train, cv=5, scoring = 'accuracy').mean()\n",
    "    std_dev = cross_val_score(model, X_train_final, y_train, cv=5, scoring = 'accuracy').std()\n",
    "    print(f' model {model} has the cross_val score mean of', score)\n",
    "    print(f' model {model} has the cross_val score standard deviation of', std_dev)\n",
    "    print('-'*15)"
   ]
  },
  {
   "cell_type": "markdown",
   "id": "9a9c05d0",
   "metadata": {},
   "source": [
    "## Insight \n",
    "\n",
    "1. Logistic Regression has the best cross validation score from 5 kfold and lowest standard deviation amongst all, this is because of the advantages of logistic regression that can predict binary classification well and the feature is independent, since I use 2 features which is pay amount and classification of how late one pays their credit card and both of it are independent, this model works well.\n",
    "2. Gaussian NB has low scores because of the feature that are not normally distributed and still have outliers\n",
    "3. AdaBoostClassifier has scores that is very similar with logistic regression but logistic regression still performs well because of higher score and lower standard deviation.\n",
    "4. I can't say for sure that logistic regression is better than ada boost since the difference is too little, they have a  similar cross_val score"
   ]
  },
  {
   "cell_type": "markdown",
   "id": "d9a9ec81",
   "metadata": {},
   "source": [
    "## Model Prediction Evaluation before gridsearch"
   ]
  },
  {
   "cell_type": "code",
   "execution_count": 32,
   "id": "0ef4af3c",
   "metadata": {},
   "outputs": [
    {
     "name": "stdout",
     "output_type": "stream",
     "text": [
      "accuracy score train :  0.8393760539629005\n",
      "accuracy score test :  0.8111298482293423\n"
     ]
    }
   ],
   "source": [
    "log_reg = LogisticRegression()           ## Define Model   \n",
    "log_reg.fit(X_train_final, y_train)   ## Train model\n",
    "\n",
    "y_pred_test = log_reg.predict(X_test_final) ## test with test result\n",
    "y_pred_train = log_reg.predict(X_train_final)\n",
    "\n",
    "print('accuracy score train : ',accuracy_score(y_train,y_pred_train))\n",
    "print('accuracy score test : ',accuracy_score(y_test,y_pred_test))"
   ]
  },
  {
   "cell_type": "code",
   "execution_count": 33,
   "id": "faa2016c",
   "metadata": {},
   "outputs": [
    {
     "name": "stdout",
     "output_type": "stream",
     "text": [
      "              precision    recall  f1-score   support\n",
      "\n",
      "           0       0.83      0.95      0.89       464\n",
      "           1       0.64      0.30      0.41       129\n",
      "\n",
      "    accuracy                           0.81       593\n",
      "   macro avg       0.74      0.63      0.65       593\n",
      "weighted avg       0.79      0.81      0.78       593\n",
      "\n"
     ]
    }
   ],
   "source": [
    "print(classification_report(y_test, y_pred_test))"
   ]
  },
  {
   "cell_type": "markdown",
   "id": "4c22b481",
   "metadata": {},
   "source": [
    "I still got a pretty good accuracy with 81% and its also a good fit because the difference is not too big between train result and test result. The precision and recall of class 1 is bad, this could be a problem if this models is used to detect which customer will default to pay. In other words, this model predict True Positive better than True negative. "
   ]
  },
  {
   "cell_type": "code",
   "execution_count": 34,
   "id": "3b873869",
   "metadata": {},
   "outputs": [
    {
     "data": {
      "text/plain": [
       "0.6274558941459503"
      ]
     },
     "execution_count": 34,
     "metadata": {},
     "output_type": "execute_result"
    }
   ],
   "source": [
    "roc_auc_score(y_test, y_pred_test)"
   ]
  },
  {
   "cell_type": "code",
   "execution_count": 35,
   "id": "1d988621",
   "metadata": {},
   "outputs": [
    {
     "name": "stdout",
     "output_type": "stream",
     "text": [
      "No Skill: ROC AUC=0.500\n",
      "Logistic: ROC AUC=0.678\n"
     ]
    },
    {
     "data": {
      "image/png": "[encoded data removed]",
      "text/plain": [
       "<Figure size 432x288 with 1 Axes>"
      ]
     },
     "metadata": {
      "needs_background": "light"
     },
     "output_type": "display_data"
    }
   ],
   "source": [
    "from sklearn.metrics import roc_curve\n",
    "ns_probs = [0 for _ in range(len(y_test))]\n",
    "\n",
    "\n",
    "lr_probs = log_reg.predict_proba(X_test_final)\n",
    "lr_probs = lr_probs[:, 1]\n",
    "\n",
    "ns_auc = roc_auc_score(y_test, ns_probs)\n",
    "lr_auc = roc_auc_score(y_test, lr_probs)\n",
    "# summarize scores\n",
    "print('No Skill: ROC AUC=%.3f' % (ns_auc))\n",
    "print('Logistic: ROC AUC=%.3f' % (lr_auc))\n",
    "# calculate roc curves\n",
    "ns_fpr, ns_tpr, _ = roc_curve(y_test, ns_probs)\n",
    "lr_fpr, lr_tpr, _ = roc_curve(y_test, lr_probs)\n",
    "# plot the roc curve for the model\n",
    "plt.plot(ns_fpr, ns_tpr, linestyle='--', label='No Skill')\n",
    "plt.plot(lr_fpr, lr_tpr, marker='.', label='Logistic')\n",
    "\n",
    "# axis labels\n",
    "plt.xlabel('False Positive Rate')\n",
    "plt.ylabel('True Positive Rate')\n",
    "# show the legend\n",
    "plt.legend()\n",
    "# show the plot\n",
    "plt.show()"
   ]
  },
  {
   "cell_type": "markdown",
   "id": "074c5970",
   "metadata": {},
   "source": [
    "This is the Score of AUC before there are any hyperparameter tuning, AUC score of 1 means perfect model and 0 being bad, the auc score of 0.62 is still not a good score because its still below 0.7 . This model is far from being a perfect model, although the accuracy score is good, but this graph has shown that this model still have a lot of mistake and far from being 1. the graph of 1 is the perfect classifier and with even with no model and just guessing the probability of getting right is 50% but with this logistic model the probability is 0.678. there are still more rooms for improvement for this model."
   ]
  },
  {
   "cell_type": "code",
   "execution_count": 36,
   "id": "c00b292b",
   "metadata": {},
   "outputs": [
    {
     "data": {
      "image/png": "[encoded data removed]",
      "text/plain": [
       "<Figure size 432x288 with 2 Axes>"
      ]
     },
     "metadata": {
      "needs_background": "light"
     },
     "output_type": "display_data"
    }
   ],
   "source": [
    "cm = confusion_matrix(y_train, y_pred_train, labels=log_reg.classes_)\n",
    "disp = ConfusionMatrixDisplay(confusion_matrix=cm,display_labels=log_reg.classes_)\n",
    "\n",
    "disp.plot()\n",
    "plt.show()"
   ]
  },
  {
   "cell_type": "markdown",
   "id": "23a51a51",
   "metadata": {},
   "source": [
    "This is the confusion matrix for the training data, the training data is highly imbalanced because the true label of training class 1 is only 323 and class 0 of 1808 so ofcourse the Machine learns to classify category 0 better than 1, the result is biased and the roc score is not good"
   ]
  },
  {
   "cell_type": "markdown",
   "id": "0179e92f",
   "metadata": {},
   "source": [
    "## Gridsearch "
   ]
  },
  {
   "cell_type": "code",
   "execution_count": 37,
   "id": "28c24a8b",
   "metadata": {},
   "outputs": [],
   "source": [
    "## Make a Parameter Grid for Grid Search\n",
    "param_grid = [    \n",
    "    {'penalty' : ['l1', 'l2', 'elasticnet', 'none'],\n",
    "    'C' : (0.001, 0.01, 0.1, 1, 10 , 100, 1000),\n",
    "    'solver' : ['lbfgs','newton-cg','liblinear','sag','saga','none'],\n",
    "    'max_iter' : [100, 1000,2500, 5000]\n",
    "    }\n",
    "]\n"
   ]
  },
  {
   "cell_type": "markdown",
   "id": "792358cf",
   "metadata": {},
   "source": [
    "1. C is for reducing the variance of the model\n",
    "2. Solver figures out what the coefficient should be used in model\n",
    "3. max_iter is for how many object passed in one iteration\n",
    "4. Penalty is for regularization method"
   ]
  },
  {
   "cell_type": "code",
   "execution_count": 38,
   "id": "188a788c",
   "metadata": {},
   "outputs": [],
   "source": [
    "## Preparing the Gridsearch and inputting the model, param_grid \n",
    "classifier = GridSearchCV(log_reg, param_grid = param_grid,cv = 5, verbose=True, n_jobs=-1)\n",
    "# n_jobs -1 for parallel computation to shorten the loading time\n",
    "# cv is for crossvalue fits\n",
    "# param_grid is for parameter used\n",
    "# log_reg is the model used which is logistic regression"
   ]
  },
  {
   "cell_type": "code",
   "execution_count": 39,
   "id": "3c49f7ff",
   "metadata": {
    "scrolled": true
   },
   "outputs": [
    {
     "name": "stdout",
     "output_type": "stream",
     "text": [
      "Fitting 5 folds for each of 672 candidates, totalling 3360 fits\n"
     ]
    }
   ],
   "source": [
    "# Fitting the classifier to train data and find the best parameter for this data\n",
    "best_classifier = classifier.fit(X_train_final,y_train)"
   ]
  },
  {
   "cell_type": "code",
   "execution_count": 40,
   "id": "e0a2b03a",
   "metadata": {},
   "outputs": [
    {
     "data": {
      "text/html": [
       "<style>#sk-container-id-1 {color: black;background-color: white;}#sk-container-id-1 pre{padding: 0;}#sk-container-id-1 div.sk-toggleable {background-color: white;}#sk-container-id-1 label.sk-toggleable__label {cursor: pointer;display: block;width: 100%;margin-bottom: 0;padding: 0.3em;box-sizing: border-box;text-align: center;}#sk-container-id-1 label.sk-toggleable__label-arrow:before {content: \"▸\";float: left;margin-right: 0.25em;color: #696969;}#sk-container-id-1 label.sk-toggleable__label-arrow:hover:before {color: black;}#sk-container-id-1 div.sk-estimator:hover label.sk-toggleable__label-arrow:before {color: black;}#sk-container-id-1 div.sk-toggleable__content {max-height: 0;max-width: 0;overflow: hidden;text-align: left;background-color: #f0f8ff;}#sk-container-id-1 div.sk-toggleable__content pre {margin: 0.2em;color: black;border-radius: 0.25em;background-color: #f0f8ff;}#sk-container-id-1 input.sk-toggleable__control:checked~div.sk-toggleable__content {max-height: 200px;max-width: 100%;overflow: auto;}#sk-container-id-1 input.sk-toggleable__control:checked~label.sk-toggleable__label-arrow:before {content: \"▾\";}#sk-container-id-1 div.sk-estimator input.sk-toggleable__control:checked~label.sk-toggleable__label {background-color: #d4ebff;}#sk-container-id-1 div.sk-label input.sk-toggleable__control:checked~label.sk-toggleable__label {background-color: #d4ebff;}#sk-container-id-1 input.sk-hidden--visually {border: 0;clip: rect(1px 1px 1px 1px);clip: rect(1px, 1px, 1px, 1px);height: 1px;margin: -1px;overflow: hidden;padding: 0;position: absolute;width: 1px;}#sk-container-id-1 div.sk-estimator {font-family: monospace;background-color: #f0f8ff;border: 1px dotted black;border-radius: 0.25em;box-sizing: border-box;margin-bottom: 0.5em;}#sk-container-id-1 div.sk-estimator:hover {background-color: #d4ebff;}#sk-container-id-1 div.sk-parallel-item::after {content: \"\";width: 100%;border-bottom: 1px solid gray;flex-grow: 1;}#sk-container-id-1 div.sk-label:hover label.sk-toggleable__label {background-color: #d4ebff;}#sk-container-id-1 div.sk-serial::before {content: \"\";position: absolute;border-left: 1px solid gray;box-sizing: border-box;top: 0;bottom: 0;left: 50%;z-index: 0;}#sk-container-id-1 div.sk-serial {display: flex;flex-direction: column;align-items: center;background-color: white;padding-right: 0.2em;padding-left: 0.2em;position: relative;}#sk-container-id-1 div.sk-item {position: relative;z-index: 1;}#sk-container-id-1 div.sk-parallel {display: flex;align-items: stretch;justify-content: center;background-color: white;position: relative;}#sk-container-id-1 div.sk-item::before, #sk-container-id-1 div.sk-parallel-item::before {content: \"\";position: absolute;border-left: 1px solid gray;box-sizing: border-box;top: 0;bottom: 0;left: 50%;z-index: -1;}#sk-container-id-1 div.sk-parallel-item {display: flex;flex-direction: column;z-index: 1;position: relative;background-color: white;}#sk-container-id-1 div.sk-parallel-item:first-child::after {align-self: flex-end;width: 50%;}#sk-container-id-1 div.sk-parallel-item:last-child::after {align-self: flex-start;width: 50%;}#sk-container-id-1 div.sk-parallel-item:only-child::after {width: 0;}#sk-container-id-1 div.sk-dashed-wrapped {border: 1px dashed gray;margin: 0 0.4em 0.5em 0.4em;box-sizing: border-box;padding-bottom: 0.4em;background-color: white;}#sk-container-id-1 div.sk-label label {font-family: monospace;font-weight: bold;display: inline-block;line-height: 1.2em;}#sk-container-id-1 div.sk-label-container {text-align: center;}#sk-container-id-1 div.sk-container {/* jupyter's `normalize.less` sets `[hidden] { display: none; }` but bootstrap.min.css set `[hidden] { display: none !important; }` so we also need the `!important` here to be able to override the default hidden behavior on the sphinx rendered scikit-learn.org. See: https://github.com/scikit-learn/scikit-learn/issues/21755 */display: inline-block !important;position: relative;}#sk-container-id-1 div.sk-text-repr-fallback {display: none;}</style><div id=\"sk-container-id-1\" class=\"sk-top-container\"><div class=\"sk-text-repr-fallback\"><pre>LogisticRegression(C=0.001, max_iter=1000, penalty=&#x27;none&#x27;, solver=&#x27;sag&#x27;)</pre><b>In a Jupyter environment, please rerun this cell to show the HTML representation or trust the notebook. <br />On GitHub, the HTML representation is unable to render, please try loading this page with nbviewer.org.</b></div><div class=\"sk-container\" hidden><div class=\"sk-item\"><div class=\"sk-estimator sk-toggleable\"><input class=\"sk-toggleable__control sk-hidden--visually\" id=\"sk-estimator-id-1\" type=\"checkbox\" checked><label for=\"sk-estimator-id-1\" class=\"sk-toggleable__label sk-toggleable__label-arrow\">LogisticRegression</label><div class=\"sk-toggleable__content\"><pre>LogisticRegression(C=0.001, max_iter=1000, penalty=&#x27;none&#x27;, solver=&#x27;sag&#x27;)</pre></div></div></div></div></div>"
      ],
      "text/plain": [
       "LogisticRegression(C=0.001, max_iter=1000, penalty='none', solver='sag')"
      ]
     },
     "execution_count": 40,
     "metadata": {},
     "output_type": "execute_result"
    }
   ],
   "source": [
    "# See the best estimator\n",
    "best_classifier.best_estimator_"
   ]
  },
  {
   "cell_type": "code",
   "execution_count": 41,
   "id": "9b769e8e",
   "metadata": {},
   "outputs": [
    {
     "name": "stdout",
     "output_type": "stream",
     "text": [
      "Accuracy - : 0.839\n"
     ]
    }
   ],
   "source": [
    "# Checking the accuracy of tuned model\n",
    "print (f'Accuracy - : {best_classifier.score(X_train_final,y_train):.3f}')"
   ]
  },
  {
   "cell_type": "code",
   "execution_count": 42,
   "id": "6cb0c85a",
   "metadata": {},
   "outputs": [],
   "source": [
    "## Make the model based on best parameters according to gridsearch\n",
    "log_reg_tuned = LogisticRegression(C=0.001, max_iter=1000, penalty='none', solver='sag')\n",
    "log_reg_tuned.fit (X_train_final, y_train)\n",
    "\n",
    "y_pred_test_tune = log_reg_tuned.predict(X_test_final)\n",
    "y_pred_train_tune =  log_reg_tuned.predict(X_train_final)"
   ]
  },
  {
   "cell_type": "code",
   "execution_count": 43,
   "id": "7d50966e",
   "metadata": {},
   "outputs": [
    {
     "data": {
      "text/plain": [
       "0.6274558941459503"
      ]
     },
     "execution_count": 43,
     "metadata": {},
     "output_type": "execute_result"
    }
   ],
   "source": [
    "# Checking auc score from the tuned model\n",
    "roc_auc_score(y_test, y_pred_test_tune)"
   ]
  },
  {
   "cell_type": "markdown",
   "id": "798344ce",
   "metadata": {},
   "source": [
    "## Insight\n",
    "\n",
    "1. After Tuning the result of accuracy remains the same as before tuning, this may be the result because of our model which is logistic regression and the type of feature that I choose\n",
    "2. My feature is amount paid and the status of payment which is unrelated to each other and that could possibly the caused of unchanged accuracy\n",
    "3. The unchanged score of auc and accuracy maybe means that the default logistic regression is already the best parameters or the feature have linear correlation with target so it doesn't change anything after tuning"
   ]
  },
  {
   "cell_type": "markdown",
   "id": "e4745838",
   "metadata": {},
   "source": [
    "# Conclusion\n",
    "\n",
    "1. Married person are more likely to have higher limit balance\n",
    "2. Some people borrow too much money and be the outliers of the data, it is shown through the pay amount\n",
    "3. Average people who borrow money is a well educated person\n",
    "4. Data collection is still bad because there are some category left undescribed in this dataset\n",
    "5. The Logistic Regression model in this analysis has no difference after grid search hyper parameter tuning in result\n",
    "6. Target data is imbalanced resulting in poor prediction\n",
    "7. There are still more room for improvements for the machine learning model"
   ]
  },
  {
   "cell_type": "markdown",
   "id": "582cd62b",
   "metadata": {},
   "source": [
    "# Conceptual Problems"
   ]
  },
  {
   "cell_type": "markdown",
   "id": "c3746074",
   "metadata": {},
   "source": [
    "1. What is the function of the criteria parameter in the Decision Tree? explain one of the criteria that you understand!\n",
    "2. What is the function of pruning in the Tree model?\n",
    "3. How to choose the optimal K on KNN?\n",
    "4. Explain what you know about Cross Validation!\n",
    "5. Explain what you know about Accuracy, Precision, Recall, F1 Score"
   ]
  },
  {
   "cell_type": "markdown",
   "id": "c3d7551f",
   "metadata": {},
   "source": [
    "## Answers"
   ]
  },
  {
   "cell_type": "markdown",
   "id": "35d8822c",
   "metadata": {},
   "source": [
    "1. Criterion parameter in Decision Tree is a parameter which let you choose on how to calculate the inheritance rule, one of the critera I understand is gini. gini in criteria parameter calculate the root node and the inheritance based on the gini impurity, the root node must be a feature which have the lowest gini impurity."
   ]
  },
  {
   "cell_type": "markdown",
   "id": "e650d0a6",
   "metadata": {},
   "source": [
    "2. Decision Tree tends to overfit the training data and when the test data comes in, the result accuracy is not very good because machine learning only trains to the training data. Tree pruning is a way to prevent the overfitting of data by cutting a branch in a decision tree. Tree pruning could be done by calculating the SSR of each leaf and calculating the total tree score with SSR * tree complexity penalty. the tree complexity penalty is from cross validation times number of leaves"
   ]
  },
  {
   "cell_type": "markdown",
   "id": "b54cb326",
   "metadata": {},
   "source": [
    "3. Simple, to choose the optimal number of K or n neighbors is by trial and error with Gridsearch cross validation and choose the best result and hyperparameters"
   ]
  },
  {
   "cell_type": "markdown",
   "id": "ad8bddbc",
   "metadata": {},
   "source": [
    "4. Cross validation is a solution to the problem in choosing the best model by restructuring which part of the data is the train and which part is the test data and check the accuracy of each different fold by how many times this process loops."
   ]
  },
  {
   "cell_type": "markdown",
   "id": "a25229d9",
   "metadata": {},
   "source": [
    "5. Answer\n",
    "- Accuracy : True positive + True Negative divided by total data, this accuracy score means how many of the prediction is the correct prediction or True Positive and True negative\n",
    "- Recall : True Positive divided by True positive + False Negative, Recall is a missed positive prediction\n",
    "- Precision : True Positive divided by True Positive + False Positive, Precision is fraction of positive prediction that are correct\n",
    "- F1 score : Weighted Average of precision and recall, F1 score is equal to harmonic mean of precision and recall\n",
    "\n"
   ]
  }
 ],
 "metadata": {
  "kernelspec": {
   "display_name": "Python 3 (ipykernel)",
   "language": "python",
   "name": "python3"
  },
  "language_info": {
   "codemirror_mode": {
    "name": "ipython",
    "version": 3
   },
   "file_extension": ".py",
   "mimetype": "text/x-python",
   "name": "python",
   "nbconvert_exporter": "python",
   "pygments_lexer": "ipython3",
   "version": "3.10.4"
  }
 },
 "nbformat": 4,
 "nbformat_minor": 5
}
