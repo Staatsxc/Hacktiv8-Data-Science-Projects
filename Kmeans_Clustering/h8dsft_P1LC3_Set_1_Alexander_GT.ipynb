{
 "cells": [
  {
   "cell_type": "markdown",
   "id": "82dfb36e",
   "metadata": {},
   "source": [
    "# Phase 1 : Live-code 3  "
   ]
  },
  {
   "cell_type": "markdown",
   "id": "5aebb9e1",
   "metadata": {},
   "source": [
    "### Name : Alexander G.T\n",
    "### Class : FTDS - 014"
   ]
  },
  {
   "cell_type": "markdown",
   "id": "9600d354",
   "metadata": {},
   "source": [
    "## Objective\n",
    "\n",
    "Make an unsupervised machine learning from life expectancy dataset"
   ]
  },
  {
   "cell_type": "markdown",
   "id": "5c0fd04b",
   "metadata": {},
   "source": [
    "##  Import Libraries"
   ]
  },
  {
   "cell_type": "code",
   "execution_count": 1,
   "id": "7f7f0adc",
   "metadata": {},
   "outputs": [],
   "source": [
    "import pandas as pd\n",
    "import numpy as np\n",
    "import seaborn as sns\n",
    "import chardet\n",
    "import matplotlib.pyplot as plt\n",
    "from sklearn.decomposition import PCA\n",
    "from sklearn.preprocessing import MinMaxScaler\n",
    "from sklearn.cluster import KMeans\n",
    "from sklearn.metrics import silhouette_score\n",
    "from sklearn.metrics import silhouette_samples\n",
    "from matplotlib.ticker import FixedLocator, FixedFormatter\n",
    "import matplotlib as mpl"
   ]
  },
  {
   "cell_type": "markdown",
   "id": "bfcbe99c",
   "metadata": {},
   "source": [
    "## Load Dataset "
   ]
  },
  {
   "cell_type": "code",
   "execution_count": 2,
   "id": "5f9afe83",
   "metadata": {},
   "outputs": [],
   "source": [
    "# define the data\n",
    "file = 'Life_expectancy_dataset.csv'"
   ]
  },
  {
   "cell_type": "code",
   "execution_count": 3,
   "id": "89dac911",
   "metadata": {},
   "outputs": [
    {
     "data": {
      "text/plain": [
       "{'encoding': 'ISO-8859-1', 'confidence': 0.73, 'language': ''}"
      ]
     },
     "execution_count": 3,
     "metadata": {},
     "output_type": "execute_result"
    }
   ],
   "source": [
    "# reading the dataset\n",
    "with open(file, 'rb') as rawdata:\n",
    "    result = chardet.detect(rawdata.read(100000))\n",
    "result"
   ]
  },
  {
   "cell_type": "markdown",
   "id": "70e4d8fc",
   "metadata": {},
   "source": [
    "Note: already done data cleaning in excel "
   ]
  },
  {
   "cell_type": "code",
   "execution_count": 4,
   "id": "4bad9f98",
   "metadata": {},
   "outputs": [
    {
     "data": {
      "text/html": [
       "<div>\n",
       "<style scoped>\n",
       "    .dataframe tbody tr th:only-of-type {\n",
       "        vertical-align: middle;\n",
       "    }\n",
       "\n",
       "    .dataframe tbody tr th {\n",
       "        vertical-align: top;\n",
       "    }\n",
       "\n",
       "    .dataframe thead th {\n",
       "        text-align: right;\n",
       "    }\n",
       "</style>\n",
       "<table border=\"1\" class=\"dataframe\">\n",
       "  <thead>\n",
       "    <tr style=\"text-align: right;\">\n",
       "      <th></th>\n",
       "      <th>Rank</th>\n",
       "      <th>Country</th>\n",
       "      <th>Overall Life</th>\n",
       "      <th>Male Life</th>\n",
       "      <th>Female Life</th>\n",
       "      <th>Continent</th>\n",
       "    </tr>\n",
       "  </thead>\n",
       "  <tbody>\n",
       "    <tr>\n",
       "      <th>0</th>\n",
       "      <td>1</td>\n",
       "      <td>Monaco</td>\n",
       "      <td>89.5</td>\n",
       "      <td>85.6</td>\n",
       "      <td>93.5</td>\n",
       "      <td>Europe</td>\n",
       "    </tr>\n",
       "    <tr>\n",
       "      <th>1</th>\n",
       "      <td>2</td>\n",
       "      <td>Japan</td>\n",
       "      <td>85.0</td>\n",
       "      <td>81.7</td>\n",
       "      <td>88.5</td>\n",
       "      <td>Asia</td>\n",
       "    </tr>\n",
       "    <tr>\n",
       "      <th>2</th>\n",
       "      <td>3</td>\n",
       "      <td>Singapore</td>\n",
       "      <td>85.0</td>\n",
       "      <td>82.3</td>\n",
       "      <td>87.8</td>\n",
       "      <td>Asia</td>\n",
       "    </tr>\n",
       "    <tr>\n",
       "      <th>3</th>\n",
       "      <td>4</td>\n",
       "      <td>China</td>\n",
       "      <td>84.5</td>\n",
       "      <td>81.6</td>\n",
       "      <td>87.6</td>\n",
       "      <td>Asia</td>\n",
       "    </tr>\n",
       "    <tr>\n",
       "      <th>4</th>\n",
       "      <td>5</td>\n",
       "      <td>San Marino</td>\n",
       "      <td>83.3</td>\n",
       "      <td>80.7</td>\n",
       "      <td>86.1</td>\n",
       "      <td>Europe</td>\n",
       "    </tr>\n",
       "    <tr>\n",
       "      <th>...</th>\n",
       "      <td>...</td>\n",
       "      <td>...</td>\n",
       "      <td>...</td>\n",
       "      <td>...</td>\n",
       "      <td>...</td>\n",
       "      <td>...</td>\n",
       "    </tr>\n",
       "    <tr>\n",
       "      <th>218</th>\n",
       "      <td>219</td>\n",
       "      <td>Gabon</td>\n",
       "      <td>52.1</td>\n",
       "      <td>51.6</td>\n",
       "      <td>52.5</td>\n",
       "      <td>Africa</td>\n",
       "    </tr>\n",
       "    <tr>\n",
       "      <th>219</th>\n",
       "      <td>220</td>\n",
       "      <td>Swaziland</td>\n",
       "      <td>51.6</td>\n",
       "      <td>52.2</td>\n",
       "      <td>51.0</td>\n",
       "      <td>Africa</td>\n",
       "    </tr>\n",
       "    <tr>\n",
       "      <th>220</th>\n",
       "      <td>221</td>\n",
       "      <td>Afghanistan</td>\n",
       "      <td>51.3</td>\n",
       "      <td>49.9</td>\n",
       "      <td>52.7</td>\n",
       "      <td>Asia</td>\n",
       "    </tr>\n",
       "    <tr>\n",
       "      <th>221</th>\n",
       "      <td>222</td>\n",
       "      <td>Guinea-Bissau</td>\n",
       "      <td>50.6</td>\n",
       "      <td>48.6</td>\n",
       "      <td>52.7</td>\n",
       "      <td>Africa</td>\n",
       "    </tr>\n",
       "    <tr>\n",
       "      <th>222</th>\n",
       "      <td>223</td>\n",
       "      <td>Chad</td>\n",
       "      <td>50.2</td>\n",
       "      <td>49.0</td>\n",
       "      <td>51.3</td>\n",
       "      <td>Africa</td>\n",
       "    </tr>\n",
       "  </tbody>\n",
       "</table>\n",
       "<p>223 rows × 6 columns</p>\n",
       "</div>"
      ],
      "text/plain": [
       "     Rank        Country  Overall Life  Male Life  Female Life Continent\n",
       "0       1         Monaco          89.5       85.6         93.5    Europe\n",
       "1       2          Japan          85.0       81.7         88.5      Asia\n",
       "2       3      Singapore          85.0       82.3         87.8      Asia\n",
       "3       4          China          84.5       81.6         87.6      Asia\n",
       "4       5     San Marino          83.3       80.7         86.1    Europe\n",
       "..    ...            ...           ...        ...          ...       ...\n",
       "218   219          Gabon          52.1       51.6         52.5    Africa\n",
       "219   220      Swaziland          51.6       52.2         51.0    Africa\n",
       "220   221    Afghanistan          51.3       49.9         52.7      Asia\n",
       "221   222  Guinea-Bissau          50.6       48.6         52.7    Africa\n",
       "222   223           Chad          50.2       49.0         51.3    Africa\n",
       "\n",
       "[223 rows x 6 columns]"
      ]
     },
     "execution_count": 4,
     "metadata": {},
     "output_type": "execute_result"
    }
   ],
   "source": [
    "df = pd.read_csv(file,encoding='ISO-8859-1')\n",
    "df"
   ]
  },
  {
   "cell_type": "code",
   "execution_count": 5,
   "id": "06e1adc3",
   "metadata": {},
   "outputs": [],
   "source": [
    "# Renaming the columns\n",
    "dict = {'Rank': 'Rank',\n",
    "        'Country': 'Country',\n",
    "        'Overall Life': 'Overall_life',\n",
    "        'Male Life': 'Male_life',\n",
    "        'Female Life': 'Female_life'}\n",
    "\n",
    "df.rename(columns=dict,\n",
    "          inplace=True)"
   ]
  },
  {
   "cell_type": "markdown",
   "id": "fa227e1d",
   "metadata": {},
   "source": [
    "## Insight\n",
    "1. Monaco is the best country in terms of life expectancy\n",
    "2. from the top five country with highest life expectancy, 3 of them are asian countries\n",
    "3. surprisingly the female life expectancy in monaco is over 90 years old"
   ]
  },
  {
   "cell_type": "markdown",
   "id": "cf81ebb6",
   "metadata": {},
   "source": [
    "## EDA"
   ]
  },
  {
   "cell_type": "code",
   "execution_count": 6,
   "id": "014c8ca4",
   "metadata": {},
   "outputs": [
    {
     "data": {
      "text/html": [
       "<div>\n",
       "<style scoped>\n",
       "    .dataframe tbody tr th:only-of-type {\n",
       "        vertical-align: middle;\n",
       "    }\n",
       "\n",
       "    .dataframe tbody tr th {\n",
       "        vertical-align: top;\n",
       "    }\n",
       "\n",
       "    .dataframe thead th {\n",
       "        text-align: right;\n",
       "    }\n",
       "</style>\n",
       "<table border=\"1\" class=\"dataframe\">\n",
       "  <thead>\n",
       "    <tr style=\"text-align: right;\">\n",
       "      <th></th>\n",
       "      <th>Continent</th>\n",
       "      <th>Rank</th>\n",
       "      <th>Overall_life</th>\n",
       "      <th>Male_life</th>\n",
       "      <th>Female_life</th>\n",
       "    </tr>\n",
       "  </thead>\n",
       "  <tbody>\n",
       "    <tr>\n",
       "      <th>0</th>\n",
       "      <td>Europe</td>\n",
       "      <td>56.313725</td>\n",
       "      <td>79.019608</td>\n",
       "      <td>76.003922</td>\n",
       "      <td>82.237255</td>\n",
       "    </tr>\n",
       "    <tr>\n",
       "      <th>1</th>\n",
       "      <td>North America</td>\n",
       "      <td>87.147059</td>\n",
       "      <td>76.273529</td>\n",
       "      <td>73.914706</td>\n",
       "      <td>78.738235</td>\n",
       "    </tr>\n",
       "    <tr>\n",
       "      <th>2</th>\n",
       "      <td>South America</td>\n",
       "      <td>100.857143</td>\n",
       "      <td>75.042857</td>\n",
       "      <td>72.157143</td>\n",
       "      <td>77.992857</td>\n",
       "    </tr>\n",
       "    <tr>\n",
       "      <th>3</th>\n",
       "      <td>Oceania</td>\n",
       "      <td>108.400000</td>\n",
       "      <td>74.230000</td>\n",
       "      <td>71.625000</td>\n",
       "      <td>76.915000</td>\n",
       "    </tr>\n",
       "    <tr>\n",
       "      <th>4</th>\n",
       "      <td>Asia</td>\n",
       "      <td>112.836735</td>\n",
       "      <td>73.618367</td>\n",
       "      <td>71.046939</td>\n",
       "      <td>76.138776</td>\n",
       "    </tr>\n",
       "    <tr>\n",
       "      <th>5</th>\n",
       "      <td>Africa</td>\n",
       "      <td>182.400000</td>\n",
       "      <td>61.800000</td>\n",
       "      <td>60.109091</td>\n",
       "      <td>63.583636</td>\n",
       "    </tr>\n",
       "  </tbody>\n",
       "</table>\n",
       "</div>"
      ],
      "text/plain": [
       "       Continent        Rank  Overall_life  Male_life  Female_life\n",
       "0         Europe   56.313725     79.019608  76.003922    82.237255\n",
       "1  North America   87.147059     76.273529  73.914706    78.738235\n",
       "2  South America  100.857143     75.042857  72.157143    77.992857\n",
       "3        Oceania  108.400000     74.230000  71.625000    76.915000\n",
       "4           Asia  112.836735     73.618367  71.046939    76.138776\n",
       "5         Africa  182.400000     61.800000  60.109091    63.583636"
      ]
     },
     "execution_count": 6,
     "metadata": {},
     "output_type": "execute_result"
    }
   ],
   "source": [
    "continent = df.groupby(by = 'Continent').mean().sort_values(by = 'Overall_life', ascending = False)\n",
    "continent = continent.reset_index()\n",
    "continent"
   ]
  },
  {
   "cell_type": "code",
   "execution_count": 7,
   "id": "afd69e1b",
   "metadata": {},
   "outputs": [
    {
     "data": {
      "text/plain": [
       "<AxesSubplot:xlabel='Continent', ylabel='Overall_life'>"
      ]
     },
     "execution_count": 7,
     "metadata": {},
     "output_type": "execute_result"
    },
    {
     "data": {
      "image/png": "[encoded data removed]",
      "text/plain": [
       "<Figure size 576x216 with 1 Axes>"
      ]
     },
     "metadata": {
      "needs_background": "light"
     },
     "output_type": "display_data"
    }
   ],
   "source": [
    "# making the plot of continent data to visualize better\n",
    "fig, ax = plt.subplots(figsize=(8,3))\n",
    "sns.barplot(data = continent, ax = ax, x = 'Continent', y = 'Overall_life')"
   ]
  },
  {
   "cell_type": "markdown",
   "id": "c0d7764d",
   "metadata": {},
   "source": [
    "## Insight\n",
    "\n",
    "1. Europe has the highest overall life expectancy\n",
    "2. Male life and female life expectancy is also highest in Europe\n",
    "3. Africa is the worst country in terms of overall life expectancy just below Asia"
   ]
  },
  {
   "cell_type": "code",
   "execution_count": 8,
   "id": "58accb1e",
   "metadata": {},
   "outputs": [],
   "source": [
    "# Function for distribution\n",
    "def plot_dist(df, col):\n",
    "    fig, axes = plt.subplots(ncols = 2, figsize = (15, 5))\n",
    "    \n",
    "    # histogram\n",
    "    sns.histplot(df[col],ax = axes[0], kde=True,line_kws={'linewidth': 3},color = 'k', bins = 9)\n",
    "    axes[0].set_title(f\"Histogram '{col}'\")\n",
    "    axes[0].axvline(df[col].mean(), color = 'red', linestyle = 'dashed', label = 'mean')\n",
    "    axes[0].axvline(df[col].median(), color = 'green', linestyle = 'dashed', label = 'median')\n",
    "    axes[0].legend()\n",
    "    \n",
    "    # boxplot\n",
    "    sns.boxplot(y=df[col], ax =  axes[1])\n",
    "    axes[1].set_title(f\"Boxplot '{col}'\")\n",
    "    \n",
    "    plt.show()\n",
    "    \n",
    "    # skewness\n",
    "    print(df[col].name + ' Kurtosis: ' + str(df[col].kurt()))\n",
    "    print(df[col].name + ' Skewness: ' + str(df[col].skew()))\n",
    "    if -0.5 <= df[col].skew() <= 0.5:\n",
    "        print(\"Columns '{}' normal distribution\".format(col))\n",
    "    elif df[col].skew() > 0.5:\n",
    "        print(\"Columns '{}' right skewed\".format(col))\n",
    "    elif df[col].skew() < -0.5:\n",
    "        print(\"Columns '{}' left skewed\".format(col))"
   ]
  },
  {
   "cell_type": "code",
   "execution_count": 9,
   "id": "478066f9",
   "metadata": {},
   "outputs": [
    {
     "data": {
      "image/png": "[encoded data removed]",
      "text/plain": [
       "<Figure size 1080x360 with 2 Axes>"
      ]
     },
     "metadata": {
      "needs_background": "light"
     },
     "output_type": "display_data"
    },
    {
     "name": "stdout",
     "output_type": "stream",
     "text": [
      "Overall_life Kurtosis: 0.052367767145502064\n",
      "Overall_life Skewness: -0.896327516670228\n",
      "Columns 'Overall_life' left skewed\n"
     ]
    }
   ],
   "source": [
    "plot_dist(df, 'Overall_life')"
   ]
  },
  {
   "cell_type": "markdown",
   "id": "5db309e2",
   "metadata": {},
   "source": [
    "## Insight\n",
    "1. Most country have the life expectancy of 70 - 75\n",
    "2. there are countries with life expectancy more than 85 years old\n",
    "3. The data have a little outliers for the bottom tail meaning there is a country with very low life expectancy"
   ]
  },
  {
   "cell_type": "code",
   "execution_count": 10,
   "id": "e55f9af1",
   "metadata": {},
   "outputs": [
    {
     "data": {
      "text/plain": [
       "70.04170403587445"
      ]
     },
     "execution_count": 10,
     "metadata": {},
     "output_type": "execute_result"
    }
   ],
   "source": [
    "df.Male_life.mean()"
   ]
  },
  {
   "cell_type": "code",
   "execution_count": 11,
   "id": "f1903bcc",
   "metadata": {},
   "outputs": [
    {
     "data": {
      "text/plain": [
       "75.01928251121076"
      ]
     },
     "execution_count": 11,
     "metadata": {},
     "output_type": "execute_result"
    }
   ],
   "source": [
    "df.Female_life.mean()"
   ]
  },
  {
   "cell_type": "markdown",
   "id": "9fe8ffd4",
   "metadata": {},
   "source": [
    "On average, female live longer than man in various country"
   ]
  },
  {
   "cell_type": "markdown",
   "id": "30b58c53",
   "metadata": {},
   "source": [
    "# Data Pre-processing"
   ]
  },
  {
   "cell_type": "markdown",
   "id": "10530bb8",
   "metadata": {},
   "source": [
    "## Feature Engineering - Selection"
   ]
  },
  {
   "cell_type": "markdown",
   "id": "c3d6f0dd",
   "metadata": {},
   "source": [
    "Choosing numeric data to be clustered, Kmeans and other clustering algorithm cannot cluster categorical data such as country, because calculating the euclidean distance to the categorical data is pointless"
   ]
  },
  {
   "cell_type": "code",
   "execution_count": 12,
   "id": "7d8475b5",
   "metadata": {},
   "outputs": [],
   "source": [
    "X = df[['Overall_life','Male_life','Female_life']]"
   ]
  },
  {
   "cell_type": "code",
   "execution_count": 13,
   "id": "05505c06",
   "metadata": {},
   "outputs": [
    {
     "data": {
      "text/plain": [
       "Overall_life    0\n",
       "Male_life       0\n",
       "Female_life     0\n",
       "dtype: int64"
      ]
     },
     "execution_count": 13,
     "metadata": {},
     "output_type": "execute_result"
    }
   ],
   "source": [
    "# Checking for missing values\n",
    "X.isnull().sum()"
   ]
  },
  {
   "cell_type": "markdown",
   "id": "4b38eb04",
   "metadata": {},
   "source": [
    "## Feature Engineering - Scaling "
   ]
  },
  {
   "cell_type": "code",
   "execution_count": 14,
   "id": "f9fac785",
   "metadata": {},
   "outputs": [
    {
     "data": {
      "text/plain": [
       "<seaborn.axisgrid.PairGrid at 0x1d78d444d60>"
      ]
     },
     "execution_count": 14,
     "metadata": {},
     "output_type": "execute_result"
    },
    {
     "data": {
      "image/png": "[encoded data removed]",
      "text/plain": [
       "<Figure size 540x540 with 12 Axes>"
      ]
     },
     "metadata": {
      "needs_background": "light"
     },
     "output_type": "display_data"
    }
   ],
   "source": [
    "## Check the distribution of data\n",
    "sns.pairplot(X)"
   ]
  },
  {
   "cell_type": "markdown",
   "id": "bdf7dbea",
   "metadata": {},
   "source": [
    "Overall, the data is left skewed but it is not very extreme, the outliers is also present but the outliers is not very far deviating the median, hence I will use MinMax Scaler"
   ]
  },
  {
   "cell_type": "code",
   "execution_count": 15,
   "id": "ee18a64f",
   "metadata": {},
   "outputs": [],
   "source": [
    "# Define the Scaler\n",
    "scaler = MinMaxScaler() #Defining which scaler to use\n",
    "X_scaled = scaler.fit_transform(X) # applying the scaler"
   ]
  },
  {
   "cell_type": "code",
   "execution_count": 16,
   "id": "b6e476d4",
   "metadata": {},
   "outputs": [
    {
     "data": {
      "text/html": [
       "<div>\n",
       "<style scoped>\n",
       "    .dataframe tbody tr th:only-of-type {\n",
       "        vertical-align: middle;\n",
       "    }\n",
       "\n",
       "    .dataframe tbody tr th {\n",
       "        vertical-align: top;\n",
       "    }\n",
       "\n",
       "    .dataframe thead th {\n",
       "        text-align: right;\n",
       "    }\n",
       "</style>\n",
       "<table border=\"1\" class=\"dataframe\">\n",
       "  <thead>\n",
       "    <tr style=\"text-align: right;\">\n",
       "      <th></th>\n",
       "      <th>Overall_life</th>\n",
       "      <th>Male_life</th>\n",
       "      <th>Female_life</th>\n",
       "    </tr>\n",
       "  </thead>\n",
       "  <tbody>\n",
       "    <tr>\n",
       "      <th>0</th>\n",
       "      <td>1.000000</td>\n",
       "      <td>1.000000</td>\n",
       "      <td>1.000000</td>\n",
       "    </tr>\n",
       "    <tr>\n",
       "      <th>1</th>\n",
       "      <td>0.885496</td>\n",
       "      <td>0.894595</td>\n",
       "      <td>0.882353</td>\n",
       "    </tr>\n",
       "    <tr>\n",
       "      <th>2</th>\n",
       "      <td>0.885496</td>\n",
       "      <td>0.910811</td>\n",
       "      <td>0.865882</td>\n",
       "    </tr>\n",
       "    <tr>\n",
       "      <th>3</th>\n",
       "      <td>0.872774</td>\n",
       "      <td>0.891892</td>\n",
       "      <td>0.861176</td>\n",
       "    </tr>\n",
       "    <tr>\n",
       "      <th>4</th>\n",
       "      <td>0.842239</td>\n",
       "      <td>0.867568</td>\n",
       "      <td>0.825882</td>\n",
       "    </tr>\n",
       "    <tr>\n",
       "      <th>...</th>\n",
       "      <td>...</td>\n",
       "      <td>...</td>\n",
       "      <td>...</td>\n",
       "    </tr>\n",
       "    <tr>\n",
       "      <th>218</th>\n",
       "      <td>0.048346</td>\n",
       "      <td>0.081081</td>\n",
       "      <td>0.035294</td>\n",
       "    </tr>\n",
       "    <tr>\n",
       "      <th>219</th>\n",
       "      <td>0.035623</td>\n",
       "      <td>0.097297</td>\n",
       "      <td>0.000000</td>\n",
       "    </tr>\n",
       "    <tr>\n",
       "      <th>220</th>\n",
       "      <td>0.027990</td>\n",
       "      <td>0.035135</td>\n",
       "      <td>0.040000</td>\n",
       "    </tr>\n",
       "    <tr>\n",
       "      <th>221</th>\n",
       "      <td>0.010178</td>\n",
       "      <td>0.000000</td>\n",
       "      <td>0.040000</td>\n",
       "    </tr>\n",
       "    <tr>\n",
       "      <th>222</th>\n",
       "      <td>0.000000</td>\n",
       "      <td>0.010811</td>\n",
       "      <td>0.007059</td>\n",
       "    </tr>\n",
       "  </tbody>\n",
       "</table>\n",
       "<p>223 rows × 3 columns</p>\n",
       "</div>"
      ],
      "text/plain": [
       "     Overall_life  Male_life  Female_life\n",
       "0        1.000000   1.000000     1.000000\n",
       "1        0.885496   0.894595     0.882353\n",
       "2        0.885496   0.910811     0.865882\n",
       "3        0.872774   0.891892     0.861176\n",
       "4        0.842239   0.867568     0.825882\n",
       "..            ...        ...          ...\n",
       "218      0.048346   0.081081     0.035294\n",
       "219      0.035623   0.097297     0.000000\n",
       "220      0.027990   0.035135     0.040000\n",
       "221      0.010178   0.000000     0.040000\n",
       "222      0.000000   0.010811     0.007059\n",
       "\n",
       "[223 rows x 3 columns]"
      ]
     },
     "execution_count": 16,
     "metadata": {},
     "output_type": "execute_result"
    }
   ],
   "source": [
    "# Change the Scaled data into a dataframe\n",
    "X_scaled = pd.DataFrame(X_scaled, columns = ['Overall_life','Male_life','Female_life'])\n",
    "X_scaled"
   ]
  },
  {
   "cell_type": "markdown",
   "id": "87664e7d",
   "metadata": {},
   "source": [
    "## PCA"
   ]
  },
  {
   "cell_type": "code",
   "execution_count": 17,
   "id": "039166d5",
   "metadata": {},
   "outputs": [
    {
     "data": {
      "image/png": "[encoded data removed]",
      "text/plain": [
       "<Figure size 576x360 with 1 Axes>"
      ]
     },
     "metadata": {
      "needs_background": "light"
     },
     "output_type": "display_data"
    }
   ],
   "source": [
    "pca = PCA().fit(X_scaled)\n",
    "\n",
    "fig, ax = plt.subplots(figsize=(8,5))\n",
    "xi = np.arange(1, 4, step=1)\n",
    "y = np.cumsum(pca.explained_variance_ratio_)\n",
    "\n",
    "plt.ylim(0.0,1.1)\n",
    "plt.plot(xi, y, marker='o', linestyle='--', color='b')\n",
    "\n",
    "plt.xlabel('Number of Components')\n",
    "plt.ylabel('Cumulative variance (%)')\n",
    "plt.title('The number of components needed to explain variance')\n",
    "\n",
    "plt.axhline(y=0.95, color='r', linestyle='-')\n",
    "plt.text(0.5, 0.85, '95% cut-off threshold', color = 'red', fontsize=16)\n",
    "\n",
    "ax.grid(axis='x')\n",
    "plt.show()"
   ]
  },
  {
   "cell_type": "markdown",
   "id": "0d34d1fb",
   "metadata": {},
   "source": [
    "There is no need to do dimensionality reduction in this data because the 3 dimension data has already explain more than 95% of the variance"
   ]
  },
  {
   "cell_type": "markdown",
   "id": "568fe2eb",
   "metadata": {},
   "source": [
    "## Kmeans - Find the K"
   ]
  },
  {
   "cell_type": "code",
   "execution_count": 18,
   "id": "ab442bd7",
   "metadata": {},
   "outputs": [
    {
     "data": {
      "image/png": "[encoded data removed]",
      "text/plain": [
       "<Figure size 432x288 with 1 Axes>"
      ]
     },
     "metadata": {
      "needs_background": "light"
     },
     "output_type": "display_data"
    }
   ],
   "source": [
    "# Finding how many cluster is best with elbow method\n",
    "sse = {}\n",
    "for k in range(1, 11):\n",
    "    kmeans = KMeans(n_clusters=k, random_state=42)\n",
    "    kmeans.fit(X_scaled)\n",
    "    sse[k] = kmeans.inertia_ # SSE to closest cluster centroid\n",
    "\n",
    "plt.title('Kmeans with PCA Elbow Method')\n",
    "plt.xlabel('k')\n",
    "plt.ylabel('SSE')\n",
    "sns.pointplot(x=list(sse.keys()), y=list(sse.values()))\n",
    "plt.show()"
   ]
  },
  {
   "cell_type": "markdown",
   "id": "71b2c9b7",
   "metadata": {},
   "source": [
    "Using the elbow method, we can see that the graph has become stabilized after reaching cluster number 2, 3 and 4, there are possibilites in using k cluster of 2 3 4 or beyond, to make our analysis accurate let's do a silhouette method to confirm the number of K cluster"
   ]
  },
  {
   "cell_type": "markdown",
   "id": "52b658eb",
   "metadata": {},
   "source": [
    "## Silhouette Method"
   ]
  },
  {
   "cell_type": "code",
   "execution_count": 19,
   "id": "34da5f66",
   "metadata": {},
   "outputs": [],
   "source": [
    "# Preparing kmeans and silhouette scores to find which k is the best\n",
    "kmeans_per_k = [KMeans(n_clusters=k, random_state=42).fit(X_scaled)\n",
    "                for k in range(1, 10)]\n",
    "\n",
    "silhouette_scores = [silhouette_score(X_scaled, model.labels_)\n",
    "                     for model in kmeans_per_k[1:]]"
   ]
  },
  {
   "cell_type": "code",
   "execution_count": 20,
   "id": "fcad4872",
   "metadata": {},
   "outputs": [
    {
     "data": {
      "image/png": "[encoded data removed]",
      "text/plain": [
       "<Figure size 792x648 with 5 Axes>"
      ]
     },
     "metadata": {
      "needs_background": "light"
     },
     "output_type": "display_data"
    }
   ],
   "source": [
    "# Make a plot of silhouette method\n",
    "plt.figure(figsize=(11, 9))\n",
    "\n",
    "for k in (2, 3, 4, 5, 6):\n",
    "    plt.subplot(3, 2, k)\n",
    "    \n",
    "    y_pred = kmeans_per_k[k - 1].labels_\n",
    "    silhouette_coefficients = silhouette_samples(X_scaled, y_pred)\n",
    "\n",
    "    padding = len(X_scaled) // 30\n",
    "    pos = padding\n",
    "    ticks = []\n",
    "    for i in range(k):\n",
    "        coeffs = silhouette_coefficients[y_pred == i]\n",
    "        coeffs.sort()\n",
    "\n",
    "        color = mpl.cm.Spectral(i / k)\n",
    "        plt.fill_betweenx(np.arange(pos, pos + len(coeffs)), 0, coeffs,\n",
    "                          facecolor=color, edgecolor=color, alpha=0.7)\n",
    "        ticks.append(pos + len(coeffs) // 2)\n",
    "        pos += len(coeffs) + padding\n",
    "\n",
    "    plt.gca().yaxis.set_major_locator(FixedLocator(ticks))\n",
    "    plt.gca().yaxis.set_major_formatter(FixedFormatter(range(k)))\n",
    "    if k in (3, 5):\n",
    "        plt.ylabel(\"Cluster\")\n",
    "    \n",
    "    if k in (5, 6):\n",
    "        plt.gca().set_xticks([-0.1, 0, 0.2, 0.4, 0.6, 0.8, 1])\n",
    "        plt.xlabel(\"Silhouette Coefficient\")\n",
    "    else:\n",
    "        plt.tick_params(labelbottom=False)\n",
    "\n",
    "    plt.axvline(x=silhouette_scores[k - 2], color=\"red\", linestyle=\"--\")\n",
    "    plt.title(\"$k={}$\".format(k), fontsize=16)\n",
    "plt.show()"
   ]
  },
  {
   "cell_type": "markdown",
   "id": "766491ed",
   "metadata": {},
   "source": [
    "Using the silhouette method, the most consistent size between each cluster is K = 3 and 3 of the cluster pass the red dot"
   ]
  },
  {
   "cell_type": "markdown",
   "id": "fee77eed",
   "metadata": {},
   "source": [
    "## Kmeans - Clustering"
   ]
  },
  {
   "cell_type": "code",
   "execution_count": 21,
   "id": "0ab9771b",
   "metadata": {},
   "outputs": [],
   "source": [
    "# Define the kmeans model for data\n",
    "kmeans = KMeans(n_clusters=3, random_state=42, init = 'k-means++')## kmeans ++ means that the centroid will be from a data point\n",
    "member = kmeans.fit_predict(X_scaled)\n",
    "\n",
    "df['member'] = member"
   ]
  },
  {
   "cell_type": "code",
   "execution_count": 22,
   "id": "1e2a8ef5",
   "metadata": {},
   "outputs": [
    {
     "data": {
      "text/html": [
       "<div>\n",
       "<style scoped>\n",
       "    .dataframe tbody tr th:only-of-type {\n",
       "        vertical-align: middle;\n",
       "    }\n",
       "\n",
       "    .dataframe tbody tr th {\n",
       "        vertical-align: top;\n",
       "    }\n",
       "\n",
       "    .dataframe thead th {\n",
       "        text-align: right;\n",
       "    }\n",
       "</style>\n",
       "<table border=\"1\" class=\"dataframe\">\n",
       "  <thead>\n",
       "    <tr style=\"text-align: right;\">\n",
       "      <th></th>\n",
       "      <th>Rank</th>\n",
       "      <th>Overall_life</th>\n",
       "      <th>Male_life</th>\n",
       "      <th>Female_life</th>\n",
       "    </tr>\n",
       "    <tr>\n",
       "      <th>member</th>\n",
       "      <th></th>\n",
       "      <th></th>\n",
       "      <th></th>\n",
       "      <th></th>\n",
       "    </tr>\n",
       "  </thead>\n",
       "  <tbody>\n",
       "    <tr>\n",
       "      <th>0</th>\n",
       "      <td>130.0</td>\n",
       "      <td>72.794253</td>\n",
       "      <td>70.048276</td>\n",
       "      <td>75.578161</td>\n",
       "    </tr>\n",
       "    <tr>\n",
       "      <th>1</th>\n",
       "      <td>198.5</td>\n",
       "      <td>59.218000</td>\n",
       "      <td>57.648000</td>\n",
       "      <td>60.870000</td>\n",
       "    </tr>\n",
       "    <tr>\n",
       "      <th>2</th>\n",
       "      <td>43.5</td>\n",
       "      <td>79.893023</td>\n",
       "      <td>77.240698</td>\n",
       "      <td>82.680233</td>\n",
       "    </tr>\n",
       "  </tbody>\n",
       "</table>\n",
       "</div>"
      ],
      "text/plain": [
       "         Rank  Overall_life  Male_life  Female_life\n",
       "member                                             \n",
       "0       130.0     72.794253  70.048276    75.578161\n",
       "1       198.5     59.218000  57.648000    60.870000\n",
       "2        43.5     79.893023  77.240698    82.680233"
      ]
     },
     "execution_count": 22,
     "metadata": {},
     "output_type": "execute_result"
    }
   ],
   "source": [
    "df.groupby(by = 'member').mean()"
   ]
  },
  {
   "cell_type": "markdown",
   "id": "0dc8c5f9",
   "metadata": {},
   "source": [
    "From the clustering without any PCA it seems that Kmeans divide the data into countries with low overall life, medium overall life and high life expectancy. It can be seen from the average rank of member 1 is lowest and member 2 is highest but average rank of countries in member 0 is in between. after doing unsupervised machine learning clustering there are 3 segment of countries. to understand it better let's visualize in 2 dimension"
   ]
  },
  {
   "cell_type": "markdown",
   "id": "85e8c603",
   "metadata": {},
   "source": [
    "## Kmeans - Visualization"
   ]
  },
  {
   "cell_type": "code",
   "execution_count": 23,
   "id": "17775655",
   "metadata": {},
   "outputs": [],
   "source": [
    "# PCA to visualize the model in 2 dimension \n",
    "\n",
    "pca = PCA(n_components = 2) # Define the PCA\n",
    "pca.fit(X_scaled) # Fit into our features\n",
    "two_dimension = pca.transform(X_scaled)"
   ]
  },
  {
   "cell_type": "code",
   "execution_count": 24,
   "id": "ed827eef",
   "metadata": {},
   "outputs": [],
   "source": [
    "# Change the two dimension PCA into a dataframe for easier plotting\n",
    "two_dimension = pd.DataFrame(two_dimension, columns = ['1','2'])"
   ]
  },
  {
   "cell_type": "code",
   "execution_count": 25,
   "id": "438993c9",
   "metadata": {},
   "outputs": [],
   "source": [
    "two_dimension['cluster'] = member"
   ]
  },
  {
   "cell_type": "code",
   "execution_count": 43,
   "id": "ca343391",
   "metadata": {},
   "outputs": [
    {
     "data": {
      "text/plain": [
       "<matplotlib.legend.Legend at 0x1d790f846d0>"
      ]
     },
     "execution_count": 43,
     "metadata": {},
     "output_type": "execute_result"
    },
    {
     "data": {
      "image/png": "[encoded data removed]",
      "text/plain": [
       "<Figure size 864x576 with 1 Axes>"
      ]
     },
     "metadata": {
      "needs_background": "light"
     },
     "output_type": "display_data"
    }
   ],
   "source": [
    "plt.figure(figsize = (12,8))\n",
    "sns.scatterplot(data = two_dimension, x = '1', y = '2', hue = 'cluster')\n",
    "plt.legend(title='Cluster Group', loc='upper right', labels=['High Class', 'Mid class','Low Class'])"
   ]
  },
  {
   "cell_type": "code",
   "execution_count": 45,
   "id": "5fa9fdb8",
   "metadata": {},
   "outputs": [
    {
     "data": {
      "text/plain": [
       "4.8091373801364945"
      ]
     },
     "execution_count": 45,
     "metadata": {},
     "output_type": "execute_result"
    }
   ],
   "source": [
    "kmeans.inertia_"
   ]
  },
  {
   "cell_type": "markdown",
   "id": "89319107",
   "metadata": {},
   "source": [
    "Kmeans inertia measure how well a data is clustered, in this analysis our kmeans inertia is 4.8 which is kinda low and it is good, however inertia is not the only measure of how well a data is clustered. Another method of evaluation is to see whether the cluster is overlapping with each other or not."
   ]
  },
  {
   "cell_type": "markdown",
   "id": "fad05f03",
   "metadata": {},
   "source": [
    "## Problem\n",
    "\n",
    "1. In the data exploration section, what interesting insights can you share?\n",
    "2. How many clusters did you get from the dataset? Is it optimal? Visualize the clustering results that you get with a 2-dimensional plot where the 2 dimensions are the dimensions obtained from the dimension reduction results.\n",
    "3. What are the characteristics of each cluster? Can you visualize and tell?\n",
    "4. What interesting insights did you get from answer/analysis number 3?\n",
    "5. Compared to EDA, are there any similarities from the clustering results you get? Tell us your analysis!"
   ]
  },
  {
   "cell_type": "markdown",
   "id": "4d78d2e8",
   "metadata": {},
   "source": [
    "## Answers\n",
    "1. Interesting thing I can share in my EDA\n",
    "- Europe continent has high life expectancy and probably life quality compared to other continent\n",
    "- Female averagely live longer than men\n",
    "- Some countries have really low life expectancy it became the outlier"
   ]
  },
  {
   "cell_type": "markdown",
   "id": "b4277ac5",
   "metadata": {},
   "source": [
    "2. Cluster optimization\n",
    "- Elbow method are stabilizing after cluster = 2 but it still unclear which cluster to choose\n",
    "- Silhouette method with the best uniform size and highest score, although cluster = 2 has the highest score, cluster number 3 have more consistent sizes\n",
    "- I already visualize the data with the optimal number of cluster"
   ]
  },
  {
   "cell_type": "markdown",
   "id": "74d2e88f",
   "metadata": {},
   "source": [
    "3. Characteristic of each Cluster\n",
    "- Cluster 0 : Medium Average of each life expectancy\n",
    "- Cluster 1 : Low average of each life expectancy\n",
    "- Cluster 2 : High average of each life expectancy "
   ]
  },
  {
   "cell_type": "markdown",
   "id": "b2be5ce6",
   "metadata": {},
   "source": [
    "4. The interesting thing I got from question number 3\n",
    "- The clustering that Kmeans make, cluster the data based on the life expectancy from low to high life expectancy"
   ]
  },
  {
   "cell_type": "markdown",
   "id": "d7c7681e",
   "metadata": {},
   "source": [
    "5. Analysis after Kmeans and connect with EDA"
   ]
  },
  {
   "cell_type": "code",
   "execution_count": 53,
   "id": "2a1b5bbc",
   "metadata": {},
   "outputs": [
    {
     "data": {
      "text/html": [
       "<div>\n",
       "<style scoped>\n",
       "    .dataframe tbody tr th:only-of-type {\n",
       "        vertical-align: middle;\n",
       "    }\n",
       "\n",
       "    .dataframe tbody tr th {\n",
       "        vertical-align: top;\n",
       "    }\n",
       "\n",
       "    .dataframe thead th {\n",
       "        text-align: right;\n",
       "    }\n",
       "</style>\n",
       "<table border=\"1\" class=\"dataframe\">\n",
       "  <thead>\n",
       "    <tr style=\"text-align: right;\">\n",
       "      <th></th>\n",
       "      <th></th>\n",
       "      <th>Rank</th>\n",
       "    </tr>\n",
       "    <tr>\n",
       "      <th>Continent</th>\n",
       "      <th>member</th>\n",
       "      <th></th>\n",
       "    </tr>\n",
       "  </thead>\n",
       "  <tbody>\n",
       "    <tr>\n",
       "      <th rowspan=\"3\" valign=\"top\">Africa</th>\n",
       "      <th>0</th>\n",
       "      <td>6</td>\n",
       "    </tr>\n",
       "    <tr>\n",
       "      <th>1</th>\n",
       "      <td>45</td>\n",
       "    </tr>\n",
       "    <tr>\n",
       "      <th>2</th>\n",
       "      <td>4</td>\n",
       "    </tr>\n",
       "    <tr>\n",
       "      <th rowspan=\"3\" valign=\"top\">Asia</th>\n",
       "      <th>0</th>\n",
       "      <td>31</td>\n",
       "    </tr>\n",
       "    <tr>\n",
       "      <th>1</th>\n",
       "      <td>4</td>\n",
       "    </tr>\n",
       "    <tr>\n",
       "      <th>2</th>\n",
       "      <td>14</td>\n",
       "    </tr>\n",
       "    <tr>\n",
       "      <th rowspan=\"2\" valign=\"top\">Europe</th>\n",
       "      <th>0</th>\n",
       "      <td>14</td>\n",
       "    </tr>\n",
       "    <tr>\n",
       "      <th>2</th>\n",
       "      <td>37</td>\n",
       "    </tr>\n",
       "    <tr>\n",
       "      <th rowspan=\"3\" valign=\"top\">North America</th>\n",
       "      <th>0</th>\n",
       "      <td>15</td>\n",
       "    </tr>\n",
       "    <tr>\n",
       "      <th>1</th>\n",
       "      <td>1</td>\n",
       "    </tr>\n",
       "    <tr>\n",
       "      <th>2</th>\n",
       "      <td>18</td>\n",
       "    </tr>\n",
       "    <tr>\n",
       "      <th rowspan=\"2\" valign=\"top\">Oceania</th>\n",
       "      <th>0</th>\n",
       "      <td>14</td>\n",
       "    </tr>\n",
       "    <tr>\n",
       "      <th>2</th>\n",
       "      <td>6</td>\n",
       "    </tr>\n",
       "    <tr>\n",
       "      <th rowspan=\"2\" valign=\"top\">South America</th>\n",
       "      <th>0</th>\n",
       "      <td>7</td>\n",
       "    </tr>\n",
       "    <tr>\n",
       "      <th>2</th>\n",
       "      <td>7</td>\n",
       "    </tr>\n",
       "  </tbody>\n",
       "</table>\n",
       "</div>"
      ],
      "text/plain": [
       "                      Rank\n",
       "Continent     member      \n",
       "Africa        0          6\n",
       "              1         45\n",
       "              2          4\n",
       "Asia          0         31\n",
       "              1          4\n",
       "              2         14\n",
       "Europe        0         14\n",
       "              2         37\n",
       "North America 0         15\n",
       "              1          1\n",
       "              2         18\n",
       "Oceania       0         14\n",
       "              2          6\n",
       "South America 0          7\n",
       "              2          7"
      ]
     },
     "execution_count": 53,
     "metadata": {},
     "output_type": "execute_result"
    }
   ],
   "source": [
    "df.groupby(by = ['Continent','member']).agg({\"Rank\":'count'})"
   ]
  },
  {
   "cell_type": "markdown",
   "id": "0a71115d",
   "metadata": {},
   "source": [
    "Most countries in Europe are in the cluster 2, this is the same as my EDA that europe continent do have the highest life expectancy among any other continent. Countries in Africa Continent are in cluster 1 which is the lowest average life expectancy and it is also true ans ame with my EDA."
   ]
  }
 ],
 "metadata": {
  "kernelspec": {
   "display_name": "Python 3 (ipykernel)",
   "language": "python",
   "name": "python3"
  },
  "language_info": {
   "codemirror_mode": {
    "name": "ipython",
    "version": 3
   },
   "file_extension": ".py",
   "mimetype": "text/x-python",
   "name": "python",
   "nbconvert_exporter": "python",
   "pygments_lexer": "ipython3",
   "version": "3.10.4"
  }
 },
 "nbformat": 4,
 "nbformat_minor": 5
}
