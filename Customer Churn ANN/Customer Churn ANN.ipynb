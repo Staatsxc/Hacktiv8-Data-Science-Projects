{
 "cells": [
  {
   "cell_type": "markdown",
   "id": "9e7ac6d5",
   "metadata": {},
   "source": [
    "# Milestone 1 Phase 2\n",
    "\n",
    "### Name : Alexander Greateine Tanaku\n",
    "### Class : FTDS - 014"
   ]
  },
  {
   "cell_type": "markdown",
   "id": "6c400fdc",
   "metadata": {},
   "source": [
    "## Objective\n",
    "\n",
    "Make a deep learning model with artificial neural network to predict customer churn in a company"
   ]
  },
  {
   "cell_type": "markdown",
   "id": "5ef74075",
   "metadata": {},
   "source": [
    "## Import Libraries"
   ]
  },
  {
   "cell_type": "code",
   "execution_count": 1,
   "id": "45a55a01",
   "metadata": {},
   "outputs": [],
   "source": [
    "import pandas as pd\n",
    "import tensorflow as tf\n",
    "import matplotlib.pyplot as plt\n",
    "import seaborn as sns\n",
    "import numpy as np\n",
    "from sklearn.preprocessing import StandardScaler\n",
    "from sklearn.model_selection import train_test_split\n",
    "from sklearn.pipeline import make_pipeline\n",
    "from sklearn.impute import SimpleImputer\n",
    "from sklearn.preprocessing import OrdinalEncoder\n",
    "from sklearn.preprocessing import OneHotEncoder\n",
    "from sklearn.compose import ColumnTransformer\n",
    "from tensorflow import keras\n",
    "from tensorflow.keras.optimizers import SGD\n",
    "from tensorflow.keras.models import Sequential, Model\n",
    "from tensorflow.keras.constraints import MaxNorm\n",
    "from tensorflow.keras.layers import Dropout\n",
    "from tensorflow.keras.layers import Dense\n",
    "from sklearn.preprocessing import LabelEncoder\n",
    "from sklearn.feature_selection import chi2\n",
    "from sklearn.feature_selection import SelectKBest\n",
    "from imblearn.over_sampling import SMOTE\n",
    "from imblearn.pipeline import Pipeline as imbpipeline"
   ]
  },
  {
   "cell_type": "markdown",
   "id": "2bd15a90",
   "metadata": {},
   "source": [
    "# Dataset Loading"
   ]
  },
  {
   "cell_type": "code",
   "execution_count": 2,
   "id": "e3176dde",
   "metadata": {},
   "outputs": [
    {
     "data": {
      "text/html": [
       "<div>\n",
       "<style scoped>\n",
       "    .dataframe tbody tr th:only-of-type {\n",
       "        vertical-align: middle;\n",
       "    }\n",
       "\n",
       "    .dataframe tbody tr th {\n",
       "        vertical-align: top;\n",
       "    }\n",
       "\n",
       "    .dataframe thead th {\n",
       "        text-align: right;\n",
       "    }\n",
       "</style>\n",
       "<table border=\"1\" class=\"dataframe\">\n",
       "  <thead>\n",
       "    <tr style=\"text-align: right;\">\n",
       "      <th></th>\n",
       "      <th>customerID</th>\n",
       "      <th>gender</th>\n",
       "      <th>SeniorCitizen</th>\n",
       "      <th>Partner</th>\n",
       "      <th>Dependents</th>\n",
       "      <th>tenure</th>\n",
       "      <th>PhoneService</th>\n",
       "      <th>MultipleLines</th>\n",
       "      <th>InternetService</th>\n",
       "      <th>OnlineSecurity</th>\n",
       "      <th>OnlineBackup</th>\n",
       "      <th>DeviceProtection</th>\n",
       "      <th>TechSupport</th>\n",
       "      <th>StreamingTV</th>\n",
       "      <th>StreamingMovies</th>\n",
       "      <th>Contract</th>\n",
       "      <th>PaperlessBilling</th>\n",
       "      <th>PaymentMethod</th>\n",
       "      <th>MonthlyCharges</th>\n",
       "      <th>TotalCharges</th>\n",
       "      <th>Churn</th>\n",
       "    </tr>\n",
       "  </thead>\n",
       "  <tbody>\n",
       "    <tr>\n",
       "      <th>0</th>\n",
       "      <td>7590-VHVEG</td>\n",
       "      <td>Female</td>\n",
       "      <td>0</td>\n",
       "      <td>Yes</td>\n",
       "      <td>No</td>\n",
       "      <td>1</td>\n",
       "      <td>No</td>\n",
       "      <td>No phone service</td>\n",
       "      <td>DSL</td>\n",
       "      <td>No</td>\n",
       "      <td>Yes</td>\n",
       "      <td>No</td>\n",
       "      <td>No</td>\n",
       "      <td>No</td>\n",
       "      <td>No</td>\n",
       "      <td>Month-to-month</td>\n",
       "      <td>Yes</td>\n",
       "      <td>Electronic check</td>\n",
       "      <td>29.85</td>\n",
       "      <td>29.85</td>\n",
       "      <td>No</td>\n",
       "    </tr>\n",
       "    <tr>\n",
       "      <th>1</th>\n",
       "      <td>5575-GNVDE</td>\n",
       "      <td>Male</td>\n",
       "      <td>0</td>\n",
       "      <td>No</td>\n",
       "      <td>No</td>\n",
       "      <td>34</td>\n",
       "      <td>Yes</td>\n",
       "      <td>No</td>\n",
       "      <td>DSL</td>\n",
       "      <td>Yes</td>\n",
       "      <td>No</td>\n",
       "      <td>Yes</td>\n",
       "      <td>No</td>\n",
       "      <td>No</td>\n",
       "      <td>No</td>\n",
       "      <td>One year</td>\n",
       "      <td>No</td>\n",
       "      <td>Mailed check</td>\n",
       "      <td>56.95</td>\n",
       "      <td>1889.5</td>\n",
       "      <td>No</td>\n",
       "    </tr>\n",
       "    <tr>\n",
       "      <th>2</th>\n",
       "      <td>3668-QPYBK</td>\n",
       "      <td>Male</td>\n",
       "      <td>0</td>\n",
       "      <td>No</td>\n",
       "      <td>No</td>\n",
       "      <td>2</td>\n",
       "      <td>Yes</td>\n",
       "      <td>No</td>\n",
       "      <td>DSL</td>\n",
       "      <td>Yes</td>\n",
       "      <td>Yes</td>\n",
       "      <td>No</td>\n",
       "      <td>No</td>\n",
       "      <td>No</td>\n",
       "      <td>No</td>\n",
       "      <td>Month-to-month</td>\n",
       "      <td>Yes</td>\n",
       "      <td>Mailed check</td>\n",
       "      <td>53.85</td>\n",
       "      <td>108.15</td>\n",
       "      <td>Yes</td>\n",
       "    </tr>\n",
       "    <tr>\n",
       "      <th>3</th>\n",
       "      <td>7795-CFOCW</td>\n",
       "      <td>Male</td>\n",
       "      <td>0</td>\n",
       "      <td>No</td>\n",
       "      <td>No</td>\n",
       "      <td>45</td>\n",
       "      <td>No</td>\n",
       "      <td>No phone service</td>\n",
       "      <td>DSL</td>\n",
       "      <td>Yes</td>\n",
       "      <td>No</td>\n",
       "      <td>Yes</td>\n",
       "      <td>Yes</td>\n",
       "      <td>No</td>\n",
       "      <td>No</td>\n",
       "      <td>One year</td>\n",
       "      <td>No</td>\n",
       "      <td>Bank transfer (automatic)</td>\n",
       "      <td>42.30</td>\n",
       "      <td>1840.75</td>\n",
       "      <td>No</td>\n",
       "    </tr>\n",
       "    <tr>\n",
       "      <th>4</th>\n",
       "      <td>9237-HQITU</td>\n",
       "      <td>Female</td>\n",
       "      <td>0</td>\n",
       "      <td>No</td>\n",
       "      <td>No</td>\n",
       "      <td>2</td>\n",
       "      <td>Yes</td>\n",
       "      <td>No</td>\n",
       "      <td>Fiber optic</td>\n",
       "      <td>No</td>\n",
       "      <td>No</td>\n",
       "      <td>No</td>\n",
       "      <td>No</td>\n",
       "      <td>No</td>\n",
       "      <td>No</td>\n",
       "      <td>Month-to-month</td>\n",
       "      <td>Yes</td>\n",
       "      <td>Electronic check</td>\n",
       "      <td>70.70</td>\n",
       "      <td>151.65</td>\n",
       "      <td>Yes</td>\n",
       "    </tr>\n",
       "    <tr>\n",
       "      <th>...</th>\n",
       "      <td>...</td>\n",
       "      <td>...</td>\n",
       "      <td>...</td>\n",
       "      <td>...</td>\n",
       "      <td>...</td>\n",
       "      <td>...</td>\n",
       "      <td>...</td>\n",
       "      <td>...</td>\n",
       "      <td>...</td>\n",
       "      <td>...</td>\n",
       "      <td>...</td>\n",
       "      <td>...</td>\n",
       "      <td>...</td>\n",
       "      <td>...</td>\n",
       "      <td>...</td>\n",
       "      <td>...</td>\n",
       "      <td>...</td>\n",
       "      <td>...</td>\n",
       "      <td>...</td>\n",
       "      <td>...</td>\n",
       "      <td>...</td>\n",
       "    </tr>\n",
       "    <tr>\n",
       "      <th>7038</th>\n",
       "      <td>6840-RESVB</td>\n",
       "      <td>Male</td>\n",
       "      <td>0</td>\n",
       "      <td>Yes</td>\n",
       "      <td>Yes</td>\n",
       "      <td>24</td>\n",
       "      <td>Yes</td>\n",
       "      <td>Yes</td>\n",
       "      <td>DSL</td>\n",
       "      <td>Yes</td>\n",
       "      <td>No</td>\n",
       "      <td>Yes</td>\n",
       "      <td>Yes</td>\n",
       "      <td>Yes</td>\n",
       "      <td>Yes</td>\n",
       "      <td>One year</td>\n",
       "      <td>Yes</td>\n",
       "      <td>Mailed check</td>\n",
       "      <td>84.80</td>\n",
       "      <td>1990.5</td>\n",
       "      <td>No</td>\n",
       "    </tr>\n",
       "    <tr>\n",
       "      <th>7039</th>\n",
       "      <td>2234-XADUH</td>\n",
       "      <td>Female</td>\n",
       "      <td>0</td>\n",
       "      <td>Yes</td>\n",
       "      <td>Yes</td>\n",
       "      <td>72</td>\n",
       "      <td>Yes</td>\n",
       "      <td>Yes</td>\n",
       "      <td>Fiber optic</td>\n",
       "      <td>No</td>\n",
       "      <td>Yes</td>\n",
       "      <td>Yes</td>\n",
       "      <td>No</td>\n",
       "      <td>Yes</td>\n",
       "      <td>Yes</td>\n",
       "      <td>One year</td>\n",
       "      <td>Yes</td>\n",
       "      <td>Credit card (automatic)</td>\n",
       "      <td>103.20</td>\n",
       "      <td>7362.9</td>\n",
       "      <td>No</td>\n",
       "    </tr>\n",
       "    <tr>\n",
       "      <th>7040</th>\n",
       "      <td>4801-JZAZL</td>\n",
       "      <td>Female</td>\n",
       "      <td>0</td>\n",
       "      <td>Yes</td>\n",
       "      <td>Yes</td>\n",
       "      <td>11</td>\n",
       "      <td>No</td>\n",
       "      <td>No phone service</td>\n",
       "      <td>DSL</td>\n",
       "      <td>Yes</td>\n",
       "      <td>No</td>\n",
       "      <td>No</td>\n",
       "      <td>No</td>\n",
       "      <td>No</td>\n",
       "      <td>No</td>\n",
       "      <td>Month-to-month</td>\n",
       "      <td>Yes</td>\n",
       "      <td>Electronic check</td>\n",
       "      <td>29.60</td>\n",
       "      <td>346.45</td>\n",
       "      <td>No</td>\n",
       "    </tr>\n",
       "    <tr>\n",
       "      <th>7041</th>\n",
       "      <td>8361-LTMKD</td>\n",
       "      <td>Male</td>\n",
       "      <td>1</td>\n",
       "      <td>Yes</td>\n",
       "      <td>No</td>\n",
       "      <td>4</td>\n",
       "      <td>Yes</td>\n",
       "      <td>Yes</td>\n",
       "      <td>Fiber optic</td>\n",
       "      <td>No</td>\n",
       "      <td>No</td>\n",
       "      <td>No</td>\n",
       "      <td>No</td>\n",
       "      <td>No</td>\n",
       "      <td>No</td>\n",
       "      <td>Month-to-month</td>\n",
       "      <td>Yes</td>\n",
       "      <td>Mailed check</td>\n",
       "      <td>74.40</td>\n",
       "      <td>306.6</td>\n",
       "      <td>Yes</td>\n",
       "    </tr>\n",
       "    <tr>\n",
       "      <th>7042</th>\n",
       "      <td>3186-AJIEK</td>\n",
       "      <td>Male</td>\n",
       "      <td>0</td>\n",
       "      <td>No</td>\n",
       "      <td>No</td>\n",
       "      <td>66</td>\n",
       "      <td>Yes</td>\n",
       "      <td>No</td>\n",
       "      <td>Fiber optic</td>\n",
       "      <td>Yes</td>\n",
       "      <td>No</td>\n",
       "      <td>Yes</td>\n",
       "      <td>Yes</td>\n",
       "      <td>Yes</td>\n",
       "      <td>Yes</td>\n",
       "      <td>Two year</td>\n",
       "      <td>Yes</td>\n",
       "      <td>Bank transfer (automatic)</td>\n",
       "      <td>105.65</td>\n",
       "      <td>6844.5</td>\n",
       "      <td>No</td>\n",
       "    </tr>\n",
       "  </tbody>\n",
       "</table>\n",
       "<p>7043 rows × 21 columns</p>\n",
       "</div>"
      ],
      "text/plain": [
       "      customerID  gender  SeniorCitizen Partner Dependents  tenure  \\\n",
       "0     7590-VHVEG  Female              0     Yes         No       1   \n",
       "1     5575-GNVDE    Male              0      No         No      34   \n",
       "2     3668-QPYBK    Male              0      No         No       2   \n",
       "3     7795-CFOCW    Male              0      No         No      45   \n",
       "4     9237-HQITU  Female              0      No         No       2   \n",
       "...          ...     ...            ...     ...        ...     ...   \n",
       "7038  6840-RESVB    Male              0     Yes        Yes      24   \n",
       "7039  2234-XADUH  Female              0     Yes        Yes      72   \n",
       "7040  4801-JZAZL  Female              0     Yes        Yes      11   \n",
       "7041  8361-LTMKD    Male              1     Yes         No       4   \n",
       "7042  3186-AJIEK    Male              0      No         No      66   \n",
       "\n",
       "     PhoneService     MultipleLines InternetService OnlineSecurity  \\\n",
       "0              No  No phone service             DSL             No   \n",
       "1             Yes                No             DSL            Yes   \n",
       "2             Yes                No             DSL            Yes   \n",
       "3              No  No phone service             DSL            Yes   \n",
       "4             Yes                No     Fiber optic             No   \n",
       "...           ...               ...             ...            ...   \n",
       "7038          Yes               Yes             DSL            Yes   \n",
       "7039          Yes               Yes     Fiber optic             No   \n",
       "7040           No  No phone service             DSL            Yes   \n",
       "7041          Yes               Yes     Fiber optic             No   \n",
       "7042          Yes                No     Fiber optic            Yes   \n",
       "\n",
       "     OnlineBackup DeviceProtection TechSupport StreamingTV StreamingMovies  \\\n",
       "0             Yes               No          No          No              No   \n",
       "1              No              Yes          No          No              No   \n",
       "2             Yes               No          No          No              No   \n",
       "3              No              Yes         Yes          No              No   \n",
       "4              No               No          No          No              No   \n",
       "...           ...              ...         ...         ...             ...   \n",
       "7038           No              Yes         Yes         Yes             Yes   \n",
       "7039          Yes              Yes          No         Yes             Yes   \n",
       "7040           No               No          No          No              No   \n",
       "7041           No               No          No          No              No   \n",
       "7042           No              Yes         Yes         Yes             Yes   \n",
       "\n",
       "            Contract PaperlessBilling              PaymentMethod  \\\n",
       "0     Month-to-month              Yes           Electronic check   \n",
       "1           One year               No               Mailed check   \n",
       "2     Month-to-month              Yes               Mailed check   \n",
       "3           One year               No  Bank transfer (automatic)   \n",
       "4     Month-to-month              Yes           Electronic check   \n",
       "...              ...              ...                        ...   \n",
       "7038        One year              Yes               Mailed check   \n",
       "7039        One year              Yes    Credit card (automatic)   \n",
       "7040  Month-to-month              Yes           Electronic check   \n",
       "7041  Month-to-month              Yes               Mailed check   \n",
       "7042        Two year              Yes  Bank transfer (automatic)   \n",
       "\n",
       "      MonthlyCharges TotalCharges Churn  \n",
       "0              29.85        29.85    No  \n",
       "1              56.95       1889.5    No  \n",
       "2              53.85       108.15   Yes  \n",
       "3              42.30      1840.75    No  \n",
       "4              70.70       151.65   Yes  \n",
       "...              ...          ...   ...  \n",
       "7038           84.80       1990.5    No  \n",
       "7039          103.20       7362.9    No  \n",
       "7040           29.60       346.45    No  \n",
       "7041           74.40        306.6   Yes  \n",
       "7042          105.65       6844.5    No  \n",
       "\n",
       "[7043 rows x 21 columns]"
      ]
     },
     "execution_count": 2,
     "metadata": {},
     "output_type": "execute_result"
    }
   ],
   "source": [
    "# Loading dataset with pandas\n",
    "pd.set_option('display.max_columns', None) \n",
    "df = pd.read_csv('data.csv')\n",
    "df"
   ]
  },
  {
   "cell_type": "markdown",
   "id": "a6c890d9",
   "metadata": {},
   "source": [
    "## Dataset Description\n",
    "1. CustomerID: A unique ID that identifies each customer.\n",
    "2. Gender: The customer’s gender: Male, Female\n",
    "3. Senior Citizen: Indicates if the customer is 65 or older: Yes, No\n",
    "4. Partner: Whether they have partner or no \n",
    "5. Dependents: Indicates if the customer lives with any dependents: Yes, No. Dependents could be children, parents, grandparents, etc.\n",
    "6. Tenure in Months: Indicates the total amount of months that the customer has been with the company by the end of the quarter specified above.\n",
    "7. Phone Service: Indicates if the customer subscribes to home phone service with the company: Yes, No\n",
    "8. Multiple Lines: Indicates if the customer subscribes to multiple telephone lines with the company: Yes, No\n",
    "9. Internet Service: Indicates if the customer subscribes to Internet service with the company: No, DSL, Fiber Optic, Cable.\n",
    "10. Online Security: Indicates if the customer subscribes to an additional online security service provided by the company: Yes, No\n",
    "11. Online Backup: Indicates if the customer subscribes to an additional online backup service provided by the company: Yes, No\n",
    "12. Device Protection Plan: Indicates if the customer subscribes to an additional device protection plan for their Internet equipment provided by the company: Yes, No\n",
    "13. Tech Support: Indicates if the customer subscribes to an additional technical support plan from the company with reduced wait times: Yes, No\n",
    "14. Streaming TV: Indicates if the customer uses their Internet service to stream television programing from a third party provider: Yes, No. The company does not charge an additional fee for this service.\n",
    "15. Streaming Movies: Indicates if the customer uses their Internet service to stream movies from a third party provider: Yes, No. The company does not charge an additional fee for this service.\n",
    "16. Contract: Indicates the customer’s current contract type: Month-to-Month, One Year, Two Year.\n",
    "17. Paperless Billing: Indicates if the customer has chosen paperless billing: Yes, No\n",
    "18. Payment Method: Indicates how the customer pays their bill: Bank Withdrawal, Credit Card, Mailed Check\n",
    "19. Monthly Charge: Indicates the customer’s current total monthly charge for all their services from the company.\n",
    "20. Total Charges: Indicates the customer’s total charges, calculated to the end of the quarter specified above.\n",
    "21. Churn Label: Yes = the customer left the company this quarter. No = the customer remained with the company. Directly related to Churn Value."
   ]
  },
  {
   "cell_type": "code",
   "execution_count": 3,
   "id": "c77f3939",
   "metadata": {},
   "outputs": [
    {
     "data": {
      "text/plain": [
       "Index(['gender', 'Partner', 'Dependents', 'PhoneService', 'MultipleLines',\n",
       "       'InternetService', 'OnlineSecurity', 'OnlineBackup', 'DeviceProtection',\n",
       "       'TechSupport', 'StreamingTV', 'StreamingMovies', 'Contract',\n",
       "       'PaperlessBilling', 'PaymentMethod', 'TotalCharges', 'Churn'],\n",
       "      dtype='object')"
      ]
     },
     "execution_count": 3,
     "metadata": {},
     "output_type": "execute_result"
    }
   ],
   "source": [
    "# looking every columns excluding customerID\n",
    "cols = df.select_dtypes(object).columns\n",
    "cols = cols.drop('customerID')\n",
    "cols"
   ]
  },
  {
   "cell_type": "code",
   "execution_count": 4,
   "id": "20a9fe1a",
   "metadata": {
    "scrolled": true
   },
   "outputs": [
    {
     "name": "stdout",
     "output_type": "stream",
     "text": [
      "Columns gender : ['Female' 'Male']\n",
      "Columns Partner : ['Yes' 'No']\n",
      "Columns Dependents : ['No' 'Yes']\n",
      "Columns PhoneService : ['No' 'Yes']\n",
      "Columns MultipleLines : ['No phone service' 'No' 'Yes']\n",
      "Columns InternetService : ['DSL' 'Fiber optic' 'No']\n",
      "Columns OnlineSecurity : ['No' 'Yes' 'No internet service']\n",
      "Columns OnlineBackup : ['Yes' 'No' 'No internet service']\n",
      "Columns DeviceProtection : ['No' 'Yes' 'No internet service']\n",
      "Columns TechSupport : ['No' 'Yes' 'No internet service']\n",
      "Columns StreamingTV : ['No' 'Yes' 'No internet service']\n",
      "Columns StreamingMovies : ['No' 'Yes' 'No internet service']\n",
      "Columns Contract : ['Month-to-month' 'One year' 'Two year']\n",
      "Columns PaperlessBilling : ['Yes' 'No']\n",
      "Columns PaymentMethod : ['Electronic check' 'Mailed check' 'Bank transfer (automatic)'\n",
      " 'Credit card (automatic)']\n",
      "Columns TotalCharges : ['29.85' '1889.5' '108.15' ... '346.45' '306.6' '6844.5']\n",
      "Columns Churn : ['No' 'Yes']\n"
     ]
    }
   ],
   "source": [
    "# Looking for unique values for all columns\n",
    "for kolom in cols:\n",
    "    print(f'Columns {kolom} :',df[kolom].unique())"
   ]
  },
  {
   "cell_type": "markdown",
   "id": "abb9fc0a",
   "metadata": {},
   "source": [
    "The data shows that there are some anomalities, Total charges that should be float or integer type of data but it is an object, there will be some data cleaning that needs to be done for this dataset if I want to use this data to make deep learning model. there are also similar category feature, for example in tech support there are no value and no internet service which basically means the same thing"
   ]
  },
  {
   "cell_type": "code",
   "execution_count": 5,
   "id": "1a4aadc0",
   "metadata": {},
   "outputs": [],
   "source": [
    "# Replacing missing data with Null Values\n",
    "df['TotalCharges'].replace(\" \", np.NaN, inplace=True)"
   ]
  },
  {
   "cell_type": "code",
   "execution_count": 6,
   "id": "07b3db50",
   "metadata": {},
   "outputs": [],
   "source": [
    "# Changing Total Charges data to float data\n",
    "df['TotalCharges'] = df['TotalCharges'].astype(float)"
   ]
  },
  {
   "cell_type": "code",
   "execution_count": 7,
   "id": "5627b3cc",
   "metadata": {},
   "outputs": [],
   "source": [
    "# Making a function to see plot distribution\n",
    "def plot_dist(df, col, k):\n",
    "    fig, axes = plt.subplots(ncols = 2, figsize = (15, 5))\n",
    "    \n",
    "    # histogram\n",
    "    sns.histplot(df[col],ax = axes[0], kde=True,line_kws={'linewidth': 3},color = 'k', bins = k)\n",
    "    axes[0].set_title(f\"Histogram '{col}'\")\n",
    "    axes[0].axvline(df[col].mean(), color = 'red', linestyle = 'dashed', label = 'mean')\n",
    "    axes[0].axvline(df[col].median(), color = 'green', linestyle = 'dashed', label = 'median')\n",
    "    axes[0].legend()\n",
    "    \n",
    "    # boxplot\n",
    "    sns.boxplot(y=df[col], ax =  axes[1])\n",
    "    axes[1].set_title(f\"Boxplot '{col}'\")\n",
    "    \n",
    "    plt.show()\n",
    "    \n",
    "    # skewness\n",
    "    print(df[col].name + ' Kurtosis: ' + str(df[col].kurt()))\n",
    "    print(df[col].name + ' Skewness: ' + str(df[col].skew()))\n",
    "    if -0.5 <= df[col].skew() <= 0.5:\n",
    "        print(\"Columns '{}' normal distribution\".format(col))\n",
    "    elif df[col].skew() > 0.5:\n",
    "        print(\"Columns '{}' right skewed\".format(col))\n",
    "    elif df[col].skew() < -0.5:\n",
    "        print(\"Columns '{}' left skewed\".format(col))"
   ]
  },
  {
   "cell_type": "code",
   "execution_count": 8,
   "id": "3d0517aa",
   "metadata": {},
   "outputs": [
    {
     "data": {
      "image/png": "[encoded data removed]",
      "text/plain": [
       "<Figure size 1080x360 with 2 Axes>"
      ]
     },
     "metadata": {
      "needs_background": "light"
     },
     "output_type": "display_data"
    },
    {
     "name": "stdout",
     "output_type": "stream",
     "text": [
      "MonthlyCharges Kurtosis: -1.2572596945495056\n",
      "MonthlyCharges Skewness: -0.22052443394398033\n",
      "Columns 'MonthlyCharges' normal distribution\n"
     ]
    }
   ],
   "source": [
    "plot_dist(df, 'MonthlyCharges', 20)"
   ]
  },
  {
   "cell_type": "markdown",
   "id": "3fcde11a",
   "metadata": {},
   "source": [
    "## Insight\n",
    "\n",
    "1. Most person have their monthly charges of aroudn 20 dollars\n",
    "2. However the average person pay around 60 - 80 dollars per month\n",
    "3. There are significant decrease in person count after the price reach 20 dollars and below 45 dollars, this is a case that looks like an anomalities\n",
    "4. The highest monthly charges is almost 120 dollars and the number of person who pays that much is almost the same as the people who bay for 40 dollars a month."
   ]
  },
  {
   "cell_type": "code",
   "execution_count": 9,
   "id": "4052e9f1",
   "metadata": {},
   "outputs": [
    {
     "data": {
      "text/html": [
       "<div>\n",
       "<style scoped>\n",
       "    .dataframe tbody tr th:only-of-type {\n",
       "        vertical-align: middle;\n",
       "    }\n",
       "\n",
       "    .dataframe tbody tr th {\n",
       "        vertical-align: top;\n",
       "    }\n",
       "\n",
       "    .dataframe thead th {\n",
       "        text-align: right;\n",
       "    }\n",
       "</style>\n",
       "<table border=\"1\" class=\"dataframe\">\n",
       "  <thead>\n",
       "    <tr style=\"text-align: right;\">\n",
       "      <th></th>\n",
       "      <th></th>\n",
       "      <th>MonthlyCharges</th>\n",
       "      <th>customerID</th>\n",
       "      <th>tenure</th>\n",
       "    </tr>\n",
       "    <tr>\n",
       "      <th>SeniorCitizen</th>\n",
       "      <th>Churn</th>\n",
       "      <th></th>\n",
       "      <th></th>\n",
       "      <th></th>\n",
       "    </tr>\n",
       "  </thead>\n",
       "  <tbody>\n",
       "    <tr>\n",
       "      <th rowspan=\"2\" valign=\"top\">0</th>\n",
       "      <th>No</th>\n",
       "      <td>58.618123</td>\n",
       "      <td>4508</td>\n",
       "      <td>36.906610</td>\n",
       "    </tr>\n",
       "    <tr>\n",
       "      <th>Yes</th>\n",
       "      <td>72.298098</td>\n",
       "      <td>1393</td>\n",
       "      <td>16.935391</td>\n",
       "    </tr>\n",
       "    <tr>\n",
       "      <th rowspan=\"2\" valign=\"top\">1</th>\n",
       "      <th>No</th>\n",
       "      <td>79.182057</td>\n",
       "      <td>666</td>\n",
       "      <td>42.060060</td>\n",
       "    </tr>\n",
       "    <tr>\n",
       "      <th>Yes</th>\n",
       "      <td>80.713445</td>\n",
       "      <td>476</td>\n",
       "      <td>21.033613</td>\n",
       "    </tr>\n",
       "  </tbody>\n",
       "</table>\n",
       "</div>"
      ],
      "text/plain": [
       "                     MonthlyCharges  customerID     tenure\n",
       "SeniorCitizen Churn                                       \n",
       "0             No          58.618123        4508  36.906610\n",
       "              Yes         72.298098        1393  16.935391\n",
       "1             No          79.182057         666  42.060060\n",
       "              Yes         80.713445         476  21.033613"
      ]
     },
     "execution_count": 9,
     "metadata": {},
     "output_type": "execute_result"
    }
   ],
   "source": [
    "# Grouping by senior citizen and churn rates\n",
    "df.groupby(by = ['SeniorCitizen','Churn']).agg({\n",
    "    'MonthlyCharges': 'mean',\n",
    "    'customerID': 'count',\n",
    "    'tenure': 'mean'\n",
    "})"
   ]
  },
  {
   "cell_type": "markdown",
   "id": "e7935157",
   "metadata": {},
   "source": [
    "## Insight\n",
    "\n",
    "1. Older people have higher average monthly charges than younger person\n",
    "2. We have more young person than senior citizen as a customer\n",
    "3. the person who churn have higher monthly charges than the person who dont churn\n",
    "4. Senior citizen are more loyal than those who are not, this can be seen by the higher tenure average"
   ]
  },
  {
   "cell_type": "code",
   "execution_count": 10,
   "id": "f19bd2d2",
   "metadata": {},
   "outputs": [
    {
     "data": {
      "image/png": "[encoded data removed]",
      "text/plain": [
       "<Figure size 1080x360 with 2 Axes>"
      ]
     },
     "metadata": {
      "needs_background": "light"
     },
     "output_type": "display_data"
    },
    {
     "name": "stdout",
     "output_type": "stream",
     "text": [
      "tenure Kurtosis: -1.387371635971685\n",
      "tenure Skewness: 0.2395397495619829\n",
      "Columns 'tenure' normal distribution\n"
     ]
    }
   ],
   "source": [
    "plot_dist(df, 'tenure', 20)"
   ]
  },
  {
   "cell_type": "markdown",
   "id": "64589fbc",
   "metadata": {},
   "source": [
    "## Insight\n",
    "1. Most of our customer have been a customer for more than 2 years\n",
    "2. We have a good amount of loyal customer seeing that the second highest bar from the graph is the customer that's been with us for 70 months."
   ]
  },
  {
   "cell_type": "code",
   "execution_count": 11,
   "id": "1c027115",
   "metadata": {},
   "outputs": [
    {
     "data": {
      "text/html": [
       "<div>\n",
       "<style scoped>\n",
       "    .dataframe tbody tr th:only-of-type {\n",
       "        vertical-align: middle;\n",
       "    }\n",
       "\n",
       "    .dataframe tbody tr th {\n",
       "        vertical-align: top;\n",
       "    }\n",
       "\n",
       "    .dataframe thead th {\n",
       "        text-align: right;\n",
       "    }\n",
       "</style>\n",
       "<table border=\"1\" class=\"dataframe\">\n",
       "  <thead>\n",
       "    <tr style=\"text-align: right;\">\n",
       "      <th></th>\n",
       "      <th>MonthlyCharges</th>\n",
       "      <th>customerID</th>\n",
       "      <th>tenure</th>\n",
       "    </tr>\n",
       "    <tr>\n",
       "      <th>PaymentMethod</th>\n",
       "      <th></th>\n",
       "      <th></th>\n",
       "      <th></th>\n",
       "    </tr>\n",
       "  </thead>\n",
       "  <tbody>\n",
       "    <tr>\n",
       "      <th>Electronic check</th>\n",
       "      <td>76.255814</td>\n",
       "      <td>2365</td>\n",
       "      <td>25.174630</td>\n",
       "    </tr>\n",
       "    <tr>\n",
       "      <th>Mailed check</th>\n",
       "      <td>43.917060</td>\n",
       "      <td>1612</td>\n",
       "      <td>21.830025</td>\n",
       "    </tr>\n",
       "    <tr>\n",
       "      <th>Bank transfer (automatic)</th>\n",
       "      <td>67.192649</td>\n",
       "      <td>1544</td>\n",
       "      <td>43.656736</td>\n",
       "    </tr>\n",
       "    <tr>\n",
       "      <th>Credit card (automatic)</th>\n",
       "      <td>66.512385</td>\n",
       "      <td>1522</td>\n",
       "      <td>43.269382</td>\n",
       "    </tr>\n",
       "  </tbody>\n",
       "</table>\n",
       "</div>"
      ],
      "text/plain": [
       "                           MonthlyCharges  customerID     tenure\n",
       "PaymentMethod                                                   \n",
       "Electronic check                76.255814        2365  25.174630\n",
       "Mailed check                    43.917060        1612  21.830025\n",
       "Bank transfer (automatic)       67.192649        1544  43.656736\n",
       "Credit card (automatic)         66.512385        1522  43.269382"
      ]
     },
     "execution_count": 11,
     "metadata": {},
     "output_type": "execute_result"
    }
   ],
   "source": [
    "# Grouping by the payment method\n",
    "df.groupby(by = ['PaymentMethod']).agg({\n",
    "    'MonthlyCharges': 'mean',\n",
    "    'customerID': 'count',\n",
    "    'tenure': 'mean'\n",
    "}).sort_values(by = 'customerID', ascending = False)"
   ]
  },
  {
   "cell_type": "markdown",
   "id": "bbedc9e7",
   "metadata": {},
   "source": [
    "## Insight\n",
    "1. Electronic check is the most used payment method\n",
    "2. People who pay using mailed check have averagely lower monthly charges\n",
    "3. Customers who are already using our service for a longer period of time pay with Bank transfer or credit card"
   ]
  },
  {
   "cell_type": "code",
   "execution_count": 12,
   "id": "89602b8d",
   "metadata": {},
   "outputs": [
    {
     "data": {
      "image/png": "[encoded data removed]",
      "text/plain": [
       "<Figure size 720x360 with 1 Axes>"
      ]
     },
     "metadata": {},
     "output_type": "display_data"
    }
   ],
   "source": [
    "# Making pie chart of churn rates\n",
    "plt.figure(figsize= (10, 5))\n",
    "x = round(df[\"Churn\"].value_counts()/df.shape[0]*100,2)\n",
    "labels = [\"Yes\", \"No\"]\n",
    "explode = [0.1, 0]\n",
    "plt.pie(x ,labels= labels , explode = explode , autopct=\"%1.2f%%\", shadow= True, colors= ['#FACBB3', '#B3A4A7'])\n",
    "plt.legend()\n",
    "plt.show()"
   ]
  },
  {
   "cell_type": "markdown",
   "id": "92a3683e",
   "metadata": {},
   "source": [
    "## Insight\n",
    "Our ratio of customer churn is 26.5%, it is a high percentage of customer churn"
   ]
  },
  {
   "cell_type": "code",
   "execution_count": 13,
   "id": "83b5d2ef",
   "metadata": {},
   "outputs": [
    {
     "data": {
      "image/png": "[encoded data removed]",
      "text/plain": [
       "<Figure size 576x432 with 1 Axes>"
      ]
     },
     "metadata": {
      "needs_background": "light"
     },
     "output_type": "display_data"
    }
   ],
   "source": [
    "# Making barchart of contract types and churn rates\n",
    "plt.figure(figsize=(8,6))\n",
    "ax = sns.countplot(x=\"Contract\", hue=\"Churn\", data=df).set(title='Contract and Churn Rates')\n",
    "plt.legend(title='', loc='upper right', labels=['No Churn', 'Churn'])\n",
    "plt.show()"
   ]
  },
  {
   "cell_type": "markdown",
   "id": "f22a13e7",
   "metadata": {},
   "source": [
    "## Insight\n",
    "Most of our customer who churn is the one with month to month contract, the higher the contract period, the lower the churn rate"
   ]
  },
  {
   "cell_type": "code",
   "execution_count": 14,
   "id": "fb1d5fa9",
   "metadata": {},
   "outputs": [
    {
     "data": {
      "image/png": "[encoded data removed]",
      "text/plain": [
       "<Figure size 576x432 with 1 Axes>"
      ]
     },
     "metadata": {
      "needs_background": "light"
     },
     "output_type": "display_data"
    }
   ],
   "source": [
    "# Making Countplot of internet service and online security\n",
    "plt.figure(figsize=(8,6))\n",
    "ax = sns.countplot(x=\"InternetService\", hue=\"OnlineSecurity\", data=df).set(title='Contract and Churn Rates')\n",
    "plt.show()"
   ]
  },
  {
   "cell_type": "markdown",
   "id": "cf2575f5",
   "metadata": {},
   "source": [
    "## Insight\n",
    "1. More people are using Fiber optic than the other type of internet services\n",
    "2. there are still a lot of customer that doesn't subscribe to our online security services although they are using internet, this can be dangerous because their privacy and data is in danger\n",
    "3. 1500 customer still not using our internet service"
   ]
  },
  {
   "cell_type": "code",
   "execution_count": 15,
   "id": "951cca89",
   "metadata": {},
   "outputs": [
    {
     "data": {
      "text/plain": [
       "<AxesSubplot:>"
      ]
     },
     "execution_count": 15,
     "metadata": {},
     "output_type": "execute_result"
    },
    {
     "data": {
      "image/png": "[encoded data removed]",
      "text/plain": [
       "<Figure size 720x432 with 2 Axes>"
      ]
     },
     "metadata": {
      "needs_background": "light"
     },
     "output_type": "display_data"
    }
   ],
   "source": [
    "# Making Heatmap correlation with seaborn\n",
    "fig, ax = plt.subplots(figsize=(10,6))\n",
    "# Making the heatmap \n",
    "sns.heatmap(df.corr(), cmap=\"YlGnBu\", annot=True, ax = ax)"
   ]
  },
  {
   "cell_type": "markdown",
   "id": "6565fb8f",
   "metadata": {},
   "source": [
    "Looking at the Correlation between numerical feature, there are high correlation between monthly charges and total charge, this is easily understandable since when people pay more each month, their total payment will be high. The interesting part is high correlation between tenure and monthly charges, it means that the longer they use our service, the more expensive the monthly charge. There is also high correlation between senior citizen and total charges and monthly charge, this is aligned with our EDA that senior citizen pays more than younger customer in our company."
   ]
  },
  {
   "cell_type": "markdown",
   "id": "77497164",
   "metadata": {},
   "source": [
    "# Deep Learning Work Area"
   ]
  },
  {
   "cell_type": "code",
   "execution_count": 16,
   "id": "93b340b3",
   "metadata": {},
   "outputs": [],
   "source": [
    "data_train_test = df.drop('customerID', axis = 1)"
   ]
  },
  {
   "cell_type": "markdown",
   "id": "3602cac8",
   "metadata": {},
   "source": [
    "I drop the customer ID because I believe customer ID doesn't have any correlation with customer churning or not because customerID is generated randomly."
   ]
  },
  {
   "cell_type": "code",
   "execution_count": 17,
   "id": "51f9d3e6",
   "metadata": {},
   "outputs": [],
   "source": [
    "# data_train_test.replace('No internet service','No',inplace=True)\n",
    "# data_train_test.replace('No phone service','No',inplace=True)"
   ]
  },
  {
   "cell_type": "markdown",
   "id": "e3eb0b91",
   "metadata": {},
   "source": [
    "I change the no internet service and no phone service as no because it is the same"
   ]
  },
  {
   "cell_type": "markdown",
   "id": "50737747",
   "metadata": {},
   "source": [
    "## Inferencing"
   ]
  },
  {
   "cell_type": "code",
   "execution_count": 18,
   "id": "ef79fda3",
   "metadata": {},
   "outputs": [],
   "source": [
    "data_inf = data_train_test.sample(10, random_state = 17)\n",
    "data_train_test = data_train_test.drop(data_inf.index)"
   ]
  },
  {
   "cell_type": "code",
   "execution_count": 19,
   "id": "f27e93a3",
   "metadata": {},
   "outputs": [],
   "source": [
    "data_train_test.reset_index(inplace = True, drop = True)\n",
    "data_inf.reset_index(drop = True, inplace = True)"
   ]
  },
  {
   "cell_type": "markdown",
   "id": "99a1a6f4",
   "metadata": {},
   "source": [
    "## Data Preparation - Splitting Train and Test"
   ]
  },
  {
   "cell_type": "code",
   "execution_count": 20,
   "id": "052d8c27",
   "metadata": {},
   "outputs": [],
   "source": [
    "X = data_train_test.drop('Churn', axis = 1)\n",
    "y = data_train_test['Churn']"
   ]
  },
  {
   "cell_type": "code",
   "execution_count": 21,
   "id": "ed101cb1",
   "metadata": {},
   "outputs": [],
   "source": [
    "#Memisahkan data menjadi train, val, test\n",
    "\n",
    "X_train, X_test, y_train, y_test = train_test_split(X, y, train_size=0.9,random_state = 17)\n",
    "\n",
    "X_train, X_val, y_train, y_val = train_test_split(X_train, y_train, train_size=0.85,random_state = 17)"
   ]
  },
  {
   "cell_type": "code",
   "execution_count": 22,
   "id": "1142eafd",
   "metadata": {},
   "outputs": [],
   "source": [
    "y_train = pd.DataFrame(y_train)\n",
    "y_test = pd.DataFrame(y_test)\n",
    "y_val = pd.DataFrame(y_val)"
   ]
  },
  {
   "cell_type": "code",
   "execution_count": 23,
   "id": "cafe1223",
   "metadata": {},
   "outputs": [
    {
     "name": "stdout",
     "output_type": "stream",
     "text": [
      "X_train shape (5379, 19)\n",
      "X_value shape (950, 19)\n",
      "X_test shape (704, 19)\n"
     ]
    }
   ],
   "source": [
    "print('X_train shape', X_train.shape)\n",
    "print('X_value shape', X_val.shape)\n",
    "print('X_test shape', X_test.shape)"
   ]
  },
  {
   "cell_type": "code",
   "execution_count": 24,
   "id": "ce847552",
   "metadata": {},
   "outputs": [
    {
     "name": "stdout",
     "output_type": "stream",
     "text": [
      "Train Feature Missing Value\n",
      "gender              0\n",
      "SeniorCitizen       0\n",
      "Partner             0\n",
      "Dependents          0\n",
      "tenure              0\n",
      "PhoneService        0\n",
      "MultipleLines       0\n",
      "InternetService     0\n",
      "OnlineSecurity      0\n",
      "OnlineBackup        0\n",
      "DeviceProtection    0\n",
      "TechSupport         0\n",
      "StreamingTV         0\n",
      "StreamingMovies     0\n",
      "Contract            0\n",
      "PaperlessBilling    0\n",
      "PaymentMethod       0\n",
      "MonthlyCharges      0\n",
      "TotalCharges        9\n",
      "dtype: int64\n",
      "------------------------------\n",
      "Test Feature Missing Value\n",
      "gender              0\n",
      "SeniorCitizen       0\n",
      "Partner             0\n",
      "Dependents          0\n",
      "tenure              0\n",
      "PhoneService        0\n",
      "MultipleLines       0\n",
      "InternetService     0\n",
      "OnlineSecurity      0\n",
      "OnlineBackup        0\n",
      "DeviceProtection    0\n",
      "TechSupport         0\n",
      "StreamingTV         0\n",
      "StreamingMovies     0\n",
      "Contract            0\n",
      "PaperlessBilling    0\n",
      "PaymentMethod       0\n",
      "MonthlyCharges      0\n",
      "TotalCharges        2\n",
      "dtype: int64\n",
      "------------------------------\n",
      "Validation Feature Missing Value\n",
      "gender              0\n",
      "SeniorCitizen       0\n",
      "Partner             0\n",
      "Dependents          0\n",
      "tenure              0\n",
      "PhoneService        0\n",
      "MultipleLines       0\n",
      "InternetService     0\n",
      "OnlineSecurity      0\n",
      "OnlineBackup        0\n",
      "DeviceProtection    0\n",
      "TechSupport         0\n",
      "StreamingTV         0\n",
      "StreamingMovies     0\n",
      "Contract            0\n",
      "PaperlessBilling    0\n",
      "PaymentMethod       0\n",
      "MonthlyCharges      0\n",
      "TotalCharges        0\n",
      "dtype: int64\n"
     ]
    }
   ],
   "source": [
    "print('Train Feature Missing Value')\n",
    "print(X_train.isnull().sum())\n",
    "print('---'*10)\n",
    "print('Test Feature Missing Value')\n",
    "print(X_test.isnull().sum())\n",
    "print('---'*10)\n",
    "print('Validation Feature Missing Value')\n",
    "print(X_val.isnull().sum())"
   ]
  },
  {
   "cell_type": "code",
   "execution_count": 25,
   "id": "be02b7c0",
   "metadata": {},
   "outputs": [
    {
     "name": "stdout",
     "output_type": "stream",
     "text": [
      "Train Missing Value :  Churn    0\n",
      "dtype: int64\n",
      "Test Missing Value :  Churn    0\n",
      "dtype: int64\n",
      "Validation Missing Value :  Churn    0\n",
      "dtype: int64\n"
     ]
    }
   ],
   "source": [
    "print('Train Missing Value : ', y_train.isnull().sum())\n",
    "print('Test Missing Value : ', y_test.isnull().sum())\n",
    "print('Validation Missing Value : ', y_val.isnull().sum())"
   ]
  },
  {
   "cell_type": "markdown",
   "id": "88a76024",
   "metadata": {},
   "source": [
    "## Data Preparation - Checking Missing Values"
   ]
  },
  {
   "cell_type": "code",
   "execution_count": 26,
   "id": "ea7f9f03",
   "metadata": {
    "scrolled": false
   },
   "outputs": [
    {
     "data": {
      "text/html": [
       "<div>\n",
       "<style scoped>\n",
       "    .dataframe tbody tr th:only-of-type {\n",
       "        vertical-align: middle;\n",
       "    }\n",
       "\n",
       "    .dataframe tbody tr th {\n",
       "        vertical-align: top;\n",
       "    }\n",
       "\n",
       "    .dataframe thead th {\n",
       "        text-align: right;\n",
       "    }\n",
       "</style>\n",
       "<table border=\"1\" class=\"dataframe\">\n",
       "  <thead>\n",
       "    <tr style=\"text-align: right;\">\n",
       "      <th></th>\n",
       "      <th>gender</th>\n",
       "      <th>SeniorCitizen</th>\n",
       "      <th>Partner</th>\n",
       "      <th>Dependents</th>\n",
       "      <th>tenure</th>\n",
       "      <th>PhoneService</th>\n",
       "      <th>MultipleLines</th>\n",
       "      <th>InternetService</th>\n",
       "      <th>OnlineSecurity</th>\n",
       "      <th>OnlineBackup</th>\n",
       "      <th>DeviceProtection</th>\n",
       "      <th>TechSupport</th>\n",
       "      <th>StreamingTV</th>\n",
       "      <th>StreamingMovies</th>\n",
       "      <th>Contract</th>\n",
       "      <th>PaperlessBilling</th>\n",
       "      <th>PaymentMethod</th>\n",
       "      <th>MonthlyCharges</th>\n",
       "      <th>TotalCharges</th>\n",
       "    </tr>\n",
       "  </thead>\n",
       "  <tbody>\n",
       "    <tr>\n",
       "      <th>488</th>\n",
       "      <td>Female</td>\n",
       "      <td>0</td>\n",
       "      <td>Yes</td>\n",
       "      <td>Yes</td>\n",
       "      <td>0</td>\n",
       "      <td>No</td>\n",
       "      <td>No phone service</td>\n",
       "      <td>DSL</td>\n",
       "      <td>Yes</td>\n",
       "      <td>No</td>\n",
       "      <td>Yes</td>\n",
       "      <td>Yes</td>\n",
       "      <td>Yes</td>\n",
       "      <td>No</td>\n",
       "      <td>Two year</td>\n",
       "      <td>Yes</td>\n",
       "      <td>Bank transfer (automatic)</td>\n",
       "      <td>52.55</td>\n",
       "      <td>NaN</td>\n",
       "    </tr>\n",
       "    <tr>\n",
       "      <th>753</th>\n",
       "      <td>Male</td>\n",
       "      <td>0</td>\n",
       "      <td>No</td>\n",
       "      <td>Yes</td>\n",
       "      <td>0</td>\n",
       "      <td>Yes</td>\n",
       "      <td>No</td>\n",
       "      <td>No</td>\n",
       "      <td>No internet service</td>\n",
       "      <td>No internet service</td>\n",
       "      <td>No internet service</td>\n",
       "      <td>No internet service</td>\n",
       "      <td>No internet service</td>\n",
       "      <td>No internet service</td>\n",
       "      <td>Two year</td>\n",
       "      <td>No</td>\n",
       "      <td>Mailed check</td>\n",
       "      <td>20.25</td>\n",
       "      <td>NaN</td>\n",
       "    </tr>\n",
       "    <tr>\n",
       "      <th>936</th>\n",
       "      <td>Female</td>\n",
       "      <td>0</td>\n",
       "      <td>Yes</td>\n",
       "      <td>Yes</td>\n",
       "      <td>0</td>\n",
       "      <td>Yes</td>\n",
       "      <td>No</td>\n",
       "      <td>DSL</td>\n",
       "      <td>Yes</td>\n",
       "      <td>Yes</td>\n",
       "      <td>Yes</td>\n",
       "      <td>No</td>\n",
       "      <td>Yes</td>\n",
       "      <td>Yes</td>\n",
       "      <td>Two year</td>\n",
       "      <td>No</td>\n",
       "      <td>Mailed check</td>\n",
       "      <td>80.85</td>\n",
       "      <td>NaN</td>\n",
       "    </tr>\n",
       "    <tr>\n",
       "      <th>1082</th>\n",
       "      <td>Male</td>\n",
       "      <td>0</td>\n",
       "      <td>Yes</td>\n",
       "      <td>Yes</td>\n",
       "      <td>0</td>\n",
       "      <td>Yes</td>\n",
       "      <td>Yes</td>\n",
       "      <td>No</td>\n",
       "      <td>No internet service</td>\n",
       "      <td>No internet service</td>\n",
       "      <td>No internet service</td>\n",
       "      <td>No internet service</td>\n",
       "      <td>No internet service</td>\n",
       "      <td>No internet service</td>\n",
       "      <td>Two year</td>\n",
       "      <td>No</td>\n",
       "      <td>Mailed check</td>\n",
       "      <td>25.75</td>\n",
       "      <td>NaN</td>\n",
       "    </tr>\n",
       "    <tr>\n",
       "      <th>1340</th>\n",
       "      <td>Female</td>\n",
       "      <td>0</td>\n",
       "      <td>Yes</td>\n",
       "      <td>Yes</td>\n",
       "      <td>0</td>\n",
       "      <td>No</td>\n",
       "      <td>No phone service</td>\n",
       "      <td>DSL</td>\n",
       "      <td>Yes</td>\n",
       "      <td>Yes</td>\n",
       "      <td>Yes</td>\n",
       "      <td>Yes</td>\n",
       "      <td>Yes</td>\n",
       "      <td>No</td>\n",
       "      <td>Two year</td>\n",
       "      <td>No</td>\n",
       "      <td>Credit card (automatic)</td>\n",
       "      <td>56.05</td>\n",
       "      <td>NaN</td>\n",
       "    </tr>\n",
       "    <tr>\n",
       "      <th>3328</th>\n",
       "      <td>Male</td>\n",
       "      <td>0</td>\n",
       "      <td>Yes</td>\n",
       "      <td>Yes</td>\n",
       "      <td>0</td>\n",
       "      <td>Yes</td>\n",
       "      <td>No</td>\n",
       "      <td>No</td>\n",
       "      <td>No internet service</td>\n",
       "      <td>No internet service</td>\n",
       "      <td>No internet service</td>\n",
       "      <td>No internet service</td>\n",
       "      <td>No internet service</td>\n",
       "      <td>No internet service</td>\n",
       "      <td>Two year</td>\n",
       "      <td>No</td>\n",
       "      <td>Mailed check</td>\n",
       "      <td>19.85</td>\n",
       "      <td>NaN</td>\n",
       "    </tr>\n",
       "    <tr>\n",
       "      <th>3820</th>\n",
       "      <td>Male</td>\n",
       "      <td>0</td>\n",
       "      <td>Yes</td>\n",
       "      <td>Yes</td>\n",
       "      <td>0</td>\n",
       "      <td>Yes</td>\n",
       "      <td>Yes</td>\n",
       "      <td>No</td>\n",
       "      <td>No internet service</td>\n",
       "      <td>No internet service</td>\n",
       "      <td>No internet service</td>\n",
       "      <td>No internet service</td>\n",
       "      <td>No internet service</td>\n",
       "      <td>No internet service</td>\n",
       "      <td>Two year</td>\n",
       "      <td>No</td>\n",
       "      <td>Mailed check</td>\n",
       "      <td>25.35</td>\n",
       "      <td>NaN</td>\n",
       "    </tr>\n",
       "    <tr>\n",
       "      <th>4373</th>\n",
       "      <td>Female</td>\n",
       "      <td>0</td>\n",
       "      <td>Yes</td>\n",
       "      <td>Yes</td>\n",
       "      <td>0</td>\n",
       "      <td>Yes</td>\n",
       "      <td>No</td>\n",
       "      <td>No</td>\n",
       "      <td>No internet service</td>\n",
       "      <td>No internet service</td>\n",
       "      <td>No internet service</td>\n",
       "      <td>No internet service</td>\n",
       "      <td>No internet service</td>\n",
       "      <td>No internet service</td>\n",
       "      <td>Two year</td>\n",
       "      <td>No</td>\n",
       "      <td>Mailed check</td>\n",
       "      <td>20.00</td>\n",
       "      <td>NaN</td>\n",
       "    </tr>\n",
       "    <tr>\n",
       "      <th>5211</th>\n",
       "      <td>Male</td>\n",
       "      <td>0</td>\n",
       "      <td>Yes</td>\n",
       "      <td>Yes</td>\n",
       "      <td>0</td>\n",
       "      <td>Yes</td>\n",
       "      <td>No</td>\n",
       "      <td>No</td>\n",
       "      <td>No internet service</td>\n",
       "      <td>No internet service</td>\n",
       "      <td>No internet service</td>\n",
       "      <td>No internet service</td>\n",
       "      <td>No internet service</td>\n",
       "      <td>No internet service</td>\n",
       "      <td>One year</td>\n",
       "      <td>Yes</td>\n",
       "      <td>Mailed check</td>\n",
       "      <td>19.70</td>\n",
       "      <td>NaN</td>\n",
       "    </tr>\n",
       "    <tr>\n",
       "      <th>6661</th>\n",
       "      <td>Female</td>\n",
       "      <td>0</td>\n",
       "      <td>Yes</td>\n",
       "      <td>Yes</td>\n",
       "      <td>0</td>\n",
       "      <td>Yes</td>\n",
       "      <td>Yes</td>\n",
       "      <td>DSL</td>\n",
       "      <td>No</td>\n",
       "      <td>Yes</td>\n",
       "      <td>Yes</td>\n",
       "      <td>Yes</td>\n",
       "      <td>Yes</td>\n",
       "      <td>No</td>\n",
       "      <td>Two year</td>\n",
       "      <td>No</td>\n",
       "      <td>Mailed check</td>\n",
       "      <td>73.35</td>\n",
       "      <td>NaN</td>\n",
       "    </tr>\n",
       "    <tr>\n",
       "      <th>6744</th>\n",
       "      <td>Male</td>\n",
       "      <td>0</td>\n",
       "      <td>No</td>\n",
       "      <td>Yes</td>\n",
       "      <td>0</td>\n",
       "      <td>Yes</td>\n",
       "      <td>Yes</td>\n",
       "      <td>DSL</td>\n",
       "      <td>Yes</td>\n",
       "      <td>Yes</td>\n",
       "      <td>No</td>\n",
       "      <td>Yes</td>\n",
       "      <td>No</td>\n",
       "      <td>No</td>\n",
       "      <td>Two year</td>\n",
       "      <td>Yes</td>\n",
       "      <td>Bank transfer (automatic)</td>\n",
       "      <td>61.90</td>\n",
       "      <td>NaN</td>\n",
       "    </tr>\n",
       "  </tbody>\n",
       "</table>\n",
       "</div>"
      ],
      "text/plain": [
       "      gender  SeniorCitizen Partner Dependents  tenure PhoneService  \\\n",
       "488   Female              0     Yes        Yes       0           No   \n",
       "753     Male              0      No        Yes       0          Yes   \n",
       "936   Female              0     Yes        Yes       0          Yes   \n",
       "1082    Male              0     Yes        Yes       0          Yes   \n",
       "1340  Female              0     Yes        Yes       0           No   \n",
       "3328    Male              0     Yes        Yes       0          Yes   \n",
       "3820    Male              0     Yes        Yes       0          Yes   \n",
       "4373  Female              0     Yes        Yes       0          Yes   \n",
       "5211    Male              0     Yes        Yes       0          Yes   \n",
       "6661  Female              0     Yes        Yes       0          Yes   \n",
       "6744    Male              0      No        Yes       0          Yes   \n",
       "\n",
       "         MultipleLines InternetService       OnlineSecurity  \\\n",
       "488   No phone service             DSL                  Yes   \n",
       "753                 No              No  No internet service   \n",
       "936                 No             DSL                  Yes   \n",
       "1082               Yes              No  No internet service   \n",
       "1340  No phone service             DSL                  Yes   \n",
       "3328                No              No  No internet service   \n",
       "3820               Yes              No  No internet service   \n",
       "4373                No              No  No internet service   \n",
       "5211                No              No  No internet service   \n",
       "6661               Yes             DSL                   No   \n",
       "6744               Yes             DSL                  Yes   \n",
       "\n",
       "             OnlineBackup     DeviceProtection          TechSupport  \\\n",
       "488                    No                  Yes                  Yes   \n",
       "753   No internet service  No internet service  No internet service   \n",
       "936                   Yes                  Yes                   No   \n",
       "1082  No internet service  No internet service  No internet service   \n",
       "1340                  Yes                  Yes                  Yes   \n",
       "3328  No internet service  No internet service  No internet service   \n",
       "3820  No internet service  No internet service  No internet service   \n",
       "4373  No internet service  No internet service  No internet service   \n",
       "5211  No internet service  No internet service  No internet service   \n",
       "6661                  Yes                  Yes                  Yes   \n",
       "6744                  Yes                   No                  Yes   \n",
       "\n",
       "              StreamingTV      StreamingMovies  Contract PaperlessBilling  \\\n",
       "488                   Yes                   No  Two year              Yes   \n",
       "753   No internet service  No internet service  Two year               No   \n",
       "936                   Yes                  Yes  Two year               No   \n",
       "1082  No internet service  No internet service  Two year               No   \n",
       "1340                  Yes                   No  Two year               No   \n",
       "3328  No internet service  No internet service  Two year               No   \n",
       "3820  No internet service  No internet service  Two year               No   \n",
       "4373  No internet service  No internet service  Two year               No   \n",
       "5211  No internet service  No internet service  One year              Yes   \n",
       "6661                  Yes                   No  Two year               No   \n",
       "6744                   No                   No  Two year              Yes   \n",
       "\n",
       "                  PaymentMethod  MonthlyCharges  TotalCharges  \n",
       "488   Bank transfer (automatic)           52.55           NaN  \n",
       "753                Mailed check           20.25           NaN  \n",
       "936                Mailed check           80.85           NaN  \n",
       "1082               Mailed check           25.75           NaN  \n",
       "1340    Credit card (automatic)           56.05           NaN  \n",
       "3328               Mailed check           19.85           NaN  \n",
       "3820               Mailed check           25.35           NaN  \n",
       "4373               Mailed check           20.00           NaN  \n",
       "5211               Mailed check           19.70           NaN  \n",
       "6661               Mailed check           73.35           NaN  \n",
       "6744  Bank transfer (automatic)           61.90           NaN  "
      ]
     },
     "execution_count": 26,
     "metadata": {},
     "output_type": "execute_result"
    }
   ],
   "source": [
    "X[X['TotalCharges'].isnull()]"
   ]
  },
  {
   "cell_type": "markdown",
   "id": "133f0402",
   "metadata": {},
   "source": [
    "We can see that there are a pattern in the missing values in our feature, the tenure of all the missing value is 0 meaning that they are not even being a year in being our customer, and since the missing data is less than 1% of our overall data, I decide to remove the null data."
   ]
  },
  {
   "cell_type": "code",
   "execution_count": 27,
   "id": "5a2e0e22",
   "metadata": {},
   "outputs": [],
   "source": [
    "# Function to remove data in feature and target\n",
    "def removenull(df,col,y):\n",
    "    a = df[df[col].isnull()].index.tolist()\n",
    "    y = y.drop(a, inplace = True)\n",
    "    df = df.drop(a, inplace = True)"
   ]
  },
  {
   "cell_type": "code",
   "execution_count": 28,
   "id": "6595a6a4",
   "metadata": {},
   "outputs": [],
   "source": [
    "# Removing null valuse in feature and target\n",
    "removenull(X_train,'TotalCharges',y_train)\n",
    "removenull(X_test, 'TotalCharges', y_test)"
   ]
  },
  {
   "cell_type": "markdown",
   "id": "9e3d326d",
   "metadata": {},
   "source": [
    "## Splitting Numerical and Categorical Data"
   ]
  },
  {
   "cell_type": "code",
   "execution_count": 29,
   "id": "451d1876",
   "metadata": {},
   "outputs": [],
   "source": [
    "# Numerical column name\n",
    "num_columns =['tenure','MonthlyCharges','TotalCharges']\n",
    "\n",
    "# Make Feature to do scaling\n",
    "X_train_num = X_train[num_columns]\n",
    "X_test_num = X_test[num_columns]"
   ]
  },
  {
   "cell_type": "code",
   "execution_count": 30,
   "id": "3466ab51",
   "metadata": {},
   "outputs": [],
   "source": [
    "# splitting categorical columns to be encoded \n",
    "cat_columns = X_train.select_dtypes(include = ['object']).columns.tolist()\n",
    "## adding Encoded Senior Citizen Name in the column\n",
    "cat_columns.append('SeniorCitizen')"
   ]
  },
  {
   "cell_type": "code",
   "execution_count": 31,
   "id": "cddada58",
   "metadata": {},
   "outputs": [],
   "source": [
    "## Features consisting of categorical columns\n",
    "X_train_cat = X_train[cat_columns]\n",
    "X_test_cat = X_test[cat_columns]"
   ]
  },
  {
   "cell_type": "markdown",
   "id": "407afcc6",
   "metadata": {},
   "source": [
    "## Outlier Handling"
   ]
  },
  {
   "cell_type": "code",
   "execution_count": 32,
   "id": "488063db",
   "metadata": {},
   "outputs": [
    {
     "data": {
      "text/plain": [
       "<AxesSubplot:>"
      ]
     },
     "execution_count": 32,
     "metadata": {},
     "output_type": "execute_result"
    },
    {
     "data": {
      "image/png": "[encoded data removed]",
      "text/plain": [
       "<Figure size 432x288 with 1 Axes>"
      ]
     },
     "metadata": {
      "needs_background": "light"
     },
     "output_type": "display_data"
    }
   ],
   "source": [
    "# Making boxplot for all feature\n",
    "sns.boxplot(data = X_train_num)"
   ]
  },
  {
   "cell_type": "markdown",
   "id": "4f5c2ad0",
   "metadata": {},
   "source": [
    "No outliers detected by looking at the boxplot so there is no outlier handling that needs to be done"
   ]
  },
  {
   "cell_type": "markdown",
   "id": "3ea0ba8c",
   "metadata": {},
   "source": [
    "## Feature Scaling"
   ]
  },
  {
   "cell_type": "code",
   "execution_count": 33,
   "id": "56a84f5f",
   "metadata": {},
   "outputs": [
    {
     "data": {
      "image/png": "[encoded data removed]",
      "text/plain": [
       "<Figure size 1080x360 with 2 Axes>"
      ]
     },
     "metadata": {
      "needs_background": "light"
     },
     "output_type": "display_data"
    },
    {
     "name": "stdout",
     "output_type": "stream",
     "text": [
      "tenure Kurtosis: -1.387371635971685\n",
      "tenure Skewness: 0.2395397495619829\n",
      "Columns 'tenure' normal distribution\n"
     ]
    },
    {
     "data": {
      "image/png": "[encoded data removed]",
      "text/plain": [
       "<Figure size 1080x360 with 2 Axes>"
      ]
     },
     "metadata": {
      "needs_background": "light"
     },
     "output_type": "display_data"
    },
    {
     "name": "stdout",
     "output_type": "stream",
     "text": [
      "MonthlyCharges Kurtosis: -1.2572596945495056\n",
      "MonthlyCharges Skewness: -0.22052443394398033\n",
      "Columns 'MonthlyCharges' normal distribution\n"
     ]
    },
    {
     "data": {
      "image/png": "[encoded data removed]",
      "text/plain": [
       "<Figure size 1080x360 with 2 Axes>"
      ]
     },
     "metadata": {
      "needs_background": "light"
     },
     "output_type": "display_data"
    },
    {
     "name": "stdout",
     "output_type": "stream",
     "text": [
      "TotalCharges Kurtosis: -0.231798760869379\n",
      "TotalCharges Skewness: 0.961642499724251\n",
      "Columns 'TotalCharges' right skewed\n"
     ]
    }
   ],
   "source": [
    "# Plotting the Distribution of each Numerical Columns\n",
    "for feat in num_columns: \n",
    "    plot_dist(df, feat, 10)"
   ]
  },
  {
   "cell_type": "markdown",
   "id": "182a1925",
   "metadata": {},
   "source": [
    "Since the data is not too extremely skewed left or right, I can still consider the overall data as normal distribution, hence I will use Standard Scaler for the numerical data"
   ]
  },
  {
   "cell_type": "markdown",
   "id": "42562cb4",
   "metadata": {},
   "source": [
    "## Feature Engineering - Encoding"
   ]
  },
  {
   "cell_type": "code",
   "execution_count": 34,
   "id": "d1e79297",
   "metadata": {},
   "outputs": [],
   "source": [
    "# Categorical for one hot encoding\n",
    "cat_ohe = ['PaymentMethod', 'Contract', 'InternetService','gender']\n",
    "# Categorical for Ordinal Encoder\n",
    "cat_le = X_train.drop(cat_ohe, axis = 1).select_dtypes(include = ['object']).columns.tolist()"
   ]
  },
  {
   "cell_type": "markdown",
   "id": "74a1063d",
   "metadata": {},
   "source": [
    "Some of the categorical value like payment method, contract internet service and gender should be encoded differently than other categories, this is because those categorical doesn't have any meaningful order so I decide to OneHotEncode this"
   ]
  },
  {
   "cell_type": "markdown",
   "id": "24138677",
   "metadata": {},
   "source": [
    "I also encode all of the target because it is still in string datatype"
   ]
  },
  {
   "cell_type": "code",
   "execution_count": 35,
   "id": "7e088859",
   "metadata": {},
   "outputs": [],
   "source": [
    "# Encoding the Target \n",
    "encoder_target = OrdinalEncoder()\n",
    "y_train = encoder_target.fit_transform(y_train)\n",
    "y_test = encoder_target.transform(y_test)\n",
    "y_val = encoder_target.transform(y_val)"
   ]
  },
  {
   "cell_type": "code",
   "execution_count": 36,
   "id": "0f7d4d87",
   "metadata": {},
   "outputs": [
    {
     "data": {
      "text/plain": [
       "array([[0.],\n",
       "       [0.],\n",
       "       [0.],\n",
       "       ...,\n",
       "       [0.],\n",
       "       [0.],\n",
       "       [0.]])"
      ]
     },
     "execution_count": 36,
     "metadata": {},
     "output_type": "execute_result"
    }
   ],
   "source": [
    "y_train"
   ]
  },
  {
   "cell_type": "code",
   "execution_count": 37,
   "id": "98f34294",
   "metadata": {},
   "outputs": [],
   "source": [
    "y_train = pd.DataFrame(y_train)\n",
    "y_test = pd.DataFrame(y_test)\n",
    "y_val = pd.DataFrame(y_val)"
   ]
  },
  {
   "cell_type": "markdown",
   "id": "ec229eda",
   "metadata": {},
   "source": [
    "## Feature Selection - Categorical Data"
   ]
  },
  {
   "cell_type": "code",
   "execution_count": 38,
   "id": "ad71e7ed",
   "metadata": {},
   "outputs": [],
   "source": [
    "## Feature Encoding all column for feature selection\n",
    "\n",
    "encoder = OrdinalEncoder()\n",
    "X_train_cat_encoded = encoder.fit_transform(X_train_cat)\n",
    "X_test_cat_encoded = encoder.transform(X_test_cat)"
   ]
  },
  {
   "cell_type": "code",
   "execution_count": 68,
   "id": "047c8b5a",
   "metadata": {},
   "outputs": [
    {
     "data": {
      "text/html": [
       "<div>\n",
       "<style scoped>\n",
       "    .dataframe tbody tr th:only-of-type {\n",
       "        vertical-align: middle;\n",
       "    }\n",
       "\n",
       "    .dataframe tbody tr th {\n",
       "        vertical-align: top;\n",
       "    }\n",
       "\n",
       "    .dataframe thead th {\n",
       "        text-align: right;\n",
       "    }\n",
       "</style>\n",
       "<table border=\"1\" class=\"dataframe\">\n",
       "  <thead>\n",
       "    <tr style=\"text-align: right;\">\n",
       "      <th></th>\n",
       "      <th>features</th>\n",
       "      <th>scores</th>\n",
       "    </tr>\n",
       "  </thead>\n",
       "  <tbody>\n",
       "    <tr>\n",
       "      <th>12</th>\n",
       "      <td>Contract</td>\n",
       "      <td>860.186214</td>\n",
       "    </tr>\n",
       "    <tr>\n",
       "      <th>6</th>\n",
       "      <td>OnlineSecurity</td>\n",
       "      <td>432.798689</td>\n",
       "    </tr>\n",
       "    <tr>\n",
       "      <th>9</th>\n",
       "      <td>TechSupport</td>\n",
       "      <td>381.850274</td>\n",
       "    </tr>\n",
       "    <tr>\n",
       "      <th>7</th>\n",
       "      <td>OnlineBackup</td>\n",
       "      <td>174.312440</td>\n",
       "    </tr>\n",
       "    <tr>\n",
       "      <th>8</th>\n",
       "      <td>DeviceProtection</td>\n",
       "      <td>140.388070</td>\n",
       "    </tr>\n",
       "    <tr>\n",
       "      <th>2</th>\n",
       "      <td>Dependents</td>\n",
       "      <td>114.642460</td>\n",
       "    </tr>\n",
       "    <tr>\n",
       "      <th>15</th>\n",
       "      <td>SeniorCitizen</td>\n",
       "      <td>106.494038</td>\n",
       "    </tr>\n",
       "    <tr>\n",
       "      <th>1</th>\n",
       "      <td>Partner</td>\n",
       "      <td>77.926589</td>\n",
       "    </tr>\n",
       "    <tr>\n",
       "      <th>13</th>\n",
       "      <td>PaperlessBilling</td>\n",
       "      <td>74.722785</td>\n",
       "    </tr>\n",
       "    <tr>\n",
       "      <th>14</th>\n",
       "      <td>PaymentMethod</td>\n",
       "      <td>50.937064</td>\n",
       "    </tr>\n",
       "    <tr>\n",
       "      <th>5</th>\n",
       "      <td>InternetService</td>\n",
       "      <td>8.229903</td>\n",
       "    </tr>\n",
       "    <tr>\n",
       "      <th>4</th>\n",
       "      <td>MultipleLines</td>\n",
       "      <td>7.471812</td>\n",
       "    </tr>\n",
       "    <tr>\n",
       "      <th>11</th>\n",
       "      <td>StreamingMovies</td>\n",
       "      <td>5.512168</td>\n",
       "    </tr>\n",
       "    <tr>\n",
       "      <th>10</th>\n",
       "      <td>StreamingTV</td>\n",
       "      <td>5.078119</td>\n",
       "    </tr>\n",
       "    <tr>\n",
       "      <th>0</th>\n",
       "      <td>gender</td>\n",
       "      <td>0.351177</td>\n",
       "    </tr>\n",
       "    <tr>\n",
       "      <th>3</th>\n",
       "      <td>PhoneService</td>\n",
       "      <td>0.002377</td>\n",
       "    </tr>\n",
       "  </tbody>\n",
       "</table>\n",
       "</div>"
      ],
      "text/plain": [
       "            features      scores\n",
       "12          Contract  860.186214\n",
       "6     OnlineSecurity  432.798689\n",
       "9        TechSupport  381.850274\n",
       "7       OnlineBackup  174.312440\n",
       "8   DeviceProtection  140.388070\n",
       "2         Dependents  114.642460\n",
       "15     SeniorCitizen  106.494038\n",
       "1            Partner   77.926589\n",
       "13  PaperlessBilling   74.722785\n",
       "14     PaymentMethod   50.937064\n",
       "5    InternetService    8.229903\n",
       "4      MultipleLines    7.471812\n",
       "11   StreamingMovies    5.512168\n",
       "10       StreamingTV    5.078119\n",
       "0             gender    0.351177\n",
       "3       PhoneService    0.002377"
      ]
     },
     "execution_count": 68,
     "metadata": {},
     "output_type": "execute_result"
    }
   ],
   "source": [
    "# Feature selection best 4 chi score\n",
    "select_feature = SelectKBest(chi2, k = 4).fit(X_train_cat_encoded, y_train)\n",
    "\n",
    "selected_features = pd.DataFrame({\n",
    "    'features': cat_columns,\n",
    "    'scores': select_feature.scores_, \n",
    "})\n",
    "\n",
    "selected_features.sort_values(by = 'scores', ascending = False)\n",
    "# Jika pakai P_values maka melihat signifikansi dari feature pakai (pvalues_)\n",
    "#chi2 score melihat feature importance dan signifikansi secara bersamaan pakai (scores_)"
   ]
  },
  {
   "cell_type": "markdown",
   "id": "3c1ff61b",
   "metadata": {},
   "source": [
    "From the chi square score, we can see which feature are more important than the other, feature of contract has the most significance with the target. Later on in Feature engineering with pipeline, I will only choose the best feature with high chi square."
   ]
  },
  {
   "cell_type": "markdown",
   "id": "24fff76d",
   "metadata": {},
   "source": [
    "## Feature Engineering with Pipeline"
   ]
  },
  {
   "cell_type": "code",
   "execution_count": 43,
   "id": "5b256851",
   "metadata": {},
   "outputs": [],
   "source": [
    "# Numerical Pipeline \n",
    "num_pipeline = make_pipeline(\n",
    "    SimpleImputer(strategy = 'median'),  # Imputing any missing values\n",
    "    StandardScaler(), # Scaling with Standard Scaler\n",
    ")\n",
    "\n",
    "# Categorical Pipeline One Hot Encoder\n",
    "cat_pipeline_ohe = make_pipeline(\n",
    "    SimpleImputer(strategy = 'most_frequent'), # impute with the most frequent values\n",
    "    OneHotEncoder(), # One hot Encoder\n",
    "    SelectKBest(chi2, k = 8) # 8 is from 4 column for contract, 2 for payment, 2 for internet service with highest chi2 score\n",
    ")\n",
    "\n",
    "# Categorical pipeline Ordinal Encoder\n",
    "cat_pipeline_le = make_pipeline(\n",
    "    SimpleImputer(strategy = 'most_frequent'),# imput with most frequent values\n",
    "    OrdinalEncoder(),\n",
    "    SelectKBest(chi2, k = 5)\n",
    ")\n",
    "\n",
    "# Pipeline for oversampling\n",
    "over_pipeline  = imbpipeline(steps = [['smote', SMOTE(random_state=11)]])\n",
    "\n",
    "\n",
    "# Overall pipeline\n",
    "data_pipeline = ColumnTransformer([\n",
    "    ('pipeline_num', num_pipeline, num_columns),\n",
    "    ('pipeline_cat_le', cat_pipeline_le, cat_le),\n",
    "    ('pipeline_cat_ohe', cat_pipeline_ohe, cat_ohe)\n",
    "])\n",
    "\n",
    "# Final_pipeline for pre processing data\n",
    "\n",
    "final_pipeline = make_pipeline(data_pipeline)"
   ]
  },
  {
   "cell_type": "markdown",
   "id": "27611963",
   "metadata": {},
   "source": [
    "## Pipeline Explanation\n",
    "\n",
    "1. Make Pipeline for numerical data that is going to be scaled\n",
    "2. Make Categorical Pipeline that is going to be one hot encoded\n",
    "3. Make categorical pipeline that is going to be label encoded\n",
    "4. Combine all pipeline "
   ]
  },
  {
   "cell_type": "code",
   "execution_count": 44,
   "id": "8a573931",
   "metadata": {},
   "outputs": [],
   "source": [
    "# Fitting the train test and validation into \n",
    "X_train_processed = final_pipeline.fit_transform(X_train, y_train)\n",
    "X_test_processed = final_pipeline.transform(X_test)\n",
    "X_val_processed = final_pipeline.transform(X_val)"
   ]
  },
  {
   "cell_type": "code",
   "execution_count": 45,
   "id": "38047e36",
   "metadata": {},
   "outputs": [],
   "source": [
    "# X_train_processed, y_train = pipeline.fit_resample(X_train_processed, y_train)\n",
    "# X_train_processed.shape"
   ]
  },
  {
   "cell_type": "markdown",
   "id": "fee763f5",
   "metadata": {},
   "source": [
    "## TensorFlow Input Pipeline"
   ]
  },
  {
   "cell_type": "code",
   "execution_count": 46,
   "id": "3092ca51",
   "metadata": {},
   "outputs": [],
   "source": [
    "# Make tensorflow input Pipeline for faster processing\n",
    "tf_train = tf.data.Dataset.from_tensor_slices((X_train_processed, y_train))\n",
    "train_dataset = tf_train.shuffle(buffer_size=128).batch(64)\n",
    "\n",
    "tf_test = tf.data.Dataset.from_tensor_slices((X_test_processed, y_test))\n",
    "test_dataset = tf_test.shuffle(buffer_size=128).batch(64)\n",
    "\n",
    "tf_val = tf.data.Dataset.from_tensor_slices((X_val_processed, y_val))\n",
    "val_dataset = tf_val.batch(64)"
   ]
  },
  {
   "cell_type": "code",
   "execution_count": 47,
   "id": "d2710099",
   "metadata": {},
   "outputs": [],
   "source": [
    "AUTOTUNE = tf.data.AUTOTUNE\n",
    "tf_train = tf_train.cache().prefetch(buffer_size=AUTOTUNE)"
   ]
  },
  {
   "cell_type": "markdown",
   "id": "87bc746e",
   "metadata": {},
   "source": [
    "This input pipeline is made to optimize the computer for faster computing and less time spent to process the data. Tensorflow input pipeline enable parallel computing, while the GPU is training, the CPU is prefetching the next batch for training. I choose 64 data per batch and shuffle the data each epoch. The number of data pre fetched by the computer is autotune by tensorflow."
   ]
  },
  {
   "cell_type": "markdown",
   "id": "7db54004",
   "metadata": {},
   "source": [
    "## Tensorflow Sequential ANN Model"
   ]
  },
  {
   "cell_type": "code",
   "execution_count": 49,
   "id": "e8d091c6",
   "metadata": {
    "scrolled": true
   },
   "outputs": [
    {
     "name": "stdout",
     "output_type": "stream",
     "text": [
      "Epoch 1/50\n",
      "84/84 [==============================] - 2s 6ms/step - loss: 0.4565 - auc_1: 0.8079 - val_loss: 0.4221 - val_auc_1: 0.8417\n",
      "Epoch 2/50\n",
      "84/84 [==============================] - 0s 4ms/step - loss: 0.4307 - auc_1: 0.8342 - val_loss: 0.4196 - val_auc_1: 0.8431\n",
      "Epoch 3/50\n",
      "84/84 [==============================] - 0s 3ms/step - loss: 0.4273 - auc_1: 0.8369 - val_loss: 0.4151 - val_auc_1: 0.8469\n",
      "Epoch 4/50\n",
      "84/84 [==============================] - 0s 3ms/step - loss: 0.4236 - auc_1: 0.8404 - val_loss: 0.4150 - val_auc_1: 0.8461\n",
      "Epoch 5/50\n",
      "84/84 [==============================] - 0s 3ms/step - loss: 0.4249 - auc_1: 0.8389 - val_loss: 0.4137 - val_auc_1: 0.8488\n",
      "Epoch 6/50\n",
      "84/84 [==============================] - 0s 4ms/step - loss: 0.4205 - auc_1: 0.8429 - val_loss: 0.4119 - val_auc_1: 0.8499\n",
      "Epoch 7/50\n",
      "84/84 [==============================] - 0s 3ms/step - loss: 0.4215 - auc_1: 0.8420 - val_loss: 0.4102 - val_auc_1: 0.8495\n",
      "Epoch 8/50\n",
      "84/84 [==============================] - 0s 3ms/step - loss: 0.4193 - auc_1: 0.8441 - val_loss: 0.4118 - val_auc_1: 0.8483\n",
      "Epoch 9/50\n",
      "84/84 [==============================] - 0s 3ms/step - loss: 0.4205 - auc_1: 0.8428 - val_loss: 0.4113 - val_auc_1: 0.8487\n",
      "Epoch 10/50\n",
      "84/84 [==============================] - 0s 4ms/step - loss: 0.4208 - auc_1: 0.8425 - val_loss: 0.4162 - val_auc_1: 0.8480\n",
      "Epoch 11/50\n",
      "84/84 [==============================] - 0s 3ms/step - loss: 0.4190 - auc_1: 0.8441 - val_loss: 0.4104 - val_auc_1: 0.8492\n",
      "Epoch 12/50\n",
      "84/84 [==============================] - 0s 3ms/step - loss: 0.4203 - auc_1: 0.8434 - val_loss: 0.4097 - val_auc_1: 0.8508\n",
      "Epoch 13/50\n",
      "84/84 [==============================] - 0s 3ms/step - loss: 0.4184 - auc_1: 0.8449 - val_loss: 0.4098 - val_auc_1: 0.8500\n",
      "Epoch 14/50\n",
      "84/84 [==============================] - 0s 3ms/step - loss: 0.4172 - auc_1: 0.8459 - val_loss: 0.4075 - val_auc_1: 0.8518\n",
      "Epoch 15/50\n",
      "84/84 [==============================] - 0s 3ms/step - loss: 0.4166 - auc_1: 0.8463 - val_loss: 0.4075 - val_auc_1: 0.8531\n",
      "Epoch 16/50\n",
      "84/84 [==============================] - 0s 3ms/step - loss: 0.4166 - auc_1: 0.8465 - val_loss: 0.4076 - val_auc_1: 0.8516\n",
      "Epoch 17/50\n",
      "84/84 [==============================] - 0s 4ms/step - loss: 0.4157 - auc_1: 0.8469 - val_loss: 0.4068 - val_auc_1: 0.8526\n",
      "Epoch 18/50\n",
      "84/84 [==============================] - 0s 3ms/step - loss: 0.4143 - auc_1: 0.8486 - val_loss: 0.4070 - val_auc_1: 0.8510\n",
      "Epoch 19/50\n",
      "84/84 [==============================] - 0s 3ms/step - loss: 0.4138 - auc_1: 0.8483 - val_loss: 0.4071 - val_auc_1: 0.8521\n",
      "Epoch 20/50\n",
      "84/84 [==============================] - 0s 3ms/step - loss: 0.4133 - auc_1: 0.8491 - val_loss: 0.4073 - val_auc_1: 0.8527\n",
      "Epoch 21/50\n",
      "84/84 [==============================] - 0s 3ms/step - loss: 0.4133 - auc_1: 0.8488 - val_loss: 0.4067 - val_auc_1: 0.8518\n",
      "Epoch 22/50\n",
      "84/84 [==============================] - 0s 3ms/step - loss: 0.4125 - auc_1: 0.8497 - val_loss: 0.4121 - val_auc_1: 0.8499\n",
      "Epoch 23/50\n",
      "84/84 [==============================] - 0s 3ms/step - loss: 0.4135 - auc_1: 0.8488 - val_loss: 0.4066 - val_auc_1: 0.8525\n",
      "Epoch 24/50\n",
      "84/84 [==============================] - 0s 4ms/step - loss: 0.4121 - auc_1: 0.8502 - val_loss: 0.4071 - val_auc_1: 0.8520\n",
      "Epoch 25/50\n",
      "84/84 [==============================] - 0s 3ms/step - loss: 0.4119 - auc_1: 0.8500 - val_loss: 0.4066 - val_auc_1: 0.8523\n",
      "Epoch 26/50\n",
      "84/84 [==============================] - 0s 3ms/step - loss: 0.4104 - auc_1: 0.8513 - val_loss: 0.4075 - val_auc_1: 0.8530\n",
      "Epoch 27/50\n",
      "84/84 [==============================] - 0s 4ms/step - loss: 0.4106 - auc_1: 0.8510 - val_loss: 0.4084 - val_auc_1: 0.8518\n",
      "Epoch 28/50\n",
      "84/84 [==============================] - 0s 4ms/step - loss: 0.4107 - auc_1: 0.8514 - val_loss: 0.4123 - val_auc_1: 0.8495\n",
      "Epoch 29/50\n",
      "84/84 [==============================] - 0s 4ms/step - loss: 0.4114 - auc_1: 0.8503 - val_loss: 0.4067 - val_auc_1: 0.8519\n",
      "Epoch 30/50\n",
      "84/84 [==============================] - 0s 4ms/step - loss: 0.4100 - auc_1: 0.8521 - val_loss: 0.4078 - val_auc_1: 0.8517\n",
      "Epoch 31/50\n",
      "84/84 [==============================] - 0s 3ms/step - loss: 0.4105 - auc_1: 0.8512 - val_loss: 0.4077 - val_auc_1: 0.8510\n",
      "Epoch 32/50\n",
      "84/84 [==============================] - 0s 3ms/step - loss: 0.4092 - auc_1: 0.8526 - val_loss: 0.4089 - val_auc_1: 0.8513\n",
      "Epoch 33/50\n",
      "84/84 [==============================] - 0s 3ms/step - loss: 0.4098 - auc_1: 0.8520 - val_loss: 0.4084 - val_auc_1: 0.8514\n"
     ]
    }
   ],
   "source": [
    "model = Sequential()\n",
    "model.add(Dense(10, input_shape=(16,), activation='relu'))\n",
    "model.add(Dense(1, activation='sigmoid'))\n",
    "\n",
    "early_stopping = tf.keras.callbacks.EarlyStopping(\n",
    "    monitor='val_loss', min_delta=0, patience=10, verbose=0,\n",
    "    mode='auto', baseline=None, restore_best_weights= True\n",
    ")\n",
    "\n",
    "sgd = SGD(learning_rate=0.5)\n",
    "\n",
    "model.compile(\n",
    "    optimizer = sgd,\n",
    "    loss='binary_crossentropy',\n",
    "   metrics=[tf.keras.metrics.AUC()]\n",
    ")\n",
    "\n",
    "history = model.fit(\n",
    "    train_dataset, \n",
    "    epochs=50, \n",
    "    validation_data = val_dataset,\n",
    "    callbacks=[early_stopping])"
   ]
  },
  {
   "cell_type": "markdown",
   "id": "244959e5",
   "metadata": {},
   "source": [
    "I am making a model with a sequential architecture. I use early stopping for my model, hoping that if there is no improvement for several epoch, the training could be stopped to save my computing power. the activation function that I choose is Relu, so it can ignore any weight below zero. I also compile my model with Stochastic Gradient Descent because SGD have the best result in my opinion although it runs slowly, it is okay because my dataset is relatively small. I also didn't put any hidden layers in this model because I want to keep it simple"
   ]
  },
  {
   "cell_type": "code",
   "execution_count": 50,
   "id": "1e73606a",
   "metadata": {},
   "outputs": [
    {
     "name": "stdout",
     "output_type": "stream",
     "text": [
      "11/11 [==============================] - 0s 4ms/step - loss: 0.4472 - auc_1: 0.8210\n"
     ]
    }
   ],
   "source": [
    "result = model.evaluate(test_dataset)"
   ]
  },
  {
   "cell_type": "markdown",
   "id": "1257ce09",
   "metadata": {},
   "source": [
    "the result after I put test data is 0.8171 and  the score is in auc not accuracy, I choose auc because I think that auc metrics is better for imbalance dataset such as this one"
   ]
  },
  {
   "cell_type": "code",
   "execution_count": 47,
   "id": "8e44b63c",
   "metadata": {},
   "outputs": [
    {
     "data": {
      "text/plain": [
       "<matplotlib.legend.Legend at 0x1ba8b773820>"
      ]
     },
     "execution_count": 47,
     "metadata": {},
     "output_type": "execute_result"
    },
    {
     "data": {
      "image/png": "[encoded data removed]",
      "text/plain": [
       "<Figure size 432x288 with 1 Axes>"
      ]
     },
     "metadata": {
      "needs_background": "light"
     },
     "output_type": "display_data"
    }
   ],
   "source": [
    "# Visualize accuracy and loss for train and validation data\n",
    "\n",
    "acc = history.history['auc']\n",
    "val_acc = history.history['val_auc']\n",
    "loss = history.history['loss']\n",
    "val_loss = history.history['val_loss']\n",
    "epochs = range(1, len(acc) + 1)\n",
    "\n",
    "plt.title('Training and validation accuracy')\n",
    "plt.plot(epochs, acc, 'red', label='Training auc')\n",
    "plt.plot(epochs, val_acc, 'blue', label='Validation auc')\n",
    "plt.plot(epochs, loss, label='Training loss')\n",
    "plt.plot(epochs, val_loss, label='Validation loss')\n",
    "plt.legend()"
   ]
  },
  {
   "cell_type": "markdown",
   "id": "f20842cf",
   "metadata": {},
   "source": [
    "The result of first training is quite good, the auc accuracy is 0.8165 which means this model can predict correctly with 81.65% accuracy. AUC scores are used instead of Accuracy because it can determine the result better for imbalanced target dataset like this one. This model is a good fit because the line is almost overlapping with each other."
   ]
  },
  {
   "cell_type": "markdown",
   "id": "882c64a2",
   "metadata": {},
   "source": [
    "## TensorFlow Sequential Tuned"
   ]
  },
  {
   "cell_type": "code",
   "execution_count": 75,
   "id": "fd3cb49d",
   "metadata": {
    "scrolled": true
   },
   "outputs": [
    {
     "name": "stdout",
     "output_type": "stream",
     "text": [
      "Epoch 1/50\n",
      "84/84 [==============================] - 1s 5ms/step - loss: 0.5336 - auc_9: 0.7257 - val_loss: 0.4341 - val_auc_9: 0.8275\n",
      "Epoch 2/50\n",
      "84/84 [==============================] - 0s 4ms/step - loss: 0.4737 - auc_9: 0.7903 - val_loss: 0.4280 - val_auc_9: 0.8334\n",
      "Epoch 3/50\n",
      "84/84 [==============================] - 0s 3ms/step - loss: 0.4687 - auc_9: 0.7940 - val_loss: 0.4260 - val_auc_9: 0.8362\n",
      "Epoch 4/50\n",
      "84/84 [==============================] - 0s 3ms/step - loss: 0.4607 - auc_9: 0.8060 - val_loss: 0.4240 - val_auc_9: 0.8377\n",
      "Epoch 5/50\n",
      "84/84 [==============================] - 0s 3ms/step - loss: 0.4556 - auc_9: 0.8114 - val_loss: 0.4230 - val_auc_9: 0.8385\n",
      "Epoch 6/50\n",
      "84/84 [==============================] - 0s 3ms/step - loss: 0.4498 - auc_9: 0.8152 - val_loss: 0.4219 - val_auc_9: 0.8394\n",
      "Epoch 7/50\n",
      "84/84 [==============================] - 0s 3ms/step - loss: 0.4496 - auc_9: 0.8155 - val_loss: 0.4209 - val_auc_9: 0.8405\n",
      "Epoch 8/50\n",
      "84/84 [==============================] - 0s 3ms/step - loss: 0.4460 - auc_9: 0.8204 - val_loss: 0.4205 - val_auc_9: 0.8401\n",
      "Epoch 9/50\n",
      "84/84 [==============================] - 0s 3ms/step - loss: 0.4435 - auc_9: 0.8219 - val_loss: 0.4194 - val_auc_9: 0.8409\n",
      "Epoch 10/50\n",
      "84/84 [==============================] - 0s 3ms/step - loss: 0.4436 - auc_9: 0.8225 - val_loss: 0.4190 - val_auc_9: 0.8414\n",
      "Epoch 11/50\n",
      "84/84 [==============================] - 0s 3ms/step - loss: 0.4422 - auc_9: 0.8232 - val_loss: 0.4185 - val_auc_9: 0.8416\n",
      "Epoch 12/50\n",
      "84/84 [==============================] - 0s 3ms/step - loss: 0.4476 - auc_9: 0.8197 - val_loss: 0.4182 - val_auc_9: 0.8419\n",
      "Epoch 13/50\n",
      "84/84 [==============================] - 0s 3ms/step - loss: 0.4402 - auc_9: 0.8252 - val_loss: 0.4175 - val_auc_9: 0.8422\n",
      "Epoch 14/50\n",
      "84/84 [==============================] - 0s 3ms/step - loss: 0.4435 - auc_9: 0.8229 - val_loss: 0.4178 - val_auc_9: 0.8421\n",
      "Epoch 15/50\n",
      "84/84 [==============================] - 0s 3ms/step - loss: 0.4389 - auc_9: 0.8260 - val_loss: 0.4171 - val_auc_9: 0.8429\n",
      "Epoch 16/50\n",
      "84/84 [==============================] - 0s 3ms/step - loss: 0.4410 - auc_9: 0.8245 - val_loss: 0.4167 - val_auc_9: 0.8433\n",
      "Epoch 17/50\n",
      "84/84 [==============================] - 0s 3ms/step - loss: 0.4453 - auc_9: 0.8212 - val_loss: 0.4163 - val_auc_9: 0.8433\n",
      "Epoch 18/50\n",
      "84/84 [==============================] - 0s 3ms/step - loss: 0.4369 - auc_9: 0.8284 - val_loss: 0.4160 - val_auc_9: 0.8436\n",
      "Epoch 19/50\n",
      "84/84 [==============================] - 0s 3ms/step - loss: 0.4394 - auc_9: 0.8258 - val_loss: 0.4160 - val_auc_9: 0.8433\n",
      "Epoch 20/50\n",
      "84/84 [==============================] - 0s 3ms/step - loss: 0.4368 - auc_9: 0.8288 - val_loss: 0.4155 - val_auc_9: 0.8436\n",
      "Epoch 21/50\n",
      "84/84 [==============================] - 0s 3ms/step - loss: 0.4411 - auc_9: 0.8254 - val_loss: 0.4154 - val_auc_9: 0.8440\n",
      "Epoch 22/50\n",
      "84/84 [==============================] - 0s 3ms/step - loss: 0.4392 - auc_9: 0.8264 - val_loss: 0.4154 - val_auc_9: 0.8438\n",
      "Epoch 23/50\n",
      "84/84 [==============================] - 0s 3ms/step - loss: 0.4340 - auc_9: 0.8309 - val_loss: 0.4151 - val_auc_9: 0.8439\n",
      "Epoch 24/50\n",
      "84/84 [==============================] - 0s 3ms/step - loss: 0.4425 - auc_9: 0.8258 - val_loss: 0.4156 - val_auc_9: 0.8438\n",
      "Epoch 25/50\n",
      "84/84 [==============================] - 0s 3ms/step - loss: 0.4382 - auc_9: 0.8286 - val_loss: 0.4149 - val_auc_9: 0.8445\n",
      "Epoch 26/50\n",
      "84/84 [==============================] - 0s 3ms/step - loss: 0.4358 - auc_9: 0.8309 - val_loss: 0.4144 - val_auc_9: 0.8446\n",
      "Epoch 27/50\n",
      "84/84 [==============================] - 0s 3ms/step - loss: 0.4362 - auc_9: 0.8293 - val_loss: 0.4145 - val_auc_9: 0.8445\n",
      "Epoch 28/50\n",
      "84/84 [==============================] - 0s 3ms/step - loss: 0.4385 - auc_9: 0.8277 - val_loss: 0.4141 - val_auc_9: 0.8449\n",
      "Epoch 29/50\n",
      "84/84 [==============================] - 0s 3ms/step - loss: 0.4419 - auc_9: 0.8246 - val_loss: 0.4144 - val_auc_9: 0.8446\n",
      "Epoch 30/50\n",
      "84/84 [==============================] - 0s 3ms/step - loss: 0.4378 - auc_9: 0.8294 - val_loss: 0.4144 - val_auc_9: 0.8446\n",
      "Epoch 31/50\n",
      "84/84 [==============================] - 0s 3ms/step - loss: 0.4388 - auc_9: 0.8285 - val_loss: 0.4141 - val_auc_9: 0.8451\n",
      "Epoch 32/50\n",
      "84/84 [==============================] - 0s 3ms/step - loss: 0.4390 - auc_9: 0.8285 - val_loss: 0.4142 - val_auc_9: 0.8450\n",
      "Epoch 33/50\n",
      "84/84 [==============================] - 0s 3ms/step - loss: 0.4348 - auc_9: 0.8308 - val_loss: 0.4136 - val_auc_9: 0.8454\n",
      "Epoch 34/50\n",
      "84/84 [==============================] - 0s 3ms/step - loss: 0.4308 - auc_9: 0.8342 - val_loss: 0.4134 - val_auc_9: 0.8457\n",
      "Epoch 35/50\n",
      "84/84 [==============================] - 0s 3ms/step - loss: 0.4326 - auc_9: 0.8320 - val_loss: 0.4133 - val_auc_9: 0.8455\n",
      "Epoch 36/50\n",
      "84/84 [==============================] - 0s 3ms/step - loss: 0.4345 - auc_9: 0.8317 - val_loss: 0.4131 - val_auc_9: 0.8456\n",
      "Epoch 37/50\n",
      "84/84 [==============================] - 0s 3ms/step - loss: 0.4332 - auc_9: 0.8324 - val_loss: 0.4133 - val_auc_9: 0.8453\n",
      "Epoch 38/50\n",
      "84/84 [==============================] - 0s 3ms/step - loss: 0.4390 - auc_9: 0.8268 - val_loss: 0.4132 - val_auc_9: 0.8456\n",
      "Epoch 39/50\n",
      "84/84 [==============================] - 0s 3ms/step - loss: 0.4366 - auc_9: 0.8298 - val_loss: 0.4132 - val_auc_9: 0.8454\n",
      "Epoch 40/50\n",
      "84/84 [==============================] - 0s 3ms/step - loss: 0.4393 - auc_9: 0.8266 - val_loss: 0.4132 - val_auc_9: 0.8456\n",
      "Epoch 41/50\n",
      "84/84 [==============================] - 0s 3ms/step - loss: 0.4367 - auc_9: 0.8289 - val_loss: 0.4130 - val_auc_9: 0.8456\n",
      "Epoch 42/50\n",
      "84/84 [==============================] - 0s 3ms/step - loss: 0.4344 - auc_9: 0.8310 - val_loss: 0.4130 - val_auc_9: 0.8463\n",
      "Epoch 43/50\n",
      "84/84 [==============================] - 0s 3ms/step - loss: 0.4371 - auc_9: 0.8292 - val_loss: 0.4128 - val_auc_9: 0.8461\n",
      "Epoch 44/50\n",
      "84/84 [==============================] - 0s 3ms/step - loss: 0.4349 - auc_9: 0.8315 - val_loss: 0.4129 - val_auc_9: 0.8457\n",
      "Epoch 45/50\n",
      "84/84 [==============================] - 0s 3ms/step - loss: 0.4350 - auc_9: 0.8303 - val_loss: 0.4128 - val_auc_9: 0.8458\n",
      "Epoch 46/50\n",
      "84/84 [==============================] - 0s 3ms/step - loss: 0.4312 - auc_9: 0.8340 - val_loss: 0.4123 - val_auc_9: 0.8463\n",
      "Epoch 47/50\n",
      "84/84 [==============================] - 0s 3ms/step - loss: 0.4380 - auc_9: 0.8286 - val_loss: 0.4125 - val_auc_9: 0.8463\n",
      "Epoch 48/50\n",
      "84/84 [==============================] - 0s 3ms/step - loss: 0.4327 - auc_9: 0.8331 - val_loss: 0.4120 - val_auc_9: 0.8463\n",
      "Epoch 49/50\n",
      "84/84 [==============================] - 0s 3ms/step - loss: 0.4361 - auc_9: 0.8297 - val_loss: 0.4120 - val_auc_9: 0.8466\n",
      "Epoch 50/50\n",
      "84/84 [==============================] - 0s 3ms/step - loss: 0.4308 - auc_9: 0.8329 - val_loss: 0.4119 - val_auc_9: 0.8466\n"
     ]
    }
   ],
   "source": [
    "model_tuned = Sequential()\n",
    "model_tuned.add(Dense(20, input_shape=(17,), activation='elu', kernel_constraint=MaxNorm(3)))\n",
    "model_tuned.add(Dropout(0.3))\n",
    "model_tuned.add(Dense(14, activation=\"elu\", kernel_constraint=MaxNorm(3)))\n",
    "model_tuned.add(Dropout(0.5))\n",
    "model_tuned.add(Dense(1, activation='sigmoid'))\n",
    "\n",
    "early_stopping = tf.keras.callbacks.EarlyStopping(\n",
    "    monitor='val_loss', min_delta=0, patience=5, verbose=0,\n",
    "    mode='auto', baseline=None, restore_best_weights= True\n",
    ")\n",
    "\n",
    "sgd = SGD(learning_rate=0.07)\n",
    "\n",
    "model_tuned.compile(\n",
    "    optimizer = sgd,\n",
    "    loss='binary_crossentropy',\n",
    "    metrics=[tf.keras.metrics.AUC()]\n",
    ")\n",
    "\n",
    "history = model_tuned.fit(\n",
    "    train_dataset, \n",
    "    epochs=50, \n",
    "    validation_data = val_dataset,\n",
    "    callbacks=[early_stopping])"
   ]
  },
  {
   "cell_type": "markdown",
   "id": "a789db80",
   "metadata": {},
   "source": [
    "The tuning that I have done is putting dropout for 30% and lower the learning rate for stochastic gradient descent so the machine can find the optimum gradient descent. Dropout meaning I am turning off some of the random neuron from the hidden layer or maybe the input layer. Kernel constraint max norm(3) is a regularization method to penalize high weight with my loss function. I also add 1 dense layers with 14 neurons. the activation function is still relu because I believe this is a linear problem and the output activation function is sigmoid since the output can only predict 2 class not multiclass. the loss function is binary crossentropy because it is a good loss function for binary classification such as this one"
   ]
  },
  {
   "cell_type": "code",
   "execution_count": 76,
   "id": "0a68f563",
   "metadata": {},
   "outputs": [
    {
     "name": "stdout",
     "output_type": "stream",
     "text": [
      "11/11 [==============================] - 0s 3ms/step - loss: 0.4491 - auc_9: 0.8172\n"
     ]
    }
   ],
   "source": [
    "result = model_tuned.evaluate(test_dataset)"
   ]
  },
  {
   "cell_type": "markdown",
   "id": "1787c86a",
   "metadata": {},
   "source": [
    "The result is almost the same as the one before tuning, I even tried a different activation function but the result is the same."
   ]
  },
  {
   "cell_type": "code",
   "execution_count": 77,
   "id": "932e8574",
   "metadata": {},
   "outputs": [
    {
     "data": {
      "text/plain": [
       "<matplotlib.legend.Legend at 0x1ba8b897610>"
      ]
     },
     "execution_count": 77,
     "metadata": {},
     "output_type": "execute_result"
    },
    {
     "data": {
      "image/png": "[encoded data removed]",
      "text/plain": [
       "<Figure size 432x288 with 1 Axes>"
      ]
     },
     "metadata": {
      "needs_background": "light"
     },
     "output_type": "display_data"
    }
   ],
   "source": [
    "# Visualize accuracy and loss for train and validation data\n",
    "\n",
    "acc = history.history['auc_9']\n",
    "val_acc = history.history['val_auc_9']\n",
    "loss = history.history['loss']\n",
    "val_loss = history.history['val_loss']\n",
    "epochs = range(1, len(acc) + 1)\n",
    "\n",
    "plt.title('Training and validation accuracy')\n",
    "plt.plot(epochs, acc, 'k', label='Training auc')\n",
    "plt.plot(epochs, val_acc, 'y', label='Validation auc')\n",
    "plt.plot(epochs, loss, label='Training loss')\n",
    "plt.plot(epochs, val_loss, label='Validation loss')\n",
    "plt.legend()"
   ]
  },
  {
   "cell_type": "markdown",
   "id": "f23d02b2",
   "metadata": {},
   "source": [
    "Although at first the validation have higher auc than training, over the time it is getting closer and closer, I think this graph is a good fit but not a perfect fi since the training does worst than the validation."
   ]
  },
  {
   "cell_type": "markdown",
   "id": "948750a9",
   "metadata": {},
   "source": [
    "## Oversampling"
   ]
  },
  {
   "cell_type": "code",
   "execution_count": 51,
   "id": "6e25947a",
   "metadata": {},
   "outputs": [],
   "source": [
    "X_train_processed = final_pipeline.fit_transform(X_train, y_train)\n",
    "X_val_processed = final_pipeline.transform(X_val)\n",
    "\n",
    "X_train_oversample, y_train_oversample = over_pipeline.fit_resample(X_train_processed, y_train)\n",
    "X_val_oversample,y_val_oversample = over_pipeline.fit_resample(X_val_processed, y_val)"
   ]
  },
  {
   "cell_type": "code",
   "execution_count": 52,
   "id": "1c09c387",
   "metadata": {},
   "outputs": [],
   "source": [
    "tf_train = tf.data.Dataset.from_tensor_slices((X_train_oversample, y_train_oversample))\n",
    "tf_val = tf.data.Dataset.from_tensor_slices((X_val_oversample, y_val_oversample))\n",
    "train_dataset_over = tf_train.shuffle(buffer_size=128).batch(64)\n",
    "val_dataset_over = tf_val.shuffle(buffer_size=128).batch(64)"
   ]
  },
  {
   "cell_type": "code",
   "execution_count": 53,
   "id": "831d1efa",
   "metadata": {
    "scrolled": true
   },
   "outputs": [
    {
     "name": "stdout",
     "output_type": "stream",
     "text": [
      "Epoch 1/50\n",
      "123/123 [==============================] - 1s 4ms/step - loss: 0.5468 - auc_2: 0.8218 - val_loss: 0.8167 - val_auc_2: 0.7609\n",
      "Epoch 2/50\n",
      "123/123 [==============================] - 0s 3ms/step - loss: 0.5057 - auc_2: 0.8300 - val_loss: 0.7847 - val_auc_2: 0.8289\n",
      "Epoch 3/50\n",
      "123/123 [==============================] - 0s 3ms/step - loss: 0.4939 - auc_2: 0.8398 - val_loss: 0.7259 - val_auc_2: 0.8471\n",
      "Epoch 4/50\n",
      "123/123 [==============================] - 0s 3ms/step - loss: 0.4890 - auc_2: 0.8443 - val_loss: 0.7039 - val_auc_2: 0.8523\n",
      "Epoch 5/50\n",
      "123/123 [==============================] - 0s 3ms/step - loss: 0.4857 - auc_2: 0.8475 - val_loss: 0.6827 - val_auc_2: 0.8543\n",
      "Epoch 6/50\n",
      "123/123 [==============================] - 0s 3ms/step - loss: 0.4808 - auc_2: 0.8514 - val_loss: 0.6700 - val_auc_2: 0.8558\n",
      "Epoch 7/50\n",
      "123/123 [==============================] - 0s 3ms/step - loss: 0.4761 - auc_2: 0.8539 - val_loss: 0.6540 - val_auc_2: 0.8565\n",
      "Epoch 8/50\n",
      "123/123 [==============================] - 0s 3ms/step - loss: 0.4766 - auc_2: 0.8542 - val_loss: 0.6444 - val_auc_2: 0.8555\n",
      "Epoch 9/50\n",
      "123/123 [==============================] - 0s 3ms/step - loss: 0.4722 - auc_2: 0.8569 - val_loss: 0.6440 - val_auc_2: 0.8559\n",
      "Epoch 10/50\n",
      "123/123 [==============================] - 0s 3ms/step - loss: 0.4703 - auc_2: 0.8597 - val_loss: 0.6434 - val_auc_2: 0.8564\n",
      "Epoch 11/50\n",
      "123/123 [==============================] - 0s 3ms/step - loss: 0.4686 - auc_2: 0.8604 - val_loss: 0.6448 - val_auc_2: 0.8562\n",
      "Epoch 12/50\n",
      "123/123 [==============================] - 0s 3ms/step - loss: 0.4707 - auc_2: 0.8591 - val_loss: 0.6400 - val_auc_2: 0.8570\n",
      "Epoch 13/50\n",
      "123/123 [==============================] - 0s 3ms/step - loss: 0.4678 - auc_2: 0.8607 - val_loss: 0.6349 - val_auc_2: 0.8567\n",
      "Epoch 14/50\n",
      "123/123 [==============================] - 0s 3ms/step - loss: 0.4665 - auc_2: 0.8614 - val_loss: 0.6350 - val_auc_2: 0.8572\n",
      "Epoch 15/50\n",
      "123/123 [==============================] - 0s 3ms/step - loss: 0.4648 - auc_2: 0.8618 - val_loss: 0.6279 - val_auc_2: 0.8569\n",
      "Epoch 16/50\n",
      "123/123 [==============================] - 0s 3ms/step - loss: 0.4664 - auc_2: 0.8612 - val_loss: 0.6264 - val_auc_2: 0.8573\n",
      "Epoch 17/50\n",
      "123/123 [==============================] - 0s 3ms/step - loss: 0.4670 - auc_2: 0.8610 - val_loss: 0.6245 - val_auc_2: 0.8579\n",
      "Epoch 18/50\n",
      "123/123 [==============================] - 0s 3ms/step - loss: 0.4664 - auc_2: 0.8615 - val_loss: 0.6262 - val_auc_2: 0.8579\n",
      "Epoch 19/50\n",
      "123/123 [==============================] - 0s 3ms/step - loss: 0.4635 - auc_2: 0.8627 - val_loss: 0.6185 - val_auc_2: 0.8582\n",
      "Epoch 20/50\n",
      "123/123 [==============================] - 0s 3ms/step - loss: 0.4614 - auc_2: 0.8645 - val_loss: 0.6295 - val_auc_2: 0.8581\n",
      "Epoch 21/50\n",
      "123/123 [==============================] - 0s 3ms/step - loss: 0.4684 - auc_2: 0.8591 - val_loss: 0.6191 - val_auc_2: 0.8585\n",
      "Epoch 22/50\n",
      "123/123 [==============================] - 0s 3ms/step - loss: 0.4632 - auc_2: 0.8634 - val_loss: 0.6194 - val_auc_2: 0.8583\n",
      "Epoch 23/50\n",
      "123/123 [==============================] - 0s 3ms/step - loss: 0.4661 - auc_2: 0.8614 - val_loss: 0.6193 - val_auc_2: 0.8588\n",
      "Epoch 24/50\n",
      "123/123 [==============================] - 0s 3ms/step - loss: 0.4614 - auc_2: 0.8634 - val_loss: 0.6267 - val_auc_2: 0.8586\n"
     ]
    }
   ],
   "source": [
    "model_over = Sequential()\n",
    "model_over.add(Dense(10, input_shape=(17,), activation='relu', kernel_constraint=MaxNorm(3)))\n",
    "model_over.add(Dropout(0.3))\n",
    "model_over.add(Dense(1, activation='sigmoid'))\n",
    "\n",
    "early_stopping = tf.keras.callbacks.EarlyStopping(\n",
    "    monitor='val_loss', min_delta=0, patience=5, verbose=0,\n",
    "    mode='auto', baseline=None, restore_best_weights= True\n",
    ")\n",
    "\n",
    "sgd = SGD(learning_rate=0.07)\n",
    "\n",
    "model_over.compile(\n",
    "    optimizer = sgd,\n",
    "    loss='binary_crossentropy',\n",
    "    metrics=[tf.keras.metrics.AUC()]\n",
    ")\n",
    "\n",
    "history = model_over.fit(\n",
    "    train_dataset_over, \n",
    "    epochs=50, \n",
    "    validation_data = val_dataset_over,\n",
    "    callbacks=[early_stopping])"
   ]
  },
  {
   "cell_type": "code",
   "execution_count": 54,
   "id": "230f1e1e",
   "metadata": {},
   "outputs": [
    {
     "name": "stdout",
     "output_type": "stream",
     "text": [
      "11/11 [==============================] - 0s 2ms/step - loss: 0.8776 - auc_2: 0.8104\n"
     ]
    }
   ],
   "source": [
    "result = model_over.evaluate(test_dataset)"
   ]
  },
  {
   "cell_type": "markdown",
   "id": "b5282bb8",
   "metadata": {},
   "source": [
    "There is not much of a difference even after doing resampling and tuning for the Sequential ANN learning, however the training data can give higher auc score but also higher val loss."
   ]
  },
  {
   "cell_type": "markdown",
   "id": "a6fb42d5",
   "metadata": {},
   "source": [
    "## Functional Model"
   ]
  },
  {
   "cell_type": "code",
   "execution_count": 55,
   "id": "2ecdf4c2",
   "metadata": {},
   "outputs": [
    {
     "name": "stdout",
     "output_type": "stream",
     "text": [
      "Model: \"model\"\n",
      "_________________________________________________________________\n",
      " Layer (type)                Output Shape              Param #   \n",
      "=================================================================\n",
      " input_1 (InputLayer)        [(None, 17)]              0         \n",
      "                                                                 \n",
      " dense_7 (Dense)             (None, 24)                432       \n",
      "                                                                 \n",
      " dense_8 (Dense)             (None, 12)                300       \n",
      "                                                                 \n",
      " dense_9 (Dense)             (None, 1)                 13        \n",
      "                                                                 \n",
      "=================================================================\n",
      "Total params: 745\n",
      "Trainable params: 745\n",
      "Non-trainable params: 0\n",
      "_________________________________________________________________\n"
     ]
    }
   ],
   "source": [
    "from tensorflow.keras.layers import Dense, Input\n",
    "layer1 = Input(shape = (17,)) #Input layer\n",
    "layer2 = Dense(24, activation = 'relu')(layer1) #Hidden Layer\n",
    "layer3 = Dense(12, activation = 'relu')(layer2) # Hidden Layer\n",
    "output = Dense(1, activation = 'sigmoid')(layer3) #Output layer\n",
    "\n",
    "\n",
    "## All of the same optimiser, loss function and metrics for functional model \n",
    "func_model = Model(inputs = layer1, outputs = output)\n",
    "\n",
    "func_model.compile(loss=\"binary_crossentropy\", \n",
    "                   optimizer=keras.optimizers.SGD(learning_rate=0.2),\n",
    "                   metrics=[tf.keras.metrics.AUC()])\n",
    "\n",
    "\n",
    "func_model.summary()"
   ]
  },
  {
   "cell_type": "code",
   "execution_count": 56,
   "id": "7038009a",
   "metadata": {},
   "outputs": [
    {
     "name": "stdout",
     "output_type": "stream",
     "text": [
      "Epoch 1/50\n",
      "84/84 [==============================] - 1s 4ms/step - loss: 0.4478 - auc_3: 0.8176 - val_loss: 0.4201 - val_auc_3: 0.8405\n",
      "Epoch 2/50\n",
      "84/84 [==============================] - 0s 3ms/step - loss: 0.4289 - auc_3: 0.8359 - val_loss: 0.4198 - val_auc_3: 0.8426\n",
      "Epoch 3/50\n",
      "84/84 [==============================] - 0s 3ms/step - loss: 0.4245 - auc_3: 0.8393 - val_loss: 0.4145 - val_auc_3: 0.8440\n",
      "Epoch 4/50\n",
      "84/84 [==============================] - 0s 3ms/step - loss: 0.4240 - auc_3: 0.8397 - val_loss: 0.4163 - val_auc_3: 0.8434\n",
      "Epoch 5/50\n",
      "84/84 [==============================] - 0s 3ms/step - loss: 0.4201 - auc_3: 0.8433 - val_loss: 0.4145 - val_auc_3: 0.8441\n",
      "Epoch 6/50\n",
      "84/84 [==============================] - 0s 3ms/step - loss: 0.4201 - auc_3: 0.8429 - val_loss: 0.4140 - val_auc_3: 0.8449\n",
      "Epoch 7/50\n",
      "84/84 [==============================] - 0s 3ms/step - loss: 0.4178 - auc_3: 0.8452 - val_loss: 0.4138 - val_auc_3: 0.8448\n",
      "Epoch 8/50\n",
      "84/84 [==============================] - 0s 3ms/step - loss: 0.4167 - auc_3: 0.8460 - val_loss: 0.4154 - val_auc_3: 0.8443\n",
      "Epoch 9/50\n",
      "84/84 [==============================] - 0s 3ms/step - loss: 0.4155 - auc_3: 0.8472 - val_loss: 0.4140 - val_auc_3: 0.8444\n",
      "Epoch 10/50\n",
      "84/84 [==============================] - 0s 3ms/step - loss: 0.4148 - auc_3: 0.8478 - val_loss: 0.4137 - val_auc_3: 0.8451\n",
      "Epoch 11/50\n",
      "84/84 [==============================] - 0s 3ms/step - loss: 0.4151 - auc_3: 0.8473 - val_loss: 0.4170 - val_auc_3: 0.8444\n",
      "Epoch 12/50\n",
      "84/84 [==============================] - 0s 3ms/step - loss: 0.4145 - auc_3: 0.8481 - val_loss: 0.4142 - val_auc_3: 0.8453\n",
      "Epoch 13/50\n",
      "84/84 [==============================] - 0s 3ms/step - loss: 0.4128 - auc_3: 0.8497 - val_loss: 0.4136 - val_auc_3: 0.8457\n",
      "Epoch 14/50\n",
      "84/84 [==============================] - 0s 3ms/step - loss: 0.4124 - auc_3: 0.8499 - val_loss: 0.4129 - val_auc_3: 0.8463\n",
      "Epoch 15/50\n",
      "84/84 [==============================] - 0s 3ms/step - loss: 0.4117 - auc_3: 0.8507 - val_loss: 0.4150 - val_auc_3: 0.8458\n",
      "Epoch 16/50\n",
      "84/84 [==============================] - 0s 3ms/step - loss: 0.4106 - auc_3: 0.8513 - val_loss: 0.4117 - val_auc_3: 0.8467\n",
      "Epoch 17/50\n",
      "84/84 [==============================] - 0s 3ms/step - loss: 0.4113 - auc_3: 0.8507 - val_loss: 0.4132 - val_auc_3: 0.8463\n",
      "Epoch 18/50\n",
      "84/84 [==============================] - 0s 3ms/step - loss: 0.4106 - auc_3: 0.8513 - val_loss: 0.4118 - val_auc_3: 0.8465\n",
      "Epoch 19/50\n",
      "84/84 [==============================] - 0s 3ms/step - loss: 0.4089 - auc_3: 0.8527 - val_loss: 0.4138 - val_auc_3: 0.8469\n",
      "Epoch 20/50\n",
      "84/84 [==============================] - 0s 3ms/step - loss: 0.4090 - auc_3: 0.8527 - val_loss: 0.4119 - val_auc_3: 0.8482\n",
      "Epoch 21/50\n",
      "84/84 [==============================] - 0s 3ms/step - loss: 0.4081 - auc_3: 0.8538 - val_loss: 0.4121 - val_auc_3: 0.8467\n"
     ]
    }
   ],
   "source": [
    "func_history = func_model.fit(\n",
    "    train_dataset, \n",
    "    epochs=50, \n",
    "    validation_data = val_dataset,\n",
    "    callbacks=[early_stopping])"
   ]
  },
  {
   "cell_type": "code",
   "execution_count": 57,
   "id": "9badd178",
   "metadata": {},
   "outputs": [
    {
     "name": "stdout",
     "output_type": "stream",
     "text": [
      "11/11 [==============================] - 0s 2ms/step - loss: 0.4487 - auc_3: 0.8170\n"
     ]
    }
   ],
   "source": [
    "result = func_model.evaluate(test_dataset)"
   ]
  },
  {
   "cell_type": "markdown",
   "id": "4a025d46",
   "metadata": {},
   "source": [
    "The result of functional model is almost the same as the sequential model, the functional and sequential model that I make here is the same model but different architecture."
   ]
  },
  {
   "cell_type": "code",
   "execution_count": 58,
   "id": "92cf517e",
   "metadata": {},
   "outputs": [
    {
     "data": {
      "text/plain": [
       "<matplotlib.legend.Legend at 0x1ba8b51b7c0>"
      ]
     },
     "execution_count": 58,
     "metadata": {},
     "output_type": "execute_result"
    },
    {
     "data": {
      "image/png": "[encoded data removed]",
      "text/plain": [
       "<Figure size 432x288 with 1 Axes>"
      ]
     },
     "metadata": {
      "needs_background": "light"
     },
     "output_type": "display_data"
    }
   ],
   "source": [
    "# Visualize accuracy and loss for train and validation data\n",
    "\n",
    "acc = func_history.history['auc_3']\n",
    "val_acc = func_history.history['val_auc_3']\n",
    "loss = func_history.history['loss']\n",
    "val_loss = func_history.history['val_loss']\n",
    "epochs = range(1, len(acc) + 1)\n",
    "\n",
    "plt.title('Training and validation accuracy')\n",
    "plt.plot(epochs, acc, 'k', label='Training auc')\n",
    "plt.plot(epochs, val_acc, 'y', label='Validation auc')\n",
    "plt.plot(epochs, loss, label='Training loss')\n",
    "plt.plot(epochs, val_loss, label='Validation loss')\n",
    "plt.legend()"
   ]
  },
  {
   "cell_type": "markdown",
   "id": "654bacd1",
   "metadata": {},
   "source": [
    "The result for our functional model is similar with the sequential model, this is because the problem of this data is not too complex so it doesn't need any complex model to learn this dataset."
   ]
  },
  {
   "cell_type": "markdown",
   "id": "1bc4e597",
   "metadata": {},
   "source": [
    "## Functional Model Tuning"
   ]
  },
  {
   "cell_type": "code",
   "execution_count": 47,
   "id": "da393645",
   "metadata": {},
   "outputs": [
    {
     "name": "stdout",
     "output_type": "stream",
     "text": [
      "Model: \"model_1\"\n",
      "__________________________________________________________________________________________________\n",
      " Layer (type)                   Output Shape         Param #     Connected to                     \n",
      "==================================================================================================\n",
      " input_2 (InputLayer)           [(None, 17)]         0           []                               \n",
      "                                                                                                  \n",
      " dense_3 (Dense)                (None, 24)           432         ['input_2[0][0]']                \n",
      "                                                                                                  \n",
      " dropout_1 (Dropout)            (None, 24)           0           ['dense_3[0][0]']                \n",
      "                                                                                                  \n",
      " dense_4 (Dense)                (None, 12)           300         ['dropout_1[0][0]']              \n",
      "                                                                                                  \n",
      " concatenate_1 (Concatenate)    (None, 29)           0           ['input_2[0][0]',                \n",
      "                                                                  'dense_4[0][0]']                \n",
      "                                                                                                  \n",
      " dense_5 (Dense)                (None, 1)            30          ['concatenate_1[0][0]']          \n",
      "                                                                                                  \n",
      "==================================================================================================\n",
      "Total params: 762\n",
      "Trainable params: 762\n",
      "Non-trainable params: 0\n",
      "__________________________________________________________________________________________________\n"
     ]
    }
   ],
   "source": [
    "from tensorflow.keras.layers import Dense, Input\n",
    "layer1 = Input(shape = (17,)) #Input layer\n",
    "layer2 = Dense(24, activation = 'elu')(layer1) #Hidden Layer with elu activation function\n",
    "layer3 = Dropout(0.5)(layer2) #Dropout layer to drop 50% of unused neuron\n",
    "layer4 = Dense(12, activation = 'elu')(layer3) # Hidden Layer to simplify to 12 neuron and elu activation function\n",
    "concat = keras.layers.concatenate([layer1, layer4]) # Concatenating input layer with layer 3 \n",
    "output = Dense(1, activation = 'sigmoid')(concat) #Output layer\n",
    "\n",
    "\n",
    "## All of the same optimiser, loss function and metrics for functional model \n",
    "func_model = Model(inputs = layer1, outputs = output)\n",
    "\n",
    "func_model.compile(loss=\"binary_crossentropy\", \n",
    "                   optimizer=keras.optimizers.SGD(learning_rate=0.05),\n",
    "                   metrics=[tf.keras.metrics.AUC()])\n",
    "\n",
    "early_stopping = tf.keras.callbacks.EarlyStopping(\n",
    "    monitor='val_loss', min_delta=0, patience=5, verbose=0,\n",
    "    mode='auto', baseline=None, restore_best_weights= True\n",
    ")\n",
    "\n",
    "func_model.summary()"
   ]
  },
  {
   "cell_type": "markdown",
   "id": "58030257",
   "metadata": {},
   "source": [
    "Here I add Dropout in functional model just as in Sequential Model and I make it a little bit complicated by concatting the result of layer 4 with input layer before it goes into the output layer. I also lower the learning rate so the sgd can go 'descent' slowly to find the best weight. because sgd takes a long time, I also input higher number for epoch so the machine can learn slowly and keep improving. However, I will still put early stopping."
   ]
  },
  {
   "cell_type": "code",
   "execution_count": 48,
   "id": "969cec57",
   "metadata": {},
   "outputs": [
    {
     "name": "stdout",
     "output_type": "stream",
     "text": [
      "Epoch 1/100\n",
      "84/84 [==============================] - 3s 5ms/step - loss: 0.5206 - auc_1: 0.7353 - val_loss: 0.4412 - val_auc_1: 0.8236\n",
      "Epoch 2/100\n",
      "84/84 [==============================] - 0s 3ms/step - loss: 0.4557 - auc_1: 0.8077 - val_loss: 0.4324 - val_auc_1: 0.8291\n",
      "Epoch 3/100\n",
      "84/84 [==============================] - 0s 3ms/step - loss: 0.4445 - auc_1: 0.8201 - val_loss: 0.4281 - val_auc_1: 0.8323\n",
      "Epoch 4/100\n",
      "84/84 [==============================] - 0s 3ms/step - loss: 0.4393 - auc_1: 0.8248 - val_loss: 0.4266 - val_auc_1: 0.8337\n",
      "Epoch 5/100\n",
      "84/84 [==============================] - 0s 3ms/step - loss: 0.4368 - auc_1: 0.8273 - val_loss: 0.4250 - val_auc_1: 0.8353\n",
      "Epoch 6/100\n",
      "84/84 [==============================] - 0s 3ms/step - loss: 0.4340 - auc_1: 0.8303 - val_loss: 0.4234 - val_auc_1: 0.8366\n",
      "Epoch 7/100\n",
      "84/84 [==============================] - 0s 3ms/step - loss: 0.4350 - auc_1: 0.8296 - val_loss: 0.4224 - val_auc_1: 0.8374\n",
      "Epoch 8/100\n",
      "84/84 [==============================] - 0s 3ms/step - loss: 0.4333 - auc_1: 0.8309 - val_loss: 0.4219 - val_auc_1: 0.8375\n",
      "Epoch 9/100\n",
      "84/84 [==============================] - 0s 3ms/step - loss: 0.4277 - auc_1: 0.8366 - val_loss: 0.4210 - val_auc_1: 0.8387\n",
      "Epoch 10/100\n",
      "84/84 [==============================] - 0s 4ms/step - loss: 0.4268 - auc_1: 0.8371 - val_loss: 0.4201 - val_auc_1: 0.8394\n",
      "Epoch 11/100\n",
      "84/84 [==============================] - 0s 4ms/step - loss: 0.4284 - auc_1: 0.8355 - val_loss: 0.4200 - val_auc_1: 0.8397\n",
      "Epoch 12/100\n",
      "84/84 [==============================] - 0s 3ms/step - loss: 0.4263 - auc_1: 0.8374 - val_loss: 0.4192 - val_auc_1: 0.8401\n",
      "Epoch 13/100\n",
      "84/84 [==============================] - 0s 3ms/step - loss: 0.4262 - auc_1: 0.8374 - val_loss: 0.4187 - val_auc_1: 0.8409\n",
      "Epoch 14/100\n",
      "84/84 [==============================] - 0s 3ms/step - loss: 0.4263 - auc_1: 0.8372 - val_loss: 0.4181 - val_auc_1: 0.8416\n",
      "Epoch 15/100\n",
      "84/84 [==============================] - 0s 3ms/step - loss: 0.4247 - auc_1: 0.8390 - val_loss: 0.4179 - val_auc_1: 0.8417\n",
      "Epoch 16/100\n",
      "84/84 [==============================] - 0s 3ms/step - loss: 0.4252 - auc_1: 0.8386 - val_loss: 0.4174 - val_auc_1: 0.8422\n",
      "Epoch 17/100\n",
      "84/84 [==============================] - 0s 3ms/step - loss: 0.4250 - auc_1: 0.8387 - val_loss: 0.4173 - val_auc_1: 0.8423\n",
      "Epoch 18/100\n",
      "84/84 [==============================] - 0s 3ms/step - loss: 0.4237 - auc_1: 0.8400 - val_loss: 0.4169 - val_auc_1: 0.8421\n",
      "Epoch 19/100\n",
      "84/84 [==============================] - 0s 3ms/step - loss: 0.4239 - auc_1: 0.8396 - val_loss: 0.4166 - val_auc_1: 0.8425\n",
      "Epoch 20/100\n",
      "84/84 [==============================] - 0s 4ms/step - loss: 0.4234 - auc_1: 0.8403 - val_loss: 0.4163 - val_auc_1: 0.8431\n",
      "Epoch 21/100\n",
      "84/84 [==============================] - 0s 3ms/step - loss: 0.4239 - auc_1: 0.8397 - val_loss: 0.4165 - val_auc_1: 0.8429\n",
      "Epoch 22/100\n",
      "84/84 [==============================] - 0s 3ms/step - loss: 0.4234 - auc_1: 0.8402 - val_loss: 0.4157 - val_auc_1: 0.8434\n",
      "Epoch 23/100\n",
      "84/84 [==============================] - 0s 3ms/step - loss: 0.4233 - auc_1: 0.8402 - val_loss: 0.4157 - val_auc_1: 0.8434\n",
      "Epoch 24/100\n",
      "84/84 [==============================] - 0s 3ms/step - loss: 0.4228 - auc_1: 0.8407 - val_loss: 0.4157 - val_auc_1: 0.8435\n",
      "Epoch 25/100\n",
      "84/84 [==============================] - 0s 4ms/step - loss: 0.4235 - auc_1: 0.8402 - val_loss: 0.4153 - val_auc_1: 0.8437\n",
      "Epoch 26/100\n",
      "84/84 [==============================] - 0s 3ms/step - loss: 0.4227 - auc_1: 0.8406 - val_loss: 0.4148 - val_auc_1: 0.8443\n",
      "Epoch 27/100\n",
      "84/84 [==============================] - 0s 3ms/step - loss: 0.4223 - auc_1: 0.8412 - val_loss: 0.4147 - val_auc_1: 0.8445\n",
      "Epoch 28/100\n",
      "84/84 [==============================] - 0s 3ms/step - loss: 0.4223 - auc_1: 0.8411 - val_loss: 0.4144 - val_auc_1: 0.8445\n",
      "Epoch 29/100\n",
      "84/84 [==============================] - 0s 3ms/step - loss: 0.4233 - auc_1: 0.8401 - val_loss: 0.4147 - val_auc_1: 0.8443\n",
      "Epoch 30/100\n",
      "84/84 [==============================] - 0s 3ms/step - loss: 0.4231 - auc_1: 0.8402 - val_loss: 0.4143 - val_auc_1: 0.8444\n",
      "Epoch 31/100\n",
      "84/84 [==============================] - 0s 3ms/step - loss: 0.4221 - auc_1: 0.8413 - val_loss: 0.4142 - val_auc_1: 0.8442\n",
      "Epoch 32/100\n",
      "84/84 [==============================] - 0s 3ms/step - loss: 0.4222 - auc_1: 0.8412 - val_loss: 0.4142 - val_auc_1: 0.8446\n",
      "Epoch 33/100\n",
      "84/84 [==============================] - 0s 3ms/step - loss: 0.4225 - auc_1: 0.8408 - val_loss: 0.4139 - val_auc_1: 0.8448\n",
      "Epoch 34/100\n",
      "84/84 [==============================] - 0s 3ms/step - loss: 0.4219 - auc_1: 0.8412 - val_loss: 0.4139 - val_auc_1: 0.8447\n",
      "Epoch 35/100\n",
      "84/84 [==============================] - 0s 3ms/step - loss: 0.4217 - auc_1: 0.8417 - val_loss: 0.4138 - val_auc_1: 0.8447\n",
      "Epoch 36/100\n",
      "84/84 [==============================] - 0s 3ms/step - loss: 0.4219 - auc_1: 0.8416 - val_loss: 0.4137 - val_auc_1: 0.8450\n",
      "Epoch 37/100\n",
      "84/84 [==============================] - 0s 3ms/step - loss: 0.4213 - auc_1: 0.8420 - val_loss: 0.4135 - val_auc_1: 0.8450\n",
      "Epoch 38/100\n",
      "84/84 [==============================] - 0s 3ms/step - loss: 0.4216 - auc_1: 0.8417 - val_loss: 0.4134 - val_auc_1: 0.8453\n",
      "Epoch 39/100\n",
      "84/84 [==============================] - 0s 3ms/step - loss: 0.4220 - auc_1: 0.8413 - val_loss: 0.4136 - val_auc_1: 0.8448\n",
      "Epoch 40/100\n",
      "84/84 [==============================] - 0s 3ms/step - loss: 0.4208 - auc_1: 0.8424 - val_loss: 0.4135 - val_auc_1: 0.8451\n",
      "Epoch 41/100\n",
      "84/84 [==============================] - 0s 4ms/step - loss: 0.4218 - auc_1: 0.8414 - val_loss: 0.4133 - val_auc_1: 0.8448\n",
      "Epoch 42/100\n",
      "84/84 [==============================] - 0s 3ms/step - loss: 0.4206 - auc_1: 0.8427 - val_loss: 0.4130 - val_auc_1: 0.8455\n",
      "Epoch 43/100\n",
      "84/84 [==============================] - 0s 3ms/step - loss: 0.4207 - auc_1: 0.8424 - val_loss: 0.4131 - val_auc_1: 0.8456\n",
      "Epoch 44/100\n",
      "84/84 [==============================] - 0s 3ms/step - loss: 0.4212 - auc_1: 0.8420 - val_loss: 0.4133 - val_auc_1: 0.8452\n",
      "Epoch 45/100\n",
      "84/84 [==============================] - 0s 3ms/step - loss: 0.4209 - auc_1: 0.8424 - val_loss: 0.4129 - val_auc_1: 0.8452\n",
      "Epoch 46/100\n",
      "84/84 [==============================] - 0s 3ms/step - loss: 0.4207 - auc_1: 0.8425 - val_loss: 0.4131 - val_auc_1: 0.8451\n",
      "Epoch 47/100\n",
      "84/84 [==============================] - 0s 3ms/step - loss: 0.4205 - auc_1: 0.8426 - val_loss: 0.4130 - val_auc_1: 0.8451\n",
      "Epoch 48/100\n",
      "84/84 [==============================] - 0s 3ms/step - loss: 0.4211 - auc_1: 0.8421 - val_loss: 0.4127 - val_auc_1: 0.8456\n",
      "Epoch 49/100\n",
      "84/84 [==============================] - 0s 3ms/step - loss: 0.4206 - auc_1: 0.8426 - val_loss: 0.4123 - val_auc_1: 0.8459\n",
      "Epoch 50/100\n",
      "84/84 [==============================] - 0s 3ms/step - loss: 0.4204 - auc_1: 0.8427 - val_loss: 0.4123 - val_auc_1: 0.8460\n",
      "Epoch 51/100\n",
      "84/84 [==============================] - 0s 3ms/step - loss: 0.4207 - auc_1: 0.8425 - val_loss: 0.4122 - val_auc_1: 0.8462\n",
      "Epoch 52/100\n",
      "84/84 [==============================] - 0s 3ms/step - loss: 0.4209 - auc_1: 0.8422 - val_loss: 0.4127 - val_auc_1: 0.8459\n",
      "Epoch 53/100\n",
      "84/84 [==============================] - 0s 3ms/step - loss: 0.4203 - auc_1: 0.8430 - val_loss: 0.4123 - val_auc_1: 0.8460\n",
      "Epoch 54/100\n",
      "84/84 [==============================] - 0s 3ms/step - loss: 0.4205 - auc_1: 0.8427 - val_loss: 0.4122 - val_auc_1: 0.8460\n",
      "Epoch 55/100\n",
      "84/84 [==============================] - 0s 3ms/step - loss: 0.4197 - auc_1: 0.8431 - val_loss: 0.4121 - val_auc_1: 0.8460\n",
      "Epoch 56/100\n",
      "84/84 [==============================] - 0s 3ms/step - loss: 0.4211 - auc_1: 0.8420 - val_loss: 0.4119 - val_auc_1: 0.8461\n",
      "Epoch 57/100\n",
      "84/84 [==============================] - 0s 3ms/step - loss: 0.4204 - auc_1: 0.8428 - val_loss: 0.4118 - val_auc_1: 0.8463\n",
      "Epoch 58/100\n",
      "84/84 [==============================] - 0s 3ms/step - loss: 0.4209 - auc_1: 0.8423 - val_loss: 0.4118 - val_auc_1: 0.8465\n",
      "Epoch 59/100\n",
      "84/84 [==============================] - 0s 3ms/step - loss: 0.4206 - auc_1: 0.8426 - val_loss: 0.4116 - val_auc_1: 0.8465\n",
      "Epoch 60/100\n",
      "84/84 [==============================] - 0s 3ms/step - loss: 0.4202 - auc_1: 0.8429 - val_loss: 0.4114 - val_auc_1: 0.8467\n",
      "Epoch 61/100\n",
      "84/84 [==============================] - 0s 3ms/step - loss: 0.4210 - auc_1: 0.8422 - val_loss: 0.4115 - val_auc_1: 0.8467\n",
      "Epoch 62/100\n",
      "84/84 [==============================] - 0s 3ms/step - loss: 0.4211 - auc_1: 0.8421 - val_loss: 0.4112 - val_auc_1: 0.8468\n",
      "Epoch 63/100\n",
      "84/84 [==============================] - 0s 3ms/step - loss: 0.4204 - auc_1: 0.8429 - val_loss: 0.4116 - val_auc_1: 0.8467\n",
      "Epoch 64/100\n",
      "84/84 [==============================] - 0s 3ms/step - loss: 0.4201 - auc_1: 0.8430 - val_loss: 0.4115 - val_auc_1: 0.8465\n",
      "Epoch 65/100\n",
      "84/84 [==============================] - 0s 3ms/step - loss: 0.4197 - auc_1: 0.8433 - val_loss: 0.4113 - val_auc_1: 0.8467\n",
      "Epoch 66/100\n",
      "84/84 [==============================] - 0s 4ms/step - loss: 0.4203 - auc_1: 0.8427 - val_loss: 0.4111 - val_auc_1: 0.8470\n",
      "Epoch 67/100\n",
      "84/84 [==============================] - 0s 3ms/step - loss: 0.4202 - auc_1: 0.8429 - val_loss: 0.4111 - val_auc_1: 0.8471\n",
      "Epoch 68/100\n",
      "84/84 [==============================] - 0s 4ms/step - loss: 0.4206 - auc_1: 0.8426 - val_loss: 0.4112 - val_auc_1: 0.8472\n",
      "Epoch 69/100\n",
      "84/84 [==============================] - 0s 4ms/step - loss: 0.4203 - auc_1: 0.8429 - val_loss: 0.4112 - val_auc_1: 0.8471\n",
      "Epoch 70/100\n",
      "84/84 [==============================] - 0s 4ms/step - loss: 0.4196 - auc_1: 0.8434 - val_loss: 0.4111 - val_auc_1: 0.8468\n",
      "Epoch 71/100\n",
      "84/84 [==============================] - 0s 4ms/step - loss: 0.4204 - auc_1: 0.8427 - val_loss: 0.4109 - val_auc_1: 0.8471\n",
      "Epoch 72/100\n",
      "84/84 [==============================] - 0s 3ms/step - loss: 0.4201 - auc_1: 0.8429 - val_loss: 0.4110 - val_auc_1: 0.8472\n",
      "Epoch 73/100\n",
      "84/84 [==============================] - 0s 4ms/step - loss: 0.4206 - auc_1: 0.8425 - val_loss: 0.4107 - val_auc_1: 0.8475\n",
      "Epoch 74/100\n",
      "84/84 [==============================] - 0s 3ms/step - loss: 0.4195 - auc_1: 0.8436 - val_loss: 0.4108 - val_auc_1: 0.8472\n",
      "Epoch 75/100\n",
      "84/84 [==============================] - 0s 3ms/step - loss: 0.4195 - auc_1: 0.8433 - val_loss: 0.4107 - val_auc_1: 0.8475\n",
      "Epoch 76/100\n",
      "84/84 [==============================] - 0s 4ms/step - loss: 0.4201 - auc_1: 0.8431 - val_loss: 0.4107 - val_auc_1: 0.8475\n",
      "Epoch 77/100\n",
      "84/84 [==============================] - 0s 3ms/step - loss: 0.4206 - auc_1: 0.8425 - val_loss: 0.4108 - val_auc_1: 0.8470\n",
      "Epoch 78/100\n",
      "84/84 [==============================] - 0s 3ms/step - loss: 0.4192 - auc_1: 0.8438 - val_loss: 0.4106 - val_auc_1: 0.8473\n",
      "Epoch 79/100\n",
      "84/84 [==============================] - 0s 3ms/step - loss: 0.4200 - auc_1: 0.8432 - val_loss: 0.4105 - val_auc_1: 0.8475\n",
      "Epoch 80/100\n",
      "84/84 [==============================] - 0s 3ms/step - loss: 0.4197 - auc_1: 0.8435 - val_loss: 0.4105 - val_auc_1: 0.8473\n",
      "Epoch 81/100\n",
      "84/84 [==============================] - 0s 3ms/step - loss: 0.4190 - auc_1: 0.8441 - val_loss: 0.4107 - val_auc_1: 0.8473\n",
      "Epoch 82/100\n",
      "84/84 [==============================] - 0s 3ms/step - loss: 0.4195 - auc_1: 0.8436 - val_loss: 0.4108 - val_auc_1: 0.8472\n",
      "Epoch 83/100\n",
      "84/84 [==============================] - 0s 3ms/step - loss: 0.4193 - auc_1: 0.8436 - val_loss: 0.4106 - val_auc_1: 0.8471\n",
      "Epoch 84/100\n",
      "84/84 [==============================] - 0s 3ms/step - loss: 0.4192 - auc_1: 0.8438 - val_loss: 0.4106 - val_auc_1: 0.8470\n"
     ]
    }
   ],
   "source": [
    "func_history2 = func_model.fit(\n",
    "    train_dataset, \n",
    "    epochs=100, \n",
    "    validation_data = val_dataset,\n",
    "    callbacks=[early_stopping])"
   ]
  },
  {
   "cell_type": "code",
   "execution_count": 61,
   "id": "e3a5d06f",
   "metadata": {},
   "outputs": [
    {
     "name": "stdout",
     "output_type": "stream",
     "text": [
      "11/11 [==============================] - 0s 2ms/step - loss: 0.4496 - auc_4: 0.8169\n"
     ]
    }
   ],
   "source": [
    "result = func_model.evaluate(test_dataset)"
   ]
  },
  {
   "cell_type": "markdown",
   "id": "eb321a37",
   "metadata": {},
   "source": [
    "The result is almost the same after tuning"
   ]
  },
  {
   "cell_type": "code",
   "execution_count": 49,
   "id": "821449a3",
   "metadata": {},
   "outputs": [
    {
     "data": {
      "text/plain": [
       "<matplotlib.legend.Legend at 0x2a3a8c1d060>"
      ]
     },
     "execution_count": 49,
     "metadata": {},
     "output_type": "execute_result"
    },
    {
     "data": {
      "image/png": "[encoded data removed]",
      "text/plain": [
       "<Figure size 432x288 with 1 Axes>"
      ]
     },
     "metadata": {
      "needs_background": "light"
     },
     "output_type": "display_data"
    }
   ],
   "source": [
    "acc = func_history2.history['auc_1']\n",
    "val_acc = func_history2.history['val_auc_1']\n",
    "loss = func_history2.history['loss']\n",
    "val_loss = func_history2.history['val_loss']\n",
    "epochs = range(1, len(acc) + 1)\n",
    "\n",
    "plt.title('Training and validation accuracy')\n",
    "plt.plot(epochs, acc, 'k', label='Training auc')\n",
    "plt.plot(epochs, val_acc, 'y', label='Validation auc')\n",
    "plt.plot(epochs, loss, label='Training loss')\n",
    "plt.plot(epochs, val_loss, label='Validation loss')\n",
    "plt.legend()"
   ]
  },
  {
   "cell_type": "markdown",
   "id": "f2ef98d5",
   "metadata": {},
   "source": [
    "This Functional model after tuning is unique because the initial accuracy is already good and it almost overlap with the validation dataset. This model is a good fit by looking at the graph."
   ]
  },
  {
   "cell_type": "markdown",
   "id": "e4884296",
   "metadata": {},
   "source": [
    "## Inferencing\n",
    "\n",
    "The Model with the best result is tuned model, let's try to use the model for data after inference"
   ]
  },
  {
   "cell_type": "code",
   "execution_count": 64,
   "id": "15eda0f6",
   "metadata": {},
   "outputs": [],
   "source": [
    "# Splitting feature and target\n",
    "X_inf = data_inf.drop('Churn', axis = 1)\n",
    "y_inf = pd.DataFrame(data_inf.Churn)"
   ]
  },
  {
   "cell_type": "code",
   "execution_count": 65,
   "id": "6e26f23d",
   "metadata": {},
   "outputs": [],
   "source": [
    "# Applying preprocessing pipeline\n",
    "X_inf_processed = final_pipeline.transform(X_inf)\n",
    "y_inf_encoded = encoder_target.transform(y_inf)"
   ]
  },
  {
   "cell_type": "code",
   "execution_count": 83,
   "id": "3143ff22",
   "metadata": {},
   "outputs": [
    {
     "name": "stdout",
     "output_type": "stream",
     "text": [
      "1/1 [==============================] - 0s 19ms/step - loss: 0.2510 - auc_9: 1.0000\n"
     ]
    }
   ],
   "source": [
    "res_inf = model_tuned.evaluate(X_inf_processed,y_inf_encoded)"
   ]
  },
  {
   "cell_type": "markdown",
   "id": "43e5c3eb",
   "metadata": {},
   "source": [
    "Wow, our model have a very high auc score and low loss. "
   ]
  },
  {
   "cell_type": "markdown",
   "id": "2a07baed",
   "metadata": {},
   "source": [
    "## Conclusion\n",
    "\n",
    "1. The type of contract is the one heavily influencing churn rate with chi square test\n",
    "2. The best ANN model is the sequential ANN model after tuning, however the difference between each other is not too distinct, hence it cannot be said that the model is the best after all.\n",
    "3. Lowering SGD learning rate may take more time than high learning rate, but tend to give better result and lower loss\n",
    "4. To make more complex model, functional type of model is better"
   ]
  }
 ],
 "metadata": {
  "kernelspec": {
   "display_name": "Python 3 (ipykernel)",
   "language": "python",
   "name": "python3"
  },
  "language_info": {
   "codemirror_mode": {
    "name": "ipython",
    "version": 3
   },
   "file_extension": ".py",
   "mimetype": "text/x-python",
   "name": "python",
   "nbconvert_exporter": "python",
   "pygments_lexer": "ipython3",
   "version": "3.10.4"
  }
 },
 "nbformat": 4,
 "nbformat_minor": 5
}
