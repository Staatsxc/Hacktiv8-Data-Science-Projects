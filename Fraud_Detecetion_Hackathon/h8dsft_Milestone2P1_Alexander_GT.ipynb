{
 "cells": [
  {
   "cell_type": "markdown",
   "metadata": {},
   "source": [
    "## Milestone_2 Vehicle Loan Default Machine Learning"
   ]
  },
  {
   "cell_type": "markdown",
   "metadata": {},
   "source": [
    "### Name : Alexander Greateine Tanaku\n",
    "### Class: FTDS - 014"
   ]
  },
  {
   "cell_type": "markdown",
   "metadata": {},
   "source": [
    "## Introduction\n",
    "\n",
    "Machine learning are applicable throughout many industries and machine learning can really help our work making everyday task easier. Financial industries and services oftenly use classification machine learning model to help detect fraud or to give basic assesment of credit card approval like this one. Credit card approval is a crucial thing because if a person default to pay, it will incur losses to the company and bad for our cashflow. That's why making a good machine learning model to help solve this problem is a big help. We need to analyze whether a person will be approved or not in the future with good efficiency and accuracy with machine learning model and that is my goal here."
   ]
  },
  {
   "cell_type": "markdown",
   "metadata": {},
   "source": [
    "## Objectives\n",
    "1. Do a data analysis from the dataset about financial data\n",
    "2. Make a machine learning model to predict loan default."
   ]
  },
  {
   "cell_type": "markdown",
   "metadata": {},
   "source": [
    "## Import Libraries"
   ]
  },
  {
   "cell_type": "code",
   "execution_count": 62,
   "metadata": {},
   "outputs": [],
   "source": [
    "import pandas as pd\n",
    "import numpy as np\n",
    "import matplotlib.pyplot as plt\n",
    "import seaborn as sns\n",
    "from sklearn.model_selection import train_test_split\n",
    "from feature_engine.outliers import Winsorizer\n",
    "from sklearn.preprocessing import OrdinalEncoder\n",
    "from sklearn.preprocessing import StandardScaler\n",
    "from imblearn.over_sampling import SMOTE\n",
    "from statsmodels.stats.outliers_influence import variance_inflation_factor\n",
    "from scipy.special import logsumexp\n",
    "from sklearn.decomposition import PCA\n",
    "from sklearn.metrics import accuracy_score,classification_report,ConfusionMatrixDisplay,confusion_matrix,roc_auc_score\n",
    "from sklearn.linear_model  import LogisticRegression\n",
    "from sklearn.ensemble import RandomForestClassifier\n",
    "from sklearn.ensemble import AdaBoostClassifier\n",
    "from sklearn.tree import DecisionTreeClassifier\n",
    "from sklearn.metrics import roc_curve\n",
    "from sklearn.model_selection import cross_val_score\n",
    "from sklearn.model_selection import GridSearchCV\n",
    "from sklearn.compose import ColumnTransformer\n",
    "from sklearn.pipeline import make_pipeline\n",
    "from sklearn.impute import SimpleImputer\n",
    "import pickle"
   ]
  },
  {
   "cell_type": "markdown",
   "metadata": {},
   "source": [
    "## Loading Dataset"
   ]
  },
  {
   "cell_type": "code",
   "execution_count": 2,
   "metadata": {},
   "outputs": [
    {
     "data": {
      "text/html": [
       "<div>\n",
       "<style scoped>\n",
       "    .dataframe tbody tr th:only-of-type {\n",
       "        vertical-align: middle;\n",
       "    }\n",
       "\n",
       "    .dataframe tbody tr th {\n",
       "        vertical-align: top;\n",
       "    }\n",
       "\n",
       "    .dataframe thead th {\n",
       "        text-align: right;\n",
       "    }\n",
       "</style>\n",
       "<table border=\"1\" class=\"dataframe\">\n",
       "  <thead>\n",
       "    <tr style=\"text-align: right;\">\n",
       "      <th></th>\n",
       "      <th>UNIQUEID</th>\n",
       "      <th>DISBURSED_AMOUNT</th>\n",
       "      <th>ASSET_COST</th>\n",
       "      <th>LTV</th>\n",
       "      <th>BRANCH_ID</th>\n",
       "      <th>SUPPLIER_ID</th>\n",
       "      <th>MANUFACTURER_ID</th>\n",
       "      <th>CURRENT_PINCODE_ID</th>\n",
       "      <th>DATE_OF_BIRTH</th>\n",
       "      <th>EMPLOYMENT_TYPE</th>\n",
       "      <th>...</th>\n",
       "      <th>SEC_SANCTIONED_AMOUNT</th>\n",
       "      <th>SEC_DISBURSED_AMOUNT</th>\n",
       "      <th>PRIMARY_INSTAL_AMT</th>\n",
       "      <th>SEC_INSTAL_AMT</th>\n",
       "      <th>NEW_ACCTS_IN_LAST_SIX_MONTHS</th>\n",
       "      <th>DELINQUENT_ACCTS_IN_LAST_SIX_MONTHS</th>\n",
       "      <th>AVERAGE_ACCT_AGE</th>\n",
       "      <th>CREDIT_HISTORY_LENGTH</th>\n",
       "      <th>NO_OF_INQUIRIES</th>\n",
       "      <th>LOAN_DEFAULT</th>\n",
       "    </tr>\n",
       "  </thead>\n",
       "  <tbody>\n",
       "    <tr>\n",
       "      <th>0</th>\n",
       "      <td>420825</td>\n",
       "      <td>50578</td>\n",
       "      <td>58400</td>\n",
       "      <td>89.55</td>\n",
       "      <td>67</td>\n",
       "      <td>22807</td>\n",
       "      <td>45</td>\n",
       "      <td>1441</td>\n",
       "      <td>01-01-1984</td>\n",
       "      <td>Salaried</td>\n",
       "      <td>...</td>\n",
       "      <td>0</td>\n",
       "      <td>0</td>\n",
       "      <td>0</td>\n",
       "      <td>0</td>\n",
       "      <td>0</td>\n",
       "      <td>0</td>\n",
       "      <td>0yrs 0mon</td>\n",
       "      <td>0yrs 0mon</td>\n",
       "      <td>0</td>\n",
       "      <td>0</td>\n",
       "    </tr>\n",
       "    <tr>\n",
       "      <th>1</th>\n",
       "      <td>537409</td>\n",
       "      <td>47145</td>\n",
       "      <td>65550</td>\n",
       "      <td>73.23</td>\n",
       "      <td>67</td>\n",
       "      <td>22807</td>\n",
       "      <td>45</td>\n",
       "      <td>1502</td>\n",
       "      <td>31-07-1985</td>\n",
       "      <td>Self employed</td>\n",
       "      <td>...</td>\n",
       "      <td>0</td>\n",
       "      <td>0</td>\n",
       "      <td>1991</td>\n",
       "      <td>0</td>\n",
       "      <td>0</td>\n",
       "      <td>1</td>\n",
       "      <td>1yrs 11mon</td>\n",
       "      <td>1yrs 11mon</td>\n",
       "      <td>0</td>\n",
       "      <td>1</td>\n",
       "    </tr>\n",
       "    <tr>\n",
       "      <th>2</th>\n",
       "      <td>417566</td>\n",
       "      <td>53278</td>\n",
       "      <td>61360</td>\n",
       "      <td>89.63</td>\n",
       "      <td>67</td>\n",
       "      <td>22807</td>\n",
       "      <td>45</td>\n",
       "      <td>1497</td>\n",
       "      <td>24-08-1985</td>\n",
       "      <td>Self employed</td>\n",
       "      <td>...</td>\n",
       "      <td>0</td>\n",
       "      <td>0</td>\n",
       "      <td>0</td>\n",
       "      <td>0</td>\n",
       "      <td>0</td>\n",
       "      <td>0</td>\n",
       "      <td>0yrs 0mon</td>\n",
       "      <td>0yrs 0mon</td>\n",
       "      <td>0</td>\n",
       "      <td>0</td>\n",
       "    </tr>\n",
       "    <tr>\n",
       "      <th>3</th>\n",
       "      <td>624493</td>\n",
       "      <td>57513</td>\n",
       "      <td>66113</td>\n",
       "      <td>88.48</td>\n",
       "      <td>67</td>\n",
       "      <td>22807</td>\n",
       "      <td>45</td>\n",
       "      <td>1501</td>\n",
       "      <td>30-12-1993</td>\n",
       "      <td>Self employed</td>\n",
       "      <td>...</td>\n",
       "      <td>0</td>\n",
       "      <td>0</td>\n",
       "      <td>31</td>\n",
       "      <td>0</td>\n",
       "      <td>0</td>\n",
       "      <td>0</td>\n",
       "      <td>0yrs 8mon</td>\n",
       "      <td>1yrs 3mon</td>\n",
       "      <td>1</td>\n",
       "      <td>1</td>\n",
       "    </tr>\n",
       "    <tr>\n",
       "      <th>4</th>\n",
       "      <td>539055</td>\n",
       "      <td>52378</td>\n",
       "      <td>60300</td>\n",
       "      <td>88.39</td>\n",
       "      <td>67</td>\n",
       "      <td>22807</td>\n",
       "      <td>45</td>\n",
       "      <td>1495</td>\n",
       "      <td>09-12-1977</td>\n",
       "      <td>Self employed</td>\n",
       "      <td>...</td>\n",
       "      <td>0</td>\n",
       "      <td>0</td>\n",
       "      <td>0</td>\n",
       "      <td>0</td>\n",
       "      <td>0</td>\n",
       "      <td>0</td>\n",
       "      <td>0yrs 0mon</td>\n",
       "      <td>0yrs 0mon</td>\n",
       "      <td>1</td>\n",
       "      <td>1</td>\n",
       "    </tr>\n",
       "    <tr>\n",
       "      <th>...</th>\n",
       "      <td>...</td>\n",
       "      <td>...</td>\n",
       "      <td>...</td>\n",
       "      <td>...</td>\n",
       "      <td>...</td>\n",
       "      <td>...</td>\n",
       "      <td>...</td>\n",
       "      <td>...</td>\n",
       "      <td>...</td>\n",
       "      <td>...</td>\n",
       "      <td>...</td>\n",
       "      <td>...</td>\n",
       "      <td>...</td>\n",
       "      <td>...</td>\n",
       "      <td>...</td>\n",
       "      <td>...</td>\n",
       "      <td>...</td>\n",
       "      <td>...</td>\n",
       "      <td>...</td>\n",
       "      <td>...</td>\n",
       "      <td>...</td>\n",
       "    </tr>\n",
       "    <tr>\n",
       "      <th>233149</th>\n",
       "      <td>626432</td>\n",
       "      <td>63213</td>\n",
       "      <td>105405</td>\n",
       "      <td>60.72</td>\n",
       "      <td>34</td>\n",
       "      <td>20700</td>\n",
       "      <td>48</td>\n",
       "      <td>1050</td>\n",
       "      <td>01-08-1988</td>\n",
       "      <td>Salaried</td>\n",
       "      <td>...</td>\n",
       "      <td>0</td>\n",
       "      <td>0</td>\n",
       "      <td>4084</td>\n",
       "      <td>0</td>\n",
       "      <td>0</td>\n",
       "      <td>0</td>\n",
       "      <td>1yrs 9mon</td>\n",
       "      <td>3yrs 3mon</td>\n",
       "      <td>0</td>\n",
       "      <td>0</td>\n",
       "    </tr>\n",
       "    <tr>\n",
       "      <th>233150</th>\n",
       "      <td>606141</td>\n",
       "      <td>73651</td>\n",
       "      <td>100600</td>\n",
       "      <td>74.95</td>\n",
       "      <td>34</td>\n",
       "      <td>23775</td>\n",
       "      <td>51</td>\n",
       "      <td>990</td>\n",
       "      <td>05-12-1988</td>\n",
       "      <td>Self employed</td>\n",
       "      <td>...</td>\n",
       "      <td>0</td>\n",
       "      <td>0</td>\n",
       "      <td>1565</td>\n",
       "      <td>0</td>\n",
       "      <td>0</td>\n",
       "      <td>0</td>\n",
       "      <td>0yrs 6mon</td>\n",
       "      <td>0yrs 6mon</td>\n",
       "      <td>0</td>\n",
       "      <td>0</td>\n",
       "    </tr>\n",
       "    <tr>\n",
       "      <th>233151</th>\n",
       "      <td>613658</td>\n",
       "      <td>33484</td>\n",
       "      <td>71212</td>\n",
       "      <td>48.45</td>\n",
       "      <td>77</td>\n",
       "      <td>22186</td>\n",
       "      <td>86</td>\n",
       "      <td>2299</td>\n",
       "      <td>01-06-1976</td>\n",
       "      <td>Salaried</td>\n",
       "      <td>...</td>\n",
       "      <td>0</td>\n",
       "      <td>0</td>\n",
       "      <td>0</td>\n",
       "      <td>0</td>\n",
       "      <td>0</td>\n",
       "      <td>0</td>\n",
       "      <td>0yrs 0mon</td>\n",
       "      <td>0yrs 0mon</td>\n",
       "      <td>0</td>\n",
       "      <td>0</td>\n",
       "    </tr>\n",
       "    <tr>\n",
       "      <th>233152</th>\n",
       "      <td>548084</td>\n",
       "      <td>34259</td>\n",
       "      <td>73286</td>\n",
       "      <td>49.10</td>\n",
       "      <td>77</td>\n",
       "      <td>22186</td>\n",
       "      <td>86</td>\n",
       "      <td>2299</td>\n",
       "      <td>26-03-1994</td>\n",
       "      <td>Salaried</td>\n",
       "      <td>...</td>\n",
       "      <td>0</td>\n",
       "      <td>0</td>\n",
       "      <td>0</td>\n",
       "      <td>0</td>\n",
       "      <td>0</td>\n",
       "      <td>0</td>\n",
       "      <td>0yrs 0mon</td>\n",
       "      <td>0yrs 0mon</td>\n",
       "      <td>0</td>\n",
       "      <td>0</td>\n",
       "    </tr>\n",
       "    <tr>\n",
       "      <th>233153</th>\n",
       "      <td>630213</td>\n",
       "      <td>75751</td>\n",
       "      <td>116009</td>\n",
       "      <td>66.81</td>\n",
       "      <td>77</td>\n",
       "      <td>22186</td>\n",
       "      <td>86</td>\n",
       "      <td>2299</td>\n",
       "      <td>18-02-1984</td>\n",
       "      <td>Salaried</td>\n",
       "      <td>...</td>\n",
       "      <td>0</td>\n",
       "      <td>0</td>\n",
       "      <td>0</td>\n",
       "      <td>0</td>\n",
       "      <td>0</td>\n",
       "      <td>0</td>\n",
       "      <td>0yrs 0mon</td>\n",
       "      <td>0yrs 0mon</td>\n",
       "      <td>0</td>\n",
       "      <td>0</td>\n",
       "    </tr>\n",
       "  </tbody>\n",
       "</table>\n",
       "<p>233154 rows × 41 columns</p>\n",
       "</div>"
      ],
      "text/plain": [
       "        UNIQUEID  DISBURSED_AMOUNT  ASSET_COST    LTV  BRANCH_ID  SUPPLIER_ID  \\\n",
       "0         420825             50578       58400  89.55         67        22807   \n",
       "1         537409             47145       65550  73.23         67        22807   \n",
       "2         417566             53278       61360  89.63         67        22807   \n",
       "3         624493             57513       66113  88.48         67        22807   \n",
       "4         539055             52378       60300  88.39         67        22807   \n",
       "...          ...               ...         ...    ...        ...          ...   \n",
       "233149    626432             63213      105405  60.72         34        20700   \n",
       "233150    606141             73651      100600  74.95         34        23775   \n",
       "233151    613658             33484       71212  48.45         77        22186   \n",
       "233152    548084             34259       73286  49.10         77        22186   \n",
       "233153    630213             75751      116009  66.81         77        22186   \n",
       "\n",
       "        MANUFACTURER_ID  CURRENT_PINCODE_ID DATE_OF_BIRTH EMPLOYMENT_TYPE  \\\n",
       "0                    45                1441    01-01-1984        Salaried   \n",
       "1                    45                1502    31-07-1985   Self employed   \n",
       "2                    45                1497    24-08-1985   Self employed   \n",
       "3                    45                1501    30-12-1993   Self employed   \n",
       "4                    45                1495    09-12-1977   Self employed   \n",
       "...                 ...                 ...           ...             ...   \n",
       "233149               48                1050    01-08-1988        Salaried   \n",
       "233150               51                 990    05-12-1988   Self employed   \n",
       "233151               86                2299    01-06-1976        Salaried   \n",
       "233152               86                2299    26-03-1994        Salaried   \n",
       "233153               86                2299    18-02-1984        Salaried   \n",
       "\n",
       "        ... SEC_SANCTIONED_AMOUNT  SEC_DISBURSED_AMOUNT  PRIMARY_INSTAL_AMT  \\\n",
       "0       ...                     0                     0                   0   \n",
       "1       ...                     0                     0                1991   \n",
       "2       ...                     0                     0                   0   \n",
       "3       ...                     0                     0                  31   \n",
       "4       ...                     0                     0                   0   \n",
       "...     ...                   ...                   ...                 ...   \n",
       "233149  ...                     0                     0                4084   \n",
       "233150  ...                     0                     0                1565   \n",
       "233151  ...                     0                     0                   0   \n",
       "233152  ...                     0                     0                   0   \n",
       "233153  ...                     0                     0                   0   \n",
       "\n",
       "        SEC_INSTAL_AMT  NEW_ACCTS_IN_LAST_SIX_MONTHS  \\\n",
       "0                    0                             0   \n",
       "1                    0                             0   \n",
       "2                    0                             0   \n",
       "3                    0                             0   \n",
       "4                    0                             0   \n",
       "...                ...                           ...   \n",
       "233149               0                             0   \n",
       "233150               0                             0   \n",
       "233151               0                             0   \n",
       "233152               0                             0   \n",
       "233153               0                             0   \n",
       "\n",
       "        DELINQUENT_ACCTS_IN_LAST_SIX_MONTHS  AVERAGE_ACCT_AGE  \\\n",
       "0                                         0         0yrs 0mon   \n",
       "1                                         1        1yrs 11mon   \n",
       "2                                         0         0yrs 0mon   \n",
       "3                                         0         0yrs 8mon   \n",
       "4                                         0         0yrs 0mon   \n",
       "...                                     ...               ...   \n",
       "233149                                    0         1yrs 9mon   \n",
       "233150                                    0         0yrs 6mon   \n",
       "233151                                    0         0yrs 0mon   \n",
       "233152                                    0         0yrs 0mon   \n",
       "233153                                    0         0yrs 0mon   \n",
       "\n",
       "        CREDIT_HISTORY_LENGTH  NO_OF_INQUIRIES  LOAN_DEFAULT  \n",
       "0                   0yrs 0mon                0             0  \n",
       "1                  1yrs 11mon                0             1  \n",
       "2                   0yrs 0mon                0             0  \n",
       "3                   1yrs 3mon                1             1  \n",
       "4                   0yrs 0mon                1             1  \n",
       "...                       ...              ...           ...  \n",
       "233149              3yrs 3mon                0             0  \n",
       "233150              0yrs 6mon                0             0  \n",
       "233151              0yrs 0mon                0             0  \n",
       "233152              0yrs 0mon                0             0  \n",
       "233153              0yrs 0mon                0             0  \n",
       "\n",
       "[233154 rows x 41 columns]"
      ]
     },
     "execution_count": 2,
     "metadata": {},
     "output_type": "execute_result"
    }
   ],
   "source": [
    "df = pd.read_csv('train.csv')\n",
    "df"
   ]
  },
  {
   "cell_type": "markdown",
   "metadata": {},
   "source": [
    "This dataset is about vehicle loan default or not default in India, there are 233154 number of observation in this data and 41 columns containing information from various customer. "
   ]
  },
  {
   "cell_type": "markdown",
   "metadata": {},
   "source": [
    "## Description of the dataset "
   ]
  },
  {
   "cell_type": "code",
   "execution_count": 3,
   "metadata": {},
   "outputs": [
    {
     "data": {
      "text/html": [
       "<div>\n",
       "<style scoped>\n",
       "    .dataframe tbody tr th:only-of-type {\n",
       "        vertical-align: middle;\n",
       "    }\n",
       "\n",
       "    .dataframe tbody tr th {\n",
       "        vertical-align: top;\n",
       "    }\n",
       "\n",
       "    .dataframe thead th {\n",
       "        text-align: right;\n",
       "    }\n",
       "</style>\n",
       "<table border=\"1\" class=\"dataframe\">\n",
       "  <thead>\n",
       "    <tr style=\"text-align: right;\">\n",
       "      <th></th>\n",
       "      <th>Variable Name</th>\n",
       "      <th>Description</th>\n",
       "    </tr>\n",
       "  </thead>\n",
       "  <tbody>\n",
       "    <tr>\n",
       "      <th>0</th>\n",
       "      <td>UniqueID</td>\n",
       "      <td>Identifier for customers</td>\n",
       "    </tr>\n",
       "    <tr>\n",
       "      <th>1</th>\n",
       "      <td>loan_default</td>\n",
       "      <td>Payment default in the first EMI on due date</td>\n",
       "    </tr>\n",
       "    <tr>\n",
       "      <th>2</th>\n",
       "      <td>disbursed_amount</td>\n",
       "      <td>Amount of Loan disbursed</td>\n",
       "    </tr>\n",
       "    <tr>\n",
       "      <th>3</th>\n",
       "      <td>asset_cost</td>\n",
       "      <td>Cost of the Asset</td>\n",
       "    </tr>\n",
       "    <tr>\n",
       "      <th>4</th>\n",
       "      <td>ltv</td>\n",
       "      <td>Loan to Value of the asset</td>\n",
       "    </tr>\n",
       "    <tr>\n",
       "      <th>5</th>\n",
       "      <td>branch_id</td>\n",
       "      <td>Branch where the loan was disbursed</td>\n",
       "    </tr>\n",
       "    <tr>\n",
       "      <th>6</th>\n",
       "      <td>supplier_id</td>\n",
       "      <td>Vehicle Dealer where the loan was disbursed</td>\n",
       "    </tr>\n",
       "    <tr>\n",
       "      <th>7</th>\n",
       "      <td>manufacturer_id</td>\n",
       "      <td>Vehicle manufacturer(Hero, Honda, TVS etc.)</td>\n",
       "    </tr>\n",
       "    <tr>\n",
       "      <th>8</th>\n",
       "      <td>Current_pincode</td>\n",
       "      <td>Current pincode of the customer</td>\n",
       "    </tr>\n",
       "    <tr>\n",
       "      <th>9</th>\n",
       "      <td>Date.of.Birth</td>\n",
       "      <td>Date of birth of the customer</td>\n",
       "    </tr>\n",
       "    <tr>\n",
       "      <th>10</th>\n",
       "      <td>Employment.Type</td>\n",
       "      <td>Employment Type (Salaried/Self Employed)</td>\n",
       "    </tr>\n",
       "    <tr>\n",
       "      <th>11</th>\n",
       "      <td>DisbursalDate</td>\n",
       "      <td>Date of disbursement</td>\n",
       "    </tr>\n",
       "    <tr>\n",
       "      <th>12</th>\n",
       "      <td>State_ID</td>\n",
       "      <td>State of disbursement</td>\n",
       "    </tr>\n",
       "    <tr>\n",
       "      <th>13</th>\n",
       "      <td>Employee_code_ID</td>\n",
       "      <td>Employee of the organization who logged the disbursement</td>\n",
       "    </tr>\n",
       "    <tr>\n",
       "      <th>14</th>\n",
       "      <td>MobileNo_Avl_Flag</td>\n",
       "      <td>if Mobile no. was shared by the customer then flagged as 1</td>\n",
       "    </tr>\n",
       "    <tr>\n",
       "      <th>15</th>\n",
       "      <td>Aadhar_flag</td>\n",
       "      <td>if aadhar was shared by the customer then flagged as 1</td>\n",
       "    </tr>\n",
       "    <tr>\n",
       "      <th>16</th>\n",
       "      <td>PAN_flag</td>\n",
       "      <td>if pan was shared by the customer then flagged as 1</td>\n",
       "    </tr>\n",
       "    <tr>\n",
       "      <th>17</th>\n",
       "      <td>VoterID_flag</td>\n",
       "      <td>if voter  was shared by the customer then flagged as 1</td>\n",
       "    </tr>\n",
       "    <tr>\n",
       "      <th>18</th>\n",
       "      <td>Driving_flag</td>\n",
       "      <td>if DL was shared by the customer then flagged as 1</td>\n",
       "    </tr>\n",
       "    <tr>\n",
       "      <th>19</th>\n",
       "      <td>Passport_flag</td>\n",
       "      <td>if passport was shared by the customer then flagged as 1</td>\n",
       "    </tr>\n",
       "    <tr>\n",
       "      <th>20</th>\n",
       "      <td>PERFORM_CNS.SCORE</td>\n",
       "      <td>Bureau Score</td>\n",
       "    </tr>\n",
       "    <tr>\n",
       "      <th>21</th>\n",
       "      <td>PERFORM_CNS.SCORE.DESCRIPTION</td>\n",
       "      <td>Bureau score description</td>\n",
       "    </tr>\n",
       "    <tr>\n",
       "      <th>22</th>\n",
       "      <td>PRI.NO.OF.ACCTS</td>\n",
       "      <td>count of total loans taken by the customer at the time of disbursement</td>\n",
       "    </tr>\n",
       "    <tr>\n",
       "      <th>23</th>\n",
       "      <td>PRI.ACTIVE.ACCTS</td>\n",
       "      <td>count of active loans taken by the customer at the time of disbursement</td>\n",
       "    </tr>\n",
       "    <tr>\n",
       "      <th>24</th>\n",
       "      <td>PRI.OVERDUE.ACCTS</td>\n",
       "      <td>count of default accounts at the time of disbursement</td>\n",
       "    </tr>\n",
       "    <tr>\n",
       "      <th>25</th>\n",
       "      <td>PRI.CURRENT.BALANCE</td>\n",
       "      <td>total Principal outstanding amount of the active loans at the time of disbursement</td>\n",
       "    </tr>\n",
       "    <tr>\n",
       "      <th>26</th>\n",
       "      <td>PRI.SANCTIONED.AMOUNT</td>\n",
       "      <td>total amount that was sanctioned for all the loans at the time of disbursement</td>\n",
       "    </tr>\n",
       "    <tr>\n",
       "      <th>27</th>\n",
       "      <td>PRI.DISBURSED.AMOUNT</td>\n",
       "      <td>total amount that was disbursed for all the loans at the time of disbursement</td>\n",
       "    </tr>\n",
       "    <tr>\n",
       "      <th>28</th>\n",
       "      <td>SEC.NO.OF.ACCTS</td>\n",
       "      <td>count of total loans taken by the customer at the time of disbursement</td>\n",
       "    </tr>\n",
       "    <tr>\n",
       "      <th>29</th>\n",
       "      <td>SEC.ACTIVE.ACCTS</td>\n",
       "      <td>count of active loans taken by the customer at the time of disbursement</td>\n",
       "    </tr>\n",
       "    <tr>\n",
       "      <th>30</th>\n",
       "      <td>SEC.OVERDUE.ACCTS</td>\n",
       "      <td>count of default accounts at the time of disbursement</td>\n",
       "    </tr>\n",
       "    <tr>\n",
       "      <th>31</th>\n",
       "      <td>SEC.CURRENT.BALANCE</td>\n",
       "      <td>total Principal outstanding amount of the active loans at the time of disbursement</td>\n",
       "    </tr>\n",
       "    <tr>\n",
       "      <th>32</th>\n",
       "      <td>SEC.SANCTIONED.AMOUNT</td>\n",
       "      <td>total amount that was sanctioned for all the loans at the time of disbursement</td>\n",
       "    </tr>\n",
       "    <tr>\n",
       "      <th>33</th>\n",
       "      <td>SEC.DISBURSED.AMOUNT</td>\n",
       "      <td>total amount that was disbursed for all the loans at the time of disbursement</td>\n",
       "    </tr>\n",
       "    <tr>\n",
       "      <th>34</th>\n",
       "      <td>PRIMARY.INSTAL.AMT</td>\n",
       "      <td>EMI Amount of the primary loan</td>\n",
       "    </tr>\n",
       "    <tr>\n",
       "      <th>35</th>\n",
       "      <td>SEC.INSTAL.AMT</td>\n",
       "      <td>EMI Amount of the secondary loan</td>\n",
       "    </tr>\n",
       "    <tr>\n",
       "      <th>36</th>\n",
       "      <td>NEW.ACCTS.IN.LAST.SIX.MONTHS</td>\n",
       "      <td>New loans taken by the customer in last 6 months before the disbursment</td>\n",
       "    </tr>\n",
       "    <tr>\n",
       "      <th>37</th>\n",
       "      <td>DELINQUENT.ACCTS.IN.LAST.SIX.MONTHS</td>\n",
       "      <td>Loans defaulted in the last 6 months</td>\n",
       "    </tr>\n",
       "    <tr>\n",
       "      <th>38</th>\n",
       "      <td>AVERAGE.ACCT.AGE</td>\n",
       "      <td>Average loan tenure</td>\n",
       "    </tr>\n",
       "    <tr>\n",
       "      <th>39</th>\n",
       "      <td>CREDIT.HISTORY.LENGTH</td>\n",
       "      <td>Time since first loan</td>\n",
       "    </tr>\n",
       "    <tr>\n",
       "      <th>40</th>\n",
       "      <td>NO.OF_INQUIRIES</td>\n",
       "      <td>Enquries done by the customer for loans</td>\n",
       "    </tr>\n",
       "  </tbody>\n",
       "</table>\n",
       "</div>"
      ],
      "text/plain": [
       "                          Variable Name  \\\n",
       "0                              UniqueID   \n",
       "1                          loan_default   \n",
       "2                      disbursed_amount   \n",
       "3                            asset_cost   \n",
       "4                                   ltv   \n",
       "5                             branch_id   \n",
       "6                           supplier_id   \n",
       "7                       manufacturer_id   \n",
       "8                       Current_pincode   \n",
       "9                         Date.of.Birth   \n",
       "10                      Employment.Type   \n",
       "11                        DisbursalDate   \n",
       "12                             State_ID   \n",
       "13                     Employee_code_ID   \n",
       "14                    MobileNo_Avl_Flag   \n",
       "15                          Aadhar_flag   \n",
       "16                             PAN_flag   \n",
       "17                         VoterID_flag   \n",
       "18                         Driving_flag   \n",
       "19                        Passport_flag   \n",
       "20                    PERFORM_CNS.SCORE   \n",
       "21        PERFORM_CNS.SCORE.DESCRIPTION   \n",
       "22                      PRI.NO.OF.ACCTS   \n",
       "23                     PRI.ACTIVE.ACCTS   \n",
       "24                    PRI.OVERDUE.ACCTS   \n",
       "25                  PRI.CURRENT.BALANCE   \n",
       "26                PRI.SANCTIONED.AMOUNT   \n",
       "27                 PRI.DISBURSED.AMOUNT   \n",
       "28                      SEC.NO.OF.ACCTS   \n",
       "29                     SEC.ACTIVE.ACCTS   \n",
       "30                    SEC.OVERDUE.ACCTS   \n",
       "31                  SEC.CURRENT.BALANCE   \n",
       "32                SEC.SANCTIONED.AMOUNT   \n",
       "33                 SEC.DISBURSED.AMOUNT   \n",
       "34                   PRIMARY.INSTAL.AMT   \n",
       "35                       SEC.INSTAL.AMT   \n",
       "36         NEW.ACCTS.IN.LAST.SIX.MONTHS   \n",
       "37  DELINQUENT.ACCTS.IN.LAST.SIX.MONTHS   \n",
       "38                     AVERAGE.ACCT.AGE   \n",
       "39                CREDIT.HISTORY.LENGTH   \n",
       "40                      NO.OF_INQUIRIES   \n",
       "\n",
       "                                                                           Description  \n",
       "0                                                             Identifier for customers  \n",
       "1                                         Payment default in the first EMI on due date  \n",
       "2                                                             Amount of Loan disbursed  \n",
       "3                                                                    Cost of the Asset  \n",
       "4                                                           Loan to Value of the asset  \n",
       "5                                                  Branch where the loan was disbursed  \n",
       "6                                          Vehicle Dealer where the loan was disbursed  \n",
       "7                                          Vehicle manufacturer(Hero, Honda, TVS etc.)  \n",
       "8                                                      Current pincode of the customer  \n",
       "9                                                        Date of birth of the customer  \n",
       "10                                            Employment Type (Salaried/Self Employed)  \n",
       "11                                                                Date of disbursement  \n",
       "12                                                               State of disbursement  \n",
       "13                            Employee of the organization who logged the disbursement  \n",
       "14                          if Mobile no. was shared by the customer then flagged as 1  \n",
       "15                              if aadhar was shared by the customer then flagged as 1  \n",
       "16                                 if pan was shared by the customer then flagged as 1  \n",
       "17                              if voter  was shared by the customer then flagged as 1  \n",
       "18                                  if DL was shared by the customer then flagged as 1  \n",
       "19                            if passport was shared by the customer then flagged as 1  \n",
       "20                                                                        Bureau Score  \n",
       "21                                                            Bureau score description  \n",
       "22              count of total loans taken by the customer at the time of disbursement  \n",
       "23             count of active loans taken by the customer at the time of disbursement  \n",
       "24                               count of default accounts at the time of disbursement  \n",
       "25  total Principal outstanding amount of the active loans at the time of disbursement  \n",
       "26      total amount that was sanctioned for all the loans at the time of disbursement  \n",
       "27       total amount that was disbursed for all the loans at the time of disbursement  \n",
       "28              count of total loans taken by the customer at the time of disbursement  \n",
       "29             count of active loans taken by the customer at the time of disbursement  \n",
       "30                               count of default accounts at the time of disbursement  \n",
       "31  total Principal outstanding amount of the active loans at the time of disbursement  \n",
       "32      total amount that was sanctioned for all the loans at the time of disbursement  \n",
       "33       total amount that was disbursed for all the loans at the time of disbursement  \n",
       "34                                                      EMI Amount of the primary loan  \n",
       "35                                                    EMI Amount of the secondary loan  \n",
       "36             New loans taken by the customer in last 6 months before the disbursment  \n",
       "37                                                Loans defaulted in the last 6 months  \n",
       "38                                                                 Average loan tenure  \n",
       "39                                                               Time since first loan  \n",
       "40                                             Enquries done by the customer for loans  "
      ]
     },
     "execution_count": 3,
     "metadata": {},
     "output_type": "execute_result"
    }
   ],
   "source": [
    "pd.set_option('display.max_colwidth', None)\n",
    "pd.read_excel('Data Dictionary.xlsx')"
   ]
  },
  {
   "cell_type": "markdown",
   "metadata": {},
   "source": [
    "# Data Cleaning for EDA"
   ]
  },
  {
   "cell_type": "code",
   "execution_count": 4,
   "metadata": {},
   "outputs": [
    {
     "name": "stdout",
     "output_type": "stream",
     "text": [
      "<class 'pandas.core.frame.DataFrame'>\n",
      "RangeIndex: 233154 entries, 0 to 233153\n",
      "Data columns (total 41 columns):\n",
      " #   Column                               Non-Null Count   Dtype  \n",
      "---  ------                               --------------   -----  \n",
      " 0   UNIQUEID                             233154 non-null  int64  \n",
      " 1   DISBURSED_AMOUNT                     233154 non-null  int64  \n",
      " 2   ASSET_COST                           233154 non-null  int64  \n",
      " 3   LTV                                  233154 non-null  float64\n",
      " 4   BRANCH_ID                            233154 non-null  int64  \n",
      " 5   SUPPLIER_ID                          233154 non-null  int64  \n",
      " 6   MANUFACTURER_ID                      233154 non-null  int64  \n",
      " 7   CURRENT_PINCODE_ID                   233154 non-null  int64  \n",
      " 8   DATE_OF_BIRTH                        233154 non-null  object \n",
      " 9   EMPLOYMENT_TYPE                      225493 non-null  object \n",
      " 10  DISBURSAL_DATE                       233154 non-null  object \n",
      " 11  STATE_ID                             233154 non-null  int64  \n",
      " 12  EMPLOYEE_CODE_ID                     233154 non-null  int64  \n",
      " 13  MOBILENO_AVL_FLAG                    233154 non-null  int64  \n",
      " 14  AADHAR_FLAG                          233154 non-null  int64  \n",
      " 15  PAN_FLAG                             233154 non-null  int64  \n",
      " 16  VOTERID_FLAG                         233154 non-null  int64  \n",
      " 17  DRIVING_FLAG                         233154 non-null  int64  \n",
      " 18  PASSPORT_FLAG                        233154 non-null  int64  \n",
      " 19  PERFORM_CNS_SCORE                    233154 non-null  int64  \n",
      " 20  PERFORM_CNS_SCORE_DESCRIPTION        233154 non-null  object \n",
      " 21  PRI_NO_OF_ACCTS                      233154 non-null  int64  \n",
      " 22  PRI_ACTIVE_ACCTS                     233154 non-null  int64  \n",
      " 23  PRI_OVERDUE_ACCTS                    233154 non-null  int64  \n",
      " 24  PRI_CURRENT_BALANCE                  233154 non-null  int64  \n",
      " 25  PRI_SANCTIONED_AMOUNT                233154 non-null  int64  \n",
      " 26  PRI_DISBURSED_AMOUNT                 233154 non-null  int64  \n",
      " 27  SEC_NO_OF_ACCTS                      233154 non-null  int64  \n",
      " 28  SEC_ACTIVE_ACCTS                     233154 non-null  int64  \n",
      " 29  SEC_OVERDUE_ACCTS                    233154 non-null  int64  \n",
      " 30  SEC_CURRENT_BALANCE                  233154 non-null  int64  \n",
      " 31  SEC_SANCTIONED_AMOUNT                233154 non-null  int64  \n",
      " 32  SEC_DISBURSED_AMOUNT                 233154 non-null  int64  \n",
      " 33  PRIMARY_INSTAL_AMT                   233154 non-null  int64  \n",
      " 34  SEC_INSTAL_AMT                       233154 non-null  int64  \n",
      " 35  NEW_ACCTS_IN_LAST_SIX_MONTHS         233154 non-null  int64  \n",
      " 36  DELINQUENT_ACCTS_IN_LAST_SIX_MONTHS  233154 non-null  int64  \n",
      " 37  AVERAGE_ACCT_AGE                     233154 non-null  object \n",
      " 38  CREDIT_HISTORY_LENGTH                233154 non-null  object \n",
      " 39  NO_OF_INQUIRIES                      233154 non-null  int64  \n",
      " 40  LOAN_DEFAULT                         233154 non-null  int64  \n",
      "dtypes: float64(1), int64(34), object(6)\n",
      "memory usage: 72.9+ MB\n"
     ]
    }
   ],
   "source": [
    "df.info(verbose = True)"
   ]
  },
  {
   "cell_type": "markdown",
   "metadata": {},
   "source": [
    "As we can see the the dataset column info, there are some data with wrong data types, average account age are not an integer and credit history length, date of birth and the date of disbursal are not in a datetime format, hence there needs to be some data cleaning to be done"
   ]
  },
  {
   "cell_type": "code",
   "execution_count": 5,
   "metadata": {},
   "outputs": [],
   "source": [
    "# Changing AVERAGE_ACCT_AGE & CREDIT_HISTORY_LENGTH\n",
    "# Splitting the 1yrs into only the number 1 and also splitting month\n",
    "df[['AVERAGE_ACCT_Yr','AVERAGE_ACCT_Month']] = df['AVERAGE_ACCT_AGE'].str.split(\"yrs\",expand=True) \n",
    "# Splitting the 1mon into only number 1 and month1 is needed for the split\n",
    "df[['AVERAGE_ACCT_Month','AVERAGE_ACCT_Month1']] = df['AVERAGE_ACCT_Month'].str.split(\"mon\",expand=True) \n",
    "# Calculating the average account age by adding year plus month divided by 12 month\n",
    "df[\"AVERAGE_ACCT_AGE\"]= df[\"AVERAGE_ACCT_Yr\"].astype(str).astype(int)+((df[\"AVERAGE_ACCT_Month\"].astype(str).astype(int))/12)\n",
    "df= df.drop(columns= [\"AVERAGE_ACCT_Yr\",\"AVERAGE_ACCT_Month\",'AVERAGE_ACCT_Month1'])\n"
   ]
  },
  {
   "cell_type": "code",
   "execution_count": 6,
   "metadata": {},
   "outputs": [],
   "source": [
    "# Same theory with above\n",
    "df[['CREDIT_HISTORY_LENGTH_Yr','CREDIT_HISTORY_LENGTH_Month']] = df['CREDIT_HISTORY_LENGTH'].str.split(\"yrs\",expand=True)\n",
    "df[['CREDIT_HISTORY_LENGTH_Month','CREDIT_HISTORY_LENGTH_Month1']] = df['CREDIT_HISTORY_LENGTH_Month'].str.split(\"mon\",expand=True)\n",
    "df[\"CREDIT_HISTORY_LENGTH\"]= df[\"CREDIT_HISTORY_LENGTH_Yr\"].astype(str).astype(int)+((df[\"CREDIT_HISTORY_LENGTH_Month\"].astype(str).astype(int))/12)\n",
    "df= df.drop(columns= [\"CREDIT_HISTORY_LENGTH_Yr\",\"CREDIT_HISTORY_LENGTH_Month\",'CREDIT_HISTORY_LENGTH_Month1'])"
   ]
  },
  {
   "cell_type": "code",
   "execution_count": 7,
   "metadata": {},
   "outputs": [],
   "source": [
    "# Change the Date of Birth into Datetime format\n",
    "df['DATE_OF_BIRTH'] =  pd.to_datetime(df['DATE_OF_BIRTH'], format='%d-%m-%Y')\n",
    "#format='%d%b%Y:%H:%M:%S.%f'\n",
    "df['DISBURSAL_DATE'] =  pd.to_datetime(df['DISBURSAL_DATE'], format='%d-%m-%Y')"
   ]
  },
  {
   "cell_type": "code",
   "execution_count": 8,
   "metadata": {},
   "outputs": [],
   "source": [
    "## Adding the age of customers\n",
    "now = pd.Timestamp('now')\n",
    "df['age'] = (now - df['DATE_OF_BIRTH']).astype('<m8[Y]')"
   ]
  },
  {
   "cell_type": "markdown",
   "metadata": {},
   "source": [
    "# Exploratory Data Analysis (EDA)"
   ]
  },
  {
   "cell_type": "code",
   "execution_count": 9,
   "metadata": {},
   "outputs": [],
   "source": [
    "# Function for distribution\n",
    "def plot_dist(df, col):\n",
    "    fig, axes = plt.subplots(ncols = 2, figsize = (15, 5))\n",
    "\n",
    "    # histogram\n",
    "    sns.histplot(df[col],ax = axes[0], kde=True,line_kws={'linewidth': 3},color = 'k', bins = 10)\n",
    "    axes[0].set_title(f\"Histogram '{col}'\")\n",
    "    axes[0].axvline(df[col].mean(), color = 'red', linestyle = 'dashed', label = 'mean')\n",
    "    axes[0].axvline(df[col].median(), color = 'green', linestyle = 'dashed', label = 'median')\n",
    "    axes[0].legend()\n",
    "\n",
    "    # boxplot\n",
    "    sns.boxplot(y=df[col], ax =  axes[1])\n",
    "    axes[1].set_title(f\"Boxplot '{col}'\")\n",
    "\n",
    "    plt.show()\n",
    "\n",
    "    # skewness\n",
    "    print(df[col].name + ' Kurtosis: ' + str(df[col].kurt()))\n",
    "    print(df[col].name + ' Skewness: ' + str(df[col].skew()))\n",
    "    if -0.5 <= df[col].skew() <= 0.5:\n",
    "        print(\"Columns '{}' normal distribution\".format(col))\n",
    "    elif df[col].skew() > 0.5:\n",
    "        print(\"Columns '{}' right skewed\".format(col))\n",
    "    elif df[col].skew() < -0.5:\n",
    "        print(\"Columns '{}' left skewed\".format(col))\n",
    "    print('-----' * 10)\n",
    "    print(f'Average of {col} is', df[col].mean())\n",
    "    print(f'Median of {col} is', df[col].median())"
   ]
  },
  {
   "cell_type": "code",
   "execution_count": 10,
   "metadata": {},
   "outputs": [
    {
     "data": {
      "image/png": "[encoded data removed]",
      "text/plain": [
       "<Figure size 1080x360 with 2 Axes>"
      ]
     },
     "metadata": {
      "needs_background": "light"
     },
     "output_type": "display_data"
    },
    {
     "name": "stdout",
     "output_type": "stream",
     "text": [
      "PERFORM_CNS_SCORE Kurtosis: -1.6352575159541496\n",
      "PERFORM_CNS_SCORE Skewness: 0.44515046415251963\n",
      "Columns 'PERFORM_CNS_SCORE' normal distribution\n",
      "--------------------------------------------------\n",
      "Average of PERFORM_CNS_SCORE is 289.46299441570807\n",
      "Median of PERFORM_CNS_SCORE is 0.0\n"
     ]
    }
   ],
   "source": [
    "## See the distribution of Credit Score\n",
    "plot_dist(df,'PERFORM_CNS_SCORE')"
   ]
  },
  {
   "cell_type": "markdown",
   "metadata": {},
   "source": [
    "## Insight\n",
    "Credit bureau score is a credit rating system in India that range between 300 - 900, there are some problem in our dataset because we are looking at most of our customers have 0 credit rating score, this is very dangerous as lower credit rating means more risk of a person defaulting. However, there are some good things looking at this graph because there are still people that have been credit rated by the bureau and for the people that have been given credit rating, the highest credit rating is around 600 - 900 and that is the ideal amount. "
   ]
  },
  {
   "cell_type": "code",
   "execution_count": 11,
   "metadata": {},
   "outputs": [
    {
     "data": {
      "text/html": [
       "<div>\n",
       "<style scoped>\n",
       "    .dataframe tbody tr th:only-of-type {\n",
       "        vertical-align: middle;\n",
       "    }\n",
       "\n",
       "    .dataframe tbody tr th {\n",
       "        vertical-align: top;\n",
       "    }\n",
       "\n",
       "    .dataframe thead th {\n",
       "        text-align: right;\n",
       "    }\n",
       "</style>\n",
       "<table border=\"1\" class=\"dataframe\">\n",
       "  <thead>\n",
       "    <tr style=\"text-align: right;\">\n",
       "      <th></th>\n",
       "      <th>DISBURSED_AMOUNT</th>\n",
       "      <th>PERFORM_CNS_SCORE</th>\n",
       "      <th>AVERAGE_ACCT_AGE</th>\n",
       "      <th>ASSET_COST</th>\n",
       "      <th>LTV</th>\n",
       "    </tr>\n",
       "    <tr>\n",
       "      <th>LOAN_DEFAULT</th>\n",
       "      <th></th>\n",
       "      <th></th>\n",
       "      <th></th>\n",
       "      <th></th>\n",
       "      <th></th>\n",
       "    </tr>\n",
       "  </thead>\n",
       "  <tbody>\n",
       "    <tr>\n",
       "      <th>0</th>\n",
       "      <td>53826.471111</td>\n",
       "      <td>299.784270</td>\n",
       "      <td>0.759406</td>\n",
       "      <td>75722.806128</td>\n",
       "      <td>74.154093</td>\n",
       "    </tr>\n",
       "    <tr>\n",
       "      <th>1</th>\n",
       "      <td>56270.473869</td>\n",
       "      <td>252.236372</td>\n",
       "      <td>0.683735</td>\n",
       "      <td>76378.176661</td>\n",
       "      <td>76.883322</td>\n",
       "    </tr>\n",
       "  </tbody>\n",
       "</table>\n",
       "</div>"
      ],
      "text/plain": [
       "              DISBURSED_AMOUNT  PERFORM_CNS_SCORE  AVERAGE_ACCT_AGE  \\\n",
       "LOAN_DEFAULT                                                          \n",
       "0                 53826.471111         299.784270          0.759406   \n",
       "1                 56270.473869         252.236372          0.683735   \n",
       "\n",
       "                ASSET_COST        LTV  \n",
       "LOAN_DEFAULT                           \n",
       "0             75722.806128  74.154093  \n",
       "1             76378.176661  76.883322  "
      ]
     },
     "execution_count": 11,
     "metadata": {},
     "output_type": "execute_result"
    }
   ],
   "source": [
    "# Grouping by loan default or not default\n",
    "df_loan = df.groupby(by = 'LOAN_DEFAULT').agg({'DISBURSED_AMOUNT': 'mean',\n",
    "                                     'PERFORM_CNS_SCORE': 'mean',\n",
    "                                     'AVERAGE_ACCT_AGE': 'mean',\n",
    "                                     'ASSET_COST': 'mean',\n",
    "                                     'LTV': 'mean'})\n",
    "df_loan"
   ]
  },
  {
   "cell_type": "markdown",
   "metadata": {},
   "source": [
    "## Insight\n",
    "1. LTV is mortgage divided by appraised property value, here we can see that a person who default in loan payment have more LTV, LTV means loan to value and it is associated with risk, the higher the LTV the higher the risk because the mortgage is also higher.\n",
    "2. People who are default their credit payment have higher disbursed amount on average meaning that they borrow more money than people who did not default their payment\n",
    "\n",
    "4. Most of our customer are a customer for less than a year from their average account age"
   ]
  },
  {
   "cell_type": "code",
   "execution_count": 12,
   "metadata": {},
   "outputs": [
    {
     "data": {
      "text/html": [
       "<div>\n",
       "<style scoped>\n",
       "    .dataframe tbody tr th:only-of-type {\n",
       "        vertical-align: middle;\n",
       "    }\n",
       "\n",
       "    .dataframe tbody tr th {\n",
       "        vertical-align: top;\n",
       "    }\n",
       "\n",
       "    .dataframe thead th {\n",
       "        text-align: right;\n",
       "    }\n",
       "</style>\n",
       "<table border=\"1\" class=\"dataframe\">\n",
       "  <thead>\n",
       "    <tr style=\"text-align: right;\">\n",
       "      <th></th>\n",
       "      <th>LOAN_DEFAULT</th>\n",
       "      <th>DISBURSED_AMOUNT</th>\n",
       "      <th>LTV</th>\n",
       "    </tr>\n",
       "    <tr>\n",
       "      <th>BRANCH_ID</th>\n",
       "      <th></th>\n",
       "      <th></th>\n",
       "      <th></th>\n",
       "    </tr>\n",
       "  </thead>\n",
       "  <tbody>\n",
       "    <tr>\n",
       "      <th>2</th>\n",
       "      <td>13138</td>\n",
       "      <td>61157.975567</td>\n",
       "      <td>79.529167</td>\n",
       "    </tr>\n",
       "    <tr>\n",
       "      <th>67</th>\n",
       "      <td>11328</td>\n",
       "      <td>51916.069297</td>\n",
       "      <td>77.120983</td>\n",
       "    </tr>\n",
       "    <tr>\n",
       "      <th>3</th>\n",
       "      <td>9230</td>\n",
       "      <td>48415.255255</td>\n",
       "      <td>76.108408</td>\n",
       "    </tr>\n",
       "    <tr>\n",
       "      <th>5</th>\n",
       "      <td>9218</td>\n",
       "      <td>55260.654806</td>\n",
       "      <td>78.432289</td>\n",
       "    </tr>\n",
       "    <tr>\n",
       "      <th>36</th>\n",
       "      <td>8832</td>\n",
       "      <td>56027.814085</td>\n",
       "      <td>69.464094</td>\n",
       "    </tr>\n",
       "    <tr>\n",
       "      <th>136</th>\n",
       "      <td>7833</td>\n",
       "      <td>57202.792417</td>\n",
       "      <td>77.219847</td>\n",
       "    </tr>\n",
       "    <tr>\n",
       "      <th>34</th>\n",
       "      <td>7794</td>\n",
       "      <td>52015.585065</td>\n",
       "      <td>76.500947</td>\n",
       "    </tr>\n",
       "    <tr>\n",
       "      <th>16</th>\n",
       "      <td>6466</td>\n",
       "      <td>55692.413702</td>\n",
       "      <td>76.880215</td>\n",
       "    </tr>\n",
       "    <tr>\n",
       "      <th>19</th>\n",
       "      <td>5860</td>\n",
       "      <td>55200.247611</td>\n",
       "      <td>79.686259</td>\n",
       "    </tr>\n",
       "    <tr>\n",
       "      <th>1</th>\n",
       "      <td>5709</td>\n",
       "      <td>57491.879489</td>\n",
       "      <td>69.673675</td>\n",
       "    </tr>\n",
       "    <tr>\n",
       "      <th>146</th>\n",
       "      <td>5376</td>\n",
       "      <td>56218.762277</td>\n",
       "      <td>77.496994</td>\n",
       "    </tr>\n",
       "    <tr>\n",
       "      <th>18</th>\n",
       "      <td>5032</td>\n",
       "      <td>52830.553060</td>\n",
       "      <td>74.950141</td>\n",
       "    </tr>\n",
       "    <tr>\n",
       "      <th>152</th>\n",
       "      <td>4933</td>\n",
       "      <td>56130.315427</td>\n",
       "      <td>68.990407</td>\n",
       "    </tr>\n",
       "    <tr>\n",
       "      <th>61</th>\n",
       "      <td>4906</td>\n",
       "      <td>52507.438647</td>\n",
       "      <td>79.600842</td>\n",
       "    </tr>\n",
       "    <tr>\n",
       "      <th>48</th>\n",
       "      <td>4725</td>\n",
       "      <td>52659.486138</td>\n",
       "      <td>71.372662</td>\n",
       "    </tr>\n",
       "    <tr>\n",
       "      <th>11</th>\n",
       "      <td>4506</td>\n",
       "      <td>55276.897470</td>\n",
       "      <td>64.877097</td>\n",
       "    </tr>\n",
       "    <tr>\n",
       "      <th>20</th>\n",
       "      <td>4431</td>\n",
       "      <td>51780.040623</td>\n",
       "      <td>70.442783</td>\n",
       "    </tr>\n",
       "    <tr>\n",
       "      <th>138</th>\n",
       "      <td>4352</td>\n",
       "      <td>57464.240119</td>\n",
       "      <td>77.141006</td>\n",
       "    </tr>\n",
       "    <tr>\n",
       "      <th>74</th>\n",
       "      <td>4297</td>\n",
       "      <td>50826.408657</td>\n",
       "      <td>76.352951</td>\n",
       "    </tr>\n",
       "    <tr>\n",
       "      <th>120</th>\n",
       "      <td>4210</td>\n",
       "      <td>50451.230879</td>\n",
       "      <td>63.069466</td>\n",
       "    </tr>\n",
       "  </tbody>\n",
       "</table>\n",
       "</div>"
      ],
      "text/plain": [
       "           LOAN_DEFAULT  DISBURSED_AMOUNT        LTV\n",
       "BRANCH_ID                                           \n",
       "2                 13138      61157.975567  79.529167\n",
       "67                11328      51916.069297  77.120983\n",
       "3                  9230      48415.255255  76.108408\n",
       "5                  9218      55260.654806  78.432289\n",
       "36                 8832      56027.814085  69.464094\n",
       "136                7833      57202.792417  77.219847\n",
       "34                 7794      52015.585065  76.500947\n",
       "16                 6466      55692.413702  76.880215\n",
       "19                 5860      55200.247611  79.686259\n",
       "1                  5709      57491.879489  69.673675\n",
       "146                5376      56218.762277  77.496994\n",
       "18                 5032      52830.553060  74.950141\n",
       "152                4933      56130.315427  68.990407\n",
       "61                 4906      52507.438647  79.600842\n",
       "48                 4725      52659.486138  71.372662\n",
       "11                 4506      55276.897470  64.877097\n",
       "20                 4431      51780.040623  70.442783\n",
       "138                4352      57464.240119  77.141006\n",
       "74                 4297      50826.408657  76.352951\n",
       "120                4210      50451.230879  63.069466"
      ]
     },
     "execution_count": 12,
     "metadata": {},
     "output_type": "execute_result"
    }
   ],
   "source": [
    "# Grouping by branch id and look which branch id's customer default the most\n",
    "df.groupby(by = 'BRANCH_ID').agg({\n",
    "    'LOAN_DEFAULT':'count',\n",
    "    'DISBURSED_AMOUNT':'mean',\n",
    "    'LTV':'mean'\n",
    "}).sort_values(by = 'LOAN_DEFAULT', ascending = False).head(20)"
   ]
  },
  {
   "cell_type": "markdown",
   "metadata": {},
   "source": [
    "## Insight\n",
    "There needs to be a special attention to these branch id because they most loan default are from these places, there needs to be a special care also for branch id that is giving credit with high ltv because it is more risky "
   ]
  },
  {
   "cell_type": "code",
   "execution_count": 13,
   "metadata": {
    "scrolled": false
   },
   "outputs": [
    {
     "data": {
      "image/png": "[encoded data removed]",
      "text/plain": [
       "<Figure size 1080x360 with 2 Axes>"
      ]
     },
     "metadata": {
      "needs_background": "light"
     },
     "output_type": "display_data"
    },
    {
     "name": "stdout",
     "output_type": "stream",
     "text": [
      "LTV Kurtosis: 1.293927649863921\n",
      "LTV Skewness: -1.0757660644024252\n",
      "Columns 'LTV' left skewed\n",
      "--------------------------------------------------\n",
      "Average of LTV is 74.74653001878589\n",
      "Median of LTV is 76.8\n"
     ]
    }
   ],
   "source": [
    "# Looking at the distribution of LTV\n",
    "plot_dist(df,'LTV')"
   ]
  },
  {
   "cell_type": "markdown",
   "metadata": {},
   "source": [
    "## Insight\n",
    "1. Since we are a vehicle credit company, it is expected to have a high LTV since this is a risky business, however there are some LTV that is lower than 50%, it means that the customer only borrow less than 50% of the asset appraised cost meaning less profit, let's collaborate this matter with sales team about this.\n",
    "2. the average of credit LTV is almost 75% and it is considered normal, anything more than 80% we need the customer to also pay insurance because it has become too risky and the chance of customer default payment is high."
   ]
  },
  {
   "cell_type": "code",
   "execution_count": 14,
   "metadata": {},
   "outputs": [],
   "source": [
    "df_loan2 = df.groupby(by = 'LOAN_DEFAULT').agg({'DISBURSED_AMOUNT': 'mean',\n",
    "                                     'ASSET_COST': 'mean'})"
   ]
  },
  {
   "cell_type": "code",
   "execution_count": 15,
   "metadata": {},
   "outputs": [
    {
     "data": {
      "text/plain": [
       "<matplotlib.legend.Legend at 0x18c0406e470>"
      ]
     },
     "execution_count": 15,
     "metadata": {},
     "output_type": "execute_result"
    },
    {
     "data": {
      "image/png": "[encoded data removed]",
      "text/plain": [
       "<Figure size 864x432 with 1 Axes>"
      ]
     },
     "metadata": {
      "needs_background": "light"
     },
     "output_type": "display_data"
    }
   ],
   "source": [
    "fig,ax = plt.subplots(figsize=(12,6))\n",
    "df_loan2.plot(kind = 'bar', ax = ax)\n",
    "plt.legend(loc='upper left')"
   ]
  },
  {
   "cell_type": "markdown",
   "metadata": {},
   "source": [
    "## Insight"
   ]
  },
  {
   "cell_type": "markdown",
   "metadata": {},
   "source": [
    "This is the proof that the current credit screening for approval is bad, there are no significant difference between the asset cost of people that fails to pay and people that pay, this means that they get the same disbursement money and that is just wrong. The rules of our credit system must be more tight, persons who are making riskier credit should have a certain threshold on how many he could borrow and how ready is he, we should give more disbursed amount for people who can really pay, not for people who are more risky. the asset score is almost the same for loan default 0 and 1 but the disbursement money is higher on the loan default side"
   ]
  },
  {
   "cell_type": "code",
   "execution_count": 16,
   "metadata": {},
   "outputs": [
    {
     "data": {
      "image/png": "[encoded data removed]",
      "text/plain": [
       "<Figure size 432x288 with 1 Axes>"
      ]
     },
     "metadata": {
      "needs_background": "light"
     },
     "output_type": "display_data"
    }
   ],
   "source": [
    "# Making visualization of disbursal date\n",
    "plt.hist(df['DISBURSAL_DATE'].dt.dayofweek, bins=30)\n",
    "plt.show()"
   ]
  },
  {
   "cell_type": "markdown",
   "metadata": {},
   "source": [
    "This visualization shows that the date of the disbursal, the transaction is at peak on Wednesday and Friday, note that employee must be extra careful at those days of the week because it's our \"peakdays\" according to this dataset. "
   ]
  },
  {
   "cell_type": "code",
   "execution_count": 17,
   "metadata": {},
   "outputs": [],
   "source": [
    "## Binning according to LTV\n",
    "bin_labels = ['Low', 'Medium', 'High', 'Extreme']\n",
    "df['LTV_bins'] = pd.qcut(df['LTV'],\n",
    "                              q=[0, .25, .5, .75, 1],\n",
    "                              labels=bin_labels)"
   ]
  },
  {
   "cell_type": "code",
   "execution_count": 18,
   "metadata": {},
   "outputs": [
    {
     "name": "stdout",
     "output_type": "stream",
     "text": [
      "LTV_bins        Low  Medium   High  Extreme\n",
      "LOAN_DEFAULT                               \n",
      "0             49209   46109  44495    42730\n",
      "1              9094   12190  13790    15537\n"
     ]
    }
   ],
   "source": [
    "# Make a crosstab between two categorical variable\n",
    "CrosstabResult=pd.crosstab(index=df['LOAN_DEFAULT'],columns=df['LTV_bins'])\n",
    "print(CrosstabResult)"
   ]
  },
  {
   "cell_type": "code",
   "execution_count": 19,
   "metadata": {},
   "outputs": [
    {
     "data": {
      "text/plain": [
       "<AxesSubplot:xlabel='LOAN_DEFAULT'>"
      ]
     },
     "execution_count": 19,
     "metadata": {},
     "output_type": "execute_result"
    },
    {
     "data": {
      "image/png": "[encoded data removed]",
      "text/plain": [
       "<Figure size 432x288 with 1 Axes>"
      ]
     },
     "metadata": {
      "needs_background": "light"
     },
     "output_type": "display_data"
    }
   ],
   "source": [
    "# Make a plot \n",
    "CrosstabResult.plot.bar()"
   ]
  },
  {
   "cell_type": "markdown",
   "metadata": {},
   "source": [
    "## Insight\n",
    "There are very unique pattern arising here, see that in category 0 or no loan default, the percentage of people with low LTV is higher than people with extreme LTV. In a case where loan default is happening, the biggest bar there is the extreme LTV bins, this means that our credit card service has been approving credit for people that borrow money to buy asset that has a very large LTV, no wonders people who default have higher average disbursal amount"
   ]
  },
  {
   "cell_type": "code",
   "execution_count": 20,
   "metadata": {},
   "outputs": [
    {
     "data": {
      "text/plain": [
       "<matplotlib.legend.Legend at 0x18c02c3e3b0>"
      ]
     },
     "execution_count": 20,
     "metadata": {},
     "output_type": "execute_result"
    },
    {
     "data": {
      "image/png": "[encoded data removed]",
      "text/plain": [
       "<Figure size 1080x360 with 1 Axes>"
      ]
     },
     "metadata": {
      "needs_background": "light"
     },
     "output_type": "display_data"
    }
   ],
   "source": [
    "fig, ax = plt.subplots(figsize = (15, 5))\n",
    "\n",
    "# histogram\n",
    "sns.histplot(df['AVERAGE_ACCT_AGE'],ax = ax, kde=True,line_kws={'linewidth': 3},color = 'k', bins = 150)\n",
    "ax.set_title(f\"Histogram '{'AVERAGE_ACCT_AGE'}'\")\n",
    "ax.axvline(df['AVERAGE_ACCT_AGE'].mean(), color = 'red', linestyle = 'dashed', label = 'mean')\n",
    "ax.axvline(df['AVERAGE_ACCT_AGE'].median(), color = 'green', linestyle = 'dashed', label = 'median')\n",
    "ax.legend()"
   ]
  },
  {
   "cell_type": "markdown",
   "metadata": {},
   "source": [
    "## Insight\n",
    "Although there are people who have the average account age of 30 years old the median of average account age is at zero, meaning that this data also contains people that barely become a member here. There need to be a push in education and marketing about those people who are new to our service so they can understand better and use more of our financial product, however keep in mind that only choose less risky people for vehicle credit approval"
   ]
  },
  {
   "cell_type": "code",
   "execution_count": 21,
   "metadata": {},
   "outputs": [
    {
     "data": {
      "text/html": [
       "<div>\n",
       "<style scoped>\n",
       "    .dataframe tbody tr th:only-of-type {\n",
       "        vertical-align: middle;\n",
       "    }\n",
       "\n",
       "    .dataframe tbody tr th {\n",
       "        vertical-align: top;\n",
       "    }\n",
       "\n",
       "    .dataframe thead th {\n",
       "        text-align: right;\n",
       "    }\n",
       "</style>\n",
       "<table border=\"1\" class=\"dataframe\">\n",
       "  <thead>\n",
       "    <tr style=\"text-align: right;\">\n",
       "      <th></th>\n",
       "      <th>DISBURSED_AMOUNT</th>\n",
       "      <th>LTV</th>\n",
       "      <th>PERFORM_CNS_SCORE</th>\n",
       "      <th>PRI_CURRENT_BALANCE</th>\n",
       "      <th>PRI_SANCTIONED_AMOUNT</th>\n",
       "      <th>PRIMARY_INSTAL_AMT</th>\n",
       "      <th>SEC_INSTAL_AMT</th>\n",
       "      <th>AVERAGE_ACCT_AGE</th>\n",
       "      <th>LOAN_DEFAULT</th>\n",
       "    </tr>\n",
       "    <tr>\n",
       "      <th>EMPLOYMENT_TYPE</th>\n",
       "      <th></th>\n",
       "      <th></th>\n",
       "      <th></th>\n",
       "      <th></th>\n",
       "      <th></th>\n",
       "      <th></th>\n",
       "      <th></th>\n",
       "      <th></th>\n",
       "      <th></th>\n",
       "    </tr>\n",
       "  </thead>\n",
       "  <tbody>\n",
       "    <tr>\n",
       "      <th>Salaried</th>\n",
       "      <td>54534.755493</td>\n",
       "      <td>76.210719</td>\n",
       "      <td>310.417830</td>\n",
       "      <td>146039.042419</td>\n",
       "      <td>188316.233236</td>\n",
       "      <td>10704.37488</td>\n",
       "      <td>422.615187</td>\n",
       "      <td>0.752693</td>\n",
       "      <td>97858</td>\n",
       "    </tr>\n",
       "    <tr>\n",
       "      <th>Self employed</th>\n",
       "      <td>54015.298022</td>\n",
       "      <td>73.730119</td>\n",
       "      <td>279.717178</td>\n",
       "      <td>185687.850832</td>\n",
       "      <td>247955.507713</td>\n",
       "      <td>14746.73385</td>\n",
       "      <td>251.367517</td>\n",
       "      <td>0.752102</td>\n",
       "      <td>127635</td>\n",
       "    </tr>\n",
       "  </tbody>\n",
       "</table>\n",
       "</div>"
      ],
      "text/plain": [
       "                 DISBURSED_AMOUNT        LTV  PERFORM_CNS_SCORE  \\\n",
       "EMPLOYMENT_TYPE                                                   \n",
       "Salaried             54534.755493  76.210719         310.417830   \n",
       "Self employed        54015.298022  73.730119         279.717178   \n",
       "\n",
       "                 PRI_CURRENT_BALANCE  PRI_SANCTIONED_AMOUNT  \\\n",
       "EMPLOYMENT_TYPE                                               \n",
       "Salaried               146039.042419          188316.233236   \n",
       "Self employed          185687.850832          247955.507713   \n",
       "\n",
       "                 PRIMARY_INSTAL_AMT  SEC_INSTAL_AMT  AVERAGE_ACCT_AGE  \\\n",
       "EMPLOYMENT_TYPE                                                         \n",
       "Salaried                10704.37488      422.615187          0.752693   \n",
       "Self employed           14746.73385      251.367517          0.752102   \n",
       "\n",
       "                 LOAN_DEFAULT  \n",
       "EMPLOYMENT_TYPE                \n",
       "Salaried                97858  \n",
       "Self employed          127635  "
      ]
     },
     "execution_count": 21,
     "metadata": {},
     "output_type": "execute_result"
    }
   ],
   "source": [
    "pd.set_option('display.max_columns', None)\n",
    "df.groupby(by = 'EMPLOYMENT_TYPE').agg({\n",
    "    'DISBURSED_AMOUNT':'mean',\n",
    "    'LTV':'mean',\n",
    "    'PERFORM_CNS_SCORE':'mean',\n",
    "    'PRI_CURRENT_BALANCE':'mean',\n",
    "    'PRI_SANCTIONED_AMOUNT':'mean',\n",
    "    'PRIMARY_INSTAL_AMT':'mean',\n",
    "    'SEC_INSTAL_AMT':'mean',\n",
    "    'AVERAGE_ACCT_AGE':'mean',\n",
    "    'LOAN_DEFAULT':'count'\n",
    "})"
   ]
  },
  {
   "cell_type": "markdown",
   "metadata": {},
   "source": [
    "## Insight\n",
    "1. Salaried Employment type have averagely higher LTV meaning the amount that they borrow to the value of product is higher than those of the self employed\n",
    "2. It can be seen that salaried person have a higher credit score, maybe this is due to their stable income rather than unstable income of those who are self employed.\n",
    "3. Self employed have higher current balance than salaried person but both of self employed person and salaried person sanctioned amount is larget than their current balance\n",
    "4. self employed person have higher primary installation amount meaning that they use our installment services more often\n",
    "5. Both employed and self employed are new to our service with the average account age of under a year and self employed people have more loan default cases than salaried person"
   ]
  },
  {
   "cell_type": "markdown",
   "metadata": {},
   "source": [
    "# Machine Learning Work Area"
   ]
  },
  {
   "cell_type": "markdown",
   "metadata": {},
   "source": [
    "## Data Preparation  - Feature Selection"
   ]
  },
  {
   "cell_type": "code",
   "execution_count": 22,
   "metadata": {},
   "outputs": [],
   "source": [
    "## Dropping Useless Feature \n",
    "\n",
    "data_train_test = df.drop([\n",
    "    'SUPPLIER_ID', \n",
    "    'DATE_OF_BIRTH' , \n",
    "    'STATE_ID', \n",
    "    'CURRENT_PINCODE_ID',\n",
    "    'EMPLOYEE_CODE_ID', \n",
    "    'MANUFACTURER_ID', \n",
    "    'BRANCH_ID',\n",
    "    'MOBILENO_AVL_FLAG',\n",
    "    'AADHAR_FLAG',\n",
    "    'PAN_FLAG',\n",
    "    'VOTERID_FLAG',\n",
    "    'DRIVING_FLAG',\n",
    "    'PERFORM_CNS_SCORE_DESCRIPTION',\n",
    "    'UNIQUEID',\n",
    "    'PASSPORT_FLAG',\n",
    "    'DISBURSAL_DATE',\n",
    "    'LTV_bins'\n",
    "],axis=1)"
   ]
  },
  {
   "cell_type": "code",
   "execution_count": 23,
   "metadata": {},
   "outputs": [
    {
     "data": {
      "text/plain": [
       "(233154, 26)"
      ]
     },
     "execution_count": 23,
     "metadata": {},
     "output_type": "execute_result"
    }
   ],
   "source": [
    "data_train_test.shape"
   ]
  },
  {
   "cell_type": "markdown",
   "metadata": {},
   "source": [
    "The reason I said that the feature above is useless is because those features have no direct correlation with our customer. we have age data for the date of birth, where they live doesn't matter, their flag also doesn't matter and the uniqueid is not a good feature because the uniqueid is randomly generated. Perform cns score description was also not needed because we have the score so why put more ?"
   ]
  },
  {
   "cell_type": "code",
   "execution_count": 24,
   "metadata": {},
   "outputs": [
    {
     "data": {
      "text/html": [
       "<div>\n",
       "<style scoped>\n",
       "    .dataframe tbody tr th:only-of-type {\n",
       "        vertical-align: middle;\n",
       "    }\n",
       "\n",
       "    .dataframe tbody tr th {\n",
       "        vertical-align: top;\n",
       "    }\n",
       "\n",
       "    .dataframe thead th {\n",
       "        text-align: right;\n",
       "    }\n",
       "</style>\n",
       "<table border=\"1\" class=\"dataframe\">\n",
       "  <thead>\n",
       "    <tr style=\"text-align: right;\">\n",
       "      <th></th>\n",
       "      <th>LOAN_DEFAULT</th>\n",
       "      <th>LTV</th>\n",
       "    </tr>\n",
       "  </thead>\n",
       "  <tbody>\n",
       "    <tr>\n",
       "      <th>LOAN_DEFAULT</th>\n",
       "      <td>1.000000</td>\n",
       "      <td>0.098208</td>\n",
       "    </tr>\n",
       "    <tr>\n",
       "      <th>LTV</th>\n",
       "      <td>0.098208</td>\n",
       "      <td>1.000000</td>\n",
       "    </tr>\n",
       "    <tr>\n",
       "      <th>DISBURSED_AMOUNT</th>\n",
       "      <td>0.077675</td>\n",
       "      <td>0.376747</td>\n",
       "    </tr>\n",
       "    <tr>\n",
       "      <th>NO_OF_INQUIRIES</th>\n",
       "      <td>0.043678</td>\n",
       "      <td>0.085725</td>\n",
       "    </tr>\n",
       "    <tr>\n",
       "      <th>PRI_OVERDUE_ACCTS</th>\n",
       "      <td>0.040872</td>\n",
       "      <td>0.051770</td>\n",
       "    </tr>\n",
       "    <tr>\n",
       "      <th>DELINQUENT_ACCTS_IN_LAST_SIX_MONTHS</th>\n",
       "      <td>0.034462</td>\n",
       "      <td>0.041921</td>\n",
       "    </tr>\n",
       "    <tr>\n",
       "      <th>ASSET_COST</th>\n",
       "      <td>0.014261</td>\n",
       "      <td>-0.301188</td>\n",
       "    </tr>\n",
       "    <tr>\n",
       "      <th>SEC_OVERDUE_ACCTS</th>\n",
       "      <td>-0.001371</td>\n",
       "      <td>0.010256</td>\n",
       "    </tr>\n",
       "    <tr>\n",
       "      <th>SEC_INSTAL_AMT</th>\n",
       "      <td>-0.001548</td>\n",
       "      <td>0.000481</td>\n",
       "    </tr>\n",
       "    <tr>\n",
       "      <th>SEC_CURRENT_BALANCE</th>\n",
       "      <td>-0.005531</td>\n",
       "      <td>0.007195</td>\n",
       "    </tr>\n",
       "    <tr>\n",
       "      <th>SEC_ACTIVE_ACCTS</th>\n",
       "      <td>-0.005993</td>\n",
       "      <td>0.010565</td>\n",
       "    </tr>\n",
       "    <tr>\n",
       "      <th>SEC_DISBURSED_AMOUNT</th>\n",
       "      <td>-0.006248</td>\n",
       "      <td>0.008733</td>\n",
       "    </tr>\n",
       "    <tr>\n",
       "      <th>SEC_SANCTIONED_AMOUNT</th>\n",
       "      <td>-0.006354</td>\n",
       "      <td>0.008800</td>\n",
       "    </tr>\n",
       "    <tr>\n",
       "      <th>SEC_NO_OF_ACCTS</th>\n",
       "      <td>-0.008385</td>\n",
       "      <td>0.013019</td>\n",
       "    </tr>\n",
       "    <tr>\n",
       "      <th>PRIMARY_INSTAL_AMT</th>\n",
       "      <td>-0.010616</td>\n",
       "      <td>0.007358</td>\n",
       "    </tr>\n",
       "    <tr>\n",
       "      <th>PRI_DISBURSED_AMOUNT</th>\n",
       "      <td>-0.011155</td>\n",
       "      <td>0.010177</td>\n",
       "    </tr>\n",
       "    <tr>\n",
       "      <th>PRI_SANCTIONED_AMOUNT</th>\n",
       "      <td>-0.011304</td>\n",
       "      <td>0.009955</td>\n",
       "    </tr>\n",
       "    <tr>\n",
       "      <th>AVERAGE_ACCT_AGE</th>\n",
       "      <td>-0.024781</td>\n",
       "      <td>0.029853</td>\n",
       "    </tr>\n",
       "    <tr>\n",
       "      <th>PRI_CURRENT_BALANCE</th>\n",
       "      <td>-0.027386</td>\n",
       "      <td>0.026714</td>\n",
       "    </tr>\n",
       "    <tr>\n",
       "      <th>NEW_ACCTS_IN_LAST_SIX_MONTHS</th>\n",
       "      <td>-0.029400</td>\n",
       "      <td>0.083824</td>\n",
       "    </tr>\n",
       "    <tr>\n",
       "      <th>PRI_NO_OF_ACCTS</th>\n",
       "      <td>-0.035456</td>\n",
       "      <td>0.086571</td>\n",
       "    </tr>\n",
       "    <tr>\n",
       "      <th>age</th>\n",
       "      <td>-0.036585</td>\n",
       "      <td>0.081221</td>\n",
       "    </tr>\n",
       "    <tr>\n",
       "      <th>PRI_ACTIVE_ACCTS</th>\n",
       "      <td>-0.041451</td>\n",
       "      <td>0.087929</td>\n",
       "    </tr>\n",
       "    <tr>\n",
       "      <th>CREDIT_HISTORY_LENGTH</th>\n",
       "      <td>-0.042126</td>\n",
       "      <td>0.053607</td>\n",
       "    </tr>\n",
       "    <tr>\n",
       "      <th>PERFORM_CNS_SCORE</th>\n",
       "      <td>-0.057929</td>\n",
       "      <td>0.084993</td>\n",
       "    </tr>\n",
       "  </tbody>\n",
       "</table>\n",
       "</div>"
      ],
      "text/plain": [
       "                                     LOAN_DEFAULT       LTV\n",
       "LOAN_DEFAULT                             1.000000  0.098208\n",
       "LTV                                      0.098208  1.000000\n",
       "DISBURSED_AMOUNT                         0.077675  0.376747\n",
       "NO_OF_INQUIRIES                          0.043678  0.085725\n",
       "PRI_OVERDUE_ACCTS                        0.040872  0.051770\n",
       "DELINQUENT_ACCTS_IN_LAST_SIX_MONTHS      0.034462  0.041921\n",
       "ASSET_COST                               0.014261 -0.301188\n",
       "SEC_OVERDUE_ACCTS                       -0.001371  0.010256\n",
       "SEC_INSTAL_AMT                          -0.001548  0.000481\n",
       "SEC_CURRENT_BALANCE                     -0.005531  0.007195\n",
       "SEC_ACTIVE_ACCTS                        -0.005993  0.010565\n",
       "SEC_DISBURSED_AMOUNT                    -0.006248  0.008733\n",
       "SEC_SANCTIONED_AMOUNT                   -0.006354  0.008800\n",
       "SEC_NO_OF_ACCTS                         -0.008385  0.013019\n",
       "PRIMARY_INSTAL_AMT                      -0.010616  0.007358\n",
       "PRI_DISBURSED_AMOUNT                    -0.011155  0.010177\n",
       "PRI_SANCTIONED_AMOUNT                   -0.011304  0.009955\n",
       "AVERAGE_ACCT_AGE                        -0.024781  0.029853\n",
       "PRI_CURRENT_BALANCE                     -0.027386  0.026714\n",
       "NEW_ACCTS_IN_LAST_SIX_MONTHS            -0.029400  0.083824\n",
       "PRI_NO_OF_ACCTS                         -0.035456  0.086571\n",
       "age                                     -0.036585  0.081221\n",
       "PRI_ACTIVE_ACCTS                        -0.041451  0.087929\n",
       "CREDIT_HISTORY_LENGTH                   -0.042126  0.053607\n",
       "PERFORM_CNS_SCORE                       -0.057929  0.084993"
      ]
     },
     "execution_count": 24,
     "metadata": {},
     "output_type": "execute_result"
    }
   ],
   "source": [
    "corr = data_train_test.corr()\n",
    "corr[['LOAN_DEFAULT','LTV']].sort_values(by = 'LOAN_DEFAULT', ascending = False)"
   ]
  },
  {
   "cell_type": "markdown",
   "metadata": {},
   "source": [
    "There are no high number of correlation from this data, maybe if later I combine the feature to some component with PCA dimensionality reduction, we can get better result, but this is our data for training"
   ]
  },
  {
   "cell_type": "markdown",
   "metadata": {},
   "source": [
    "## Make Inference Model"
   ]
  },
  {
   "cell_type": "code",
   "execution_count": 25,
   "metadata": {},
   "outputs": [],
   "source": [
    "## Make Inference Data\n",
    "\n",
    "data_inf = df.sample(100, random_state = 100)\n",
    "## Remove Inference Data from Dataset\n",
    "data_train_test = data_train_test.drop(data_inf.index)\n",
    "\n",
    "data_train_test.reset_index(inplace = True, drop = True)\n",
    "data_inf.reset_index(drop = True, inplace = True)"
   ]
  },
  {
   "cell_type": "markdown",
   "metadata": {},
   "source": [
    "## Data Preparation - Splitting x(features) and y(target)"
   ]
  },
  {
   "cell_type": "code",
   "execution_count": 26,
   "metadata": {},
   "outputs": [
    {
     "data": {
      "text/html": [
       "<div>\n",
       "<style scoped>\n",
       "    .dataframe tbody tr th:only-of-type {\n",
       "        vertical-align: middle;\n",
       "    }\n",
       "\n",
       "    .dataframe tbody tr th {\n",
       "        vertical-align: top;\n",
       "    }\n",
       "\n",
       "    .dataframe thead th {\n",
       "        text-align: right;\n",
       "    }\n",
       "</style>\n",
       "<table border=\"1\" class=\"dataframe\">\n",
       "  <thead>\n",
       "    <tr style=\"text-align: right;\">\n",
       "      <th></th>\n",
       "      <th>DISBURSED_AMOUNT</th>\n",
       "      <th>ASSET_COST</th>\n",
       "      <th>LTV</th>\n",
       "      <th>EMPLOYMENT_TYPE</th>\n",
       "      <th>PERFORM_CNS_SCORE</th>\n",
       "      <th>PRI_NO_OF_ACCTS</th>\n",
       "      <th>PRI_ACTIVE_ACCTS</th>\n",
       "      <th>PRI_OVERDUE_ACCTS</th>\n",
       "      <th>PRI_CURRENT_BALANCE</th>\n",
       "      <th>PRI_SANCTIONED_AMOUNT</th>\n",
       "      <th>PRI_DISBURSED_AMOUNT</th>\n",
       "      <th>SEC_NO_OF_ACCTS</th>\n",
       "      <th>SEC_ACTIVE_ACCTS</th>\n",
       "      <th>SEC_OVERDUE_ACCTS</th>\n",
       "      <th>SEC_CURRENT_BALANCE</th>\n",
       "      <th>SEC_SANCTIONED_AMOUNT</th>\n",
       "      <th>SEC_DISBURSED_AMOUNT</th>\n",
       "      <th>PRIMARY_INSTAL_AMT</th>\n",
       "      <th>SEC_INSTAL_AMT</th>\n",
       "      <th>NEW_ACCTS_IN_LAST_SIX_MONTHS</th>\n",
       "      <th>DELINQUENT_ACCTS_IN_LAST_SIX_MONTHS</th>\n",
       "      <th>AVERAGE_ACCT_AGE</th>\n",
       "      <th>CREDIT_HISTORY_LENGTH</th>\n",
       "      <th>NO_OF_INQUIRIES</th>\n",
       "      <th>age</th>\n",
       "    </tr>\n",
       "  </thead>\n",
       "  <tbody>\n",
       "    <tr>\n",
       "      <th>0</th>\n",
       "      <td>50578</td>\n",
       "      <td>58400</td>\n",
       "      <td>89.55</td>\n",
       "      <td>Salaried</td>\n",
       "      <td>0</td>\n",
       "      <td>0</td>\n",
       "      <td>0</td>\n",
       "      <td>0</td>\n",
       "      <td>0</td>\n",
       "      <td>0</td>\n",
       "      <td>0</td>\n",
       "      <td>0</td>\n",
       "      <td>0</td>\n",
       "      <td>0</td>\n",
       "      <td>0</td>\n",
       "      <td>0</td>\n",
       "      <td>0</td>\n",
       "      <td>0</td>\n",
       "      <td>0</td>\n",
       "      <td>0</td>\n",
       "      <td>0</td>\n",
       "      <td>0.000000</td>\n",
       "      <td>0.000000</td>\n",
       "      <td>0</td>\n",
       "      <td>38.0</td>\n",
       "    </tr>\n",
       "    <tr>\n",
       "      <th>1</th>\n",
       "      <td>47145</td>\n",
       "      <td>65550</td>\n",
       "      <td>73.23</td>\n",
       "      <td>Self employed</td>\n",
       "      <td>598</td>\n",
       "      <td>1</td>\n",
       "      <td>1</td>\n",
       "      <td>1</td>\n",
       "      <td>27600</td>\n",
       "      <td>50200</td>\n",
       "      <td>50200</td>\n",
       "      <td>0</td>\n",
       "      <td>0</td>\n",
       "      <td>0</td>\n",
       "      <td>0</td>\n",
       "      <td>0</td>\n",
       "      <td>0</td>\n",
       "      <td>1991</td>\n",
       "      <td>0</td>\n",
       "      <td>0</td>\n",
       "      <td>1</td>\n",
       "      <td>1.916667</td>\n",
       "      <td>1.916667</td>\n",
       "      <td>0</td>\n",
       "      <td>37.0</td>\n",
       "    </tr>\n",
       "    <tr>\n",
       "      <th>2</th>\n",
       "      <td>53278</td>\n",
       "      <td>61360</td>\n",
       "      <td>89.63</td>\n",
       "      <td>Self employed</td>\n",
       "      <td>0</td>\n",
       "      <td>0</td>\n",
       "      <td>0</td>\n",
       "      <td>0</td>\n",
       "      <td>0</td>\n",
       "      <td>0</td>\n",
       "      <td>0</td>\n",
       "      <td>0</td>\n",
       "      <td>0</td>\n",
       "      <td>0</td>\n",
       "      <td>0</td>\n",
       "      <td>0</td>\n",
       "      <td>0</td>\n",
       "      <td>0</td>\n",
       "      <td>0</td>\n",
       "      <td>0</td>\n",
       "      <td>0</td>\n",
       "      <td>0.000000</td>\n",
       "      <td>0.000000</td>\n",
       "      <td>0</td>\n",
       "      <td>37.0</td>\n",
       "    </tr>\n",
       "    <tr>\n",
       "      <th>3</th>\n",
       "      <td>57513</td>\n",
       "      <td>66113</td>\n",
       "      <td>88.48</td>\n",
       "      <td>Self employed</td>\n",
       "      <td>305</td>\n",
       "      <td>3</td>\n",
       "      <td>0</td>\n",
       "      <td>0</td>\n",
       "      <td>0</td>\n",
       "      <td>0</td>\n",
       "      <td>0</td>\n",
       "      <td>0</td>\n",
       "      <td>0</td>\n",
       "      <td>0</td>\n",
       "      <td>0</td>\n",
       "      <td>0</td>\n",
       "      <td>0</td>\n",
       "      <td>31</td>\n",
       "      <td>0</td>\n",
       "      <td>0</td>\n",
       "      <td>0</td>\n",
       "      <td>0.666667</td>\n",
       "      <td>1.250000</td>\n",
       "      <td>1</td>\n",
       "      <td>28.0</td>\n",
       "    </tr>\n",
       "    <tr>\n",
       "      <th>4</th>\n",
       "      <td>52378</td>\n",
       "      <td>60300</td>\n",
       "      <td>88.39</td>\n",
       "      <td>Self employed</td>\n",
       "      <td>0</td>\n",
       "      <td>0</td>\n",
       "      <td>0</td>\n",
       "      <td>0</td>\n",
       "      <td>0</td>\n",
       "      <td>0</td>\n",
       "      <td>0</td>\n",
       "      <td>0</td>\n",
       "      <td>0</td>\n",
       "      <td>0</td>\n",
       "      <td>0</td>\n",
       "      <td>0</td>\n",
       "      <td>0</td>\n",
       "      <td>0</td>\n",
       "      <td>0</td>\n",
       "      <td>0</td>\n",
       "      <td>0</td>\n",
       "      <td>0.000000</td>\n",
       "      <td>0.000000</td>\n",
       "      <td>1</td>\n",
       "      <td>44.0</td>\n",
       "    </tr>\n",
       "  </tbody>\n",
       "</table>\n",
       "</div>"
      ],
      "text/plain": [
       "   DISBURSED_AMOUNT  ASSET_COST    LTV EMPLOYMENT_TYPE  PERFORM_CNS_SCORE  \\\n",
       "0             50578       58400  89.55        Salaried                  0   \n",
       "1             47145       65550  73.23   Self employed                598   \n",
       "2             53278       61360  89.63   Self employed                  0   \n",
       "3             57513       66113  88.48   Self employed                305   \n",
       "4             52378       60300  88.39   Self employed                  0   \n",
       "\n",
       "   PRI_NO_OF_ACCTS  PRI_ACTIVE_ACCTS  PRI_OVERDUE_ACCTS  PRI_CURRENT_BALANCE  \\\n",
       "0                0                 0                  0                    0   \n",
       "1                1                 1                  1                27600   \n",
       "2                0                 0                  0                    0   \n",
       "3                3                 0                  0                    0   \n",
       "4                0                 0                  0                    0   \n",
       "\n",
       "   PRI_SANCTIONED_AMOUNT  PRI_DISBURSED_AMOUNT  SEC_NO_OF_ACCTS  \\\n",
       "0                      0                     0                0   \n",
       "1                  50200                 50200                0   \n",
       "2                      0                     0                0   \n",
       "3                      0                     0                0   \n",
       "4                      0                     0                0   \n",
       "\n",
       "   SEC_ACTIVE_ACCTS  SEC_OVERDUE_ACCTS  SEC_CURRENT_BALANCE  \\\n",
       "0                 0                  0                    0   \n",
       "1                 0                  0                    0   \n",
       "2                 0                  0                    0   \n",
       "3                 0                  0                    0   \n",
       "4                 0                  0                    0   \n",
       "\n",
       "   SEC_SANCTIONED_AMOUNT  SEC_DISBURSED_AMOUNT  PRIMARY_INSTAL_AMT  \\\n",
       "0                      0                     0                   0   \n",
       "1                      0                     0                1991   \n",
       "2                      0                     0                   0   \n",
       "3                      0                     0                  31   \n",
       "4                      0                     0                   0   \n",
       "\n",
       "   SEC_INSTAL_AMT  NEW_ACCTS_IN_LAST_SIX_MONTHS  \\\n",
       "0               0                             0   \n",
       "1               0                             0   \n",
       "2               0                             0   \n",
       "3               0                             0   \n",
       "4               0                             0   \n",
       "\n",
       "   DELINQUENT_ACCTS_IN_LAST_SIX_MONTHS  AVERAGE_ACCT_AGE  \\\n",
       "0                                    0          0.000000   \n",
       "1                                    1          1.916667   \n",
       "2                                    0          0.000000   \n",
       "3                                    0          0.666667   \n",
       "4                                    0          0.000000   \n",
       "\n",
       "   CREDIT_HISTORY_LENGTH  NO_OF_INQUIRIES   age  \n",
       "0               0.000000                0  38.0  \n",
       "1               1.916667                0  37.0  \n",
       "2               0.000000                0  37.0  \n",
       "3               1.250000                1  28.0  \n",
       "4               0.000000                1  44.0  "
      ]
     },
     "execution_count": 26,
     "metadata": {},
     "output_type": "execute_result"
    }
   ],
   "source": [
    "## Splitting data into train and test\n",
    "X = data_train_test.drop('LOAN_DEFAULT', axis = 1)\n",
    "y = data_train_test['LOAN_DEFAULT']\n",
    "X.head()"
   ]
  },
  {
   "cell_type": "markdown",
   "metadata": {},
   "source": [
    "## Data Preparation - Splitting Train and Test"
   ]
  },
  {
   "cell_type": "code",
   "execution_count": 27,
   "metadata": {},
   "outputs": [
    {
     "name": "stdout",
     "output_type": "stream",
     "text": [
      "Train Size: (186443, 25)\n",
      "Test Size: (46611, 25)\n"
     ]
    }
   ],
   "source": [
    "# Split between Train-set and Test-set\n",
    "\n",
    "X_train, X_test, y_train , y_test = train_test_split(X,y, test_size = 0.20, random_state = 30)\n",
    "\n",
    "print('Train Size:', X_train.shape)\n",
    "print('Test Size:', X_test.shape)"
   ]
  },
  {
   "cell_type": "markdown",
   "metadata": {},
   "source": [
    "## Data Pre-processing - Missing Value Handling"
   ]
  },
  {
   "cell_type": "code",
   "execution_count": 28,
   "metadata": {},
   "outputs": [
    {
     "data": {
      "text/plain": [
       "DISBURSED_AMOUNT                          0\n",
       "ASSET_COST                                0\n",
       "LTV                                       0\n",
       "EMPLOYMENT_TYPE                        6165\n",
       "PERFORM_CNS_SCORE                         0\n",
       "PRI_NO_OF_ACCTS                           0\n",
       "PRI_ACTIVE_ACCTS                          0\n",
       "PRI_OVERDUE_ACCTS                         0\n",
       "PRI_CURRENT_BALANCE                       0\n",
       "PRI_SANCTIONED_AMOUNT                     0\n",
       "PRI_DISBURSED_AMOUNT                      0\n",
       "SEC_NO_OF_ACCTS                           0\n",
       "SEC_ACTIVE_ACCTS                          0\n",
       "SEC_OVERDUE_ACCTS                         0\n",
       "SEC_CURRENT_BALANCE                       0\n",
       "SEC_SANCTIONED_AMOUNT                     0\n",
       "SEC_DISBURSED_AMOUNT                      0\n",
       "PRIMARY_INSTAL_AMT                        0\n",
       "SEC_INSTAL_AMT                            0\n",
       "NEW_ACCTS_IN_LAST_SIX_MONTHS              0\n",
       "DELINQUENT_ACCTS_IN_LAST_SIX_MONTHS       0\n",
       "AVERAGE_ACCT_AGE                          0\n",
       "CREDIT_HISTORY_LENGTH                     0\n",
       "NO_OF_INQUIRIES                           0\n",
       "age                                       0\n",
       "dtype: int64"
      ]
     },
     "execution_count": 28,
     "metadata": {},
     "output_type": "execute_result"
    }
   ],
   "source": [
    "# Check for Missing Values for Train feature\n",
    "X_train.isnull().sum()"
   ]
  },
  {
   "cell_type": "code",
   "execution_count": 29,
   "metadata": {},
   "outputs": [
    {
     "data": {
      "text/plain": [
       "DISBURSED_AMOUNT                          0\n",
       "ASSET_COST                                0\n",
       "LTV                                       0\n",
       "EMPLOYMENT_TYPE                        1493\n",
       "PERFORM_CNS_SCORE                         0\n",
       "PRI_NO_OF_ACCTS                           0\n",
       "PRI_ACTIVE_ACCTS                          0\n",
       "PRI_OVERDUE_ACCTS                         0\n",
       "PRI_CURRENT_BALANCE                       0\n",
       "PRI_SANCTIONED_AMOUNT                     0\n",
       "PRI_DISBURSED_AMOUNT                      0\n",
       "SEC_NO_OF_ACCTS                           0\n",
       "SEC_ACTIVE_ACCTS                          0\n",
       "SEC_OVERDUE_ACCTS                         0\n",
       "SEC_CURRENT_BALANCE                       0\n",
       "SEC_SANCTIONED_AMOUNT                     0\n",
       "SEC_DISBURSED_AMOUNT                      0\n",
       "PRIMARY_INSTAL_AMT                        0\n",
       "SEC_INSTAL_AMT                            0\n",
       "NEW_ACCTS_IN_LAST_SIX_MONTHS              0\n",
       "DELINQUENT_ACCTS_IN_LAST_SIX_MONTHS       0\n",
       "AVERAGE_ACCT_AGE                          0\n",
       "CREDIT_HISTORY_LENGTH                     0\n",
       "NO_OF_INQUIRIES                           0\n",
       "age                                       0\n",
       "dtype: int64"
      ]
     },
     "execution_count": 29,
     "metadata": {},
     "output_type": "execute_result"
    }
   ],
   "source": [
    "# Check for Missing values for test feature\n",
    "X_test.isnull().sum()"
   ]
  },
  {
   "cell_type": "code",
   "execution_count": 30,
   "metadata": {},
   "outputs": [
    {
     "data": {
      "text/plain": [
       "0"
      ]
     },
     "execution_count": 30,
     "metadata": {},
     "output_type": "execute_result"
    }
   ],
   "source": [
    "# Check for Missing values for train target\n",
    "y_train.isnull().sum()"
   ]
  },
  {
   "cell_type": "code",
   "execution_count": 31,
   "metadata": {},
   "outputs": [
    {
     "data": {
      "text/plain": [
       "0"
      ]
     },
     "execution_count": 31,
     "metadata": {},
     "output_type": "execute_result"
    }
   ],
   "source": [
    "y_test.isnull().sum()"
   ]
  },
  {
   "cell_type": "code",
   "execution_count": 32,
   "metadata": {},
   "outputs": [
    {
     "data": {
      "text/plain": [
       "(186443, 25)"
      ]
     },
     "execution_count": 32,
     "metadata": {},
     "output_type": "execute_result"
    }
   ],
   "source": [
    "# Checking the shape\n",
    "X_train.shape"
   ]
  },
  {
   "cell_type": "markdown",
   "metadata": {},
   "source": [
    "Since I have around 186,443 data and only less than 5% data is missing, I decide to drop the missing values"
   ]
  },
  {
   "cell_type": "code",
   "execution_count": 33,
   "metadata": {},
   "outputs": [],
   "source": [
    "# Locate the index of missing values\n",
    "a = X_train[X_train['EMPLOYMENT_TYPE'].isnull()].index.tolist()\n",
    "b = X_test[X_test['EMPLOYMENT_TYPE'].isnull()].index.tolist()"
   ]
  },
  {
   "cell_type": "code",
   "execution_count": 34,
   "metadata": {},
   "outputs": [],
   "source": [
    "# Drop the missing Values in train and test\n",
    "X_train.drop(a, inplace = True)\n",
    "X_test.drop(b, inplace = True)\n",
    "y_train.drop(a, inplace = True)\n",
    "y_test.drop(b, inplace = True)"
   ]
  },
  {
   "cell_type": "markdown",
   "metadata": {},
   "source": [
    "## Data Pre-processing - Outlier Handling"
   ]
  },
  {
   "cell_type": "markdown",
   "metadata": {},
   "source": [
    "Outlier can only be handled if the data is a numeric column, now let's split the data into numeric and categoric"
   ]
  },
  {
   "cell_type": "code",
   "execution_count": 35,
   "metadata": {},
   "outputs": [],
   "source": [
    "# Numerical column and Categorical Column Split\n",
    "num_columns = X_train.select_dtypes(include = np.number).columns.tolist()\n",
    "cat_columns = X_train.select_dtypes(include = ['object']).columns.tolist()"
   ]
  },
  {
   "cell_type": "code",
   "execution_count": 36,
   "metadata": {},
   "outputs": [],
   "source": [
    "# Make numerical and categorical df to do scaling and encoding\n",
    "X_train_num = X_train[num_columns]\n",
    "X_train_cat = X_train[cat_columns]\n",
    "\n",
    "X_test_num = X_test[num_columns]\n",
    "X_test_cat = X_test[cat_columns]"
   ]
  },
  {
   "cell_type": "code",
   "execution_count": 37,
   "metadata": {},
   "outputs": [
    {
     "data": {
      "text/html": [
       "<div>\n",
       "<style scoped>\n",
       "    .dataframe tbody tr th:only-of-type {\n",
       "        vertical-align: middle;\n",
       "    }\n",
       "\n",
       "    .dataframe tbody tr th {\n",
       "        vertical-align: top;\n",
       "    }\n",
       "\n",
       "    .dataframe thead th {\n",
       "        text-align: right;\n",
       "    }\n",
       "</style>\n",
       "<table border=\"1\" class=\"dataframe\">\n",
       "  <thead>\n",
       "    <tr style=\"text-align: right;\">\n",
       "      <th></th>\n",
       "      <th>DISBURSED_AMOUNT</th>\n",
       "      <th>ASSET_COST</th>\n",
       "      <th>LTV</th>\n",
       "      <th>PERFORM_CNS_SCORE</th>\n",
       "      <th>PRI_NO_OF_ACCTS</th>\n",
       "      <th>PRI_ACTIVE_ACCTS</th>\n",
       "      <th>PRI_OVERDUE_ACCTS</th>\n",
       "      <th>PRI_CURRENT_BALANCE</th>\n",
       "      <th>PRI_SANCTIONED_AMOUNT</th>\n",
       "      <th>PRI_DISBURSED_AMOUNT</th>\n",
       "      <th>SEC_NO_OF_ACCTS</th>\n",
       "      <th>SEC_ACTIVE_ACCTS</th>\n",
       "      <th>SEC_OVERDUE_ACCTS</th>\n",
       "      <th>SEC_CURRENT_BALANCE</th>\n",
       "      <th>SEC_SANCTIONED_AMOUNT</th>\n",
       "      <th>SEC_DISBURSED_AMOUNT</th>\n",
       "      <th>PRIMARY_INSTAL_AMT</th>\n",
       "      <th>SEC_INSTAL_AMT</th>\n",
       "      <th>NEW_ACCTS_IN_LAST_SIX_MONTHS</th>\n",
       "      <th>DELINQUENT_ACCTS_IN_LAST_SIX_MONTHS</th>\n",
       "      <th>AVERAGE_ACCT_AGE</th>\n",
       "      <th>CREDIT_HISTORY_LENGTH</th>\n",
       "      <th>NO_OF_INQUIRIES</th>\n",
       "      <th>age</th>\n",
       "    </tr>\n",
       "  </thead>\n",
       "  <tbody>\n",
       "    <tr>\n",
       "      <th>222651</th>\n",
       "      <td>38639</td>\n",
       "      <td>65179</td>\n",
       "      <td>60.91</td>\n",
       "      <td>0</td>\n",
       "      <td>0</td>\n",
       "      <td>0</td>\n",
       "      <td>0</td>\n",
       "      <td>0</td>\n",
       "      <td>0</td>\n",
       "      <td>0</td>\n",
       "      <td>0</td>\n",
       "      <td>0</td>\n",
       "      <td>0</td>\n",
       "      <td>0</td>\n",
       "      <td>0</td>\n",
       "      <td>0</td>\n",
       "      <td>0</td>\n",
       "      <td>0</td>\n",
       "      <td>0</td>\n",
       "      <td>0</td>\n",
       "      <td>0.000000</td>\n",
       "      <td>0.000000</td>\n",
       "      <td>0</td>\n",
       "      <td>28.0</td>\n",
       "    </tr>\n",
       "    <tr>\n",
       "      <th>51574</th>\n",
       "      <td>53078</td>\n",
       "      <td>68766</td>\n",
       "      <td>79.98</td>\n",
       "      <td>738</td>\n",
       "      <td>3</td>\n",
       "      <td>3</td>\n",
       "      <td>0</td>\n",
       "      <td>37383</td>\n",
       "      <td>47250</td>\n",
       "      <td>47250</td>\n",
       "      <td>0</td>\n",
       "      <td>0</td>\n",
       "      <td>0</td>\n",
       "      <td>0</td>\n",
       "      <td>0</td>\n",
       "      <td>0</td>\n",
       "      <td>3570</td>\n",
       "      <td>0</td>\n",
       "      <td>3</td>\n",
       "      <td>0</td>\n",
       "      <td>0.333333</td>\n",
       "      <td>0.416667</td>\n",
       "      <td>1</td>\n",
       "      <td>37.0</td>\n",
       "    </tr>\n",
       "    <tr>\n",
       "      <th>138224</th>\n",
       "      <td>47849</td>\n",
       "      <td>69569</td>\n",
       "      <td>70.43</td>\n",
       "      <td>488</td>\n",
       "      <td>9</td>\n",
       "      <td>4</td>\n",
       "      <td>3</td>\n",
       "      <td>520468</td>\n",
       "      <td>566500</td>\n",
       "      <td>566500</td>\n",
       "      <td>0</td>\n",
       "      <td>0</td>\n",
       "      <td>0</td>\n",
       "      <td>0</td>\n",
       "      <td>0</td>\n",
       "      <td>0</td>\n",
       "      <td>30904</td>\n",
       "      <td>0</td>\n",
       "      <td>0</td>\n",
       "      <td>3</td>\n",
       "      <td>2.583333</td>\n",
       "      <td>10.916667</td>\n",
       "      <td>0</td>\n",
       "      <td>41.0</td>\n",
       "    </tr>\n",
       "    <tr>\n",
       "      <th>221507</th>\n",
       "      <td>51303</td>\n",
       "      <td>71497</td>\n",
       "      <td>72.73</td>\n",
       "      <td>628</td>\n",
       "      <td>5</td>\n",
       "      <td>0</td>\n",
       "      <td>0</td>\n",
       "      <td>0</td>\n",
       "      <td>0</td>\n",
       "      <td>0</td>\n",
       "      <td>0</td>\n",
       "      <td>0</td>\n",
       "      <td>0</td>\n",
       "      <td>0</td>\n",
       "      <td>0</td>\n",
       "      <td>0</td>\n",
       "      <td>3760</td>\n",
       "      <td>0</td>\n",
       "      <td>0</td>\n",
       "      <td>0</td>\n",
       "      <td>1.000000</td>\n",
       "      <td>1.750000</td>\n",
       "      <td>0</td>\n",
       "      <td>28.0</td>\n",
       "    </tr>\n",
       "    <tr>\n",
       "      <th>60540</th>\n",
       "      <td>53478</td>\n",
       "      <td>72468</td>\n",
       "      <td>75.90</td>\n",
       "      <td>845</td>\n",
       "      <td>2</td>\n",
       "      <td>0</td>\n",
       "      <td>0</td>\n",
       "      <td>0</td>\n",
       "      <td>0</td>\n",
       "      <td>0</td>\n",
       "      <td>0</td>\n",
       "      <td>0</td>\n",
       "      <td>0</td>\n",
       "      <td>0</td>\n",
       "      <td>0</td>\n",
       "      <td>0</td>\n",
       "      <td>11864</td>\n",
       "      <td>0</td>\n",
       "      <td>0</td>\n",
       "      <td>0</td>\n",
       "      <td>2.416667</td>\n",
       "      <td>3.916667</td>\n",
       "      <td>0</td>\n",
       "      <td>52.0</td>\n",
       "    </tr>\n",
       "    <tr>\n",
       "      <th>...</th>\n",
       "      <td>...</td>\n",
       "      <td>...</td>\n",
       "      <td>...</td>\n",
       "      <td>...</td>\n",
       "      <td>...</td>\n",
       "      <td>...</td>\n",
       "      <td>...</td>\n",
       "      <td>...</td>\n",
       "      <td>...</td>\n",
       "      <td>...</td>\n",
       "      <td>...</td>\n",
       "      <td>...</td>\n",
       "      <td>...</td>\n",
       "      <td>...</td>\n",
       "      <td>...</td>\n",
       "      <td>...</td>\n",
       "      <td>...</td>\n",
       "      <td>...</td>\n",
       "      <td>...</td>\n",
       "      <td>...</td>\n",
       "      <td>...</td>\n",
       "      <td>...</td>\n",
       "      <td>...</td>\n",
       "      <td>...</td>\n",
       "    </tr>\n",
       "    <tr>\n",
       "      <th>46220</th>\n",
       "      <td>37304</td>\n",
       "      <td>76304</td>\n",
       "      <td>51.11</td>\n",
       "      <td>0</td>\n",
       "      <td>0</td>\n",
       "      <td>0</td>\n",
       "      <td>0</td>\n",
       "      <td>0</td>\n",
       "      <td>0</td>\n",
       "      <td>0</td>\n",
       "      <td>0</td>\n",
       "      <td>0</td>\n",
       "      <td>0</td>\n",
       "      <td>0</td>\n",
       "      <td>0</td>\n",
       "      <td>0</td>\n",
       "      <td>0</td>\n",
       "      <td>0</td>\n",
       "      <td>0</td>\n",
       "      <td>0</td>\n",
       "      <td>0.000000</td>\n",
       "      <td>0.000000</td>\n",
       "      <td>0</td>\n",
       "      <td>37.0</td>\n",
       "    </tr>\n",
       "    <tr>\n",
       "      <th>98804</th>\n",
       "      <td>54013</td>\n",
       "      <td>71629</td>\n",
       "      <td>78.18</td>\n",
       "      <td>16</td>\n",
       "      <td>2</td>\n",
       "      <td>1</td>\n",
       "      <td>0</td>\n",
       "      <td>97533</td>\n",
       "      <td>160000</td>\n",
       "      <td>160000</td>\n",
       "      <td>0</td>\n",
       "      <td>0</td>\n",
       "      <td>0</td>\n",
       "      <td>0</td>\n",
       "      <td>0</td>\n",
       "      <td>0</td>\n",
       "      <td>4444</td>\n",
       "      <td>0</td>\n",
       "      <td>0</td>\n",
       "      <td>1</td>\n",
       "      <td>2.166667</td>\n",
       "      <td>2.916667</td>\n",
       "      <td>0</td>\n",
       "      <td>32.0</td>\n",
       "    </tr>\n",
       "    <tr>\n",
       "      <th>48045</th>\n",
       "      <td>44909</td>\n",
       "      <td>64116</td>\n",
       "      <td>74.86</td>\n",
       "      <td>708</td>\n",
       "      <td>4</td>\n",
       "      <td>2</td>\n",
       "      <td>0</td>\n",
       "      <td>15165</td>\n",
       "      <td>48500</td>\n",
       "      <td>48500</td>\n",
       "      <td>0</td>\n",
       "      <td>0</td>\n",
       "      <td>0</td>\n",
       "      <td>0</td>\n",
       "      <td>0</td>\n",
       "      <td>0</td>\n",
       "      <td>0</td>\n",
       "      <td>0</td>\n",
       "      <td>1</td>\n",
       "      <td>0</td>\n",
       "      <td>0.750000</td>\n",
       "      <td>1.166667</td>\n",
       "      <td>0</td>\n",
       "      <td>48.0</td>\n",
       "    </tr>\n",
       "    <tr>\n",
       "      <th>201125</th>\n",
       "      <td>37939</td>\n",
       "      <td>72292</td>\n",
       "      <td>54.64</td>\n",
       "      <td>0</td>\n",
       "      <td>0</td>\n",
       "      <td>0</td>\n",
       "      <td>0</td>\n",
       "      <td>0</td>\n",
       "      <td>0</td>\n",
       "      <td>0</td>\n",
       "      <td>0</td>\n",
       "      <td>0</td>\n",
       "      <td>0</td>\n",
       "      <td>0</td>\n",
       "      <td>0</td>\n",
       "      <td>0</td>\n",
       "      <td>0</td>\n",
       "      <td>0</td>\n",
       "      <td>0</td>\n",
       "      <td>0</td>\n",
       "      <td>0.000000</td>\n",
       "      <td>0.000000</td>\n",
       "      <td>0</td>\n",
       "      <td>26.0</td>\n",
       "    </tr>\n",
       "    <tr>\n",
       "      <th>169765</th>\n",
       "      <td>65169</td>\n",
       "      <td>88816</td>\n",
       "      <td>74.31</td>\n",
       "      <td>300</td>\n",
       "      <td>10</td>\n",
       "      <td>6</td>\n",
       "      <td>9</td>\n",
       "      <td>198538</td>\n",
       "      <td>256708</td>\n",
       "      <td>256708</td>\n",
       "      <td>0</td>\n",
       "      <td>0</td>\n",
       "      <td>0</td>\n",
       "      <td>0</td>\n",
       "      <td>0</td>\n",
       "      <td>0</td>\n",
       "      <td>26980</td>\n",
       "      <td>0</td>\n",
       "      <td>0</td>\n",
       "      <td>0</td>\n",
       "      <td>8.500000</td>\n",
       "      <td>13.333333</td>\n",
       "      <td>0</td>\n",
       "      <td>43.0</td>\n",
       "    </tr>\n",
       "  </tbody>\n",
       "</table>\n",
       "<p>180278 rows × 24 columns</p>\n",
       "</div>"
      ],
      "text/plain": [
       "        DISBURSED_AMOUNT  ASSET_COST    LTV  PERFORM_CNS_SCORE  \\\n",
       "222651             38639       65179  60.91                  0   \n",
       "51574              53078       68766  79.98                738   \n",
       "138224             47849       69569  70.43                488   \n",
       "221507             51303       71497  72.73                628   \n",
       "60540              53478       72468  75.90                845   \n",
       "...                  ...         ...    ...                ...   \n",
       "46220              37304       76304  51.11                  0   \n",
       "98804              54013       71629  78.18                 16   \n",
       "48045              44909       64116  74.86                708   \n",
       "201125             37939       72292  54.64                  0   \n",
       "169765             65169       88816  74.31                300   \n",
       "\n",
       "        PRI_NO_OF_ACCTS  PRI_ACTIVE_ACCTS  PRI_OVERDUE_ACCTS  \\\n",
       "222651                0                 0                  0   \n",
       "51574                 3                 3                  0   \n",
       "138224                9                 4                  3   \n",
       "221507                5                 0                  0   \n",
       "60540                 2                 0                  0   \n",
       "...                 ...               ...                ...   \n",
       "46220                 0                 0                  0   \n",
       "98804                 2                 1                  0   \n",
       "48045                 4                 2                  0   \n",
       "201125                0                 0                  0   \n",
       "169765               10                 6                  9   \n",
       "\n",
       "        PRI_CURRENT_BALANCE  PRI_SANCTIONED_AMOUNT  PRI_DISBURSED_AMOUNT  \\\n",
       "222651                    0                      0                     0   \n",
       "51574                 37383                  47250                 47250   \n",
       "138224               520468                 566500                566500   \n",
       "221507                    0                      0                     0   \n",
       "60540                     0                      0                     0   \n",
       "...                     ...                    ...                   ...   \n",
       "46220                     0                      0                     0   \n",
       "98804                 97533                 160000                160000   \n",
       "48045                 15165                  48500                 48500   \n",
       "201125                    0                      0                     0   \n",
       "169765               198538                 256708                256708   \n",
       "\n",
       "        SEC_NO_OF_ACCTS  SEC_ACTIVE_ACCTS  SEC_OVERDUE_ACCTS  \\\n",
       "222651                0                 0                  0   \n",
       "51574                 0                 0                  0   \n",
       "138224                0                 0                  0   \n",
       "221507                0                 0                  0   \n",
       "60540                 0                 0                  0   \n",
       "...                 ...               ...                ...   \n",
       "46220                 0                 0                  0   \n",
       "98804                 0                 0                  0   \n",
       "48045                 0                 0                  0   \n",
       "201125                0                 0                  0   \n",
       "169765                0                 0                  0   \n",
       "\n",
       "        SEC_CURRENT_BALANCE  SEC_SANCTIONED_AMOUNT  SEC_DISBURSED_AMOUNT  \\\n",
       "222651                    0                      0                     0   \n",
       "51574                     0                      0                     0   \n",
       "138224                    0                      0                     0   \n",
       "221507                    0                      0                     0   \n",
       "60540                     0                      0                     0   \n",
       "...                     ...                    ...                   ...   \n",
       "46220                     0                      0                     0   \n",
       "98804                     0                      0                     0   \n",
       "48045                     0                      0                     0   \n",
       "201125                    0                      0                     0   \n",
       "169765                    0                      0                     0   \n",
       "\n",
       "        PRIMARY_INSTAL_AMT  SEC_INSTAL_AMT  NEW_ACCTS_IN_LAST_SIX_MONTHS  \\\n",
       "222651                   0               0                             0   \n",
       "51574                 3570               0                             3   \n",
       "138224               30904               0                             0   \n",
       "221507                3760               0                             0   \n",
       "60540                11864               0                             0   \n",
       "...                    ...             ...                           ...   \n",
       "46220                    0               0                             0   \n",
       "98804                 4444               0                             0   \n",
       "48045                    0               0                             1   \n",
       "201125                   0               0                             0   \n",
       "169765               26980               0                             0   \n",
       "\n",
       "        DELINQUENT_ACCTS_IN_LAST_SIX_MONTHS  AVERAGE_ACCT_AGE  \\\n",
       "222651                                    0          0.000000   \n",
       "51574                                     0          0.333333   \n",
       "138224                                    3          2.583333   \n",
       "221507                                    0          1.000000   \n",
       "60540                                     0          2.416667   \n",
       "...                                     ...               ...   \n",
       "46220                                     0          0.000000   \n",
       "98804                                     1          2.166667   \n",
       "48045                                     0          0.750000   \n",
       "201125                                    0          0.000000   \n",
       "169765                                    0          8.500000   \n",
       "\n",
       "        CREDIT_HISTORY_LENGTH  NO_OF_INQUIRIES   age  \n",
       "222651               0.000000                0  28.0  \n",
       "51574                0.416667                1  37.0  \n",
       "138224              10.916667                0  41.0  \n",
       "221507               1.750000                0  28.0  \n",
       "60540                3.916667                0  52.0  \n",
       "...                       ...              ...   ...  \n",
       "46220                0.000000                0  37.0  \n",
       "98804                2.916667                0  32.0  \n",
       "48045                1.166667                0  48.0  \n",
       "201125               0.000000                0  26.0  \n",
       "169765              13.333333                0  43.0  \n",
       "\n",
       "[180278 rows x 24 columns]"
      ]
     },
     "execution_count": 37,
     "metadata": {},
     "output_type": "execute_result"
    }
   ],
   "source": [
    "X_train_num"
   ]
  },
  {
   "cell_type": "code",
   "execution_count": 38,
   "metadata": {},
   "outputs": [
    {
     "data": {
      "text/plain": [
       "<AxesSubplot:>"
      ]
     },
     "execution_count": 38,
     "metadata": {},
     "output_type": "execute_result"
    },
    {
     "data": {
      "image/png": "[encoded data removed]",
      "text/plain": [
       "<Figure size 432x288 with 1 Axes>"
      ]
     },
     "metadata": {
      "needs_background": "light"
     },
     "output_type": "display_data"
    }
   ],
   "source": [
    "sns.boxplot(data = X_train_num)"
   ]
  },
  {
   "cell_type": "markdown",
   "metadata": {},
   "source": [
    "From the Graph above, it can be said that almost all of the data have outliers, outliers are a problem to machine learning analysis because it could lead to a highly biased answer and lead to misclassification, the approach that I decide to deal with this kind of outlier is to winsorize all of the column"
   ]
  },
  {
   "cell_type": "code",
   "execution_count": 39,
   "metadata": {},
   "outputs": [],
   "source": [
    "# Define the winsorizer\n",
    "winsor = Winsorizer(capping_method='iqr', # choose iqr for IQR rule boundaries or gaussian for mean and std\n",
    "                          tail='both', # cap left, right or both tails \n",
    "                          fold=1.5,\n",
    "                          variables=num_columns)\n",
    "\n",
    "winsor.fit(X_train_num)\n",
    "\n",
    "X_train_num = winsor.transform(X_train_num)"
   ]
  },
  {
   "cell_type": "markdown",
   "metadata": {},
   "source": [
    "After the outlier being handled, we can see that some current balance are below zero, This is actually pretty normal since minus current balance means that we owed our customer money"
   ]
  },
  {
   "cell_type": "markdown",
   "metadata": {},
   "source": [
    "## Feature Engineering - Scaling"
   ]
  },
  {
   "cell_type": "code",
   "execution_count": 40,
   "metadata": {},
   "outputs": [],
   "source": [
    "# Using StandardScaler to scale the data\n",
    "scaler = StandardScaler()\n",
    "scaler.fit(X_train_num)\n",
    "\n",
    "X_train_num_scaled = scaler.transform(X_train_num)\n",
    "X_test_num_scaled = scaler.transform(X_test_num)"
   ]
  },
  {
   "cell_type": "code",
   "execution_count": 41,
   "metadata": {},
   "outputs": [],
   "source": [
    "X_train_num_scaled = pd.DataFrame(X_train_num_scaled, columns = num_columns)\n",
    "X_test_num_scaled = pd.DataFrame(X_test_num_scaled, columns = num_columns)"
   ]
  },
  {
   "cell_type": "markdown",
   "metadata": {},
   "source": [
    "I use standard scaler because it removes the mean and scales each feature/variable to unit variance."
   ]
  },
  {
   "cell_type": "code",
   "execution_count": 42,
   "metadata": {},
   "outputs": [
    {
     "data": {
      "text/plain": [
       "<AxesSubplot:>"
      ]
     },
     "execution_count": 42,
     "metadata": {},
     "output_type": "execute_result"
    },
    {
     "data": {
      "image/png": "[encoded data removed]",
      "text/plain": [
       "<Figure size 432x288 with 1 Axes>"
      ]
     },
     "metadata": {
      "needs_background": "light"
     },
     "output_type": "display_data"
    }
   ],
   "source": [
    "# Data after Winsorized and scaled\n",
    "sns.boxplot(data = X_train_num_scaled)"
   ]
  },
  {
   "cell_type": "markdown",
   "metadata": {},
   "source": [
    "## Feature Engineering - Encoding"
   ]
  },
  {
   "cell_type": "code",
   "execution_count": 43,
   "metadata": {},
   "outputs": [],
   "source": [
    "enc_dict = {'Self employed':0,\n",
    "            'Salaried':1}\n",
    "\n",
    "X_train_cat_encoded =  X_train_cat['EMPLOYMENT_TYPE'].map(enc_dict)\n",
    "X_test_cat_encoded = X_test_cat['EMPLOYMENT_TYPE'].map(enc_dict)"
   ]
  },
  {
   "cell_type": "code",
   "execution_count": 44,
   "metadata": {},
   "outputs": [],
   "source": [
    "X_train_cat_encoded = pd.DataFrame(X_train_cat_encoded, columns = cat_columns).reset_index(drop = True)\n",
    "X_test_cat_encoded = pd.DataFrame(X_test_cat_encoded, columns = cat_columns).reset_index(drop = True)"
   ]
  },
  {
   "cell_type": "code",
   "execution_count": 45,
   "metadata": {},
   "outputs": [
    {
     "data": {
      "text/html": [
       "<div>\n",
       "<style scoped>\n",
       "    .dataframe tbody tr th:only-of-type {\n",
       "        vertical-align: middle;\n",
       "    }\n",
       "\n",
       "    .dataframe tbody tr th {\n",
       "        vertical-align: top;\n",
       "    }\n",
       "\n",
       "    .dataframe thead th {\n",
       "        text-align: right;\n",
       "    }\n",
       "</style>\n",
       "<table border=\"1\" class=\"dataframe\">\n",
       "  <thead>\n",
       "    <tr style=\"text-align: right;\">\n",
       "      <th></th>\n",
       "      <th>EMPLOYMENT_TYPE</th>\n",
       "    </tr>\n",
       "  </thead>\n",
       "  <tbody>\n",
       "    <tr>\n",
       "      <th>0</th>\n",
       "      <td>1</td>\n",
       "    </tr>\n",
       "    <tr>\n",
       "      <th>1</th>\n",
       "      <td>0</td>\n",
       "    </tr>\n",
       "    <tr>\n",
       "      <th>2</th>\n",
       "      <td>1</td>\n",
       "    </tr>\n",
       "    <tr>\n",
       "      <th>3</th>\n",
       "      <td>1</td>\n",
       "    </tr>\n",
       "    <tr>\n",
       "      <th>4</th>\n",
       "      <td>0</td>\n",
       "    </tr>\n",
       "    <tr>\n",
       "      <th>...</th>\n",
       "      <td>...</td>\n",
       "    </tr>\n",
       "    <tr>\n",
       "      <th>180273</th>\n",
       "      <td>0</td>\n",
       "    </tr>\n",
       "    <tr>\n",
       "      <th>180274</th>\n",
       "      <td>0</td>\n",
       "    </tr>\n",
       "    <tr>\n",
       "      <th>180275</th>\n",
       "      <td>0</td>\n",
       "    </tr>\n",
       "    <tr>\n",
       "      <th>180276</th>\n",
       "      <td>0</td>\n",
       "    </tr>\n",
       "    <tr>\n",
       "      <th>180277</th>\n",
       "      <td>1</td>\n",
       "    </tr>\n",
       "  </tbody>\n",
       "</table>\n",
       "<p>180278 rows × 1 columns</p>\n",
       "</div>"
      ],
      "text/plain": [
       "        EMPLOYMENT_TYPE\n",
       "0                     1\n",
       "1                     0\n",
       "2                     1\n",
       "3                     1\n",
       "4                     0\n",
       "...                 ...\n",
       "180273                0\n",
       "180274                0\n",
       "180275                0\n",
       "180276                0\n",
       "180277                1\n",
       "\n",
       "[180278 rows x 1 columns]"
      ]
     },
     "execution_count": 45,
     "metadata": {},
     "output_type": "execute_result"
    }
   ],
   "source": [
    "X_train_cat_encoded"
   ]
  },
  {
   "cell_type": "markdown",
   "metadata": {},
   "source": [
    "### Combining all the feature"
   ]
  },
  {
   "cell_type": "code",
   "execution_count": 46,
   "metadata": {},
   "outputs": [],
   "source": [
    "X_train_final = pd.concat([X_train_cat_encoded,X_train_num_scaled], axis=1)\n",
    "X_test_final = pd.concat([X_test_cat_encoded,X_test_num_scaled], axis=1)"
   ]
  },
  {
   "cell_type": "code",
   "execution_count": 47,
   "metadata": {},
   "outputs": [
    {
     "data": {
      "text/html": [
       "<div>\n",
       "<style scoped>\n",
       "    .dataframe tbody tr th:only-of-type {\n",
       "        vertical-align: middle;\n",
       "    }\n",
       "\n",
       "    .dataframe tbody tr th {\n",
       "        vertical-align: top;\n",
       "    }\n",
       "\n",
       "    .dataframe thead th {\n",
       "        text-align: right;\n",
       "    }\n",
       "</style>\n",
       "<table border=\"1\" class=\"dataframe\">\n",
       "  <thead>\n",
       "    <tr style=\"text-align: right;\">\n",
       "      <th></th>\n",
       "      <th>EMPLOYMENT_TYPE</th>\n",
       "      <th>DISBURSED_AMOUNT</th>\n",
       "      <th>ASSET_COST</th>\n",
       "      <th>LTV</th>\n",
       "      <th>PERFORM_CNS_SCORE</th>\n",
       "      <th>PRI_NO_OF_ACCTS</th>\n",
       "      <th>PRI_ACTIVE_ACCTS</th>\n",
       "      <th>PRI_OVERDUE_ACCTS</th>\n",
       "      <th>PRI_CURRENT_BALANCE</th>\n",
       "      <th>PRI_SANCTIONED_AMOUNT</th>\n",
       "      <th>PRI_DISBURSED_AMOUNT</th>\n",
       "      <th>SEC_NO_OF_ACCTS</th>\n",
       "      <th>SEC_ACTIVE_ACCTS</th>\n",
       "      <th>SEC_OVERDUE_ACCTS</th>\n",
       "      <th>SEC_CURRENT_BALANCE</th>\n",
       "      <th>SEC_SANCTIONED_AMOUNT</th>\n",
       "      <th>SEC_DISBURSED_AMOUNT</th>\n",
       "      <th>PRIMARY_INSTAL_AMT</th>\n",
       "      <th>SEC_INSTAL_AMT</th>\n",
       "      <th>NEW_ACCTS_IN_LAST_SIX_MONTHS</th>\n",
       "      <th>DELINQUENT_ACCTS_IN_LAST_SIX_MONTHS</th>\n",
       "      <th>AVERAGE_ACCT_AGE</th>\n",
       "      <th>CREDIT_HISTORY_LENGTH</th>\n",
       "      <th>NO_OF_INQUIRIES</th>\n",
       "      <th>age</th>\n",
       "    </tr>\n",
       "  </thead>\n",
       "  <tbody>\n",
       "    <tr>\n",
       "      <th>0</th>\n",
       "      <td>1</td>\n",
       "      <td>-1.365510</td>\n",
       "      <td>-0.691466</td>\n",
       "      <td>-1.298043</td>\n",
       "      <td>-0.865595</td>\n",
       "      <td>-0.716965</td>\n",
       "      <td>-0.755232</td>\n",
       "      <td>0.0</td>\n",
       "      <td>-0.626902</td>\n",
       "      <td>-0.655631</td>\n",
       "      <td>-0.654882</td>\n",
       "      <td>0.0</td>\n",
       "      <td>0.0</td>\n",
       "      <td>0.0</td>\n",
       "      <td>0.0</td>\n",
       "      <td>0.0</td>\n",
       "      <td>0.0</td>\n",
       "      <td>-0.612664</td>\n",
       "      <td>0.0</td>\n",
       "      <td>0.0</td>\n",
       "      <td>0.0</td>\n",
       "      <td>-0.738320</td>\n",
       "      <td>-0.710817</td>\n",
       "      <td>0.0</td>\n",
       "      <td>-1.059167</td>\n",
       "    </tr>\n",
       "    <tr>\n",
       "      <th>1</th>\n",
       "      <td>0</td>\n",
       "      <td>-0.072621</td>\n",
       "      <td>-0.400582</td>\n",
       "      <td>0.457682</td>\n",
       "      <td>1.310897</td>\n",
       "      <td>0.476134</td>\n",
       "      <td>1.854317</td>\n",
       "      <td>0.0</td>\n",
       "      <td>0.425976</td>\n",
       "      <td>0.102851</td>\n",
       "      <td>0.124517</td>\n",
       "      <td>0.0</td>\n",
       "      <td>0.0</td>\n",
       "      <td>0.0</td>\n",
       "      <td>0.0</td>\n",
       "      <td>0.0</td>\n",
       "      <td>0.0</td>\n",
       "      <td>1.187389</td>\n",
       "      <td>0.0</td>\n",
       "      <td>0.0</td>\n",
       "      <td>0.0</td>\n",
       "      <td>-0.356141</td>\n",
       "      <td>-0.451547</td>\n",
       "      <td>0.0</td>\n",
       "      <td>-0.128204</td>\n",
       "    </tr>\n",
       "    <tr>\n",
       "      <th>2</th>\n",
       "      <td>1</td>\n",
       "      <td>-0.540833</td>\n",
       "      <td>-0.335464</td>\n",
       "      <td>-0.421561</td>\n",
       "      <td>0.573603</td>\n",
       "      <td>2.265783</td>\n",
       "      <td>1.854317</td>\n",
       "      <td>0.0</td>\n",
       "      <td>1.925483</td>\n",
       "      <td>1.932841</td>\n",
       "      <td>1.928854</td>\n",
       "      <td>0.0</td>\n",
       "      <td>0.0</td>\n",
       "      <td>0.0</td>\n",
       "      <td>0.0</td>\n",
       "      <td>0.0</td>\n",
       "      <td>0.0</td>\n",
       "      <td>1.953798</td>\n",
       "      <td>0.0</td>\n",
       "      <td>0.0</td>\n",
       "      <td>0.0</td>\n",
       "      <td>2.223565</td>\n",
       "      <td>2.400430</td>\n",
       "      <td>0.0</td>\n",
       "      <td>0.285558</td>\n",
       "    </tr>\n",
       "    <tr>\n",
       "      <th>3</th>\n",
       "      <td>1</td>\n",
       "      <td>-0.231557</td>\n",
       "      <td>-0.179115</td>\n",
       "      <td>-0.209806</td>\n",
       "      <td>0.986488</td>\n",
       "      <td>1.271534</td>\n",
       "      <td>-0.755232</td>\n",
       "      <td>0.0</td>\n",
       "      <td>-0.626902</td>\n",
       "      <td>-0.655631</td>\n",
       "      <td>-0.654882</td>\n",
       "      <td>0.0</td>\n",
       "      <td>0.0</td>\n",
       "      <td>0.0</td>\n",
       "      <td>0.0</td>\n",
       "      <td>0.0</td>\n",
       "      <td>0.0</td>\n",
       "      <td>1.283190</td>\n",
       "      <td>0.0</td>\n",
       "      <td>0.0</td>\n",
       "      <td>0.0</td>\n",
       "      <td>0.408216</td>\n",
       "      <td>0.378119</td>\n",
       "      <td>0.0</td>\n",
       "      <td>-1.059167</td>\n",
       "    </tr>\n",
       "    <tr>\n",
       "      <th>4</th>\n",
       "      <td>0</td>\n",
       "      <td>-0.036804</td>\n",
       "      <td>-0.100373</td>\n",
       "      <td>0.082047</td>\n",
       "      <td>1.626459</td>\n",
       "      <td>0.078435</td>\n",
       "      <td>-0.755232</td>\n",
       "      <td>0.0</td>\n",
       "      <td>-0.626902</td>\n",
       "      <td>-0.655631</td>\n",
       "      <td>-0.654882</td>\n",
       "      <td>0.0</td>\n",
       "      <td>0.0</td>\n",
       "      <td>0.0</td>\n",
       "      <td>0.0</td>\n",
       "      <td>0.0</td>\n",
       "      <td>0.0</td>\n",
       "      <td>1.953798</td>\n",
       "      <td>0.0</td>\n",
       "      <td>0.0</td>\n",
       "      <td>0.0</td>\n",
       "      <td>2.032476</td>\n",
       "      <td>1.726327</td>\n",
       "      <td>0.0</td>\n",
       "      <td>1.423401</td>\n",
       "    </tr>\n",
       "    <tr>\n",
       "      <th>...</th>\n",
       "      <td>...</td>\n",
       "      <td>...</td>\n",
       "      <td>...</td>\n",
       "      <td>...</td>\n",
       "      <td>...</td>\n",
       "      <td>...</td>\n",
       "      <td>...</td>\n",
       "      <td>...</td>\n",
       "      <td>...</td>\n",
       "      <td>...</td>\n",
       "      <td>...</td>\n",
       "      <td>...</td>\n",
       "      <td>...</td>\n",
       "      <td>...</td>\n",
       "      <td>...</td>\n",
       "      <td>...</td>\n",
       "      <td>...</td>\n",
       "      <td>...</td>\n",
       "      <td>...</td>\n",
       "      <td>...</td>\n",
       "      <td>...</td>\n",
       "      <td>...</td>\n",
       "      <td>...</td>\n",
       "      <td>...</td>\n",
       "      <td>...</td>\n",
       "    </tr>\n",
       "    <tr>\n",
       "      <th>180273</th>\n",
       "      <td>0</td>\n",
       "      <td>-1.485047</td>\n",
       "      <td>0.210702</td>\n",
       "      <td>-2.200303</td>\n",
       "      <td>-0.865595</td>\n",
       "      <td>-0.716965</td>\n",
       "      <td>-0.755232</td>\n",
       "      <td>0.0</td>\n",
       "      <td>-0.626902</td>\n",
       "      <td>-0.655631</td>\n",
       "      <td>-0.654882</td>\n",
       "      <td>0.0</td>\n",
       "      <td>0.0</td>\n",
       "      <td>0.0</td>\n",
       "      <td>0.0</td>\n",
       "      <td>0.0</td>\n",
       "      <td>0.0</td>\n",
       "      <td>-0.612664</td>\n",
       "      <td>0.0</td>\n",
       "      <td>0.0</td>\n",
       "      <td>0.0</td>\n",
       "      <td>-0.738320</td>\n",
       "      <td>-0.710817</td>\n",
       "      <td>0.0</td>\n",
       "      <td>-0.128204</td>\n",
       "    </tr>\n",
       "    <tr>\n",
       "      <th>180274</th>\n",
       "      <td>0</td>\n",
       "      <td>0.011100</td>\n",
       "      <td>-0.168411</td>\n",
       "      <td>0.291961</td>\n",
       "      <td>-0.818408</td>\n",
       "      <td>0.078435</td>\n",
       "      <td>0.288588</td>\n",
       "      <td>0.0</td>\n",
       "      <td>1.925483</td>\n",
       "      <td>1.912775</td>\n",
       "      <td>1.928854</td>\n",
       "      <td>0.0</td>\n",
       "      <td>0.0</td>\n",
       "      <td>0.0</td>\n",
       "      <td>0.0</td>\n",
       "      <td>0.0</td>\n",
       "      <td>0.0</td>\n",
       "      <td>1.628074</td>\n",
       "      <td>0.0</td>\n",
       "      <td>0.0</td>\n",
       "      <td>0.0</td>\n",
       "      <td>1.745842</td>\n",
       "      <td>1.104077</td>\n",
       "      <td>0.0</td>\n",
       "      <td>-0.645405</td>\n",
       "    </tr>\n",
       "    <tr>\n",
       "      <th>180275</th>\n",
       "      <td>0</td>\n",
       "      <td>-0.804085</td>\n",
       "      <td>-0.777668</td>\n",
       "      <td>-0.013703</td>\n",
       "      <td>1.222422</td>\n",
       "      <td>0.873834</td>\n",
       "      <td>1.332408</td>\n",
       "      <td>0.0</td>\n",
       "      <td>-0.199786</td>\n",
       "      <td>0.122917</td>\n",
       "      <td>0.145136</td>\n",
       "      <td>0.0</td>\n",
       "      <td>0.0</td>\n",
       "      <td>0.0</td>\n",
       "      <td>0.0</td>\n",
       "      <td>0.0</td>\n",
       "      <td>0.0</td>\n",
       "      <td>-0.612664</td>\n",
       "      <td>0.0</td>\n",
       "      <td>0.0</td>\n",
       "      <td>0.0</td>\n",
       "      <td>0.121582</td>\n",
       "      <td>0.015140</td>\n",
       "      <td>0.0</td>\n",
       "      <td>1.009640</td>\n",
       "    </tr>\n",
       "    <tr>\n",
       "      <th>180276</th>\n",
       "      <td>0</td>\n",
       "      <td>-1.428189</td>\n",
       "      <td>-0.114646</td>\n",
       "      <td>-1.875305</td>\n",
       "      <td>-0.865595</td>\n",
       "      <td>-0.716965</td>\n",
       "      <td>-0.755232</td>\n",
       "      <td>0.0</td>\n",
       "      <td>-0.626902</td>\n",
       "      <td>-0.655631</td>\n",
       "      <td>-0.654882</td>\n",
       "      <td>0.0</td>\n",
       "      <td>0.0</td>\n",
       "      <td>0.0</td>\n",
       "      <td>0.0</td>\n",
       "      <td>0.0</td>\n",
       "      <td>0.0</td>\n",
       "      <td>-0.612664</td>\n",
       "      <td>0.0</td>\n",
       "      <td>0.0</td>\n",
       "      <td>0.0</td>\n",
       "      <td>-0.738320</td>\n",
       "      <td>-0.710817</td>\n",
       "      <td>0.0</td>\n",
       "      <td>-1.266047</td>\n",
       "    </tr>\n",
       "    <tr>\n",
       "      <th>180277</th>\n",
       "      <td>1</td>\n",
       "      <td>1.010025</td>\n",
       "      <td>1.225347</td>\n",
       "      <td>-0.064340</td>\n",
       "      <td>0.019158</td>\n",
       "      <td>2.265783</td>\n",
       "      <td>1.854317</td>\n",
       "      <td>0.0</td>\n",
       "      <td>1.925483</td>\n",
       "      <td>1.932841</td>\n",
       "      <td>1.928854</td>\n",
       "      <td>0.0</td>\n",
       "      <td>0.0</td>\n",
       "      <td>0.0</td>\n",
       "      <td>0.0</td>\n",
       "      <td>0.0</td>\n",
       "      <td>0.0</td>\n",
       "      <td>1.953798</td>\n",
       "      <td>0.0</td>\n",
       "      <td>0.0</td>\n",
       "      <td>0.0</td>\n",
       "      <td>2.366882</td>\n",
       "      <td>2.400430</td>\n",
       "      <td>0.0</td>\n",
       "      <td>0.492438</td>\n",
       "    </tr>\n",
       "  </tbody>\n",
       "</table>\n",
       "<p>180278 rows × 25 columns</p>\n",
       "</div>"
      ],
      "text/plain": [
       "        EMPLOYMENT_TYPE  DISBURSED_AMOUNT  ASSET_COST       LTV  \\\n",
       "0                     1         -1.365510   -0.691466 -1.298043   \n",
       "1                     0         -0.072621   -0.400582  0.457682   \n",
       "2                     1         -0.540833   -0.335464 -0.421561   \n",
       "3                     1         -0.231557   -0.179115 -0.209806   \n",
       "4                     0         -0.036804   -0.100373  0.082047   \n",
       "...                 ...               ...         ...       ...   \n",
       "180273                0         -1.485047    0.210702 -2.200303   \n",
       "180274                0          0.011100   -0.168411  0.291961   \n",
       "180275                0         -0.804085   -0.777668 -0.013703   \n",
       "180276                0         -1.428189   -0.114646 -1.875305   \n",
       "180277                1          1.010025    1.225347 -0.064340   \n",
       "\n",
       "        PERFORM_CNS_SCORE  PRI_NO_OF_ACCTS  PRI_ACTIVE_ACCTS  \\\n",
       "0               -0.865595        -0.716965         -0.755232   \n",
       "1                1.310897         0.476134          1.854317   \n",
       "2                0.573603         2.265783          1.854317   \n",
       "3                0.986488         1.271534         -0.755232   \n",
       "4                1.626459         0.078435         -0.755232   \n",
       "...                   ...              ...               ...   \n",
       "180273          -0.865595        -0.716965         -0.755232   \n",
       "180274          -0.818408         0.078435          0.288588   \n",
       "180275           1.222422         0.873834          1.332408   \n",
       "180276          -0.865595        -0.716965         -0.755232   \n",
       "180277           0.019158         2.265783          1.854317   \n",
       "\n",
       "        PRI_OVERDUE_ACCTS  PRI_CURRENT_BALANCE  PRI_SANCTIONED_AMOUNT  \\\n",
       "0                     0.0            -0.626902              -0.655631   \n",
       "1                     0.0             0.425976               0.102851   \n",
       "2                     0.0             1.925483               1.932841   \n",
       "3                     0.0            -0.626902              -0.655631   \n",
       "4                     0.0            -0.626902              -0.655631   \n",
       "...                   ...                  ...                    ...   \n",
       "180273                0.0            -0.626902              -0.655631   \n",
       "180274                0.0             1.925483               1.912775   \n",
       "180275                0.0            -0.199786               0.122917   \n",
       "180276                0.0            -0.626902              -0.655631   \n",
       "180277                0.0             1.925483               1.932841   \n",
       "\n",
       "        PRI_DISBURSED_AMOUNT  SEC_NO_OF_ACCTS  SEC_ACTIVE_ACCTS  \\\n",
       "0                  -0.654882              0.0               0.0   \n",
       "1                   0.124517              0.0               0.0   \n",
       "2                   1.928854              0.0               0.0   \n",
       "3                  -0.654882              0.0               0.0   \n",
       "4                  -0.654882              0.0               0.0   \n",
       "...                      ...              ...               ...   \n",
       "180273             -0.654882              0.0               0.0   \n",
       "180274              1.928854              0.0               0.0   \n",
       "180275              0.145136              0.0               0.0   \n",
       "180276             -0.654882              0.0               0.0   \n",
       "180277              1.928854              0.0               0.0   \n",
       "\n",
       "        SEC_OVERDUE_ACCTS  SEC_CURRENT_BALANCE  SEC_SANCTIONED_AMOUNT  \\\n",
       "0                     0.0                  0.0                    0.0   \n",
       "1                     0.0                  0.0                    0.0   \n",
       "2                     0.0                  0.0                    0.0   \n",
       "3                     0.0                  0.0                    0.0   \n",
       "4                     0.0                  0.0                    0.0   \n",
       "...                   ...                  ...                    ...   \n",
       "180273                0.0                  0.0                    0.0   \n",
       "180274                0.0                  0.0                    0.0   \n",
       "180275                0.0                  0.0                    0.0   \n",
       "180276                0.0                  0.0                    0.0   \n",
       "180277                0.0                  0.0                    0.0   \n",
       "\n",
       "        SEC_DISBURSED_AMOUNT  PRIMARY_INSTAL_AMT  SEC_INSTAL_AMT  \\\n",
       "0                        0.0           -0.612664             0.0   \n",
       "1                        0.0            1.187389             0.0   \n",
       "2                        0.0            1.953798             0.0   \n",
       "3                        0.0            1.283190             0.0   \n",
       "4                        0.0            1.953798             0.0   \n",
       "...                      ...                 ...             ...   \n",
       "180273                   0.0           -0.612664             0.0   \n",
       "180274                   0.0            1.628074             0.0   \n",
       "180275                   0.0           -0.612664             0.0   \n",
       "180276                   0.0           -0.612664             0.0   \n",
       "180277                   0.0            1.953798             0.0   \n",
       "\n",
       "        NEW_ACCTS_IN_LAST_SIX_MONTHS  DELINQUENT_ACCTS_IN_LAST_SIX_MONTHS  \\\n",
       "0                                0.0                                  0.0   \n",
       "1                                0.0                                  0.0   \n",
       "2                                0.0                                  0.0   \n",
       "3                                0.0                                  0.0   \n",
       "4                                0.0                                  0.0   \n",
       "...                              ...                                  ...   \n",
       "180273                           0.0                                  0.0   \n",
       "180274                           0.0                                  0.0   \n",
       "180275                           0.0                                  0.0   \n",
       "180276                           0.0                                  0.0   \n",
       "180277                           0.0                                  0.0   \n",
       "\n",
       "        AVERAGE_ACCT_AGE  CREDIT_HISTORY_LENGTH  NO_OF_INQUIRIES       age  \n",
       "0              -0.738320              -0.710817              0.0 -1.059167  \n",
       "1              -0.356141              -0.451547              0.0 -0.128204  \n",
       "2               2.223565               2.400430              0.0  0.285558  \n",
       "3               0.408216               0.378119              0.0 -1.059167  \n",
       "4               2.032476               1.726327              0.0  1.423401  \n",
       "...                  ...                    ...              ...       ...  \n",
       "180273         -0.738320              -0.710817              0.0 -0.128204  \n",
       "180274          1.745842               1.104077              0.0 -0.645405  \n",
       "180275          0.121582               0.015140              0.0  1.009640  \n",
       "180276         -0.738320              -0.710817              0.0 -1.266047  \n",
       "180277          2.366882               2.400430              0.0  0.492438  \n",
       "\n",
       "[180278 rows x 25 columns]"
      ]
     },
     "execution_count": 47,
     "metadata": {},
     "output_type": "execute_result"
    }
   ],
   "source": [
    "X_train_final"
   ]
  },
  {
   "cell_type": "markdown",
   "metadata": {},
   "source": [
    "## Oversampling"
   ]
  },
  {
   "cell_type": "code",
   "execution_count": 48,
   "metadata": {},
   "outputs": [
    {
     "data": {
      "image/png": "[encoded data removed]",
      "text/plain": [
       "<Figure size 864x432 with 1 Axes>"
      ]
     },
     "metadata": {
      "needs_background": "light"
     },
     "output_type": "display_data"
    },
    {
     "name": "stdout",
     "output_type": "stream",
     "text": [
      "% of no defaults      : 78.29288796246257\n",
      "Number of no defaults : 182543\n",
      "% of defaults         : 21.70711203753742\n",
      "Number of defaults    : 50611\n"
     ]
    }
   ],
   "source": [
    "#Graph\n",
    "my_pal = {0: 'deepskyblue', 1: 'deeppink'}\n",
    "\n",
    "plt.figure(figsize = (12, 6))\n",
    "ax = sns.countplot(x = 'LOAN_DEFAULT', data = df, palette = my_pal)\n",
    "plt.title('Class Distribution')\n",
    "plt.show()\n",
    "\n",
    "# Count and %\n",
    "Count_Normal_transacation = len(df[df['LOAN_DEFAULT']==0])\n",
    "Count_Fraud_transacation = len(df[df['LOAN_DEFAULT']==1]) \n",
    "Percentage_of_Normal_transacation = Count_Normal_transacation/(Count_Normal_transacation+Count_Fraud_transacation)\n",
    "print('% of no defaults      :', Percentage_of_Normal_transacation*100)\n",
    "print('Number of no defaults :', Count_Normal_transacation)\n",
    "Percentage_of_Fraud_transacation= Count_Fraud_transacation/(Count_Normal_transacation+Count_Fraud_transacation)\n",
    "print('% of defaults         :',Percentage_of_Fraud_transacation*100)\n",
    "print('Number of defaults    :', Count_Fraud_transacation)"
   ]
  },
  {
   "cell_type": "markdown",
   "metadata": {},
   "source": [
    "There are data imbalance for the target data, this could be a problem because the machine will learn class 0 better than class 1, 1 in here meaning fraud transactions or loan default. To minimize this problem, I decide to do oversampling so the machine learning work better in detecting class 1."
   ]
  },
  {
   "cell_type": "code",
   "execution_count": 49,
   "metadata": {},
   "outputs": [],
   "source": [
    "## Oversampling using SMOTE\n",
    "sm = SMOTE(random_state=27)\n",
    "X_train_balance, y_train_balance = sm.fit_resample(X_train_final, y_train)"
   ]
  },
  {
   "cell_type": "code",
   "execution_count": 50,
   "metadata": {},
   "outputs": [
    {
     "data": {
      "text/plain": [
       "0    140909\n",
       "1    140909\n",
       "Name: LOAN_DEFAULT, dtype: int64"
      ]
     },
     "execution_count": 50,
     "metadata": {},
     "output_type": "execute_result"
    }
   ],
   "source": [
    "# Now the target is balanced\n",
    "y_train_balance.value_counts()"
   ]
  },
  {
   "cell_type": "markdown",
   "metadata": {},
   "source": [
    "## PCA"
   ]
  },
  {
   "cell_type": "code",
   "execution_count": 51,
   "metadata": {},
   "outputs": [
    {
     "name": "stderr",
     "output_type": "stream",
     "text": [
      "c:\\Users\\alexa\\AppData\\Local\\Programs\\Python\\Python310\\lib\\site-packages\\statsmodels\\regression\\linear_model.py:1738: RuntimeWarning: invalid value encountered in double_scalars\n",
      "  return 1 - self.ssr/self.uncentered_tss\n"
     ]
    },
    {
     "data": {
      "text/html": [
       "<div>\n",
       "<style scoped>\n",
       "    .dataframe tbody tr th:only-of-type {\n",
       "        vertical-align: middle;\n",
       "    }\n",
       "\n",
       "    .dataframe tbody tr th {\n",
       "        vertical-align: top;\n",
       "    }\n",
       "\n",
       "    .dataframe thead th {\n",
       "        text-align: right;\n",
       "    }\n",
       "</style>\n",
       "<table border=\"1\" class=\"dataframe\">\n",
       "  <thead>\n",
       "    <tr style=\"text-align: right;\">\n",
       "      <th></th>\n",
       "      <th>features</th>\n",
       "      <th>VIF</th>\n",
       "    </tr>\n",
       "  </thead>\n",
       "  <tbody>\n",
       "    <tr>\n",
       "      <th>10</th>\n",
       "      <td>PRI_DISBURSED_AMOUNT</td>\n",
       "      <td>117.609728</td>\n",
       "    </tr>\n",
       "    <tr>\n",
       "      <th>9</th>\n",
       "      <td>PRI_SANCTIONED_AMOUNT</td>\n",
       "      <td>106.650971</td>\n",
       "    </tr>\n",
       "    <tr>\n",
       "      <th>1</th>\n",
       "      <td>DISBURSED_AMOUNT</td>\n",
       "      <td>13.982671</td>\n",
       "    </tr>\n",
       "    <tr>\n",
       "      <th>2</th>\n",
       "      <td>ASSET_COST</td>\n",
       "      <td>13.122688</td>\n",
       "    </tr>\n",
       "    <tr>\n",
       "      <th>22</th>\n",
       "      <td>CREDIT_HISTORY_LENGTH</td>\n",
       "      <td>12.003880</td>\n",
       "    </tr>\n",
       "    <tr>\n",
       "      <th>8</th>\n",
       "      <td>PRI_CURRENT_BALANCE</td>\n",
       "      <td>10.012284</td>\n",
       "    </tr>\n",
       "    <tr>\n",
       "      <th>21</th>\n",
       "      <td>AVERAGE_ACCT_AGE</td>\n",
       "      <td>9.920048</td>\n",
       "    </tr>\n",
       "    <tr>\n",
       "      <th>3</th>\n",
       "      <td>LTV</td>\n",
       "      <td>7.612876</td>\n",
       "    </tr>\n",
       "    <tr>\n",
       "      <th>6</th>\n",
       "      <td>PRI_ACTIVE_ACCTS</td>\n",
       "      <td>5.798921</td>\n",
       "    </tr>\n",
       "    <tr>\n",
       "      <th>5</th>\n",
       "      <td>PRI_NO_OF_ACCTS</td>\n",
       "      <td>5.398227</td>\n",
       "    </tr>\n",
       "    <tr>\n",
       "      <th>4</th>\n",
       "      <td>PERFORM_CNS_SCORE</td>\n",
       "      <td>2.538294</td>\n",
       "    </tr>\n",
       "    <tr>\n",
       "      <th>17</th>\n",
       "      <td>PRIMARY_INSTAL_AMT</td>\n",
       "      <td>2.211259</td>\n",
       "    </tr>\n",
       "    <tr>\n",
       "      <th>24</th>\n",
       "      <td>age</td>\n",
       "      <td>1.121119</td>\n",
       "    </tr>\n",
       "    <tr>\n",
       "      <th>0</th>\n",
       "      <td>EMPLOYMENT_TYPE</td>\n",
       "      <td>1.033053</td>\n",
       "    </tr>\n",
       "    <tr>\n",
       "      <th>7</th>\n",
       "      <td>PRI_OVERDUE_ACCTS</td>\n",
       "      <td>NaN</td>\n",
       "    </tr>\n",
       "    <tr>\n",
       "      <th>11</th>\n",
       "      <td>SEC_NO_OF_ACCTS</td>\n",
       "      <td>NaN</td>\n",
       "    </tr>\n",
       "    <tr>\n",
       "      <th>12</th>\n",
       "      <td>SEC_ACTIVE_ACCTS</td>\n",
       "      <td>NaN</td>\n",
       "    </tr>\n",
       "    <tr>\n",
       "      <th>13</th>\n",
       "      <td>SEC_OVERDUE_ACCTS</td>\n",
       "      <td>NaN</td>\n",
       "    </tr>\n",
       "    <tr>\n",
       "      <th>14</th>\n",
       "      <td>SEC_CURRENT_BALANCE</td>\n",
       "      <td>NaN</td>\n",
       "    </tr>\n",
       "    <tr>\n",
       "      <th>15</th>\n",
       "      <td>SEC_SANCTIONED_AMOUNT</td>\n",
       "      <td>NaN</td>\n",
       "    </tr>\n",
       "    <tr>\n",
       "      <th>16</th>\n",
       "      <td>SEC_DISBURSED_AMOUNT</td>\n",
       "      <td>NaN</td>\n",
       "    </tr>\n",
       "    <tr>\n",
       "      <th>18</th>\n",
       "      <td>SEC_INSTAL_AMT</td>\n",
       "      <td>NaN</td>\n",
       "    </tr>\n",
       "    <tr>\n",
       "      <th>19</th>\n",
       "      <td>NEW_ACCTS_IN_LAST_SIX_MONTHS</td>\n",
       "      <td>NaN</td>\n",
       "    </tr>\n",
       "    <tr>\n",
       "      <th>20</th>\n",
       "      <td>DELINQUENT_ACCTS_IN_LAST_SIX_MONTHS</td>\n",
       "      <td>NaN</td>\n",
       "    </tr>\n",
       "    <tr>\n",
       "      <th>23</th>\n",
       "      <td>NO_OF_INQUIRIES</td>\n",
       "      <td>NaN</td>\n",
       "    </tr>\n",
       "  </tbody>\n",
       "</table>\n",
       "</div>"
      ],
      "text/plain": [
       "                               features         VIF\n",
       "10                 PRI_DISBURSED_AMOUNT  117.609728\n",
       "9                 PRI_SANCTIONED_AMOUNT  106.650971\n",
       "1                      DISBURSED_AMOUNT   13.982671\n",
       "2                            ASSET_COST   13.122688\n",
       "22                CREDIT_HISTORY_LENGTH   12.003880\n",
       "8                   PRI_CURRENT_BALANCE   10.012284\n",
       "21                     AVERAGE_ACCT_AGE    9.920048\n",
       "3                                   LTV    7.612876\n",
       "6                      PRI_ACTIVE_ACCTS    5.798921\n",
       "5                       PRI_NO_OF_ACCTS    5.398227\n",
       "4                     PERFORM_CNS_SCORE    2.538294\n",
       "17                   PRIMARY_INSTAL_AMT    2.211259\n",
       "24                                  age    1.121119\n",
       "0                       EMPLOYMENT_TYPE    1.033053\n",
       "7                     PRI_OVERDUE_ACCTS         NaN\n",
       "11                      SEC_NO_OF_ACCTS         NaN\n",
       "12                     SEC_ACTIVE_ACCTS         NaN\n",
       "13                    SEC_OVERDUE_ACCTS         NaN\n",
       "14                  SEC_CURRENT_BALANCE         NaN\n",
       "15                SEC_SANCTIONED_AMOUNT         NaN\n",
       "16                 SEC_DISBURSED_AMOUNT         NaN\n",
       "18                       SEC_INSTAL_AMT         NaN\n",
       "19         NEW_ACCTS_IN_LAST_SIX_MONTHS         NaN\n",
       "20  DELINQUENT_ACCTS_IN_LAST_SIX_MONTHS         NaN\n",
       "23                      NO_OF_INQUIRIES         NaN"
      ]
     },
     "execution_count": 51,
     "metadata": {},
     "output_type": "execute_result"
    }
   ],
   "source": [
    "# Comparing the VIF of each features\n",
    "vif_data = pd.DataFrame()\n",
    "vif_data[\"features\"] = X_train_final.columns\n",
    "\n",
    "## Calculate the VIF of each features\n",
    "VIF = []\n",
    "\n",
    "for i in range(len(X_train_final.columns)):\n",
    "    res = logsumexp(variance_inflation_factor(X_train_balance.values, i))\n",
    "    VIF.append(res)\n",
    "\n",
    "vif_data['VIF'] = VIF\n",
    "vif_data.sort_values(by = 'VIF', ascending = False)"
   ]
  },
  {
   "cell_type": "markdown",
   "metadata": {},
   "source": [
    "Besides from Nan values, there VIF of some features are really high meaning that I can make the dimension smaller using PCA for faster computing time and same interpretability"
   ]
  },
  {
   "cell_type": "code",
   "execution_count": 54,
   "metadata": {},
   "outputs": [
    {
     "data": {
      "image/png": "[encoded data removed]",
      "text/plain": [
       "<Figure size 576x360 with 1 Axes>"
      ]
     },
     "metadata": {
      "needs_background": "light"
     },
     "output_type": "display_data"
    }
   ],
   "source": [
    "# Fitting the PCA to the scaled features\n",
    "pca = PCA().fit(X_train_balance)\n",
    "\n",
    "# Make plot according to the fit above\n",
    "fig, ax = plt.subplots(figsize=(8,5))\n",
    "xi = np.arange(1, 26, step=1)\n",
    "y = np.cumsum(pca.explained_variance_ratio_)\n",
    "\n",
    "plt.ylim(0.0,1.1)\n",
    "plt.plot(xi, y, marker='o', linestyle='--', color='b')\n",
    "\n",
    "plt.xlabel('Number of Components')\n",
    "plt.xticks(np.arange(0, 25, step=1)) #change from 0-based array index to 1-based human-readable label\n",
    "plt.ylabel('Cumulative variance (%)')\n",
    "plt.title('The number of components needed to explain variance')\n",
    "\n",
    "plt.axhline(y=0.95, color='r', linestyle='-')\n",
    "plt.text(0.5, 0.85, '95% cut-off threshold', color = 'red', fontsize=16)\n",
    "\n",
    "ax.grid(axis='x')\n",
    "plt.show()"
   ]
  },
  {
   "cell_type": "markdown",
   "metadata": {},
   "source": [
    "From this graph, it can be seen that only with 8 components, the data can still explain 95% of the variance, hence I will reduce the data until 8 components "
   ]
  },
  {
   "cell_type": "code",
   "execution_count": 55,
   "metadata": {},
   "outputs": [],
   "source": [
    "pca_model = PCA(n_components = 8) # Define the PCA\n",
    "pca_model.fit(X_train_balance) # Fit into our features\n",
    "X_train_pca = pca_model.transform(X_train_balance)\n",
    "X_test_pca = pca_model.transform(X_test_final)"
   ]
  },
  {
   "cell_type": "code",
   "execution_count": 56,
   "metadata": {},
   "outputs": [
    {
     "data": {
      "text/plain": [
       "0.9610876610936148"
      ]
     },
     "execution_count": 56,
     "metadata": {},
     "output_type": "execute_result"
    }
   ],
   "source": [
    "X_train_pca = pd.DataFrame(X_train_pca,columns = [np.arange(1,9).astype(str)])\n",
    "pca_model.explained_variance_ratio_.sum()"
   ]
  },
  {
   "cell_type": "markdown",
   "metadata": {},
   "source": [
    "This is the new train features, and now I am ready to do make the best machine learning model, the new features after we do pca have 8 dimensions yet it bring 96% of the data."
   ]
  },
  {
   "cell_type": "markdown",
   "metadata": {},
   "source": [
    "## Machine Learning Model - Cross Value Score"
   ]
  },
  {
   "cell_type": "code",
   "execution_count": 55,
   "metadata": {},
   "outputs": [
    {
     "name": "stdout",
     "output_type": "stream",
     "text": [
      " model LogisticRegression() has the cross_val score mean of 0.5730719889785263\n",
      " model LogisticRegression() has the cross_val score standard deviation of 7.850200009620274e-05\n",
      "---------------\n",
      " model DecisionTreeClassifier() has the cross_val score mean of 0.6885046936888876\n",
      " model DecisionTreeClassifier() has the cross_val score standard deviation of 0.002476450772207261\n",
      "---------------\n",
      " model RandomForestClassifier() has the cross_val score mean of 0.7812028433505783\n",
      " model RandomForestClassifier() has the cross_val score standard deviation of 0.00095319824511202\n",
      "---------------\n",
      " model AdaBoostClassifier() has the cross_val score mean of 0.5823403933372454\n",
      " model AdaBoostClassifier() has the cross_val score standard deviation of 7.367816139256744e-05\n",
      "---------------\n"
     ]
    }
   ],
   "source": [
    "# Make a Loop to try and see all model cross value score and choosing the best model from it\n",
    "for model in ([\n",
    "    LogisticRegression(), \n",
    "    DecisionTreeClassifier(),\n",
    "    RandomForestClassifier(),\n",
    "    AdaBoostClassifier(),\n",
    "]):\n",
    "    score = cross_val_score(model, X_train_pca, y_train_balance, cv=5, scoring = 'accuracy').mean()\n",
    "    std_dev = cross_val_score(model, X_train_final, y_train, cv=5, scoring = 'accuracy').std()\n",
    "    print(f' model {model} has the cross_val score mean of', score)\n",
    "    print(f' model {model} has the cross_val score standard deviation of', std_dev)\n",
    "    print('-'*15)"
   ]
  },
  {
   "cell_type": "markdown",
   "metadata": {},
   "source": [
    "After looking for the crossvalue score mean, it turns out that Random forest classifier and decision tree classifier has the best crossvalue score in terms of accuracy. Now let's try to tune all of the model and try again because classifier like decision tree and random forest tend to overfit and have good training data and bad test result."
   ]
  },
  {
   "cell_type": "markdown",
   "metadata": {},
   "source": [
    "# Machine Learning Model - Logistic Regression"
   ]
  },
  {
   "cell_type": "code",
   "execution_count": null,
   "metadata": {},
   "outputs": [],
   "source": [
    "# Ignore warnings for gridsearch \n",
    "def warn(*args, **kwargs):\n",
    "    pass\n",
    "import warnings\n",
    "warnings.warn = warn"
   ]
  },
  {
   "cell_type": "markdown",
   "metadata": {},
   "source": [
    "## Logistic Regression - Hyperparameter Tuning"
   ]
  },
  {
   "cell_type": "code",
   "execution_count": 77,
   "metadata": {},
   "outputs": [],
   "source": [
    "## Hyper Parameter Tuning Logistic Regression\n",
    "\n",
    "log_reg = LogisticRegression() \n",
    "param_grid = [    \n",
    "    {'penalty' : ['l1', 'l2', 'elasticnet', 'none'],\n",
    "    'C' : (0.001, 0.01, 0.1, 1, 10 , 100, 1000),\n",
    "    'solver' : ['lbfgs','newton-cg','liblinear','sag','saga','none'],\n",
    "    'max_iter' : [100, 1000,2500, 5000]\n",
    "    }\n",
    "]\n",
    "grid_one = GridSearchCV(log_reg, param_grid = param_grid,cv = 5, verbose=True, n_jobs=-1)"
   ]
  },
  {
   "cell_type": "code",
   "execution_count": 79,
   "metadata": {},
   "outputs": [
    {
     "name": "stdout",
     "output_type": "stream",
     "text": [
      "Fitting 5 folds for each of 672 candidates, totalling 3360 fits\n"
     ]
    },
    {
     "data": {
      "text/html": [
       "<style>#sk-container-id-1 {color: black;background-color: white;}#sk-container-id-1 pre{padding: 0;}#sk-container-id-1 div.sk-toggleable {background-color: white;}#sk-container-id-1 label.sk-toggleable__label {cursor: pointer;display: block;width: 100%;margin-bottom: 0;padding: 0.3em;box-sizing: border-box;text-align: center;}#sk-container-id-1 label.sk-toggleable__label-arrow:before {content: \"▸\";float: left;margin-right: 0.25em;color: #696969;}#sk-container-id-1 label.sk-toggleable__label-arrow:hover:before {color: black;}#sk-container-id-1 div.sk-estimator:hover label.sk-toggleable__label-arrow:before {color: black;}#sk-container-id-1 div.sk-toggleable__content {max-height: 0;max-width: 0;overflow: hidden;text-align: left;background-color: #f0f8ff;}#sk-container-id-1 div.sk-toggleable__content pre {margin: 0.2em;color: black;border-radius: 0.25em;background-color: #f0f8ff;}#sk-container-id-1 input.sk-toggleable__control:checked~div.sk-toggleable__content {max-height: 200px;max-width: 100%;overflow: auto;}#sk-container-id-1 input.sk-toggleable__control:checked~label.sk-toggleable__label-arrow:before {content: \"▾\";}#sk-container-id-1 div.sk-estimator input.sk-toggleable__control:checked~label.sk-toggleable__label {background-color: #d4ebff;}#sk-container-id-1 div.sk-label input.sk-toggleable__control:checked~label.sk-toggleable__label {background-color: #d4ebff;}#sk-container-id-1 input.sk-hidden--visually {border: 0;clip: rect(1px 1px 1px 1px);clip: rect(1px, 1px, 1px, 1px);height: 1px;margin: -1px;overflow: hidden;padding: 0;position: absolute;width: 1px;}#sk-container-id-1 div.sk-estimator {font-family: monospace;background-color: #f0f8ff;border: 1px dotted black;border-radius: 0.25em;box-sizing: border-box;margin-bottom: 0.5em;}#sk-container-id-1 div.sk-estimator:hover {background-color: #d4ebff;}#sk-container-id-1 div.sk-parallel-item::after {content: \"\";width: 100%;border-bottom: 1px solid gray;flex-grow: 1;}#sk-container-id-1 div.sk-label:hover label.sk-toggleable__label {background-color: #d4ebff;}#sk-container-id-1 div.sk-serial::before {content: \"\";position: absolute;border-left: 1px solid gray;box-sizing: border-box;top: 0;bottom: 0;left: 50%;z-index: 0;}#sk-container-id-1 div.sk-serial {display: flex;flex-direction: column;align-items: center;background-color: white;padding-right: 0.2em;padding-left: 0.2em;position: relative;}#sk-container-id-1 div.sk-item {position: relative;z-index: 1;}#sk-container-id-1 div.sk-parallel {display: flex;align-items: stretch;justify-content: center;background-color: white;position: relative;}#sk-container-id-1 div.sk-item::before, #sk-container-id-1 div.sk-parallel-item::before {content: \"\";position: absolute;border-left: 1px solid gray;box-sizing: border-box;top: 0;bottom: 0;left: 50%;z-index: -1;}#sk-container-id-1 div.sk-parallel-item {display: flex;flex-direction: column;z-index: 1;position: relative;background-color: white;}#sk-container-id-1 div.sk-parallel-item:first-child::after {align-self: flex-end;width: 50%;}#sk-container-id-1 div.sk-parallel-item:last-child::after {align-self: flex-start;width: 50%;}#sk-container-id-1 div.sk-parallel-item:only-child::after {width: 0;}#sk-container-id-1 div.sk-dashed-wrapped {border: 1px dashed gray;margin: 0 0.4em 0.5em 0.4em;box-sizing: border-box;padding-bottom: 0.4em;background-color: white;}#sk-container-id-1 div.sk-label label {font-family: monospace;font-weight: bold;display: inline-block;line-height: 1.2em;}#sk-container-id-1 div.sk-label-container {text-align: center;}#sk-container-id-1 div.sk-container {/* jupyter's `normalize.less` sets `[hidden] { display: none; }` but bootstrap.min.css set `[hidden] { display: none !important; }` so we also need the `!important` here to be able to override the default hidden behavior on the sphinx rendered scikit-learn.org. See: https://github.com/scikit-learn/scikit-learn/issues/21755 */display: inline-block !important;position: relative;}#sk-container-id-1 div.sk-text-repr-fallback {display: none;}</style><div id=\"sk-container-id-1\" class=\"sk-top-container\"><div class=\"sk-text-repr-fallback\"><pre>LogisticRegression(C=0.001, solver=&#x27;liblinear&#x27;)</pre><b>In a Jupyter environment, please rerun this cell to show the HTML representation or trust the notebook. <br />On GitHub, the HTML representation is unable to render, please try loading this page with nbviewer.org.</b></div><div class=\"sk-container\" hidden><div class=\"sk-item\"><div class=\"sk-estimator sk-toggleable\"><input class=\"sk-toggleable__control sk-hidden--visually\" id=\"sk-estimator-id-1\" type=\"checkbox\" checked><label for=\"sk-estimator-id-1\" class=\"sk-toggleable__label sk-toggleable__label-arrow\">LogisticRegression</label><div class=\"sk-toggleable__content\"><pre>LogisticRegression(C=0.001, solver=&#x27;liblinear&#x27;)</pre></div></div></div></div></div>"
      ],
      "text/plain": [
       "LogisticRegression(C=0.001, solver='liblinear')"
      ]
     },
     "execution_count": 79,
     "metadata": {},
     "output_type": "execute_result"
    }
   ],
   "source": [
    "# Fitting the classifier to train data and find the best parameter for this data\n",
    "log_clf = grid_one.fit(X_train_pca,y_train_balance)\n",
    "log_clf.best_estimator_"
   ]
  },
  {
   "cell_type": "markdown",
   "metadata": {},
   "source": [
    "## Logistic Regression - Prediction"
   ]
  },
  {
   "cell_type": "code",
   "execution_count": 98,
   "metadata": {},
   "outputs": [
    {
     "name": "stdout",
     "output_type": "stream",
     "text": [
      "accuracy score train :  0.5733239182734957\n",
      "accuracy score test :  0.5179750875482069\n"
     ]
    }
   ],
   "source": [
    "log_reg = LogisticRegression(C=0.001, solver='liblinear')\n",
    "log_reg.fit (X_train_pca, y_train_balance)\n",
    "\n",
    "y_pred_test_log = log_reg.predict(X_test_pca)\n",
    "y_pred_train_log =  log_reg.predict(X_train_pca)\n",
    "\n",
    "print('accuracy score train : ',accuracy_score(y_train_balance,y_pred_train_log))\n",
    "print('accuracy score test : ',accuracy_score(y_test,y_pred_test_log))"
   ]
  },
  {
   "cell_type": "markdown",
   "metadata": {},
   "source": [
    "## Logistic Regression - Evaluation"
   ]
  },
  {
   "cell_type": "code",
   "execution_count": 86,
   "metadata": {},
   "outputs": [
    {
     "data": {
      "image/png": "[encoded data removed]",
      "text/plain": [
       "<Figure size 432x288 with 2 Axes>"
      ]
     },
     "metadata": {
      "needs_background": "light"
     },
     "output_type": "display_data"
    }
   ],
   "source": [
    "cm = confusion_matrix(y_test, y_pred_test_log, labels=log_reg.classes_)\n",
    "disp = ConfusionMatrixDisplay(confusion_matrix=cm,display_labels=log_reg.classes_)\n",
    "\n",
    "disp.plot()\n",
    "plt.show()"
   ]
  },
  {
   "cell_type": "code",
   "execution_count": 88,
   "metadata": {
    "scrolled": true
   },
   "outputs": [
    {
     "name": "stdout",
     "output_type": "stream",
     "text": [
      "              precision    recall  f1-score   support\n",
      "\n",
      "           0       0.84      0.48      0.61     35540\n",
      "           1       0.25      0.66      0.37      9578\n",
      "\n",
      "    accuracy                           0.52     45118\n",
      "   macro avg       0.55      0.57      0.49     45118\n",
      "weighted avg       0.71      0.52      0.56     45118\n",
      "\n"
     ]
    }
   ],
   "source": [
    "print(classification_report(y_test, y_pred_test_log))"
   ]
  },
  {
   "cell_type": "code",
   "execution_count": 105,
   "metadata": {},
   "outputs": [
    {
     "name": "stdout",
     "output_type": "stream",
     "text": [
      "No Skill: ROC AUC=0.500\n",
      "Decision Tree: ROC AUC=0.586\n"
     ]
    },
    {
     "data": {
      "image/png": "[encoded data removed]",
      "text/plain": [
       "<Figure size 432x288 with 1 Axes>"
      ]
     },
     "metadata": {
      "needs_background": "light"
     },
     "output_type": "display_data"
    }
   ],
   "source": [
    "ns_probs = [0 for _ in range(len(y_test))]\n",
    "\n",
    "\n",
    "lr_probs = log_reg.predict_proba(X_test_pca)\n",
    "lr_probs = lr_probs[:, 1]\n",
    "\n",
    "ns_auc = roc_auc_score(y_test, ns_probs)\n",
    "lr_auc = roc_auc_score(y_test, lr_probs)\n",
    "# summarize scores\n",
    "print('No Skill: ROC AUC=%.3f' % (ns_auc))\n",
    "print('Decision Tree: ROC AUC=%.3f' % (lr_auc))\n",
    "# calculate roc curves\n",
    "ns_fpr, ns_tpr, _ = roc_curve(y_test, ns_probs)\n",
    "lr_fpr, lr_tpr, _ = roc_curve(y_test, lr_probs)\n",
    "# plot the roc curve for the model\n",
    "plt.plot(ns_fpr, ns_tpr, linestyle='--', label='No Skill')\n",
    "plt.plot(lr_fpr, lr_tpr, marker='.', label='Logistic')\n",
    "\n",
    "# axis labels\n",
    "plt.xlabel('False Positive Rate')\n",
    "plt.ylabel('True Positive Rate')\n",
    "# show the legend\n",
    "plt.legend()\n",
    "# show the plot\n",
    "plt.show()"
   ]
  },
  {
   "cell_type": "markdown",
   "metadata": {},
   "source": [
    "The ROC AUC Score for logistic regression is 0.586 it means that the prediction is 58.6% correct. precision of class 1 is so bad, meaning that the people is not loan default but predicted is loan default it mispredict a lot of it and as the result 18455 person who sould be the customer is gone. there are 3293 people who loan default but predicted as not loan default. although class 0 have high precision of 0.84 the recall is bad, it means it fails to recognize class 0 a lot of time, however in class 1 the precision is worst but the recall is better. This machine learning model is 'too afraid' to let people be in the class 0 of not loan defaulters. This result is not satisfying and kinda bad because there is only 6% increase in accuracy of using this model rather than blindly choose. "
   ]
  },
  {
   "cell_type": "markdown",
   "metadata": {},
   "source": [
    "# Machine Learning Model - Decision Tree"
   ]
  },
  {
   "cell_type": "markdown",
   "metadata": {},
   "source": [
    "## Decision Tree - Hyperparameter Tuning"
   ]
  },
  {
   "cell_type": "code",
   "execution_count": 92,
   "metadata": {},
   "outputs": [
    {
     "name": "stdout",
     "output_type": "stream",
     "text": [
      "Fitting 5 folds for each of 50 candidates, totalling 250 fits\n"
     ]
    },
    {
     "data": {
      "text/html": [
       "<style>#sk-container-id-3 {color: black;background-color: white;}#sk-container-id-3 pre{padding: 0;}#sk-container-id-3 div.sk-toggleable {background-color: white;}#sk-container-id-3 label.sk-toggleable__label {cursor: pointer;display: block;width: 100%;margin-bottom: 0;padding: 0.3em;box-sizing: border-box;text-align: center;}#sk-container-id-3 label.sk-toggleable__label-arrow:before {content: \"▸\";float: left;margin-right: 0.25em;color: #696969;}#sk-container-id-3 label.sk-toggleable__label-arrow:hover:before {color: black;}#sk-container-id-3 div.sk-estimator:hover label.sk-toggleable__label-arrow:before {color: black;}#sk-container-id-3 div.sk-toggleable__content {max-height: 0;max-width: 0;overflow: hidden;text-align: left;background-color: #f0f8ff;}#sk-container-id-3 div.sk-toggleable__content pre {margin: 0.2em;color: black;border-radius: 0.25em;background-color: #f0f8ff;}#sk-container-id-3 input.sk-toggleable__control:checked~div.sk-toggleable__content {max-height: 200px;max-width: 100%;overflow: auto;}#sk-container-id-3 input.sk-toggleable__control:checked~label.sk-toggleable__label-arrow:before {content: \"▾\";}#sk-container-id-3 div.sk-estimator input.sk-toggleable__control:checked~label.sk-toggleable__label {background-color: #d4ebff;}#sk-container-id-3 div.sk-label input.sk-toggleable__control:checked~label.sk-toggleable__label {background-color: #d4ebff;}#sk-container-id-3 input.sk-hidden--visually {border: 0;clip: rect(1px 1px 1px 1px);clip: rect(1px, 1px, 1px, 1px);height: 1px;margin: -1px;overflow: hidden;padding: 0;position: absolute;width: 1px;}#sk-container-id-3 div.sk-estimator {font-family: monospace;background-color: #f0f8ff;border: 1px dotted black;border-radius: 0.25em;box-sizing: border-box;margin-bottom: 0.5em;}#sk-container-id-3 div.sk-estimator:hover {background-color: #d4ebff;}#sk-container-id-3 div.sk-parallel-item::after {content: \"\";width: 100%;border-bottom: 1px solid gray;flex-grow: 1;}#sk-container-id-3 div.sk-label:hover label.sk-toggleable__label {background-color: #d4ebff;}#sk-container-id-3 div.sk-serial::before {content: \"\";position: absolute;border-left: 1px solid gray;box-sizing: border-box;top: 0;bottom: 0;left: 50%;z-index: 0;}#sk-container-id-3 div.sk-serial {display: flex;flex-direction: column;align-items: center;background-color: white;padding-right: 0.2em;padding-left: 0.2em;position: relative;}#sk-container-id-3 div.sk-item {position: relative;z-index: 1;}#sk-container-id-3 div.sk-parallel {display: flex;align-items: stretch;justify-content: center;background-color: white;position: relative;}#sk-container-id-3 div.sk-item::before, #sk-container-id-3 div.sk-parallel-item::before {content: \"\";position: absolute;border-left: 1px solid gray;box-sizing: border-box;top: 0;bottom: 0;left: 50%;z-index: -1;}#sk-container-id-3 div.sk-parallel-item {display: flex;flex-direction: column;z-index: 1;position: relative;background-color: white;}#sk-container-id-3 div.sk-parallel-item:first-child::after {align-self: flex-end;width: 50%;}#sk-container-id-3 div.sk-parallel-item:last-child::after {align-self: flex-start;width: 50%;}#sk-container-id-3 div.sk-parallel-item:only-child::after {width: 0;}#sk-container-id-3 div.sk-dashed-wrapped {border: 1px dashed gray;margin: 0 0.4em 0.5em 0.4em;box-sizing: border-box;padding-bottom: 0.4em;background-color: white;}#sk-container-id-3 div.sk-label label {font-family: monospace;font-weight: bold;display: inline-block;line-height: 1.2em;}#sk-container-id-3 div.sk-label-container {text-align: center;}#sk-container-id-3 div.sk-container {/* jupyter's `normalize.less` sets `[hidden] { display: none; }` but bootstrap.min.css set `[hidden] { display: none !important; }` so we also need the `!important` here to be able to override the default hidden behavior on the sphinx rendered scikit-learn.org. See: https://github.com/scikit-learn/scikit-learn/issues/21755 */display: inline-block !important;position: relative;}#sk-container-id-3 div.sk-text-repr-fallback {display: none;}</style><div id=\"sk-container-id-3\" class=\"sk-top-container\"><div class=\"sk-text-repr-fallback\"><pre>DecisionTreeClassifier(max_depth=20, min_samples_leaf=20)</pre><b>In a Jupyter environment, please rerun this cell to show the HTML representation or trust the notebook. <br />On GitHub, the HTML representation is unable to render, please try loading this page with nbviewer.org.</b></div><div class=\"sk-container\" hidden><div class=\"sk-item\"><div class=\"sk-estimator sk-toggleable\"><input class=\"sk-toggleable__control sk-hidden--visually\" id=\"sk-estimator-id-5\" type=\"checkbox\" checked><label for=\"sk-estimator-id-5\" class=\"sk-toggleable__label sk-toggleable__label-arrow\">DecisionTreeClassifier</label><div class=\"sk-toggleable__content\"><pre>DecisionTreeClassifier(max_depth=20, min_samples_leaf=20)</pre></div></div></div></div></div>"
      ],
      "text/plain": [
       "DecisionTreeClassifier(max_depth=20, min_samples_leaf=20)"
      ]
     },
     "execution_count": 92,
     "metadata": {},
     "output_type": "execute_result"
    }
   ],
   "source": [
    "# Define Model\n",
    "treeclf = DecisionTreeClassifier()\n",
    "\n",
    "#Define Hyperparameter\n",
    "param_grid_tree = {\n",
    "    'max_depth': [2, 3, 5, 10, 20],\n",
    "    'min_samples_leaf': [20, 50, 100, 500, 1000],\n",
    "    'criterion': [\"gini\", \"entropy\"]\n",
    "}\n",
    "\n",
    "# define grid_search\n",
    "grid_search_tree = GridSearchCV(estimator = treeclf, param_grid = param_grid_tree, cv = 5, verbose = True, n_jobs=-1)\n",
    "# Grid_search according to our data\n",
    "grid_search_tree.fit(X_train_pca, y_train_balance)\n",
    "\n",
    "#Decision Tree Best Estimator\n",
    "grid_search_tree.best_estimator_"
   ]
  },
  {
   "cell_type": "markdown",
   "metadata": {},
   "source": [
    "## Decision Tree - Model Prediction"
   ]
  },
  {
   "cell_type": "code",
   "execution_count": 97,
   "metadata": {},
   "outputs": [
    {
     "name": "stdout",
     "output_type": "stream",
     "text": [
      "accuracy score train :  0.6922978659986232\n",
      "accuracy score test :  0.5595771089144023\n"
     ]
    }
   ],
   "source": [
    "# Define Tuned Model\n",
    "treeclf = DecisionTreeClassifier(max_depth=20, min_samples_leaf=20)\n",
    "treeclf.fit(X_train_pca, y_train_balance)\n",
    "\n",
    "#predict\n",
    "y_pred_test_tree = treeclf.predict(X_test_pca)\n",
    "y_pred_train_tree = treeclf.predict(X_train_pca)\n",
    "\n",
    "# Accuracy score of train and test\n",
    "print('accuracy score train : ',accuracy_score(y_train_balance,y_pred_train_tree))\n",
    "print('accuracy score test : ',accuracy_score(y_test,y_pred_test_tree))"
   ]
  },
  {
   "cell_type": "markdown",
   "metadata": {},
   "source": [
    "## Decision Tree - Model Evaluation"
   ]
  },
  {
   "cell_type": "code",
   "execution_count": 99,
   "metadata": {},
   "outputs": [
    {
     "data": {
      "image/png": "[encoded data removed]",
      "text/plain": [
       "<Figure size 432x288 with 2 Axes>"
      ]
     },
     "metadata": {
      "needs_background": "light"
     },
     "output_type": "display_data"
    }
   ],
   "source": [
    "cm = confusion_matrix(y_test, y_pred_test_tree, labels=treeclf.classes_)\n",
    "disp = ConfusionMatrixDisplay(confusion_matrix=cm,display_labels=treeclf.classes_)\n",
    "\n",
    "disp.plot()\n",
    "plt.show()"
   ]
  },
  {
   "cell_type": "code",
   "execution_count": 100,
   "metadata": {},
   "outputs": [
    {
     "name": "stdout",
     "output_type": "stream",
     "text": [
      "              precision    recall  f1-score   support\n",
      "\n",
      "           0       0.81      0.57      0.67     35540\n",
      "           1       0.25      0.52      0.33      9578\n",
      "\n",
      "    accuracy                           0.56     45118\n",
      "   macro avg       0.53      0.54      0.50     45118\n",
      "weighted avg       0.69      0.56      0.60     45118\n",
      "\n"
     ]
    }
   ],
   "source": [
    "print(classification_report(y_test, y_pred_test_tree))"
   ]
  },
  {
   "cell_type": "code",
   "execution_count": 119,
   "metadata": {},
   "outputs": [
    {
     "name": "stdout",
     "output_type": "stream",
     "text": [
      "No Skill: ROC AUC=0.500\n",
      "Decision Tree: ROC AUC=0.553\n"
     ]
    },
    {
     "data": {
      "image/png": "[encoded data removed]",
      "text/plain": [
       "<Figure size 432x288 with 1 Axes>"
      ]
     },
     "metadata": {
      "needs_background": "light"
     },
     "output_type": "display_data"
    }
   ],
   "source": [
    "ns_probs = [0 for _ in range(len(y_test))]\n",
    "\n",
    "\n",
    "lr_probs = treeclf.predict_proba(X_test_pca)\n",
    "lr_probs = lr_probs[:, 1]\n",
    "\n",
    "ns_auc = roc_auc_score(y_test, ns_probs)\n",
    "lr_auc = roc_auc_score(y_test, lr_probs)\n",
    "# summarize scores\n",
    "print('No Skill: ROC AUC=%.3f' % (ns_auc))\n",
    "print('Decision Tree: ROC AUC=%.3f' % (lr_auc))\n",
    "# calculate roc curves\n",
    "ns_fpr, ns_tpr, _ = roc_curve(y_test, ns_probs)\n",
    "lr_fpr, lr_tpr, _ = roc_curve(y_test, lr_probs)\n",
    "# plot the roc curve for the model\n",
    "plt.plot(ns_fpr, ns_tpr, linestyle='--', label='No Skill')\n",
    "plt.plot(lr_fpr, lr_tpr, marker='.', label='Decision Tree Model')\n",
    "\n",
    "# axis labels\n",
    "plt.xlabel('False Positive Rate')\n",
    "plt.ylabel('True Positive Rate')\n",
    "# show the legend\n",
    "plt.legend()\n",
    "# show the plot\n",
    "plt.show()"
   ]
  },
  {
   "cell_type": "markdown",
   "metadata": {},
   "source": [
    "The result is similar to logistic regression, I cannot say that this one is better because although the accuracy on decision tree is better by 4%, the roc auc is worst than logistic regression. this model is also not a good fit because the roc is not higher than 0.7 (*rule by me), and overfitting problem. This model predict 4629 people as clean although they loan default, that is higher than logistic regression model, if on logistic regression model the company must pay big opportunity cost, here the loan defaulters will incur a large loss on the company"
   ]
  },
  {
   "cell_type": "markdown",
   "metadata": {},
   "source": [
    "# Machine Learning Model - Random Forest"
   ]
  },
  {
   "cell_type": "markdown",
   "metadata": {},
   "source": [
    "## Random Forest - Hyperparameter Tuning"
   ]
  },
  {
   "cell_type": "code",
   "execution_count": 107,
   "metadata": {},
   "outputs": [],
   "source": [
    "forestclf = RandomForestClassifier()\n",
    "\n",
    "param_grid = {\n",
    "    'bootstrap': [True],\n",
    "    'max_depth': [20, 40, 60, 80],\n",
    "    'max_features': [2, 3],\n",
    "    'min_samples_leaf': [10, 20, 50, 100, 200],\n",
    "    'min_samples_split': [8, 10, 12],\n",
    "    'n_estimators': [100, 200, 300, 1000]\n",
    "}"
   ]
  },
  {
   "cell_type": "code",
   "execution_count": 108,
   "metadata": {},
   "outputs": [
    {
     "name": "stdout",
     "output_type": "stream",
     "text": [
      "Fitting 5 folds for each of 50 candidates, totalling 250 fits\n"
     ]
    },
    {
     "data": {
      "text/html": [
       "<style>#sk-container-id-4 {color: black;background-color: white;}#sk-container-id-4 pre{padding: 0;}#sk-container-id-4 div.sk-toggleable {background-color: white;}#sk-container-id-4 label.sk-toggleable__label {cursor: pointer;display: block;width: 100%;margin-bottom: 0;padding: 0.3em;box-sizing: border-box;text-align: center;}#sk-container-id-4 label.sk-toggleable__label-arrow:before {content: \"▸\";float: left;margin-right: 0.25em;color: #696969;}#sk-container-id-4 label.sk-toggleable__label-arrow:hover:before {color: black;}#sk-container-id-4 div.sk-estimator:hover label.sk-toggleable__label-arrow:before {color: black;}#sk-container-id-4 div.sk-toggleable__content {max-height: 0;max-width: 0;overflow: hidden;text-align: left;background-color: #f0f8ff;}#sk-container-id-4 div.sk-toggleable__content pre {margin: 0.2em;color: black;border-radius: 0.25em;background-color: #f0f8ff;}#sk-container-id-4 input.sk-toggleable__control:checked~div.sk-toggleable__content {max-height: 200px;max-width: 100%;overflow: auto;}#sk-container-id-4 input.sk-toggleable__control:checked~label.sk-toggleable__label-arrow:before {content: \"▾\";}#sk-container-id-4 div.sk-estimator input.sk-toggleable__control:checked~label.sk-toggleable__label {background-color: #d4ebff;}#sk-container-id-4 div.sk-label input.sk-toggleable__control:checked~label.sk-toggleable__label {background-color: #d4ebff;}#sk-container-id-4 input.sk-hidden--visually {border: 0;clip: rect(1px 1px 1px 1px);clip: rect(1px, 1px, 1px, 1px);height: 1px;margin: -1px;overflow: hidden;padding: 0;position: absolute;width: 1px;}#sk-container-id-4 div.sk-estimator {font-family: monospace;background-color: #f0f8ff;border: 1px dotted black;border-radius: 0.25em;box-sizing: border-box;margin-bottom: 0.5em;}#sk-container-id-4 div.sk-estimator:hover {background-color: #d4ebff;}#sk-container-id-4 div.sk-parallel-item::after {content: \"\";width: 100%;border-bottom: 1px solid gray;flex-grow: 1;}#sk-container-id-4 div.sk-label:hover label.sk-toggleable__label {background-color: #d4ebff;}#sk-container-id-4 div.sk-serial::before {content: \"\";position: absolute;border-left: 1px solid gray;box-sizing: border-box;top: 0;bottom: 0;left: 50%;z-index: 0;}#sk-container-id-4 div.sk-serial {display: flex;flex-direction: column;align-items: center;background-color: white;padding-right: 0.2em;padding-left: 0.2em;position: relative;}#sk-container-id-4 div.sk-item {position: relative;z-index: 1;}#sk-container-id-4 div.sk-parallel {display: flex;align-items: stretch;justify-content: center;background-color: white;position: relative;}#sk-container-id-4 div.sk-item::before, #sk-container-id-4 div.sk-parallel-item::before {content: \"\";position: absolute;border-left: 1px solid gray;box-sizing: border-box;top: 0;bottom: 0;left: 50%;z-index: -1;}#sk-container-id-4 div.sk-parallel-item {display: flex;flex-direction: column;z-index: 1;position: relative;background-color: white;}#sk-container-id-4 div.sk-parallel-item:first-child::after {align-self: flex-end;width: 50%;}#sk-container-id-4 div.sk-parallel-item:last-child::after {align-self: flex-start;width: 50%;}#sk-container-id-4 div.sk-parallel-item:only-child::after {width: 0;}#sk-container-id-4 div.sk-dashed-wrapped {border: 1px dashed gray;margin: 0 0.4em 0.5em 0.4em;box-sizing: border-box;padding-bottom: 0.4em;background-color: white;}#sk-container-id-4 div.sk-label label {font-family: monospace;font-weight: bold;display: inline-block;line-height: 1.2em;}#sk-container-id-4 div.sk-label-container {text-align: center;}#sk-container-id-4 div.sk-container {/* jupyter's `normalize.less` sets `[hidden] { display: none; }` but bootstrap.min.css set `[hidden] { display: none !important; }` so we also need the `!important` here to be able to override the default hidden behavior on the sphinx rendered scikit-learn.org. See: https://github.com/scikit-learn/scikit-learn/issues/21755 */display: inline-block !important;position: relative;}#sk-container-id-4 div.sk-text-repr-fallback {display: none;}</style><div id=\"sk-container-id-4\" class=\"sk-top-container\"><div class=\"sk-text-repr-fallback\"><pre>RandomForestClassifier(max_depth=20, min_samples_leaf=20)</pre><b>In a Jupyter environment, please rerun this cell to show the HTML representation or trust the notebook. <br />On GitHub, the HTML representation is unable to render, please try loading this page with nbviewer.org.</b></div><div class=\"sk-container\" hidden><div class=\"sk-item\"><div class=\"sk-estimator sk-toggleable\"><input class=\"sk-toggleable__control sk-hidden--visually\" id=\"sk-estimator-id-6\" type=\"checkbox\" checked><label for=\"sk-estimator-id-6\" class=\"sk-toggleable__label sk-toggleable__label-arrow\">RandomForestClassifier</label><div class=\"sk-toggleable__content\"><pre>RandomForestClassifier(max_depth=20, min_samples_leaf=20)</pre></div></div></div></div></div>"
      ],
      "text/plain": [
       "RandomForestClassifier(max_depth=20, min_samples_leaf=20)"
      ]
     },
     "execution_count": 108,
     "metadata": {},
     "output_type": "execute_result"
    }
   ],
   "source": [
    "# define grid_search\n",
    "grid_search_forest = GridSearchCV(estimator = forestclf, param_grid = param_grid_tree, cv = 5, verbose = True, n_jobs=-1)\n",
    "# Grid_search according to our data\n",
    "grid_search_forest.fit(X_train_pca, y_train_balance)\n",
    "\n",
    "#Decision Tree Best Estimator\n",
    "grid_search_forest.best_estimator_"
   ]
  },
  {
   "cell_type": "markdown",
   "metadata": {},
   "source": [
    "## Random Forest - Model Prediction"
   ]
  },
  {
   "cell_type": "code",
   "execution_count": 112,
   "metadata": {},
   "outputs": [
    {
     "name": "stdout",
     "output_type": "stream",
     "text": [
      "accuracy score train :  0.7576059726490146\n",
      "accuracy score test :  0.6287291103329048\n"
     ]
    }
   ],
   "source": [
    "# Define Tuned Model\n",
    "forestclf = RandomForestClassifier(max_depth=20, min_samples_leaf=20)\n",
    "forestclf.fit(X_train_pca, y_train_balance)\n",
    "\n",
    "#predict\n",
    "y_pred_test_forest = forestclf.predict(X_test_pca)\n",
    "y_pred_train_forest = forestclf.predict(X_train_pca)\n",
    "\n",
    "# Accuracy score of train and test\n",
    "print('accuracy score train : ',accuracy_score(y_train_balance,y_pred_train_forest))\n",
    "print('accuracy score test : ',accuracy_score(y_test,y_pred_test_forest))"
   ]
  },
  {
   "cell_type": "markdown",
   "metadata": {},
   "source": [
    "The result is kinda overfit and similar to decision tree"
   ]
  },
  {
   "cell_type": "markdown",
   "metadata": {},
   "source": [
    "## Random Forest - Model Evaluation"
   ]
  },
  {
   "cell_type": "code",
   "execution_count": 113,
   "metadata": {},
   "outputs": [
    {
     "data": {
      "image/png": "[encoded data removed]",
      "text/plain": [
       "<Figure size 432x288 with 2 Axes>"
      ]
     },
     "metadata": {
      "needs_background": "light"
     },
     "output_type": "display_data"
    }
   ],
   "source": [
    "cm = confusion_matrix(y_test, y_pred_test_forest, labels=treeclf.classes_)\n",
    "disp = ConfusionMatrixDisplay(confusion_matrix=cm,display_labels=treeclf.classes_)\n",
    "\n",
    "disp.plot()\n",
    "plt.show()"
   ]
  },
  {
   "cell_type": "code",
   "execution_count": 114,
   "metadata": {},
   "outputs": [
    {
     "name": "stdout",
     "output_type": "stream",
     "text": [
      "              precision    recall  f1-score   support\n",
      "\n",
      "           0       0.82      0.68      0.74     35540\n",
      "           1       0.27      0.46      0.34      9578\n",
      "\n",
      "    accuracy                           0.63     45118\n",
      "   macro avg       0.55      0.57      0.54     45118\n",
      "weighted avg       0.71      0.63      0.66     45118\n",
      "\n"
     ]
    }
   ],
   "source": [
    "print(classification_report(y_test, y_pred_test_forest))"
   ]
  },
  {
   "cell_type": "code",
   "execution_count": 120,
   "metadata": {},
   "outputs": [
    {
     "name": "stdout",
     "output_type": "stream",
     "text": [
      "No Skill: ROC AUC=0.500\n",
      "Decision Tree: ROC AUC=0.594\n"
     ]
    },
    {
     "data": {
      "image/png": "[encoded data removed]",
      "text/plain": [
       "<Figure size 432x288 with 1 Axes>"
      ]
     },
     "metadata": {
      "needs_background": "light"
     },
     "output_type": "display_data"
    }
   ],
   "source": [
    "ns_probs = [0 for _ in range(len(y_test))]\n",
    "\n",
    "\n",
    "lr_probs = forestclf.predict_proba(X_test_pca)\n",
    "lr_probs = lr_probs[:, 1]\n",
    "\n",
    "ns_auc = roc_auc_score(y_test, ns_probs)\n",
    "lr_auc = roc_auc_score(y_test, lr_probs)\n",
    "# summarize scores\n",
    "print('No Skill: ROC AUC=%.3f' % (ns_auc))\n",
    "print('Decision Tree: ROC AUC=%.3f' % (lr_auc))\n",
    "# calculate roc curves\n",
    "ns_fpr, ns_tpr, _ = roc_curve(y_test, ns_probs)\n",
    "lr_fpr, lr_tpr, _ = roc_curve(y_test, lr_probs)\n",
    "# plot the roc curve for the model\n",
    "plt.plot(ns_fpr, ns_tpr, linestyle='--', label='No Skill')\n",
    "plt.plot(lr_fpr, lr_tpr, marker='.', label='Random Forest Model')\n",
    "\n",
    "# axis labels\n",
    "plt.xlabel('False Positive Rate')\n",
    "plt.ylabel('True Positive Rate')\n",
    "# show the legend\n",
    "plt.legend()\n",
    "# show the plot\n",
    "plt.show()"
   ]
  },
  {
   "cell_type": "markdown",
   "metadata": {},
   "source": [
    "So far, the model has the highest accuracy of 0.63, but it seems that this model also have a low roc auc score and low recall on class 1 which is the loan default transaction. the good site is, this model can predict class 0 pretty well than the other model, this model will not make the company pay a lot in opportunity cost because it is braver than the previous model of letting class 0 in but this model predict class 1 badly. Overall it is a decent model and so far this is the best one with the highest roc auc score"
   ]
  },
  {
   "cell_type": "markdown",
   "metadata": {},
   "source": [
    "# Machine Learning Model - AdaBoost"
   ]
  },
  {
   "cell_type": "markdown",
   "metadata": {},
   "source": [
    "## Ada Boost - Hyperparameter Tuning"
   ]
  },
  {
   "cell_type": "code",
   "execution_count": 56,
   "metadata": {},
   "outputs": [],
   "source": [
    "adaclf = AdaBoostClassifier()\n",
    "param_grid_ada = {\n",
    "    'n_estimators': [10, 50],\n",
    "    'learning_rate': [0.01, 0.1, 1.0],\n",
    "}"
   ]
  },
  {
   "cell_type": "code",
   "execution_count": 57,
   "metadata": {},
   "outputs": [
    {
     "data": {
      "text/html": [
       "<style>#sk-container-id-1 {color: black;background-color: white;}#sk-container-id-1 pre{padding: 0;}#sk-container-id-1 div.sk-toggleable {background-color: white;}#sk-container-id-1 label.sk-toggleable__label {cursor: pointer;display: block;width: 100%;margin-bottom: 0;padding: 0.3em;box-sizing: border-box;text-align: center;}#sk-container-id-1 label.sk-toggleable__label-arrow:before {content: \"▸\";float: left;margin-right: 0.25em;color: #696969;}#sk-container-id-1 label.sk-toggleable__label-arrow:hover:before {color: black;}#sk-container-id-1 div.sk-estimator:hover label.sk-toggleable__label-arrow:before {color: black;}#sk-container-id-1 div.sk-toggleable__content {max-height: 0;max-width: 0;overflow: hidden;text-align: left;background-color: #f0f8ff;}#sk-container-id-1 div.sk-toggleable__content pre {margin: 0.2em;color: black;border-radius: 0.25em;background-color: #f0f8ff;}#sk-container-id-1 input.sk-toggleable__control:checked~div.sk-toggleable__content {max-height: 200px;max-width: 100%;overflow: auto;}#sk-container-id-1 input.sk-toggleable__control:checked~label.sk-toggleable__label-arrow:before {content: \"▾\";}#sk-container-id-1 div.sk-estimator input.sk-toggleable__control:checked~label.sk-toggleable__label {background-color: #d4ebff;}#sk-container-id-1 div.sk-label input.sk-toggleable__control:checked~label.sk-toggleable__label {background-color: #d4ebff;}#sk-container-id-1 input.sk-hidden--visually {border: 0;clip: rect(1px 1px 1px 1px);clip: rect(1px, 1px, 1px, 1px);height: 1px;margin: -1px;overflow: hidden;padding: 0;position: absolute;width: 1px;}#sk-container-id-1 div.sk-estimator {font-family: monospace;background-color: #f0f8ff;border: 1px dotted black;border-radius: 0.25em;box-sizing: border-box;margin-bottom: 0.5em;}#sk-container-id-1 div.sk-estimator:hover {background-color: #d4ebff;}#sk-container-id-1 div.sk-parallel-item::after {content: \"\";width: 100%;border-bottom: 1px solid gray;flex-grow: 1;}#sk-container-id-1 div.sk-label:hover label.sk-toggleable__label {background-color: #d4ebff;}#sk-container-id-1 div.sk-serial::before {content: \"\";position: absolute;border-left: 1px solid gray;box-sizing: border-box;top: 0;bottom: 0;left: 50%;z-index: 0;}#sk-container-id-1 div.sk-serial {display: flex;flex-direction: column;align-items: center;background-color: white;padding-right: 0.2em;padding-left: 0.2em;position: relative;}#sk-container-id-1 div.sk-item {position: relative;z-index: 1;}#sk-container-id-1 div.sk-parallel {display: flex;align-items: stretch;justify-content: center;background-color: white;position: relative;}#sk-container-id-1 div.sk-item::before, #sk-container-id-1 div.sk-parallel-item::before {content: \"\";position: absolute;border-left: 1px solid gray;box-sizing: border-box;top: 0;bottom: 0;left: 50%;z-index: -1;}#sk-container-id-1 div.sk-parallel-item {display: flex;flex-direction: column;z-index: 1;position: relative;background-color: white;}#sk-container-id-1 div.sk-parallel-item:first-child::after {align-self: flex-end;width: 50%;}#sk-container-id-1 div.sk-parallel-item:last-child::after {align-self: flex-start;width: 50%;}#sk-container-id-1 div.sk-parallel-item:only-child::after {width: 0;}#sk-container-id-1 div.sk-dashed-wrapped {border: 1px dashed gray;margin: 0 0.4em 0.5em 0.4em;box-sizing: border-box;padding-bottom: 0.4em;background-color: white;}#sk-container-id-1 div.sk-label label {font-family: monospace;font-weight: bold;display: inline-block;line-height: 1.2em;}#sk-container-id-1 div.sk-label-container {text-align: center;}#sk-container-id-1 div.sk-container {/* jupyter's `normalize.less` sets `[hidden] { display: none; }` but bootstrap.min.css set `[hidden] { display: none !important; }` so we also need the `!important` here to be able to override the default hidden behavior on the sphinx rendered scikit-learn.org. See: https://github.com/scikit-learn/scikit-learn/issues/21755 */display: inline-block !important;position: relative;}#sk-container-id-1 div.sk-text-repr-fallback {display: none;}</style><div id=\"sk-container-id-1\" class=\"sk-top-container\"><div class=\"sk-text-repr-fallback\"><pre>AdaBoostClassifier()</pre><b>In a Jupyter environment, please rerun this cell to show the HTML representation or trust the notebook. <br />On GitHub, the HTML representation is unable to render, please try loading this page with nbviewer.org.</b></div><div class=\"sk-container\" hidden><div class=\"sk-item\"><div class=\"sk-estimator sk-toggleable\"><input class=\"sk-toggleable__control sk-hidden--visually\" id=\"sk-estimator-id-1\" type=\"checkbox\" checked><label for=\"sk-estimator-id-1\" class=\"sk-toggleable__label sk-toggleable__label-arrow\">AdaBoostClassifier</label><div class=\"sk-toggleable__content\"><pre>AdaBoostClassifier()</pre></div></div></div></div></div>"
      ],
      "text/plain": [
       "AdaBoostClassifier()"
      ]
     },
     "execution_count": 57,
     "metadata": {},
     "output_type": "execute_result"
    }
   ],
   "source": [
    "grid_search_ada = GridSearchCV(estimator=adaclf, param_grid=param_grid_ada, n_jobs=-1, cv=5, scoring='accuracy')\n",
    "\n",
    "grid_result = grid_search_ada.fit(X_train_pca, y_train_balance)\n",
    "\n",
    "# Finding out which is the best estimator or hyperparameter to used\n",
    "grid_result.best_estimator_"
   ]
  },
  {
   "cell_type": "markdown",
   "metadata": {},
   "source": [
    "## Ada boost - Model Prediction"
   ]
  },
  {
   "cell_type": "code",
   "execution_count": 58,
   "metadata": {},
   "outputs": [
    {
     "name": "stdout",
     "output_type": "stream",
     "text": [
      "accuracy score train :  0.5845474739015961\n",
      "accuracy score test :  0.5910501352010284\n"
     ]
    }
   ],
   "source": [
    "# Define Tuned Model\n",
    "adaclf = AdaBoostClassifier()\n",
    "adaclf.fit(X_train_pca, y_train_balance)\n",
    "\n",
    "#predict\n",
    "y_pred_test_ada = adaclf.predict(X_test_pca)\n",
    "y_pred_train_ada = adaclf.predict(X_train_pca)\n",
    "\n",
    "# Accuracy score of train and test\n",
    "print('accuracy score train : ',accuracy_score(y_train_balance,y_pred_train_ada))\n",
    "print('accuracy score test : ',accuracy_score(y_test,y_pred_test_ada))"
   ]
  },
  {
   "cell_type": "code",
   "execution_count": 60,
   "metadata": {},
   "outputs": [
    {
     "data": {
      "image/png": "[encoded data removed]",
      "text/plain": [
       "<Figure size 432x288 with 2 Axes>"
      ]
     },
     "metadata": {
      "needs_background": "light"
     },
     "output_type": "display_data"
    }
   ],
   "source": [
    "cm = confusion_matrix(y_test, y_pred_test_ada, labels=adaclf.classes_)\n",
    "disp = ConfusionMatrixDisplay(confusion_matrix=cm,display_labels=adaclf.classes_)\n",
    "\n",
    "disp.plot()\n",
    "plt.show()"
   ]
  },
  {
   "cell_type": "code",
   "execution_count": 62,
   "metadata": {},
   "outputs": [
    {
     "name": "stdout",
     "output_type": "stream",
     "text": [
      "No Skill: ROC AUC=0.500\n",
      "Decision Tree: ROC AUC=0.588\n"
     ]
    },
    {
     "data": {
      "image/png": "[encoded data removed]",
      "text/plain": [
       "<Figure size 432x288 with 1 Axes>"
      ]
     },
     "metadata": {
      "needs_background": "light"
     },
     "output_type": "display_data"
    }
   ],
   "source": [
    "ns_probs = [0 for _ in range(len(y_test))]\n",
    "\n",
    "\n",
    "lr_probs = adaclf.predict_proba(X_test_pca)\n",
    "lr_probs = lr_probs[:, 1]\n",
    "\n",
    "ns_auc = roc_auc_score(y_test, ns_probs)\n",
    "lr_auc = roc_auc_score(y_test, lr_probs)\n",
    "# summarize scores\n",
    "print('No Skill: ROC AUC=%.3f' % (ns_auc))\n",
    "print('Decision Tree: ROC AUC=%.3f' % (lr_auc))\n",
    "# calculate roc curves\n",
    "ns_fpr, ns_tpr, _ = roc_curve(y_test, ns_probs)\n",
    "lr_fpr, lr_tpr, _ = roc_curve(y_test, lr_probs)\n",
    "# plot the roc curve for the model\n",
    "plt.plot(ns_fpr, ns_tpr, linestyle='--', label='No Skill')\n",
    "plt.plot(lr_fpr, lr_tpr, marker='.', label='Adaboost Model')\n",
    "\n",
    "# axis labels\n",
    "plt.xlabel('False Positive Rate')\n",
    "plt.ylabel('True Positive Rate')\n",
    "# show the legend\n",
    "plt.legend()\n",
    "# show the plot\n",
    "plt.show()"
   ]
  },
  {
   "cell_type": "code",
   "execution_count": 63,
   "metadata": {},
   "outputs": [
    {
     "name": "stdout",
     "output_type": "stream",
     "text": [
      "              precision    recall  f1-score   support\n",
      "\n",
      "           0       0.83      0.61      0.70     35540\n",
      "           1       0.27      0.53      0.36      9578\n",
      "\n",
      "    accuracy                           0.59     45118\n",
      "   macro avg       0.55      0.57      0.53     45118\n",
      "weighted avg       0.71      0.59      0.63     45118\n",
      "\n"
     ]
    }
   ],
   "source": [
    "print(classification_report(y_test, y_pred_test_ada))"
   ]
  },
  {
   "cell_type": "markdown",
   "metadata": {},
   "source": [
    "Adaboost model is a model that combines several weak learner into a strong learner, putting more weight into misclassified data. Here we can see that the result is just mediocre compared to other model. at least this model has predicted class 1 better than random forest and the roc score is also similar. Compared to other model this model is very medium but atleast it has no overfitting problem. In fact, this model perform better on test."
   ]
  },
  {
   "cell_type": "markdown",
   "metadata": {},
   "source": [
    "## Pipeline of the Best Machine Learning Models"
   ]
  },
  {
   "cell_type": "code",
   "execution_count": 67,
   "metadata": {},
   "outputs": [],
   "source": [
    "num_pipeline = make_pipeline(StandardScaler(),\n",
    "                            SimpleImputer(strategy = 'most_frequent'),\n",
    "                            PCA(n_components = 8))\n",
    "\n",
    "cat_pipeline = make_pipeline(SimpleImputer(strategy = 'most_frequent'),\n",
    "    OrdinalEncoder())\n",
    "\n",
    "data_pipeline = ColumnTransformer([\n",
    "    ('pipeline_num', num_pipeline, num_columns),\n",
    "    (('pipeline_cat'), cat_pipeline, cat_columns)\n",
    "])\n",
    "\n",
    "# Final_pipeline\n",
    "\n",
    "final_pipeline = make_pipeline(data_pipeline, RandomForestClassifier(max_depth=20, min_samples_leaf=20))"
   ]
  },
  {
   "cell_type": "code",
   "execution_count": 68,
   "metadata": {},
   "outputs": [],
   "source": [
    "## data_inference X and Y\n",
    "\n",
    "X_inference = data_inf.drop('LOAN_DEFAULT', axis = 1)\n",
    "y_inference = data_inf['LOAN_DEFAULT']"
   ]
  },
  {
   "cell_type": "code",
   "execution_count": 69,
   "metadata": {},
   "outputs": [
    {
     "name": "stdout",
     "output_type": "stream",
     "text": [
      "              precision    recall  f1-score   support\n",
      "\n",
      "           0       0.80      1.00      0.89        80\n",
      "           1       0.00      0.00      0.00        20\n",
      "\n",
      "    accuracy                           0.80       100\n",
      "   macro avg       0.40      0.50      0.44       100\n",
      "weighted avg       0.64      0.80      0.71       100\n",
      "\n"
     ]
    },
    {
     "name": "stderr",
     "output_type": "stream",
     "text": [
      "c:\\Users\\alexa\\AppData\\Local\\Programs\\Python\\Python310\\lib\\site-packages\\sklearn\\metrics\\_classification.py:1327: UndefinedMetricWarning: Precision and F-score are ill-defined and being set to 0.0 in labels with no predicted samples. Use `zero_division` parameter to control this behavior.\n",
      "  _warn_prf(average, modifier, msg_start, len(result))\n",
      "c:\\Users\\alexa\\AppData\\Local\\Programs\\Python\\Python310\\lib\\site-packages\\sklearn\\metrics\\_classification.py:1327: UndefinedMetricWarning: Precision and F-score are ill-defined and being set to 0.0 in labels with no predicted samples. Use `zero_division` parameter to control this behavior.\n",
      "  _warn_prf(average, modifier, msg_start, len(result))\n",
      "c:\\Users\\alexa\\AppData\\Local\\Programs\\Python\\Python310\\lib\\site-packages\\sklearn\\metrics\\_classification.py:1327: UndefinedMetricWarning: Precision and F-score are ill-defined and being set to 0.0 in labels with no predicted samples. Use `zero_division` parameter to control this behavior.\n",
      "  _warn_prf(average, modifier, msg_start, len(result))\n"
     ]
    }
   ],
   "source": [
    "## Final_pipeline training\n",
    "final_pipeline.fit(X_train,y_train)\n",
    "\n",
    "y_pred = final_pipeline.predict(X_inference)\n",
    "print(classification_report(y_inference, y_pred))"
   ]
  },
  {
   "cell_type": "code",
   "execution_count": 74,
   "metadata": {},
   "outputs": [
    {
     "data": {
      "image/png": "[encoded data removed]",
      "text/plain": [
       "<Figure size 432x288 with 2 Axes>"
      ]
     },
     "metadata": {
      "needs_background": "light"
     },
     "output_type": "display_data"
    }
   ],
   "source": [
    "cm = confusion_matrix(y_inference, y_pred, labels=final_pipeline.classes_)\n",
    "disp = ConfusionMatrixDisplay(confusion_matrix=cm,display_labels=final_pipeline.classes_)\n",
    "\n",
    "disp.plot()\n",
    "plt.show()"
   ]
  },
  {
   "cell_type": "markdown",
   "metadata": {},
   "source": [
    "After inputting the data inference to the pipeline, it fails to predict all of the loan default data, it predict all of the inference model into class 0, this is bad because there are 20 missclassified data, and surprisingly this model predict all of that class 0 perfectly."
   ]
  },
  {
   "cell_type": "markdown",
   "metadata": {},
   "source": [
    "## Model Saving for Deployment"
   ]
  },
  {
   "cell_type": "code",
   "execution_count": 70,
   "metadata": {},
   "outputs": [],
   "source": [
    "with open('final_pipeline.pkl', 'wb') as file_1:\n",
    "    pickle.dump(final_pipeline, file_1)"
   ]
  },
  {
   "cell_type": "markdown",
   "metadata": {},
   "source": [
    "## Conclusion"
   ]
  },
  {
   "cell_type": "markdown",
   "metadata": {},
   "source": [
    "1. Looking from the dataset, it can be seen that this business is relatively new from the average account age of below 1 year.\n",
    "2. The business is not looking good because people that fails to pay the loan have the same disbursement amount as people who successfully paid the loan.\n",
    "3. People who are self employed are tend to be riskier, there are many loan default happening with people who are self employed than salary man.\n",
    "4. This data features has a very low correlation with the target, hence it is not making a good model for machine learning, garbage in, garbage out.\n",
    "5. The best model to use is Random Forest Classifier although it detects class 1 pretty bad, it has the highest accuracy"
   ]
  },
  {
   "cell_type": "markdown",
   "metadata": {},
   "source": [
    "## Improvement Suggestion\n",
    "If this research is going to be continued, there are several suggestion for the company\n",
    "1. Give loan to people who are salaried more than people who are self employed\n",
    "2. Find more highly correlated data with the target to further improve the machine learning model\n",
    "3. Tighten the rule of giving the loan away, for example: screen all of the customer credit score\n",
    "4. Reduce giving loan to transaction with an extreme LTV as higher LTV lead to more loan default according to data"
   ]
  }
 ],
 "metadata": {
  "kernelspec": {
   "display_name": "Python 3 (ipykernel)",
   "language": "python",
   "name": "python3"
  },
  "language_info": {
   "codemirror_mode": {
    "name": "ipython",
    "version": 3
   },
   "file_extension": ".py",
   "mimetype": "text/x-python",
   "name": "python",
   "nbconvert_exporter": "python",
   "pygments_lexer": "ipython3",
   "version": "3.10.4"
  },
  "vscode": {
   "interpreter": {
    "hash": "bbc3c3d932324566a9bf4b4a52ddf64063695fc3adbf25b3fda92572428493bb"
   }
  }
 },
 "nbformat": 4,
 "nbformat_minor": 2
}
