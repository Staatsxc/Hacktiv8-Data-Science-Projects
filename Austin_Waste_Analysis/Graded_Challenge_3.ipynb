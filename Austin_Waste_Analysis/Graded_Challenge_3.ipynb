{
 "cells": [
  {
   "cell_type": "markdown",
   "id": "73c001ac",
   "metadata": {},
   "source": [
    "# GRADED CHALLENGE 3"
   ]
  },
  {
   "cell_type": "markdown",
   "id": "847dd9b7",
   "metadata": {},
   "source": [
    "### Nama : Alexander Greateine Tanaku\n",
    "### Batch : FTDS - 014"
   ]
  },
  {
   "cell_type": "markdown",
   "id": "77acebb7",
   "metadata": {},
   "source": [
    "# Problem Statement"
   ]
  },
  {
   "cell_type": "markdown",
   "id": "18f18b8a",
   "metadata": {},
   "source": [
    "Kamu adalah anggota tim Data Science di Austin Smart City dan sedang mengerjakan projek analisa sistem pembuangan dan pengelolaan sampah di kota tersebut. Sebagai anggota tim, berdasarkan data yang tersedia, coba analisa data tersebut menggunakan statistik deskriptif dan inferensial, serta berikan insight kepada pemerintah kota Austin mengenai kondisi sistem pembuangan dan pengelolaan sampah. "
   ]
  },
  {
   "cell_type": "markdown",
   "id": "fc3e7e44",
   "metadata": {},
   "source": [
    "# Working Area"
   ]
  },
  {
   "cell_type": "markdown",
   "id": "a474402b",
   "metadata": {},
   "source": [
    "## Query Dataset dari GCP"
   ]
  },
  {
   "cell_type": "markdown",
   "id": "060596a6",
   "metadata": {},
   "source": [
    "SELECT \n",
    "load_time,\n",
    "load_type,\n",
    "load_weight,\n",
    "dropoff_site\n",
    "FROM `bigquery-public-data.austin_waste.waste_and_diversion` LIMIT 150000"
   ]
  },
  {
   "cell_type": "markdown",
   "id": "124ffdcd",
   "metadata": {},
   "source": [
    "## Importing Library"
   ]
  },
  {
   "cell_type": "code",
   "execution_count": 1,
   "id": "ae1f1482",
   "metadata": {},
   "outputs": [],
   "source": [
    "import pandas as pd\n",
    "import scipy\n",
    "import numpy as np\n",
    "import matplotlib.pyplot as plt\n",
    "import seaborn as sns\n",
    "from dateutil.relativedelta import relativedelta\n",
    "from scipy import stats as st\n",
    "from scipy. stats import skew\n",
    "from scipy.stats import t\n",
    "from statsmodels.graphics.gofplots import qqplot \n",
    "from scipy.stats import norm, uniform "
   ]
  },
  {
   "cell_type": "markdown",
   "id": "4f566460",
   "metadata": {},
   "source": [
    "## Load dataset"
   ]
  },
  {
   "cell_type": "code",
   "execution_count": 2,
   "id": "3dac5509",
   "metadata": {},
   "outputs": [
    {
     "data": {
      "text/html": [
       "<div>\n",
       "<style scoped>\n",
       "    .dataframe tbody tr th:only-of-type {\n",
       "        vertical-align: middle;\n",
       "    }\n",
       "\n",
       "    .dataframe tbody tr th {\n",
       "        vertical-align: top;\n",
       "    }\n",
       "\n",
       "    .dataframe thead th {\n",
       "        text-align: right;\n",
       "    }\n",
       "</style>\n",
       "<table border=\"1\" class=\"dataframe\">\n",
       "  <thead>\n",
       "    <tr style=\"text-align: right;\">\n",
       "      <th></th>\n",
       "      <th>load_time</th>\n",
       "      <th>load_type</th>\n",
       "      <th>load_weight</th>\n",
       "      <th>dropoff_site</th>\n",
       "    </tr>\n",
       "  </thead>\n",
       "  <tbody>\n",
       "    <tr>\n",
       "      <th>0</th>\n",
       "      <td>2009-08-07 11:51:00 UTC</td>\n",
       "      <td>RECYCLING - SINGLE STREAM</td>\n",
       "      <td>4400.0</td>\n",
       "      <td>MRF</td>\n",
       "    </tr>\n",
       "    <tr>\n",
       "      <th>1</th>\n",
       "      <td>2008-04-11 12:31:00 UTC</td>\n",
       "      <td>RECYCLING - PAPER</td>\n",
       "      <td>1920.0</td>\n",
       "      <td>MRF</td>\n",
       "    </tr>\n",
       "    <tr>\n",
       "      <th>2</th>\n",
       "      <td>2009-01-16 12:58:00 UTC</td>\n",
       "      <td>RECYCLING - SINGLE STREAM</td>\n",
       "      <td>4140.0</td>\n",
       "      <td>MRF</td>\n",
       "    </tr>\n",
       "    <tr>\n",
       "      <th>3</th>\n",
       "      <td>2009-07-10 11:21:00 UTC</td>\n",
       "      <td>RECYCLING - SINGLE STREAM</td>\n",
       "      <td>4020.0</td>\n",
       "      <td>MRF</td>\n",
       "    </tr>\n",
       "    <tr>\n",
       "      <th>4</th>\n",
       "      <td>2006-02-03 12:36:00 UTC</td>\n",
       "      <td>RECYCLING - COMINGLE</td>\n",
       "      <td>1700.0</td>\n",
       "      <td>MRF</td>\n",
       "    </tr>\n",
       "  </tbody>\n",
       "</table>\n",
       "</div>"
      ],
      "text/plain": [
       "                 load_time                  load_type  load_weight  \\\n",
       "0  2009-08-07 11:51:00 UTC  RECYCLING - SINGLE STREAM       4400.0   \n",
       "1  2008-04-11 12:31:00 UTC          RECYCLING - PAPER       1920.0   \n",
       "2  2009-01-16 12:58:00 UTC  RECYCLING - SINGLE STREAM       4140.0   \n",
       "3  2009-07-10 11:21:00 UTC  RECYCLING - SINGLE STREAM       4020.0   \n",
       "4  2006-02-03 12:36:00 UTC       RECYCLING - COMINGLE       1700.0   \n",
       "\n",
       "  dropoff_site  \n",
       "0          MRF  \n",
       "1          MRF  \n",
       "2          MRF  \n",
       "3          MRF  \n",
       "4          MRF  "
      ]
     },
     "execution_count": 2,
     "metadata": {},
     "output_type": "execute_result"
    }
   ],
   "source": [
    "df = pd.read_csv('h8dsft_P0GC3_Alexander_G.T.csv')\n",
    "df.head()"
   ]
  },
  {
   "cell_type": "code",
   "execution_count": 3,
   "id": "70aa7f2f",
   "metadata": {
    "scrolled": true
   },
   "outputs": [
    {
     "data": {
      "text/html": [
       "<div>\n",
       "<style scoped>\n",
       "    .dataframe tbody tr th:only-of-type {\n",
       "        vertical-align: middle;\n",
       "    }\n",
       "\n",
       "    .dataframe tbody tr th {\n",
       "        vertical-align: top;\n",
       "    }\n",
       "\n",
       "    .dataframe thead th {\n",
       "        text-align: right;\n",
       "    }\n",
       "</style>\n",
       "<table border=\"1\" class=\"dataframe\">\n",
       "  <thead>\n",
       "    <tr style=\"text-align: right;\">\n",
       "      <th></th>\n",
       "      <th>load_time</th>\n",
       "      <th>load_type</th>\n",
       "      <th>load_weight</th>\n",
       "      <th>dropoff_site</th>\n",
       "    </tr>\n",
       "  </thead>\n",
       "  <tbody>\n",
       "    <tr>\n",
       "      <th>149995</th>\n",
       "      <td>2011-08-17 12:45:00 UTC</td>\n",
       "      <td>RECYCLING - SINGLE STREAM</td>\n",
       "      <td>13380.0</td>\n",
       "      <td>TDS - MRF</td>\n",
       "    </tr>\n",
       "    <tr>\n",
       "      <th>149996</th>\n",
       "      <td>2011-06-08 10:59:00 UTC</td>\n",
       "      <td>RECYCLING - SINGLE STREAM</td>\n",
       "      <td>14080.0</td>\n",
       "      <td>TDS - MRF</td>\n",
       "    </tr>\n",
       "    <tr>\n",
       "      <th>149997</th>\n",
       "      <td>2012-04-11 12:09:00 UTC</td>\n",
       "      <td>RECYCLING - SINGLE STREAM</td>\n",
       "      <td>14260.0</td>\n",
       "      <td>TDS - MRF</td>\n",
       "    </tr>\n",
       "    <tr>\n",
       "      <th>149998</th>\n",
       "      <td>2011-08-31 02:50:00 UTC</td>\n",
       "      <td>RECYCLING - SINGLE STREAM</td>\n",
       "      <td>4100.0</td>\n",
       "      <td>TDS - MRF</td>\n",
       "    </tr>\n",
       "    <tr>\n",
       "      <th>149999</th>\n",
       "      <td>2011-07-20 11:21:00 UTC</td>\n",
       "      <td>RECYCLING - SINGLE STREAM</td>\n",
       "      <td>6220.0</td>\n",
       "      <td>TDS - MRF</td>\n",
       "    </tr>\n",
       "  </tbody>\n",
       "</table>\n",
       "</div>"
      ],
      "text/plain": [
       "                      load_time                  load_type  load_weight  \\\n",
       "149995  2011-08-17 12:45:00 UTC  RECYCLING - SINGLE STREAM      13380.0   \n",
       "149996  2011-06-08 10:59:00 UTC  RECYCLING - SINGLE STREAM      14080.0   \n",
       "149997  2012-04-11 12:09:00 UTC  RECYCLING - SINGLE STREAM      14260.0   \n",
       "149998  2011-08-31 02:50:00 UTC  RECYCLING - SINGLE STREAM       4100.0   \n",
       "149999  2011-07-20 11:21:00 UTC  RECYCLING - SINGLE STREAM       6220.0   \n",
       "\n",
       "       dropoff_site  \n",
       "149995    TDS - MRF  \n",
       "149996    TDS - MRF  \n",
       "149997    TDS - MRF  \n",
       "149998    TDS - MRF  \n",
       "149999    TDS - MRF  "
      ]
     },
     "execution_count": 3,
     "metadata": {},
     "output_type": "execute_result"
    }
   ],
   "source": [
    "df.tail()"
   ]
  },
  {
   "cell_type": "markdown",
   "id": "cdbe81d8",
   "metadata": {},
   "source": [
    "## Data Pre-processing"
   ]
  },
  {
   "cell_type": "code",
   "execution_count": 4,
   "id": "b7c0abc2",
   "metadata": {},
   "outputs": [
    {
     "data": {
      "text/plain": [
       "load_time          0\n",
       "load_type          0\n",
       "load_weight     5066\n",
       "dropoff_site       0\n",
       "dtype: int64"
      ]
     },
     "execution_count": 4,
     "metadata": {},
     "output_type": "execute_result"
    }
   ],
   "source": [
    "# Mengecheck missing value\n",
    "df.isnull().sum()"
   ]
  },
  {
   "cell_type": "code",
   "execution_count": 5,
   "id": "22ba13c0",
   "metadata": {},
   "outputs": [],
   "source": [
    "df = df.dropna(axis = 0)"
   ]
  },
  {
   "cell_type": "code",
   "execution_count": 6,
   "id": "4dbed708",
   "metadata": {},
   "outputs": [
    {
     "data": {
      "text/html": [
       "<div>\n",
       "<style scoped>\n",
       "    .dataframe tbody tr th:only-of-type {\n",
       "        vertical-align: middle;\n",
       "    }\n",
       "\n",
       "    .dataframe tbody tr th {\n",
       "        vertical-align: top;\n",
       "    }\n",
       "\n",
       "    .dataframe thead th {\n",
       "        text-align: right;\n",
       "    }\n",
       "</style>\n",
       "<table border=\"1\" class=\"dataframe\">\n",
       "  <thead>\n",
       "    <tr style=\"text-align: right;\">\n",
       "      <th></th>\n",
       "      <th>load_weight</th>\n",
       "    </tr>\n",
       "  </thead>\n",
       "  <tbody>\n",
       "    <tr>\n",
       "      <th>count</th>\n",
       "      <td>144934.000000</td>\n",
       "    </tr>\n",
       "    <tr>\n",
       "      <th>mean</th>\n",
       "      <td>7133.694944</td>\n",
       "    </tr>\n",
       "    <tr>\n",
       "      <th>std</th>\n",
       "      <td>4610.055367</td>\n",
       "    </tr>\n",
       "    <tr>\n",
       "      <th>min</th>\n",
       "      <td>-4480.000000</td>\n",
       "    </tr>\n",
       "    <tr>\n",
       "      <th>25%</th>\n",
       "      <td>3400.000000</td>\n",
       "    </tr>\n",
       "    <tr>\n",
       "      <th>50%</th>\n",
       "      <td>5800.000000</td>\n",
       "    </tr>\n",
       "    <tr>\n",
       "      <th>75%</th>\n",
       "      <td>11220.000000</td>\n",
       "    </tr>\n",
       "    <tr>\n",
       "      <th>max</th>\n",
       "      <td>75000.000000</td>\n",
       "    </tr>\n",
       "  </tbody>\n",
       "</table>\n",
       "</div>"
      ],
      "text/plain": [
       "         load_weight\n",
       "count  144934.000000\n",
       "mean     7133.694944\n",
       "std      4610.055367\n",
       "min     -4480.000000\n",
       "25%      3400.000000\n",
       "50%      5800.000000\n",
       "75%     11220.000000\n",
       "max     75000.000000"
      ]
     },
     "execution_count": 6,
     "metadata": {},
     "output_type": "execute_result"
    }
   ],
   "source": [
    "df.describe()"
   ]
  },
  {
   "cell_type": "markdown",
   "id": "c294699f",
   "metadata": {},
   "source": [
    "Berdasar statistik dapat dilihat jika minimum dari load weight ada yang negatif, berat tidak mungkin negatif maka harus dihapus berat yang negatif tersebut menggunakan looping"
   ]
  },
  {
   "cell_type": "code",
   "execution_count": 7,
   "id": "aa489267",
   "metadata": {},
   "outputs": [],
   "source": [
    "df.drop(df.index[df['load_weight'] <= 0], inplace=True)"
   ]
  },
  {
   "cell_type": "markdown",
   "id": "5b9b8f60",
   "metadata": {},
   "source": [
    "## Exploratory Data Analysis"
   ]
  },
  {
   "cell_type": "code",
   "execution_count": 8,
   "id": "2e708fe5",
   "metadata": {},
   "outputs": [],
   "source": [
    "df[\"load_time\"] = pd.to_datetime(df[\"load_time\"])"
   ]
  },
  {
   "cell_type": "code",
   "execution_count": 9,
   "id": "0853b44b",
   "metadata": {},
   "outputs": [
    {
     "name": "stdout",
     "output_type": "stream",
     "text": [
      "Periode dari dataset ini adalah relativedelta(years=+21, months=+5, days=+14, hours=+18, minutes=+28, seconds=+5)\n"
     ]
    }
   ],
   "source": [
    "# Looking for period of datasets\n",
    "a = df.load_time.max()\n",
    "b = df.load_time.min()\n",
    "time_diff = a - b\n",
    "rdelta = relativedelta(a, b)\n",
    "rdelta\n",
    "print(f'Periode dari dataset ini adalah {rdelta}')"
   ]
  },
  {
   "cell_type": "code",
   "execution_count": 10,
   "id": "1f268d3b",
   "metadata": {},
   "outputs": [
    {
     "data": {
      "text/plain": [
       "array(['RECYCLING - SINGLE STREAM', 'RECYCLING - PAPER',\n",
       "       'RECYCLING - COMINGLE', 'SWEEPING', 'BRUSH', 'TIRES', 'BULK',\n",
       "       'RECYCLED METAL', 'YARD TRIMMING', 'MIXED LITTER', 'ORGANICS',\n",
       "       'GARBAGE COLLECTIONS', 'RECYCLING - PLASTIC BAGS', 'MULCH',\n",
       "       'YARD TRIMMING - X-MAS TREES', 'CONTAMINATED RECYCLING',\n",
       "       'DEAD ANIMAL', 'LITTER'], dtype=object)"
      ]
     },
     "execution_count": 10,
     "metadata": {},
     "output_type": "execute_result"
    }
   ],
   "source": [
    "# Melihat type waste pada load_type dari dataset\n",
    "df.load_type.unique()"
   ]
  },
  {
   "cell_type": "code",
   "execution_count": 11,
   "id": "c7b475e7",
   "metadata": {},
   "outputs": [],
   "source": [
    "# Melihat pembuangan data berdasar jenis load nya\n",
    "df_group_load = df.groupby(by = 'load_type').sum()\n",
    "df_group_load = df_group_load.reset_index()\n",
    "df_group_load1= df_group_load.iloc[0:9,:]\n",
    "df_group_load2 = df_group_load.iloc[10:17,:]"
   ]
  },
  {
   "cell_type": "markdown",
   "id": "ff00449c",
   "metadata": {},
   "source": [
    "# Load_type Visualization"
   ]
  },
  {
   "cell_type": "code",
   "execution_count": 12,
   "id": "dae97153",
   "metadata": {},
   "outputs": [
    {
     "data": {
      "image/png": "[encoded data removed]",
      "text/plain": [
       "<Figure size 2160x1440 with 2 Axes>"
      ]
     },
     "metadata": {
      "needs_background": "light"
     },
     "output_type": "display_data"
    }
   ],
   "source": [
    "fig, axes = plt.subplots(2, 1, sharey = True)\n",
    "fig.suptitle('VISUALISASI BERDASAR LOAD_TYPE')\n",
    "sns.barplot(x=\"load_type\", \n",
    "            y=\"load_weight\", \n",
    "            data=df_group_load1,  \n",
    "            ax = axes[0]\n",
    ")\n",
    "sns.barplot(x=\"load_type\", \n",
    "            y=\"load_weight\", \n",
    "            data=df_group_load2,  \n",
    "            ax = axes[1]\n",
    ")\n",
    "plt.gcf().set_size_inches(30, 20)"
   ]
  },
  {
   "cell_type": "markdown",
   "id": "3176c27a",
   "metadata": {},
   "source": [
    "Jika Dilihat dari load_type nya, terlihat jika kebanyakan jenis waste yang dibuang adala recycling - single stream jika dibandingkan dengan load_type yang lain. Beberapa load_type yang lain bahkan hanya terdapat sangat sedikit waste dari load_weightnya sampai tidak terlihat plotnya ketika divisualisasikan"
   ]
  },
  {
   "cell_type": "code",
   "execution_count": 13,
   "id": "4d8550f7",
   "metadata": {},
   "outputs": [
    {
     "name": "stdout",
     "output_type": "stream",
     "text": [
      "75000.0\n",
      "20.0\n"
     ]
    }
   ],
   "source": [
    "# Range \n",
    "print(df.load_weight.max())\n",
    "print(df.load_weight.min())"
   ]
  },
  {
   "cell_type": "markdown",
   "id": "76626e84",
   "metadata": {},
   "source": [
    "# Data Analytics based on dropoff_site"
   ]
  },
  {
   "cell_type": "code",
   "execution_count": 14,
   "id": "b5f810c5",
   "metadata": {},
   "outputs": [],
   "source": [
    "# Melihat distribusi dari dataset\n",
    "\n",
    "def plot_dist(df, col):\n",
    "    fig, axes = plt.subplots(ncols = 2, figsize = (15, 5))\n",
    "    \n",
    "    # histogram\n",
    "    sns.histplot(df[col],ax = axes[0], bins=30, kde=True,line_kws={'linewidth': 3},color = 'k')\n",
    "    axes[0].set_title(f\"Histogram '{col}'\")\n",
    "    axes[0].axvline(df[col].mean(), color = 'red', linestyle = 'dashed', label = 'mean')\n",
    "    axes[0].axvline(df[col].median(), color = 'green', linestyle = 'dashed', label = 'median')\n",
    "    axes[0].legend()\n",
    "    \n",
    "    # boxplot\n",
    "    sns.boxplot(y=df[col], ax =  axes[1])\n",
    "    axes[1].set_title(f\"Boxplot '{col}'\")\n",
    "    \n",
    "    plt.show()\n",
    "    \n",
    "    # skewness\n",
    "    print(df[col].name + ' Kurtosis: ' + str(df[col].kurt()))\n",
    "    print(df[col].name + ' Skewness: ' + str(df[col].skew()))\n",
    "    if -0.5 <= df[col].skew() <= 0.5:\n",
    "        print(\"Columns '{}' normal distribution\".format(col))\n",
    "    elif df[col].skew() > 0.5:\n",
    "        print(\"Columns '{}' right skewed\".format(col))\n",
    "    elif df[col].skew() < -0.5:\n",
    "        print(\"Columns '{}' left skewed\".format(col))"
   ]
  },
  {
   "cell_type": "code",
   "execution_count": 15,
   "id": "628326e8",
   "metadata": {},
   "outputs": [
    {
     "data": {
      "text/plain": [
       "['load_time', 'load_type', 'load_weight', 'dropoff_site']"
      ]
     },
     "execution_count": 15,
     "metadata": {},
     "output_type": "execute_result"
    }
   ],
   "source": [
    "df_col = df.columns.tolist()\n",
    "df_col"
   ]
  },
  {
   "cell_type": "code",
   "execution_count": 16,
   "id": "995b127c",
   "metadata": {},
   "outputs": [
    {
     "data": {
      "image/png": "[encoded data removed]",
      "text/plain": [
       "<Figure size 1080x360 with 2 Axes>"
      ]
     },
     "metadata": {
      "needs_background": "light"
     },
     "output_type": "display_data"
    },
    {
     "name": "stdout",
     "output_type": "stream",
     "text": [
      "load_weight Kurtosis: -0.11208487896175523\n",
      "load_weight Skewness: 0.5998051443364577\n",
      "Columns 'load_weight' right skewed\n"
     ]
    }
   ],
   "source": [
    "plot_dist(df,df_col[2])"
   ]
  },
  {
   "cell_type": "markdown",
   "id": "2b0c1f91",
   "metadata": {},
   "source": [
    "## Insight Based on Overall Central Tendency\n",
    "\n",
    "Berdasarkan central tendency nya, ada beberapa penemuan menarik dari dataset austin_waste ini\n",
    "1. Terdapat beberapa tempat di Austin yang load weightnya sangat tinggi yaitu diatas 70000\n",
    "2. Data dari load weight 30000 sampai 70000 sangat sedikit dan grafiknya rata, artinya sedikit tempat yang load weightnya diatas dari 30000\n",
    "3. Kebanyakan tempat di Austin load weightnya dibawah dari 10000\n",
    "4. Range load_weight yang paling umum ada di sekitar 0 sampai 25000."
   ]
  },
  {
   "cell_type": "markdown",
   "id": "749b8aaf",
   "metadata": {},
   "source": [
    "#### Membuat dataset untuk setiap dropoff site"
   ]
  },
  {
   "cell_type": "code",
   "execution_count": 17,
   "id": "44de8b3c",
   "metadata": {
    "scrolled": true
   },
   "outputs": [],
   "source": [
    "df_clarkson = df[df['dropoff_site'] == \"CLARKSON\"].reset_index(drop = True)\n",
    "df_elmont = df[df['dropoff_site'] == \"ELMONT\"].reset_index(drop = True)\n",
    "df_kramer = df[df['dropoff_site'] == \"KRAMER\"].reset_index(drop = True)\n",
    "df_mrf = df[df['dropoff_site'] == \"MRF\"].reset_index(drop = True)\n",
    "df_park = df[df['dropoff_site'] == \"PARK BEND\"].reset_index()\n",
    "df_tds = df[df['dropoff_site'] == \"TDS - MRF\"].reset_index(drop = True)\n",
    "df_wilcab = df[df['dropoff_site'] == \"WILCAB\"].reset_index(drop = True)\n",
    "df_zilker = df[df['dropoff_site'] == \"ZILKER\"].reset_index(drop = True)\n",
    "\n",
    "list = [df_clarkson,df_elmont,df_kramer,df_mrf,df_park,df_tds,df_wilcab,df_zilker]"
   ]
  },
  {
   "cell_type": "markdown",
   "id": "4d57e363",
   "metadata": {},
   "source": [
    "### Menyiapkan Grouping Data untuk Analisa "
   ]
  },
  {
   "cell_type": "code",
   "execution_count": 18,
   "id": "54f56227",
   "metadata": {},
   "outputs": [
    {
     "data": {
      "text/html": [
       "<div>\n",
       "<style scoped>\n",
       "    .dataframe tbody tr th:only-of-type {\n",
       "        vertical-align: middle;\n",
       "    }\n",
       "\n",
       "    .dataframe tbody tr th {\n",
       "        vertical-align: top;\n",
       "    }\n",
       "\n",
       "    .dataframe thead th {\n",
       "        text-align: right;\n",
       "    }\n",
       "</style>\n",
       "<table border=\"1\" class=\"dataframe\">\n",
       "  <thead>\n",
       "    <tr style=\"text-align: right;\">\n",
       "      <th></th>\n",
       "      <th>dropoff_site</th>\n",
       "      <th>load_weight</th>\n",
       "    </tr>\n",
       "  </thead>\n",
       "  <tbody>\n",
       "    <tr>\n",
       "      <th>0</th>\n",
       "      <td>CLARKSON</td>\n",
       "      <td>18640.0</td>\n",
       "    </tr>\n",
       "    <tr>\n",
       "      <th>1</th>\n",
       "      <td>ELMONT</td>\n",
       "      <td>76517.0</td>\n",
       "    </tr>\n",
       "    <tr>\n",
       "      <th>2</th>\n",
       "      <td>KRAMER</td>\n",
       "      <td>34980.0</td>\n",
       "    </tr>\n",
       "    <tr>\n",
       "      <th>3</th>\n",
       "      <td>MRF</td>\n",
       "      <td>475345737.0</td>\n",
       "    </tr>\n",
       "    <tr>\n",
       "      <th>4</th>\n",
       "      <td>PARK BEND</td>\n",
       "      <td>2901810.0</td>\n",
       "    </tr>\n",
       "    <tr>\n",
       "      <th>5</th>\n",
       "      <td>TDS - MRF</td>\n",
       "      <td>546569827.0</td>\n",
       "    </tr>\n",
       "    <tr>\n",
       "      <th>6</th>\n",
       "      <td>WILCAB</td>\n",
       "      <td>99200.0</td>\n",
       "    </tr>\n",
       "    <tr>\n",
       "      <th>7</th>\n",
       "      <td>ZILKER</td>\n",
       "      <td>8872712.0</td>\n",
       "    </tr>\n",
       "  </tbody>\n",
       "</table>\n",
       "</div>"
      ],
      "text/plain": [
       "  dropoff_site  load_weight\n",
       "0     CLARKSON      18640.0\n",
       "1       ELMONT      76517.0\n",
       "2       KRAMER      34980.0\n",
       "3          MRF  475345737.0\n",
       "4    PARK BEND    2901810.0\n",
       "5    TDS - MRF  546569827.0\n",
       "6       WILCAB      99200.0\n",
       "7       ZILKER    8872712.0"
      ]
     },
     "execution_count": 18,
     "metadata": {},
     "output_type": "execute_result"
    }
   ],
   "source": [
    "df_group = df.groupby(by = 'dropoff_site').sum()\n",
    "df_group.reset_index(inplace = True)\n",
    "df_group"
   ]
  },
  {
   "cell_type": "markdown",
   "id": "70418a0d",
   "metadata": {},
   "source": [
    "## Dropoff Site Visualization"
   ]
  },
  {
   "cell_type": "code",
   "execution_count": 19,
   "id": "06089121",
   "metadata": {
    "scrolled": false
   },
   "outputs": [
    {
     "data": {
      "text/plain": [
       "Text(0.5, 1.0, 'histogram ZILKER')"
      ]
     },
     "execution_count": 19,
     "metadata": {},
     "output_type": "execute_result"
    },
    {
     "data": {
      "image/png": "[encoded data removed]",
      "text/plain": [
       "<Figure size 1584x864 with 8 Axes>"
      ]
     },
     "metadata": {
      "needs_background": "light"
     },
     "output_type": "display_data"
    }
   ],
   "source": [
    "fig, axes = plt.subplots(2, 4, figsize=(22, 12))\n",
    "fig.suptitle('Histogram for each site')\n",
    "sns.histplot(ax=axes[0,0], x=df_clarkson['load_weight'])\n",
    "sns.histplot(ax=axes[0,1], x=df_elmont['load_weight'])\n",
    "sns.histplot(ax=axes[0,2], x=df_kramer['load_weight'])\n",
    "sns.histplot(ax=axes[0,3], x=df_mrf['load_weight'])\n",
    "sns.histplot(ax=axes[1,0], x=df_park['load_weight'])\n",
    "sns.histplot(ax=axes[1,1], x=df_tds['load_weight'])\n",
    "sns.histplot(ax=axes[1,2], x=df_wilcab['load_weight'])\n",
    "sns.histplot(ax=axes[1,3], x=df_zilker['load_weight'])\n",
    "\n",
    "\n",
    "axes[0,0].set_title(\"histogram CLARKSON\")\n",
    "axes[0,1].set_title(\"histogram ELMONT\")\n",
    "axes[0,2].set_title(\"histogram KRAMER\")\n",
    "axes[0,3].set_title(\"histogram MRF\")\n",
    "axes[1,0].set_title(\"histogram PARK BEND\")\n",
    "axes[1,1].set_title(\"histogram TDS MRF\")\n",
    "axes[1,2].set_title(\"histogram WILCAB\")\n",
    "axes[1,3].set_title(\"histogram ZILKER\")"
   ]
  },
  {
   "cell_type": "markdown",
   "id": "74235531",
   "metadata": {},
   "source": [
    "Berdasarkan plot dari setiap dropoff site, terlihat jika histogram TDS MRF dan histogram MRF memiliki paling banyak data. load_weight pada MRF maksimal sampai 25000 namun pada TDS MRF maksimal sampai 40000. jika dilihat dari persebaran datanya, MRF dan TDS MRF memiliki persebaran data yang berbeda, terlihat jika pada MRF load_weightnya kebanyakan ada di weight 5000 namun pada TDS MRF ada di 10000 sampai 20000. ini berarti weight yang ditaruh pada TDS MRF lebih berat rata-ratanya dibanding yang ditaruh di MRF"
   ]
  },
  {
   "cell_type": "markdown",
   "id": "d3cdfbc7",
   "metadata": {},
   "source": [
    "## Dropoff Site Central Tendency"
   ]
  },
  {
   "cell_type": "code",
   "execution_count": 20,
   "id": "8ee5c4c0",
   "metadata": {},
   "outputs": [
    {
     "name": "stdout",
     "output_type": "stream",
     "text": [
      "Rata - rata dari site CLARKSON =  18640.0\n",
      "Median dari CLARKSON = 18640.0\n",
      "Modus dari CLARKSON adalah = [18640.] yang muncul sebanyak [1.] kali\n",
      "----------------------------------------------------------------------------------------------------\n",
      "Rata - rata dari site ELMONT =  15303.4\n",
      "Median dari ELMONT = 12560.0\n",
      "Modus dari ELMONT adalah = [5480.] yang muncul sebanyak [1.] kali\n",
      "----------------------------------------------------------------------------------------------------\n",
      "Rata - rata dari site KRAMER =  11660.0\n",
      "Median dari KRAMER = 11400.0\n",
      "Modus dari KRAMER adalah = [3980.] yang muncul sebanyak [1.] kali\n",
      "----------------------------------------------------------------------------------------------------\n",
      "Rata - rata dari site MRF =  5313.737893489537\n",
      "Median dari MRF = 4260.0\n",
      "Modus dari MRF adalah = [3460.] yang muncul sebanyak [353.] kali\n",
      "----------------------------------------------------------------------------------------------------\n",
      "Rata - rata dari site 5840.0 =  7517.642487046632\n",
      "Median dari 5840.0 = 5500.0\n",
      "Modus dari 5840.0 adalah = [5500.] yang muncul sebanyak [274.] kali\n",
      "----------------------------------------------------------------------------------------------------\n",
      "Rata - rata dari site TDS - MRF =  10119.976800162936\n",
      "Median dari TDS - MRF = 10960.0\n",
      "Modus dari TDS - MRF adalah = [12300.] yang muncul sebanyak [169.] kali\n",
      "----------------------------------------------------------------------------------------------------\n",
      "Rata - rata dari site WILCAB =  11022.222222222223\n",
      "Median dari WILCAB = 10380.0\n",
      "Modus dari WILCAB adalah = [2100.] yang muncul sebanyak [1.] kali\n",
      "----------------------------------------------------------------------------------------------------\n",
      "Rata - rata dari site ZILKER =  9760.959295929593\n",
      "Median dari ZILKER = 8750.0\n",
      "Modus dari ZILKER adalah = [15000.] yang muncul sebanyak [290.] kali\n",
      "----------------------------------------------------------------------------------------------------\n"
     ]
    }
   ],
   "source": [
    "for i in range(len(list)):\n",
    "    a = list[i]['load_weight']\n",
    "    b = list[i].iloc[0,3]\n",
    "    print(f'Rata - rata dari site {b} = ' , np.mean(a))\n",
    "    print(f'Median dari {b} =', np.median(a))\n",
    "    x = st.mode(a)\n",
    "    x = np.array(x)\n",
    "    print(f'Modus dari {b} adalah = {x[0]} yang muncul sebanyak {x[1]} kali')\n",
    "    print('-'*100)\n",
    "    a = []"
   ]
  },
  {
   "cell_type": "code",
   "execution_count": 21,
   "id": "fe5e8dad",
   "metadata": {},
   "outputs": [
    {
     "data": {
      "image/png": "[encoded data removed]",
      "text/plain": [
       "<Figure size 576x288 with 1 Axes>"
      ]
     },
     "metadata": {
      "needs_background": "light"
     },
     "output_type": "display_data"
    }
   ],
   "source": [
    "# Visualisasi berdasar group dropoff site\n",
    "sns.catplot(x=\"dropoff_site\", \n",
    "            y=\"load_weight\", \n",
    "            data=df_group,  \n",
    "            kind = 'bar',\n",
    ")\n",
    "plt.gcf().set_size_inches(8, 4)"
   ]
  },
  {
   "cell_type": "markdown",
   "id": "60f6b8c7",
   "metadata": {},
   "source": [
    "Berdasarkan visualisasi grouping, dropoff site MRF dan TDS MRF memiliki data yang sangat banyak dibandingkan dengan dropoff site lainnya. site yang menarik untuk saya adalah TDS - MRF karena dropoff site itu memiliki data terbanyak dan rata - rata berat loadeweight yang lebih banyak dari MRF."
   ]
  },
  {
   "cell_type": "markdown",
   "id": "f19f101a",
   "metadata": {},
   "source": [
    "## Detecting and Handling The Outlier"
   ]
  },
  {
   "cell_type": "code",
   "execution_count": 22,
   "id": "d2ff3721",
   "metadata": {
    "scrolled": false
   },
   "outputs": [
    {
     "data": {
      "image/png": "[encoded data removed]",
      "text/plain": [
       "<Figure size 1080x360 with 2 Axes>"
      ]
     },
     "metadata": {
      "needs_background": "light"
     },
     "output_type": "display_data"
    },
    {
     "name": "stdout",
     "output_type": "stream",
     "text": [
      "load_weight Kurtosis: 0.05650061893441949\n",
      "load_weight Skewness: -0.03508097423207544\n",
      "Columns 'load_weight' normal distribution\n"
     ]
    }
   ],
   "source": [
    "plot_dist(df_tds,'load_weight')"
   ]
  },
  {
   "cell_type": "code",
   "execution_count": 23,
   "id": "08ce9e29",
   "metadata": {},
   "outputs": [
    {
     "data": {
      "image/png": "[encoded data removed]",
      "text/plain": [
       "<Figure size 720x504 with 1 Axes>"
      ]
     },
     "metadata": {
      "needs_background": "light"
     },
     "output_type": "display_data"
    }
   ],
   "source": [
    "plt.rcParams['figure.figsize'] = [10, 7] \n",
    "plt.rc('font', size=14) \n",
    "\n",
    "x = df_tds.load_weight\n",
    "qqplot(x,norm,fit=True,line=\"45\") \n",
    "plt.show()"
   ]
  },
  {
   "cell_type": "markdown",
   "id": "d492fec4",
   "metadata": {},
   "source": [
    "Persebaran data dari site TDS adalah normal distribution karena skewnessnya mendekati 0 maka bisa dibilang persebaran data ini lumayan symmetrical. Namun, jika dilihat dari boxplot load_weight nya, terdapat data outlier yang harus di bersihkan terlebih dahulu sebelum melakukan analisa data. Karena distribusinya normal, maka diputuskan untuk menghapus outliernya dengan method standard deviasi. Karena Data Scientist tidak percaya bahwa site TDS adalah normal distribution, maka dibuat lagi QQ plot untuk membuktikan bahwa distribusi data TDS adalah normal distribution"
   ]
  },
  {
   "cell_type": "code",
   "execution_count": 24,
   "id": "61f22551",
   "metadata": {},
   "outputs": [
    {
     "name": "stdout",
     "output_type": "stream",
     "text": [
      "10119.976800162936\n",
      "4398.779244267689\n"
     ]
    }
   ],
   "source": [
    "# Mencari mean dan standard deviasi pada dataset site tds\n",
    "mean_tds = df_tds.load_weight.mean()\n",
    "standard_dev = df_tds.load_weight.std()\n",
    "print(mean_tds)\n",
    "print(standard_dev)"
   ]
  },
  {
   "cell_type": "code",
   "execution_count": 25,
   "id": "0011c472",
   "metadata": {},
   "outputs": [
    {
     "data": {
      "text/plain": [
       "23316.314532966004"
      ]
     },
     "execution_count": 25,
     "metadata": {},
     "output_type": "execute_result"
    }
   ],
   "source": [
    "upper_limit = mean_tds + 3*standard_dev\n",
    "upper_limit"
   ]
  },
  {
   "cell_type": "code",
   "execution_count": 26,
   "id": "d9f73e41",
   "metadata": {},
   "outputs": [
    {
     "data": {
      "text/plain": [
       "-3076.360932640131"
      ]
     },
     "execution_count": 26,
     "metadata": {},
     "output_type": "execute_result"
    }
   ],
   "source": [
    "lower_limit = mean_tds - 3*standard_dev\n",
    "lower_limit"
   ]
  },
  {
   "cell_type": "markdown",
   "id": "2a194597",
   "metadata": {},
   "source": [
    "## Finding the Outlier"
   ]
  },
  {
   "cell_type": "code",
   "execution_count": 27,
   "id": "1c8a16cc",
   "metadata": {
    "scrolled": false
   },
   "outputs": [
    {
     "data": {
      "text/html": [
       "<div>\n",
       "<style scoped>\n",
       "    .dataframe tbody tr th:only-of-type {\n",
       "        vertical-align: middle;\n",
       "    }\n",
       "\n",
       "    .dataframe tbody tr th {\n",
       "        vertical-align: top;\n",
       "    }\n",
       "\n",
       "    .dataframe thead th {\n",
       "        text-align: right;\n",
       "    }\n",
       "</style>\n",
       "<table border=\"1\" class=\"dataframe\">\n",
       "  <thead>\n",
       "    <tr style=\"text-align: right;\">\n",
       "      <th></th>\n",
       "      <th>load_time</th>\n",
       "      <th>load_type</th>\n",
       "      <th>load_weight</th>\n",
       "      <th>dropoff_site</th>\n",
       "    </tr>\n",
       "  </thead>\n",
       "  <tbody>\n",
       "    <tr>\n",
       "      <th>6364</th>\n",
       "      <td>2012-10-05 05:35:00+00:00</td>\n",
       "      <td>GARBAGE COLLECTIONS</td>\n",
       "      <td>27300.0</td>\n",
       "      <td>TDS - MRF</td>\n",
       "    </tr>\n",
       "    <tr>\n",
       "      <th>6390</th>\n",
       "      <td>2015-05-21 12:38:00+00:00</td>\n",
       "      <td>GARBAGE COLLECTIONS</td>\n",
       "      <td>28600.0</td>\n",
       "      <td>TDS - MRF</td>\n",
       "    </tr>\n",
       "    <tr>\n",
       "      <th>6391</th>\n",
       "      <td>2011-06-16 01:16:00+00:00</td>\n",
       "      <td>GARBAGE COLLECTIONS</td>\n",
       "      <td>23800.0</td>\n",
       "      <td>TDS - MRF</td>\n",
       "    </tr>\n",
       "    <tr>\n",
       "      <th>6395</th>\n",
       "      <td>2021-05-20 11:28:00+00:00</td>\n",
       "      <td>GARBAGE COLLECTIONS</td>\n",
       "      <td>23940.0</td>\n",
       "      <td>TDS - MRF</td>\n",
       "    </tr>\n",
       "    <tr>\n",
       "      <th>6396</th>\n",
       "      <td>2021-02-25 11:39:00+00:00</td>\n",
       "      <td>GARBAGE COLLECTIONS</td>\n",
       "      <td>27760.0</td>\n",
       "      <td>TDS - MRF</td>\n",
       "    </tr>\n",
       "    <tr>\n",
       "      <th>...</th>\n",
       "      <td>...</td>\n",
       "      <td>...</td>\n",
       "      <td>...</td>\n",
       "      <td>...</td>\n",
       "    </tr>\n",
       "    <tr>\n",
       "      <th>40530</th>\n",
       "      <td>2013-07-30 02:16:00+00:00</td>\n",
       "      <td>RECYCLING - SINGLE STREAM</td>\n",
       "      <td>45305.0</td>\n",
       "      <td>TDS - MRF</td>\n",
       "    </tr>\n",
       "    <tr>\n",
       "      <th>44666</th>\n",
       "      <td>2021-06-01 02:32:00+00:00</td>\n",
       "      <td>RECYCLING - SINGLE STREAM</td>\n",
       "      <td>24340.0</td>\n",
       "      <td>TDS - MRF</td>\n",
       "    </tr>\n",
       "    <tr>\n",
       "      <th>46580</th>\n",
       "      <td>2012-03-20 01:38:00+00:00</td>\n",
       "      <td>RECYCLING - SINGLE STREAM</td>\n",
       "      <td>27020.0</td>\n",
       "      <td>TDS - MRF</td>\n",
       "    </tr>\n",
       "    <tr>\n",
       "      <th>52963</th>\n",
       "      <td>2019-07-10 03:54:00+00:00</td>\n",
       "      <td>RECYCLING - SINGLE STREAM</td>\n",
       "      <td>23320.0</td>\n",
       "      <td>TDS - MRF</td>\n",
       "    </tr>\n",
       "    <tr>\n",
       "      <th>53042</th>\n",
       "      <td>2020-04-29 01:51:00+00:00</td>\n",
       "      <td>RECYCLING - SINGLE STREAM</td>\n",
       "      <td>23580.0</td>\n",
       "      <td>TDS - MRF</td>\n",
       "    </tr>\n",
       "  </tbody>\n",
       "</table>\n",
       "<p>185 rows × 4 columns</p>\n",
       "</div>"
      ],
      "text/plain": [
       "                      load_time                  load_type  load_weight  \\\n",
       "6364  2012-10-05 05:35:00+00:00        GARBAGE COLLECTIONS      27300.0   \n",
       "6390  2015-05-21 12:38:00+00:00        GARBAGE COLLECTIONS      28600.0   \n",
       "6391  2011-06-16 01:16:00+00:00        GARBAGE COLLECTIONS      23800.0   \n",
       "6395  2021-05-20 11:28:00+00:00        GARBAGE COLLECTIONS      23940.0   \n",
       "6396  2021-02-25 11:39:00+00:00        GARBAGE COLLECTIONS      27760.0   \n",
       "...                         ...                        ...          ...   \n",
       "40530 2013-07-30 02:16:00+00:00  RECYCLING - SINGLE STREAM      45305.0   \n",
       "44666 2021-06-01 02:32:00+00:00  RECYCLING - SINGLE STREAM      24340.0   \n",
       "46580 2012-03-20 01:38:00+00:00  RECYCLING - SINGLE STREAM      27020.0   \n",
       "52963 2019-07-10 03:54:00+00:00  RECYCLING - SINGLE STREAM      23320.0   \n",
       "53042 2020-04-29 01:51:00+00:00  RECYCLING - SINGLE STREAM      23580.0   \n",
       "\n",
       "      dropoff_site  \n",
       "6364     TDS - MRF  \n",
       "6390     TDS - MRF  \n",
       "6391     TDS - MRF  \n",
       "6395     TDS - MRF  \n",
       "6396     TDS - MRF  \n",
       "...            ...  \n",
       "40530    TDS - MRF  \n",
       "44666    TDS - MRF  \n",
       "46580    TDS - MRF  \n",
       "52963    TDS - MRF  \n",
       "53042    TDS - MRF  \n",
       "\n",
       "[185 rows x 4 columns]"
      ]
     },
     "execution_count": 27,
     "metadata": {},
     "output_type": "execute_result"
    }
   ],
   "source": [
    "outliers = df_tds [(df_tds.load_weight < lower_limit) | (df_tds.load_weight > upper_limit)]\n",
    "outliers"
   ]
  },
  {
   "cell_type": "markdown",
   "id": "7b46c583",
   "metadata": {},
   "source": [
    "### Outliers Percentage"
   ]
  },
  {
   "cell_type": "code",
   "execution_count": 28,
   "id": "931cab4a",
   "metadata": {},
   "outputs": [
    {
     "data": {
      "text/plain": [
       "load_time       185\n",
       "load_type       185\n",
       "load_weight     185\n",
       "dropoff_site    185\n",
       "dtype: int64"
      ]
     },
     "execution_count": 28,
     "metadata": {},
     "output_type": "execute_result"
    }
   ],
   "source": [
    "outliers.count()"
   ]
  },
  {
   "cell_type": "code",
   "execution_count": 29,
   "id": "fa31e322",
   "metadata": {},
   "outputs": [
    {
     "data": {
      "text/plain": [
       "load_time       54009\n",
       "load_type       54009\n",
       "load_weight     54009\n",
       "dropoff_site    54009\n",
       "dtype: int64"
      ]
     },
     "execution_count": 29,
     "metadata": {},
     "output_type": "execute_result"
    }
   ],
   "source": [
    "df_tds.count()"
   ]
  },
  {
   "cell_type": "code",
   "execution_count": 30,
   "id": "cdc7e69d",
   "metadata": {},
   "outputs": [
    {
     "name": "stdout",
     "output_type": "stream",
     "text": [
      "data outliers dalam dataset site TDS - MRF ada sebanyak 0.34%\n"
     ]
    }
   ],
   "source": [
    "hasil = np.round(185/54009 * 100, 2)\n",
    "print(f'data outliers dalam dataset site TDS - MRF ada sebanyak {hasil}%')"
   ]
  },
  {
   "cell_type": "markdown",
   "id": "c2f95b03",
   "metadata": {},
   "source": [
    "## Making a Clean Dataset Without Outliers and Compare"
   ]
  },
  {
   "cell_type": "code",
   "execution_count": 31,
   "id": "5d3f541d",
   "metadata": {},
   "outputs": [],
   "source": [
    "df_tds_clean = df_tds [(df_tds.load_weight > lower_limit) & (df_tds.load_weight < upper_limit)]\n",
    "df_tds_clean = df_tds_clean.reset_index(drop = True)"
   ]
  },
  {
   "cell_type": "markdown",
   "id": "1855f60d",
   "metadata": {},
   "source": [
    "### Calculating Range, Variance, and Standard Deviasi load_weight to the selected site"
   ]
  },
  {
   "cell_type": "code",
   "execution_count": 32,
   "id": "c8c40ed9",
   "metadata": {
    "scrolled": false
   },
   "outputs": [
    {
     "data": {
      "image/png": "[encoded data removed]",
      "text/plain": [
       "<Figure size 1080x360 with 2 Axes>"
      ]
     },
     "metadata": {
      "needs_background": "light"
     },
     "output_type": "display_data"
    },
    {
     "name": "stdout",
     "output_type": "stream",
     "text": [
      "load_weight Kurtosis: -0.3123233265036931\n",
      "load_weight Skewness: -0.15924569035080455\n",
      "Columns 'load_weight' normal distribution\n"
     ]
    }
   ],
   "source": [
    "plot_dist(df_tds_clean, 'load_weight')"
   ]
  },
  {
   "cell_type": "markdown",
   "id": "28e2eea5",
   "metadata": {},
   "source": [
    "Setelah dilakukan pembersihan outlier, terlihat rangenya mengecil dan outliernya juga berkurang, namun setelah dilakukan boxplot, masih terdapat outlier, hal ini wajar karena IQRnya berubah dan itu adalah outlier baru. Namun sudah ditetapkan sebelumnya dari melihat skewness, persebaran data pada site TDS - MRF adalah persebaran data Gaussian, maka metode untuk menghapusnya menggunakan Standard Deviasi."
   ]
  },
  {
   "cell_type": "code",
   "execution_count": 33,
   "id": "9b4edf7f",
   "metadata": {},
   "outputs": [
    {
     "name": "stdout",
     "output_type": "stream",
     "text": [
      "Range pada data sebelum diremove outliersnya adalah 45285.0\n",
      "Range pada data setelah diremove outliersnya adalah 23260.0\n"
     ]
    }
   ],
   "source": [
    "Range = df_tds.load_weight.max() - df_tds_clean.load_weight.min()\n",
    "Range_2 = df_tds_clean.load_weight.max() - df_tds.load_weight.min()\n",
    "print(f'Range pada data sebelum diremove outliersnya adalah {Range}')\n",
    "print(f'Range pada data setelah diremove outliersnya adalah {Range_2}')"
   ]
  },
  {
   "cell_type": "code",
   "execution_count": 34,
   "id": "767611e4",
   "metadata": {},
   "outputs": [
    {
     "name": "stdout",
     "output_type": "stream",
     "text": [
      "Variance data sebelum diremove outliersnya adalah 19349258.839800224\n",
      "Variance data setelah diremove outliersnya adalah 18615847.71564963\n"
     ]
    }
   ],
   "source": [
    "print('Variance data sebelum diremove outliersnya adalah', df_tds.load_weight.var())\n",
    "print('Variance data setelah diremove outliersnya adalah', df_tds_clean.load_weight.var())"
   ]
  },
  {
   "cell_type": "code",
   "execution_count": 35,
   "id": "cf403d82",
   "metadata": {},
   "outputs": [
    {
     "name": "stdout",
     "output_type": "stream",
     "text": [
      "Standard Deviation data sebelum diremove outliersnya adalah 4398.779244267689\n",
      "Standard Deviation data setelah diremove outliersnya adalah 4314.608639917372\n"
     ]
    }
   ],
   "source": [
    "print('Standard Deviation data sebelum diremove outliersnya adalah', df_tds.load_weight.std())\n",
    "print('Standard Deviation data setelah diremove outliersnya adalah', df_tds_clean.load_weight.std())"
   ]
  },
  {
   "cell_type": "markdown",
   "id": "448c2016",
   "metadata": {},
   "source": [
    "### INSIGHT \n",
    "\n",
    "1. Data yang dipakai untuk analisa sekarang lebih akurat karena sudah menghapus data dengan kasus ekstrim, range data jadi mengecil karena data sudah menjadi lebih relevan dengan yang terjadi sesungguhnya di lapangan.\n",
    "2. Data semakin terkluster mendekati nilai rata-rata dilihat dari nilai standard deviasinya yang mengecil\n",
    "3. Data semakin akurat karena variance nya berkurang artinya membutuhkan lebih sedikit sample."
   ]
  },
  {
   "cell_type": "markdown",
   "id": "841ed486",
   "metadata": {},
   "source": [
    "### Menghitung Confidence Interval"
   ]
  },
  {
   "cell_type": "code",
   "execution_count": 36,
   "id": "0d663ad6",
   "metadata": {},
   "outputs": [
    {
     "data": {
      "text/plain": [
       "array([ 1498.53, 18741.43])"
      ]
     },
     "execution_count": 36,
     "metadata": {},
     "output_type": "execute_result"
    }
   ],
   "source": [
    "conf_inv = st.norm.interval(0.95, df_tds.load_weight.mean(), df_tds.load_weight.std())\n",
    "np.round(conf_inv,2)"
   ]
  },
  {
   "cell_type": "markdown",
   "id": "bb1adf43",
   "metadata": {},
   "source": [
    "Data yang saya gunakan adalah data dari satu site yaitu site yang saya pilih TDS, hal ini saya lakukan karena data dari site TDS yang lebih banyak dibanding site yang lain dan data ini terdistribusi normal. Alasan kedua saya amemilih data dari hanya satu site adalah agar dapat mencontoh site TDS yang memiliki kapasitas tampung terbesar dibandingkan site lainnya"
   ]
  },
  {
   "cell_type": "markdown",
   "id": "6a4d1614",
   "metadata": {},
   "source": [
    "## Saran untuk pemerintah\n",
    "Disarankan jika ingin membuat site baru agar dapat menampung load_weight sampai minimal 18741, jika lebih juga dipersilahkan tapi jangan dibawah 18741. angka ini didapat berdasar data dari salah satu site yang paling sering digunakan."
   ]
  },
  {
   "cell_type": "markdown",
   "id": "a0be1f8a",
   "metadata": {},
   "source": [
    "## Hypothesis testing"
   ]
  },
  {
   "cell_type": "markdown",
   "id": "5a6f470f",
   "metadata": {},
   "source": [
    "Saya sebagai Data Scientist mau melakukan testing bahwa load_weight tiap tahun bertambah banyak"
   ]
  },
  {
   "cell_type": "markdown",
   "id": "8b01a8ce",
   "metadata": {},
   "source": [
    "\n",
    "**H0: μ2011 <= μ2010**\n",
    "\n",
    "**H1: μ2011 > μ2010**\n",
    "\n",
    "Null Hypothesis : Rata - Rata load_weight sampah pada tahun 2011 lebih kecil atau sama dengan rata - rata load_weight sampah di tahun 2010\n",
    "\n",
    "Alternate Hypothesis : Rata - Rata load_weight sampah pada tahun 2011 lebih besar dari rata - rata load_weight sampah di tahun 2010"
   ]
  },
  {
   "cell_type": "markdown",
   "id": "998c78b3",
   "metadata": {},
   "source": [
    "## Step 1 : make 2 dataset for each year"
   ]
  },
  {
   "cell_type": "code",
   "execution_count": 37,
   "id": "e0c17945",
   "metadata": {},
   "outputs": [],
   "source": [
    "sampah_2010 = df[(pd.DatetimeIndex(df['load_time']).year == 2010)]\n",
    "\n",
    "sampah_2011 = df[(pd.DatetimeIndex(df['load_time']).year == 2011)]"
   ]
  },
  {
   "cell_type": "markdown",
   "id": "ea77e7fc",
   "metadata": {},
   "source": [
    "## Step 2 : find the mean"
   ]
  },
  {
   "cell_type": "code",
   "execution_count": 38,
   "id": "e421b778",
   "metadata": {},
   "outputs": [
    {
     "name": "stdout",
     "output_type": "stream",
     "text": [
      "Rata - rata load sampah setiap harinya di tahun 2010 adalah: 9398.833479789104\n",
      "Rata - rata load sampah setiap harinya di tahun 2011 adalah: 9982.289855072464\n"
     ]
    }
   ],
   "source": [
    "mean2010 = np.abs(sampah_2010['load_weight'].mean())\n",
    "mean2011 = np.abs(sampah_2011['load_weight'].mean())\n",
    "print(f'Rata - rata load sampah setiap harinya di tahun 2010 adalah: {mean2010}')\n",
    "print(f'Rata - rata load sampah setiap harinya di tahun 2011 adalah: {mean2011}')"
   ]
  },
  {
   "cell_type": "markdown",
   "id": "70ad85c1",
   "metadata": {},
   "source": [
    "rata - rata di tahun 2011 lebih tinggi dari 2010, namun mari di check apakah perubahan tersebut signifikan atau tidak"
   ]
  },
  {
   "cell_type": "markdown",
   "id": "d5d9fe8e",
   "metadata": {},
   "source": [
    "## Menghitung p_value dan t_statnya"
   ]
  },
  {
   "cell_type": "code",
   "execution_count": 39,
   "id": "dd9aa8a4",
   "metadata": {},
   "outputs": [
    {
     "name": "stdout",
     "output_type": "stream",
     "text": [
      "11.319226342835993\n",
      "0.0\n"
     ]
    }
   ],
   "source": [
    "t_stat,p_val = st.ttest_1samp(sampah_2011['load_weight'], mean2010)\n",
    "print(t_stat)\n",
    "print(np.round(p_val,10))"
   ]
  },
  {
   "cell_type": "markdown",
   "id": "4739dee0",
   "metadata": {},
   "source": [
    "## Penjelasan Hasil\n",
    "P_value lebih kecil dari 0.05, artinya null hypothesis ato h0 di tolak, maka dapat dibilang bahwa load_weight setiap tahunnya bertambah secara signifikan sesuai dengan statistiknya. t-test juga menunjukkan hasil yang positif dan dapat diartikan bahwa kedua rata-rata memang berbeda secara statistik"
   ]
  },
  {
   "cell_type": "markdown",
   "id": "1ab55a19",
   "metadata": {},
   "source": [
    "## Analisa untuk pemerintah dari hypothesis testing\n",
    "\n",
    "Berdasarkan Hypothesis Testing, dapat di bilang jika terdapat kenaikan load_weight dari tahun 2010 ke 2011 dan kemungkinan untuk setiap tahun kedepan. Terdapat kenaikan dari rata - rata load_weight juga sekitar 600 dari tahun 2010 - 2011."
   ]
  },
  {
   "cell_type": "markdown",
   "id": "b1294f53",
   "metadata": {},
   "source": [
    "# ANALYSIS CONCLUSION\n",
    "\n",
    "Berdasarkan analisa yang dibuat terdapat beberapa Insight menarik dari dataset austin_waste ini\n",
    "1. Kebanyakan type sampah yang dibuang adalah Recycling - Stream\n",
    "2. Site - TDS - MRF adalah site yang paling banyak digunakan jika dilihat dari load_weight nya\n",
    "3. Terdapat kenaikan rata-rata load_weight per tahunnya dari tahun 2010 - 2011\n",
    "4. load_weight terberat adalah 75000\n",
    "5. Range load_weight yang mendekati populasi untuk TDS - MRF adalah 1498 - 18741\n",
    "6. Kebanyakan load_weight di Austin berada dibawah 10000"
   ]
  },
  {
   "cell_type": "markdown",
   "id": "2d95abd5",
   "metadata": {},
   "source": [
    "# Pertanyaan Conceptual"
   ]
  },
  {
   "cell_type": "markdown",
   "id": "f5dde1fd",
   "metadata": {},
   "source": [
    "## Apa perbedaan statistik deskriptif dan inferensial?\n",
    "\n",
    "Statistik Deskriptif adalah ilmu statistik yang mempelajari central tendency, variabilitas dan distribusi data sample atau populasi. Seperti namanya, statistik deskriptif mendeskripsikan seberapa besar variabilitas data, seberapa tersebar kah data itu dan central tendency nya seperti mean, median dan modus. Statistik Inferensial adalah ilmu statistik yang mencoba untuk men generalisasikan kelompok besar. statistik inferensial berhubungan dengan karakteristik data memberikan gambaran yang akurat tentang parameter yang sesuai dari seluruh populasi. Secara singkat statistik inferential mencari hubungan antar variabel, statistik deskriptif menjelaskan variabel itu sendiri"
   ]
  },
  {
   "cell_type": "markdown",
   "id": "e96d9766",
   "metadata": {},
   "source": [
    "## Metrik pada central tendency apa yang tepat digunakan untuk menyimpulkan data yang terdistribusi normal dan tidak? Apakah sama atau berbeda?\n",
    "\n",
    "Metrik pada Central Tendency untuk menyimpulkan data yang terdistribusi normal atau tidak adalah mean,median dan modus. sebuah data yang persebaran datanya terdistribusi normal secara perfect memiliki mean = median = modus, jika mean > median > modus, maka data kemungkinan skew ke kanan. jika sebaliknya terjadi maka data skew ke kiri. Mean data merupakan data yang paling mencerminkan skewness yang paling besar dibanding median dan modus "
   ]
  },
  {
   "cell_type": "markdown",
   "id": "2e4df033",
   "metadata": {},
   "source": [
    "## Teknik apa yang kamu pilih untuk handling outlier? jelaskan alasannya!\n",
    "Teknik Standard Deviasi saya pilih untuk handling outlier, alasannya karena pada site yang saya pilih, skewnessnya -0.03 yang mendekati 0, ini berarti persebaran datanya adalah distribusi normal. saya mengambil 99.7% dari data  yang ada dalam range 3 standard deviations."
   ]
  },
  {
   "cell_type": "markdown",
   "id": "acf76b1a",
   "metadata": {},
   "source": [
    "##  Apa konsep dibalik central tendency sehingga kita dapat menggunakannya untuk menyelesaikan langkah pada nomor 7?"
   ]
  },
  {
   "cell_type": "markdown",
   "id": "f0f75e36",
   "metadata": {},
   "source": [
    "Konsep dibalik central tendency untuk menyelesaikan masalah nomor 7 adalah mencari data dengan probabilitas tertinggi data aslinya berada agar ketika sample dari data itu diambil berulang, meannya mendekati ke mean yang sesungguhnya. pada soal nomor 7 saya memakai alpha 0.5 maka dari itu saya menghitung confidence interval 0.95. standard deviasi juga dicari dan dimasukkan kedalam sebuah rumus matematika agar dapat menghasilkan confidence interval"
   ]
  },
  {
   "cell_type": "markdown",
   "id": "a64edc33",
   "metadata": {},
   "source": [
    "## Jelaskan jenis uji hipotesis apa yang kamu terapkan dan mengapa?\n",
    "\n",
    "Saya menerapkan jenis uji hipotesis One Tailed Hypothesis Testing karena saya mau melihat apakah terdapat kenaikan load_weight dari tahun ke tahun. alasan saya menggunakan one tailed hypothesis testing adalah alternate hypothesis yang saya berikan adalah rata2 di tahun 2011 lebih besar dari 2010 yang berarti null hypothesisnya berada dalam 95% confidence interval yang mengatakan rata-rata load_weight 2011 berada lebih kecil atau sama dengan 2010."
   ]
  }
 ],
 "metadata": {
  "kernelspec": {
   "display_name": "Python 3 (ipykernel)",
   "language": "python",
   "name": "python3"
  },
  "language_info": {
   "codemirror_mode": {
    "name": "ipython",
    "version": 3
   },
   "file_extension": ".py",
   "mimetype": "text/x-python",
   "name": "python",
   "nbconvert_exporter": "python",
   "pygments_lexer": "ipython3",
   "version": "3.10.4"
  }
 },
 "nbformat": 4,
 "nbformat_minor": 5
}
